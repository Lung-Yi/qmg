{
 "cells": [
  {
   "cell_type": "code",
   "execution_count": 101,
   "metadata": {},
   "outputs": [
    {
     "name": "stdout",
     "output_type": "stream",
     "text": [
      "<IBMBackend('ibm_sherbrooke')>\n"
     ]
    }
   ],
   "source": [
    "from qiskit.circuit import QuantumCircuit, QuantumRegister, ClassicalRegister\n",
    "import qiskit.circuit.library as qulib\n",
    "from qiskit.qasm3 import dump, dumps, Exporter\n",
    "import numpy as np\n",
    "import random\n",
    "from typing import List, Union\n",
    "from qiskit_ibm_runtime import QiskitRuntimeService\n",
    "from qiskit import generate_preset_pass_manager\n",
    "from qiskit_ibm_runtime import QiskitRuntimeService, SamplerV2 as Sampler\n",
    "from qmg.utils import MoleculeQuantumStateGenerator, ConditionalWeightsGenerator\n",
    "import pandas as pd\n",
    "from rdkit import RDLogger\n",
    "RDLogger.DisableLog('rdApp.*')\n",
    "\n",
    "def get_token(file_path):\n",
    "    with open(file_path) as f:\n",
    "        data = f.read()\n",
    "    token = data.strip()\n",
    "    return token\n",
    "\n",
    "my_token = get_token(\"./docs/ibmq_tokens.txt\")\n",
    "service = QiskitRuntimeService(channel=\"ibm_quantum\", token=my_token)\n",
    " \n",
    "backend = service.least_busy(simulator=False, operational=True)\n",
    "pm = generate_preset_pass_manager(backend=backend, optimization_level=1)\n",
    "print(backend)\n",
    "\n",
    "num_heavy_atom = 9\n",
    "num_parameters = int(8 + 3*(num_heavy_atom - 2) * (num_heavy_atom + 3) / 2)\n",
    "qubit_register_dict = {\"atom_1\": QuantumRegister(2, name=\"atom_1\"),\n",
    "                       \"atom_i\": QuantumRegister(2, name=\"atom_i\")}\n",
    "for i in range(1, num_heavy_atom):\n",
    "    qubit_register_dict.update({f\"bond_{i}\": QuantumRegister(2, name=f\"bond_{i}\")})\n",
    "\n",
    "clbit_register_dict = {}\n",
    "for i in range(1, num_heavy_atom+1):\n",
    "    clbit_register_dict.update({f\"atom_{i}_m\": ClassicalRegister(2, name=f\"atom_{i}_m\")})\n",
    "    for j in range(1, i):\n",
    "        clbit_register_dict.update({f\"bond_{i}_{j}_m\": ClassicalRegister(2, name=f\"bond_{i}_{j}_m\")})"
   ]
  },
  {
   "cell_type": "code",
   "execution_count": 87,
   "metadata": {},
   "outputs": [],
   "source": [
    "# get weight vector\n",
    "trial_df = pd.read_csv(\"results_chemistry_constraint_bo/unconditional_9_4.csv\")\n",
    "index = 501\n",
    "\n",
    "cwg = ConditionalWeightsGenerator(num_heavy_atom=num_heavy_atom, smarts=None, disable_connectivity_position=None)\n",
    "random_weight_vector = np.zeros(cwg.length_all_weight_vector)\n",
    "inputs = random_weight_vector\n",
    "number_flexible_parameters = len(random_weight_vector[cwg.parameters_indicator == 0.])\n",
    "partial_inputs = np.array(trial_df[trial_df[\"trial_index\"] == index][[f\"x{i+1}\" for i in range(number_flexible_parameters)]])[0]\n",
    "inputs[cwg.parameters_indicator == 0.] = partial_inputs\n",
    "inputs = cwg.apply_chemistry_constraint(inputs)\n",
    "weight_vector = inputs"
   ]
  },
  {
   "cell_type": "code",
   "execution_count": 88,
   "metadata": {},
   "outputs": [
    {
     "data": {
      "text/plain": [
       "array([0.        , 0.93771391, 0.33959516, 0.87208743, 0.        ,\n",
       "       1.        , 0.        , 1.        , 0.92984925, 0.49968326,\n",
       "       1.        , 0.99330715, 0.00669285, 0.        , 0.5       ,\n",
       "       0.        , 1.        , 0.55639786, 1.        , 0.        ,\n",
       "       0.95335631, 0.03454501, 0.01209868, 0.        , 1.        ,\n",
       "       0.47865948, 0.5       , 0.        , 1.        , 0.61658179,\n",
       "       0.99936443, 0.46670468, 0.01108171, 0.00579138, 0.12360936,\n",
       "       0.85951755, 0.34363469, 0.52658671, 0.5       , 1.        ,\n",
       "       0.        , 0.93303569, 0.        , 1.        , 0.40874672,\n",
       "       1.        , 0.        , 0.49225377, 0.49225377, 0.00752682,\n",
       "       0.00331678, 0.00464886, 0.        , 0.5       , 0.        ,\n",
       "       0.78951158, 0.        , 1.        , 0.23592222, 1.        ,\n",
       "       0.43559468, 1.        , 0.36484118, 0.91858667, 0.04533939,\n",
       "       0.00331186, 0.49152386, 0.49152386, 0.00701669, 0.00331186,\n",
       "       0.00331186, 0.40438467, 0.62031226, 0.        , 0.92181379,\n",
       "       0.        , 0.5       , 0.35310907, 0.92719022, 0.05766601,\n",
       "       0.84058179, 0.        , 0.96460832, 0.62962534, 0.8172493 ,\n",
       "       0.58875864, 0.00411376, 0.00327224, 0.00327224, 0.48564367,\n",
       "       0.00476041, 0.48564367, 0.013294  , 0.5       , 0.690049  ,\n",
       "       0.        , 0.87897038, 0.46079699, 0.5       , 0.        ,\n",
       "       0.5       , 0.        , 0.87246189, 0.        , 1.        ,\n",
       "       0.5       , 0.5       , 0.59502753, 0.60525537, 1.        ,\n",
       "       0.01256196, 0.45408702, 0.00399529, 0.00600568, 0.05452145,\n",
       "       0.01063925, 0.45408702, 0.00410234, 0.30966776, 1.        ,\n",
       "       0.04723178, 1.        , 0.01546553, 0.5       , 0.        ,\n",
       "       1.        , 0.20819897, 1.        , 0.5       , 0.5       ,\n",
       "       0.        , 0.50411812, 0.5       , 0.5       ])"
      ]
     },
     "execution_count": 88,
     "metadata": {},
     "output_type": "execute_result"
    }
   ],
   "source": [
    "weight_vector"
   ]
  },
  {
   "cell_type": "code",
   "execution_count": 89,
   "metadata": {},
   "outputs": [],
   "source": [
    "list(qubit_register_dict.values())\n",
    "circuit = QuantumCircuit(*list(qubit_register_dict.values()), *list(clbit_register_dict.values()))\n",
    "\n",
    "def controlled_ry(control:int, target:int, digit:float):\n",
    "    circuit.cry(np.pi*digit, control, target)\n",
    "\n",
    "def reset_q_register(circuit, q_register, measures):\n",
    "    \"\"\"Reset the controlling qubits if they are in |1>.\"\"\"\n",
    "    with circuit.if_test((measures[0], True)):\n",
    "        circuit.x(q_register[0])\n",
    "    with circuit.if_test((measures[1], True)):\n",
    "        circuit.x(q_register[1])\n",
    "\n",
    "def reset_block(circuit, heavy_atom_idx):\n",
    "    reset_q_register(circuit, qubit_register_dict[\"atom_i\"],  clbit_register_dict[\"atom_2_m\"])\n",
    "    for k in range(1, heavy_atom_idx):\n",
    "        reset_q_register(circuit, qubit_register_dict[f\"bond_{k}\"],  clbit_register_dict[f\"bond_{heavy_atom_idx}_{k}_m\"])\n",
    "\n",
    "def measure_bond_block(circuit, heavy_atom_idx):\n",
    "    for k in range(1, heavy_atom_idx):\n",
    "        circuit.measure(qubit_register_dict[f\"bond_{k}\"],  clbit_register_dict[f\"bond_{heavy_atom_idx}_{k}_m\"])\n",
    "\n",
    "# first two atoms part\n",
    "circuit.ry(np.pi * weight_vector[0], 0)\n",
    "circuit.x(1)\n",
    "circuit.ry(np.pi * weight_vector[2], 2)\n",
    "circuit.ry(np.pi * weight_vector[4], 3)\n",
    "circuit.cx(0, 1)\n",
    "controlled_ry(1, 2, weight_vector[3])\n",
    "circuit.cx(2, 3)\n",
    "controlled_ry(0, 1, weight_vector[1])\n",
    "circuit.cx(1, 2)\n",
    "controlled_ry(2, 3, weight_vector[5])\n",
    "\n",
    "circuit.measure(qubit_register_dict[\"atom_1\"], clbit_register_dict[\"atom_1_m\"])\n",
    "circuit.measure(qubit_register_dict[\"atom_i\"], clbit_register_dict[\"atom_2_m\"])\n",
    "with circuit.if_test((clbit_register_dict[\"atom_2_m\"], 0)) as else_:\n",
    "    pass\n",
    "with else_:\n",
    "    circuit.ry(np.pi * weight_vector[6], 4)\n",
    "    circuit.x(5)\n",
    "    circuit.cx(4,5)\n",
    "    controlled_ry(4, 5, weight_vector[7])\n",
    "circuit.measure(qubit_register_dict[\"bond_1\"], clbit_register_dict[\"bond_2_1_m\"])\n",
    "\n",
    "used_part = 8\n",
    "heavy_atom_idx = 3\n",
    "# Third atom and recrusive part\n",
    "for heavy_atom_idx in range(3, num_heavy_atom+1):\n",
    "    # reset qubits for qubit reuse\n",
    "    reset_block(circuit, heavy_atom_idx - 1) # heavy atom idx starts with 2\n",
    "    with circuit.if_test((clbit_register_dict[f\"atom_{heavy_atom_idx-1}_m\"], 0)) as else_:\n",
    "        pass\n",
    "    with else_:\n",
    "        circuit.ry(np.pi * weight_vector[used_part], qubit_register_dict[\"atom_i\"][0])\n",
    "        circuit.ry(np.pi * weight_vector[used_part+1], qubit_register_dict[\"atom_i\"][1])\n",
    "        controlled_ry(qubit_register_dict[\"atom_i\"][0], qubit_register_dict[\"atom_i\"][1], weight_vector[used_part+2])\n",
    "    circuit.measure(qubit_register_dict[\"atom_i\"], clbit_register_dict[f\"atom_{heavy_atom_idx}_m\"])\n",
    "    with circuit.if_test((clbit_register_dict[f\"atom_{heavy_atom_idx}_m\"], 0)) as else_:\n",
    "        pass\n",
    "    with else_:\n",
    "        num_fixed = heavy_atom_idx-1\n",
    "        num_flexible = 2*num_fixed\n",
    "        bond_type_fixed_part = weight_vector[used_part+3: used_part+3+num_fixed]\n",
    "        bond_type_flexible_part = weight_vector[used_part+3+num_fixed: used_part+3+num_fixed+num_flexible]\n",
    "        for i in range(heavy_atom_idx-1):\n",
    "            circuit.ry(np.pi * bond_type_fixed_part[i], qubit_register_dict[f\"bond_{i+1}\"][1])\n",
    "            controlled_ry(qubit_register_dict[f\"bond_{i+1}\"][1], qubit_register_dict[f\"bond_{i+1}\"][0], bond_type_flexible_part[2*i]) # < 0.5\n",
    "            controlled_ry(qubit_register_dict[f\"bond_{i+1}\"][0], qubit_register_dict[f\"bond_{i+1}\"][1], bond_type_flexible_part[2*i+1]) # > 0.5\n",
    "\n",
    "    measure_bond_block(circuit, heavy_atom_idx)\n",
    "    used_part += 3*heavy_atom_idx\n"
   ]
  },
  {
   "cell_type": "code",
   "execution_count": 90,
   "metadata": {},
   "outputs": [
    {
     "name": "stdout",
     "output_type": "stream",
     "text": [
      ">>> Job ID: cygq8tk9b62g00822s70\n"
     ]
    }
   ],
   "source": [
    "num_sample = 5000\n",
    "\n",
    "transpiled_qc = pm.run(circuit)\n",
    "sampler = Sampler(mode=backend)\n",
    "sampler.options.default_shots = num_sample\n",
    "job = sampler.run([transpiled_qc])\n",
    "\n",
    "print(f\">>> Job ID: {job.job_id()}\")"
   ]
  },
  {
   "cell_type": "code",
   "execution_count": 91,
   "metadata": {},
   "outputs": [],
   "source": [
    "from qiskit_ibm_runtime import QiskitRuntimeService\n",
    "\n",
    "def get_token(file_path):\n",
    "    with open(file_path) as f:\n",
    "        data = f.read()\n",
    "    token = data.strip()\n",
    "    return token\n",
    "\n",
    "service = QiskitRuntimeService(\n",
    "    channel='ibm_quantum',\n",
    "    instance='ibm-q/open/main',\n",
    "    token=get_token(\"./docs/ibmq_tokens.txt\")\n",
    ")\n",
    "job = service.job('cygq8tk9b62g00822s70')\n",
    "job_result = job.result()"
   ]
  },
  {
   "cell_type": "code",
   "execution_count": 109,
   "metadata": {},
   "outputs": [],
   "source": [
    "def post_process_results(job_result, num_heavy_atom):\n",
    "    num_shots = job_result[0].data.atom_1_m.num_shots\n",
    "    quantum_state_list = [\"\"]*num_shots\n",
    "    # node vector\n",
    "    for i in range(1, num_heavy_atom+1):\n",
    "        key = f\"atom_{i}_m\"\n",
    "        partial_results = job_result[0].data[key].get_bitstrings()\n",
    "        for z in range(num_shots):\n",
    "            quantum_state_list[z] = quantum_state_list[z] + partial_results[z][::-1]\n",
    "        \n",
    "        # bond adjacency\n",
    "        for j in range(1, i):\n",
    "            key = f\"bond_{i}_{j}_m\"\n",
    "            partial_results = job_result[0].data[key].get_bitstrings()\n",
    "            for z in range(num_shots):\n",
    "                quantum_state_list[z] = quantum_state_list[z] + partial_results[z][::-1]\n",
    "                # remove bond disconnection\n",
    "                if i - j == 1:\n",
    "                    if (quantum_state_list[z][-2*j-2:-2*j] != \"00\") and (quantum_state_list[z][-2*j:] == \"0\"*(2*j)):\n",
    "                        quantum_state_list[z] = quantum_state_list[z][:-1]+\"1\"\n",
    "    return quantum_state_list\n",
    "\n",
    "quantum_state_list = post_process_results(job_result, num_heavy_atom=9)\n",
    "mg = MoleculeQuantumStateGenerator(heavy_atom_size=9)\n",
    "quantum_state_list = [mg.post_process_quantum_state(qs, reverse=False) for qs in quantum_state_list]"
   ]
  },
  {
   "cell_type": "code",
   "execution_count": 112,
   "metadata": {},
   "outputs": [
    {
     "name": "stdout",
     "output_type": "stream",
     "text": [
      "Validity:  0.1078\n",
      "Uniqueness:  0.0944\n"
     ]
    }
   ],
   "source": [
    "from collections import Counter\n",
    "smiles_list = []\n",
    "for qs in quantum_state_list:\n",
    "    smiles = mg.QuantumStateToSmiles(qs)\n",
    "    if smiles:\n",
    "        smiles_list.append(smiles)\n",
    "smiles_dict = Counter(smiles_list)\n",
    "print(\"Validity: \", len(smiles_list) / num_sample)\n",
    "print(\"Uniqueness: \", len(smiles_dict) / num_sample)"
   ]
  },
  {
   "cell_type": "code",
   "execution_count": 113,
   "metadata": {},
   "outputs": [
    {
     "data": {
      "text/plain": [
       "dict_keys(['C', 'CC[C@@](C)(O)OC', 'CC[C@@H]1[C@@H](N)[C@@]1(O)O', 'CCN(O)[C@H](C)[C@@H](N)N', 'CO[C@]1(O)C[C@H]1C', 'C[C@]1(O)ON[C@@H]1CO', 'CC[C@@H](N)[C@@H](N)[C@@H](N)N', 'N[C@H](N(N)O)N1CCO1', 'C[C@H]1N[N@]2C[C@@]1(N)NN2', 'CN[C@H](NC)[C@H](N)CN', 'C[C@]1(N)C[C@@]1(O)O', 'CN1C[C@@H]([C@@H](O)O)C1', 'N=N[C@H](NN)NCN', 'CC[N@@]1N[C@]1(C)O', 'CC[C@H](NN)[C@@H](N)O', 'N[C@@H]1[C@@H](O)C[C@@]2(N)C[C@@H]12', 'CN[C@@H]1N[C@@H](OC)[C@@H]1C', 'CCNC[C@H]1C[C@H]1N', 'NN1[N@@]2C[N@@]3[N@@](N)[C@]13N2', 'C[C@H]1NN[C@H]1N(N)N', 'CC1=NN(C)[C@]1(C)N', 'NNC[C@H]1NC[C@H]1O', 'N', 'OOOO[C@H]1COO1', 'N[C@H]1CC(=O)N2C[N@]1C2', 'NN[C@]1([C@@H](O)ON)NO1', 'CCNNO[C@@H](C)ON', 'CN[C@]1(NC)C[N@@]1O', 'C1N[C@@]23[C@@H]4N=C([C@H]42)N13', 'CC[C@H](ON)OCN', 'N[C@@H](NNCO)C1=NC1', 'NC[C@]1(N)N[C@H]1NN', 'NC[C@]1([C@@H](O)O)CN1', 'CN(N)[C@@H]1NN(N)[C@H]1O', 'CNC[C@@H]1CN(C)N1', 'CO[C@@H]1O[C@]1(N)NN', 'CC[C@](N)(NN)N(C)N', 'C[C@@H](O)[C@@H](CO)NO', 'CN[C@H](CO)[C@H](C)N', 'CC[C@]12[C@@H]3[C@@H](N1CN)[N@@]32', 'CC[C@@]1(NN)N[C@@H]1C', 'CCN[C@H](C)N(O)NC', 'C[C@]1(CN)CN[C@H]1O', 'CNCC[C@@H]1CCC1', 'C[C@@H](N)C[C@@H](N)CCO', 'N=C1[C@@]23CN[C@]1(NN2)N3', 'C[C@@H]1CN(N(C)NO)C1', 'CN(N)[C@H](CN)NNO', 'NN[C@H](N)[C@@H]1O[N@]1NN', 'CN[C@@H](O)[C@@H](N)COO', 'C[C@]12NNN1ON2N', 'C[C@H]1[C@H]2N[C@]21[C@@H](N)NO', 'NC[C@H]1O[N@]2[C@H]3N[C@@]312', 'C[C@H]1N(CO)N[C@]12CN2', 'CC[C@@]1(C)CCN1O', 'CCC(=N)C[C@@H](C)N', 'NN1N[C@H](NO)N1', 'ONON(O)[C@H](O)OO', 'CNONC[C@@H](N)NN', 'CCCCC[C@@H](O)O', 'N[C@@]12CNOC[C@H]1N2', 'CCN(O)NCCO', 'CC1=C(CNO)[C@]1(C)N', 'CNN[N@@]1[C@H](N)[C@@H]1O', 'O[C@@H](O)[C@@]12CNN1CN2', 'C[C@H](N)CNNCCO', 'OO[C@H]1C[C@@]2(NO2)O1', 'CC[C@]1(N)[C@H](N)[C@H]1N', 'NO[C@]12CNN1NO2', 'OC[C@]1(O)CCOO1', 'CC[C@@H](OO)[C@H]1NO1', 'C[C@H]1CN[C@@]1(C)NC#N', 'CCCN1CC=NN1', 'CNCC[C@@H]1C[C@H](C)N1', 'CON(C)[C@H](C)[C@@H](C)N', 'CC[C@H](O)N1NNN1N', 'C=C(C)[C@@H](N)ONCN', 'NCCN1CN(N)[C@H]1O', 'C=C(N)C[C@H]1COO1', 'C[C@@]1(OCO)CNO1', 'CC[C@@](N)(NC)NON', 'CN1C[C@@H](N)[C@H]1CN', 'O', 'NCCN(O)[C@@H](N)ON', 'CNCN[C@@H](C#N)CN', 'CCN[C@@H](C)N[C@H]1NO1', 'C[C@@H](N)[C@H]1C[C@]1(C)C', 'C[C@H]1N[C@H](C[C@@H](N)N)N1', 'CCN1C2=N[C@H]1CC2', 'CO[C@]1(OO)C[C@H]1C', 'CN[C@]1(C)NN(O)[C@@H]1N', 'CC[C@H](OO)OOO', 'CN(N)[C@@]1(N)CCNC1', 'C[C@@]1(N)CNNN1O', 'CN(C)C[C@](C)(N)NN', 'C[C@]1(N)[C@@H](CN)[N@@]1O', 'C[C@@H]1C[N@@]2[C@@H]3N[C@]1(C)[C@@H]32', 'C[C@@H]1[C@H](O)NN1O', 'CC[C@@H](C)[C@@H](N)CN', 'CN1C[C@H](N)CNNN1', 'CO[C@@H](O)[C@@H]1C#C1', 'O[C@H]1CC[C@]2(COC2)N1', 'CN1O[C@@]2(N)N=C(N)[C@@H]12', 'OC[C@@H]1[C@@H]2O[N@@]3[C@H]1C[N@@]23', 'C[C@@](O)(O)CCO', 'C[C@@](N)(CN)NNN', 'C[C@@H]1C[C@](C)(O)N1CN', 'NOO[C@H]1C[C@H]1N(N)O', 'CN[C@@H]1[C@@H]2[C@H]1N(C)N2C', 'C[C@@H](C)[C@]1(NN)[C@@H]2N[C@H]21', 'C=C(O)N(C)NCN', 'CN1CN(N)NCN1', 'C[C@H]1N=C(OO)[C@@H]1O', 'CNN[C@@H](N)[C@@H](C)O', 'C[C@@H](O)[C@@H](N)CO', 'C[C@@]1(OO)NNNNO1', 'CCC[C@@H](N)[C@@H](C)C', 'CN[C@H](/C=N\\\\N)[C@@H](C)C', 'N[C@@H]1C[C@]23C[C@]12NN3', 'NCC[C@H]1NN[C@H]1N', 'NCN(O)N1C2=C1C2', 'NC[C@@]1(N)[N@]2[C@H]3[C@@H]2[C@@]31N', 'NC[C@H]1C2=CC[C@H]3N[C@]231', 'C[C@H]1NCC[C@]12NCN2', 'CCN1N[C@@]2(N)C[N@@]12', 'NNC[C@H]1CCN1', 'CC[C@@H](OC)ONC', 'C[C@H](N)C[C@@H](C)NN', 'OC[C@@H]1CNOCN1', 'C[C@H]1[C@H](O)NN(C)[C@H]1N', 'CC[C@]1(N)[C@H](C)[C@H]1N', 'NCN(NO)[C@@H](O)O', 'CNO[C@H](O)NNN', 'N=NNCN1C=NNN1', 'COCN1NO[C@@H]1O', 'CC1=NN[C@H](N)[C@H]1C', 'N[C@@H]1CN(N)[C@@](N)(O)C1', 'C1NC[C@@H]2[C@H]1[C@H]1CO[C@@H]21', 'CC[C@H](CCO)OC', 'N[C@@H]1NN2C=C3N[C@]312', 'NNC1=NONN1', 'C[C@@H]1CC[C@@H](N)NN1', 'CC[C@](C)(N)NC=O', 'C[C@]12CO[C@@H]1NN(O)N2', 'C/C=C/[C@H](N)CCCN', 'NN[C@@]12C=C(O)C[C@H]1N2', 'C[C@H]([C@@H]1NCN1)N(C)N', 'C[C@H](CN)[C@H](N)CO', 'CN(N)[C@@](C)(N)CN', 'OC[C@]12C[C@H]1O2', 'CC1=C2[C@H](C1)[C@@]21NNO1', 'NC1=CN[C@H]1OOO', 'CCNC[C@@](C)(C)N', 'CC1=C(C)[C@@H]1NNCO', 'CNNN(NC)[C@@H]1CN1', 'CN1N[C@@H]2C[C@@]21CO', 'NC[C@@H](O)[C@@H](O)CO', 'CNN(CNN)[C@H](C)N', 'CC[C@@H](O)OCCOC', 'COO[C@@](C)(N)CO', 'C#C[C@@H](C)N(N)NC', 'CC[C@@H]1CNOO1', 'CN[C@]1(C)[C@H](N)[C@H]1CN', 'CC[C@]12N[C@@H]3O[C@]1(N2)O3', 'C[C@@H]1C[C@@]2(CCN2)N1C', 'CC/C=C/[C@H](N)NC', 'OC[C@H](NO)[C@@H](O)O', 'COCC[C@@H](N)CCN', 'C[C@H]1ON[C@]1(O)CO', 'CN[C@@]1(O)O[C@H](N)[C@H]1N', 'C[N@@]1[C@]23[N@](N)[C@@]12[N@@]3N', 'N[C@@]12[C@@H]3[C@H]4N[C@@H](N[C@@H]31)[C@@H]42', 'C[C@]1(NN)C#CCC1', 'CC[C@@]1(CC)CCN1', 'CC[C@H]1NO[C@@H]1OOO', 'NCN1[C@H](N)C[C@@H]1N', 'NC[C@@H](N)[C@]1(N)CO1', 'CN[C@]1(N)N[C@H]1NCO', 'CNCC[C@@H]1CNCN1', 'C[C@H]1CC[C@H]1CNNO', 'CCOON(C)OC', 'CC[C@@H](N)N(O)CO', 'OO[C@@]1(O)CC1', 'C[C@@H]1C[C@H]([C@@H](N)O)O1', 'O[C@@]1([C@@H]2CC2)COO1', 'NN[C@H](NO)[C@H]1CCN1', 'CN[C@H](C)NOCN', 'C[C@](O)(NNNO)ON', 'CNN(NC)[C@H](N)NN', 'C[C@@H](NO)NOOO', 'C[C@@]12CN(N)C[C@@H]1CN2', 'CO[C@@H]1[C@@H](N)[C@@H]1OO', 'CN1CC[C@H](CCO)N1', 'CC[C@@H](C)[C@@H]1CCN1', 'NCCCNCCN', 'CC[C@]12NC[C@]1(C)[C@H]2O', 'CC[C@@H](N)[C@H](C)OO', 'C=N[C@H](CCO)NCC', 'CNN1N[C@@]2(C)C[C@H]12', 'C[C@](N)(CO)OCO', 'CN(O)[C@H](N)[C@H](N)CN', 'CN[C@@](N)(N)[C@@H](N)O', 'CCCN(C)CC', 'NNC[C@]1(N)C[N@@]1N', 'ONC[C@@H]1CCON1', 'OCC[C@@H]1C[C@]12OO2', 'CN[C@H]1CN[C@@H](CN)C1', 'CN[C@H](NN)N[C@@H](C)C', 'CCC[C@H](N)CNC', 'NN(N)[C@]1(N)NO1', 'CCNn1n(C)n1CC', 'CN[C@H]1[C@H]2[C@H](NC)[N@]21', 'C[C@H]1CC2=CCN2C1', 'C[C@]12O[N@]1O[C@@H]2C=O', 'CCC[C@H](CC)CN', 'C[C@H](N)CN(N)[C@H](C)O', 'CC[C@](O)(CO)ON', 'C1CO[C@H]2CCNN2C1', 'CCNCCNNCO', 'CCC[C@]1(CN)CN1', 'N[C@@H]1[C@H]2ONO[C@]12O', 'CC[C@H](O)N(O)CO', 'CCCN(C)N(C)C', 'C/C=C(/N)N1CN(C)O1', 'N[C@]1([C@@H]2N[N@@]2O)NOO1', 'C[C@@H](C)[C@]1(C)NN[C@H]1O', 'CCCC[C@H](N)CC', 'C[C@](N)(O)CNO', 'C=C(CNNC)NO', 'CCC[C@@H](N)[C@@H](C)O', 'CNOC[C@@H](O)OO', 'C[C@@]1(N)CCNN(N)O1', 'CCN[C@@H](CN)NO', 'CC[C@@H](N)[C@H](N)NNC', 'CCC[N@@]1[C@H](C)[C@]1(C)O', 'CN[C@]1(NO)NN[C@@H]1N', 'C[C@@]12C[C@H]1NO[C@@H]2O', 'CC[C@]1(OC)CNO1', 'C[C@H]1C[C@H](CNN)C1', 'CC[C@](N)(N)N(C)OO', 'CN1C[N@]2C[N@@]1N2NO', 'CCON(O)CCN', 'CC[C@@](N)(NN)NN', 'NCNN[C@@H](N)CNN', 'C[C@@H](O)[C@@H](O)ONO', 'NN[C@@H]1C2=NN[C@H]1C2', 'NN1NCN[C@H]1CNO', 'CCN(N)N(C)O', 'C[C@@H]1CN(NNO)O1', 'NCN[C@@]1(CN)CNN1', 'CCN[C@@H](CNC)NN', 'C[C@@H](N)[C@H]1[N@@](C)[N@@]1N', 'C[C@@H](CO)O[C@@H](N)N', 'CNC[C@@H](CO)NC', 'ON(O)N1CCC1', 'CN[C@@]1(N)[N@]2O[C@]21C', 'CC[C@](O)(O)CC=O', 'NNN/C=C/NOO', 'C/N=C(\\\\NN)[C@@H](N)N', 'CCC[C@H](C)NCNN', 'NNN[C@H](N)[C@@H]1NNN1', 'CNCC[C@@](C)(O)NN', 'C[C@@]1(N)N[C@@]12CN(N)C2', 'C/C=C\\\\N(CC)CNO', 'NCOC(=O)NN', 'ONC[C@@H]1OO[C@@H]1O', 'CC[C@@H](C)[N@]1C[C@H]1N', 'CC[C@@H](N)N(C)N', 'CN[C@]1(C)N=C1NCO', 'OOO[C@H]1CNNO1', 'C=N[C@@](C)(O)CNO', 'N=C[C@](N)(CN)NN', 'CN[C@]1(N)N[C@]1(N)N', 'NC[C@@H](NN)N1CCC1', 'C[C@@H](OOO)[C@@H](N)CO', 'CCN[C@](C)(N)NO', 'N[C@H]1[C@@H]2[C@H]3N[C@@]23C[C@@H]1N', 'CN(C)[C@@](C)(N)CN', 'C[C@@H]1CO[C@H]1[C@H](C)NN', 'CN(O)COCCOO', 'CN[C@](C)(N)CNN', 'CC[C@@](C)(N)C[N+](C)=[N-]', 'OO[C@H]1CCOC1', 'CNO[C@@H](C)OC', 'CCN(CC)CO', 'CCN(C)[C@@](N)(O)OO', 'N[C@@H](N)ONCN(N)O', 'CN(N)[C@](O)(O)NO', 'C1N[C@@H]2C[N@@]3C[N@@]2C[C@@H]13', 'CN[C@@H]1NN[C@@H]1/N=C/O', 'CC[C@@H](N)[C@](C)(N)NC', 'CN1CC[C@@H]1[C@@H](N)O', 'C[C@@H](N)[C@H](O)CNN', 'CC[C@@](C)(NC)NC', 'CC[C@@H](C)N(O)O', 'CCCCN(C)[C@@H](C)N', 'CN[C@@]1(N)CNN(O)N1', 'C[C@@H](N)N1CNC1', 'N[C@@H](O)OOONO', 'NCN[C@@H]1C[C@@H]1N', 'CNO[C@@]1(O)C[C@H]1C', 'NNCN(NO)OO', 'C[C@@H]1[C@H]2C[C@H](C)[C@]12N', 'NO[C@H]1[N@@]2[C@@H](N)[C@H](O)[N@]12', 'CN[C@H]1CCN1', 'OO[C@@H]1[C@H]2CO[C@@]21O', 'C[C@@H](CN)CNCO', 'CC[C@]1(NCN)CC1', 'CC1=C(C[C@H]2N=C2N)N1', 'NN1CN[C@H]2[C@H]3[N@@]1[C@]23O', 'N#C[C@@H]1C[C@H]2[C@H](N1)[N@@]2N', 'CC[C@@]1(CN)CNN1C', 'N[C@H]1N=N[C@H]1[N@@]1[C@@H]2N[N@@]21', 'CCC[N@@]1[C@H](N)[C@H]1CO', 'C[C@@H](N)N(C)CCNO', 'CN[C@]1(N)[C@H](C)[C@H]1C', 'CCCN(N)CCCO', 'CCCN[C@@H](C)NN', 'OC/C=C\\\\N(O)O', 'NN[C@@H](N)C[C@H]1CN1', 'CCO[C@@]1(C)CCO1', 'CNN[C@H](CO)NNN', 'CN[C@@H]1NC=C1CN', 'C[C@@]1(N)NC=C1CN', 'C[C@](O)(O)CNNN', 'C[C@@H](OCN)C1=NO1', 'OCC[C@H]1CON1O', 'C1OC[C@]2(CO2)NO1', 'CN/N=C/N[C@H]1CCC1', 'CCCC1=C[C@@H]1CN', 'C[C@@]1(N)CC(=O)O1', 'C[C@@H](N)CNC1=CCC1', 'C[C@@H]1[C@H]2OO[C@]12O', 'C[C@H](N)CNNNNO', 'CC[C@@](C)(N)CNON', 'C[C@@H](C)[C@H]1NN(N)[C@@H]1N', 'C/C(=N/CNO)NO', 'C=N[C@H](NO)NNC', 'C/N=N\\\\[C@@](C)(C)NCN', 'CC[C@]1(CN)C[C@H]1NC', 'NCNCC1=CCC=N1', 'CN[C@H]1NNC[C@H]1N', 'CC1=CON[C@@H]1N', 'N#CN[C@@]12C[C@]13C[C@H]3N2', 'CCC[C@@H]1C[C@H](OO)N1', 'N[C@@H]1CN[C@@H]1[C@H]1NCO1', 'NO[C@@H]1O[N@@]2O[C@@]12NO', 'CN[C@H](N)CN(C)N', 'NCN[C@@](N)(CN)CN', 'CN1N[C@H]2[C@@H]3[C@@]24[N@@]1[C@]34C', 'C[C@@H](N=O)N1CCC1', 'C1=C2C[C@@H](NCCO1)O2', 'C[C@@H]1C[C@H](COO)N1', 'CN[C@H](C)C[C@@H](C)N', 'CCNCC[C@@H](N)CC', 'OC[C@@H]1N[C@@]23N[C@H]2NN13', 'C[C@H]1C=C[C@H](N)N[C@@H]1C', 'C=CN[C@H]1N[N@@]1NNO', 'NC[C@H]1N[C@@]12CON2', 'CN[C@H](CN)CCOO', 'CC[C@H](C)N(O)O', 'NC[C@@](N)(CCO)NN', 'CC[C@H]1C=C1NNN', 'O[C@@H]1N[C@H]2NNC[C@H]21', 'CC1=C2[C@@H](OCN)[C@@H]2O1', 'CN(C)[C@@H]1CN(N)NN1', 'C[C@@H]1O[C@@](O)(OO)N1O', 'NCC[C@H](O)OOO', 'CC[C@@]1(N)C[C@H]1CNC', 'O[C@@H]1O[C@H]2CC1=N2', 'NO[C@@](O)(CO)OO', 'N[C@@H]1N=C1N(N)[N@]1CN1', 'C[C@]1(N)[C@@H](O)[C@@]1(O)O', 'C[C@H]1NN[C@H]1N', 'C[N@@]1[C@@]23N[N@](C[C@@]12N)N3', 'C[C@@H](O)CC[C@](C)(N)O', 'C#C[C@@H](CC)NNN', 'CN1NCCN(N)O1', 'N#CN(CCN)NO', 'CNC[C@@H](O)[C@H](C)N', 'O[C@H]1CCCCN1', 'CCNN1C[C@@H](C)O1', 'C[C@@H](CN)NN(C)CO', 'CN1[C@@H](O)[C@H]2[C@@H]1[C@@]2(C)N', 'CC[C@@H]1[C@@H](N)[C@@H]1NC', 'C[C@H]1OC[C@H](N)[C@@H]1O', 'CCN1C[N@]2[C@@H]1[N@@]2CC', 'OCO[C@@H](CO)CO', 'CC[C@H]1[C@@H]2CC[C@@]12NN', 'C=CO[C@H](N)OOO', 'CCC[C@@H](O)OO', 'CC1=C2C[C@]1(C)N[C@H]2N', 'NCC[C@]1(N)N[C@H]1NO', 'ON1C[C@H]2[C@H]3N1[C@@H]1C[C@]213', 'CNCCCNN', 'C=C[C@]1(N)CCCN1N', 'NCN(N=O)N(O)O', 'C[C@@H](O)[C@@H](NN)n1oo1', 'C1CN[C@@H]2C[C@@H](CN2)N1', 'NC[C@@]12NOC[C@H]1O2', 'NCC1=CCCCN1O', 'N[C@@H]([C@@H](O)O)[C@@H]1CNC1', 'C[C@]1(N)CCCC[C@H]1N', 'C[C@]1(N)C[C@@H](CO)N1', 'CN[N@@]1[C@H]2[C@H](CNN)[N@@]21', 'CC[C@H](CCN)NNN', 'CNC[C@H](CN)NNO', 'CC[C@@H](NC)ON', 'C/C=C\\\\COCOO', 'CO[C@@H]1[C@@H](C)[C@H]1O', 'CC[C@@]1(C)CNN(C)N1', 'C[C@@H]1CN2CN=C2N1C', 'CN1CN(C)[C@@]1(N)N', 'CN(C)N1CNN1', 'C[C@]1(N)CNCN(N)N1', 'C[C@H]1NO[C@@]1(N)ON', 'CN[C@H](NN)[C@@H](C)NN', 'CN1C[C@H](NOO)N1N', 'CN[C@@H]1N[C@@]1(N)CN', 'O[C@@]1([C@@H]2CC2)CNO1', 'NCN[C@@H]1C[C@@]1(O)O', 'C[C@H](CO)[C@@H](N)N', 'CCN[C@@](N)(CN)NN', 'CN[C@@H]1CN(C)NN1', 'CC[C@@H]1C[C@@]1(N)CN', 'CC1=C[C@@]2(N)[N@]3[C@]24C[C@@]134', 'CNN(N)[C@@H]1C[C@@H](C)O1', 'OC[C@@H]1[C@@H](O)[C@@]1(O)O', 'C[C@@H](N)[C@@]12C[C@H]1CN2', 'C[C@@]1(C)[C@@H](N)[C@H]1[N@]1CC1', 'NC1=N[C@@]2(N)C[N@@](C1)C2', 'NC[C@@H]1CCN[C@H](N)C1', 'CN[C@H]1[C@H](O)NN[C@@H]1N', 'CN[C@@H](C)CNNN', 'C[C@H]1[C@H](N)N(C)[C@H]1N', 'C[C@@H](C)N(CN)[C@@H](O)O', 'CCCCCOO', 'C[C@H]1ON[C@@H]1COO', 'CC[C@@]1(CO)NOO1', 'C=N[C@](N)(CC)NCC', 'CCCCCC[C@H]1CN1', 'CNN(C)[C@H](C)OON', 'CC[C@](N)(CCO)NC', 'CN1C[C@@H]2[C@@H](O)[C@@H]2N1C', 'CCC[C@]12N[C@@H](O1)[C@H]2C', 'CN[C@@](C)(N)[N+](C)=[N-]', 'C[C@@H](N)[C@H]1CN[C@H]1N', 'CNCCCOO', 'CNN(C)[C@@]1(NN)CN1', 'CC[C@@](N)(CN)[C@@H](C)N', 'CN[C@H](N)[C@@](C)(C)N', 'CC[C@@](C)(N)CNO', 'C[C@@H]1C[C@]1(CN)NCO', 'CC[C@H]1CNN1', 'CN1N[C@@H]([C@@H](O)ON)N1', 'C[C@@](O)(CO)NNO', 'N=C(COO)N(O)O', 'C[C@@H]1C[C@H]2C[C@@H]2[C@@H](N)N1', 'CO[C@H](CN)[C@@H](C)N', 'O[C@H]1N[C@H]2N[C@@]23C[N@@]13', 'CN1NN[C@H](N)[C@@H]1N', 'N[C@@H]1NN[C@@H]1CC1=CC1', 'C/N=C(\\\\N)CN(N)CO', 'CC[C@](C)(N)NCNN', 'COOOC[C@@H](C)C', 'CNCC[C@H]1NN[C@H]1N', 'C[C@H](CN)NC[C@H]1NO1', 'C=C1[C@@H]2CO[C@@H]1C2', 'CC[C@](C)(O)OO', 'CNN(O)C[C@@H](C)O', 'CNN(CNO)OC', 'CN[C@H](N)N(C)CNN'])"
      ]
     },
     "execution_count": 113,
     "metadata": {},
     "output_type": "execute_result"
    }
   ],
   "source": [
    "smiles_dict.keys()"
   ]
  }
 ],
 "metadata": {
  "kernelspec": {
   "display_name": "qmg-n",
   "language": "python",
   "name": "python3"
  },
  "language_info": {
   "codemirror_mode": {
    "name": "ipython",
    "version": 3
   },
   "file_extension": ".py",
   "mimetype": "text/x-python",
   "name": "python",
   "nbconvert_exporter": "python",
   "pygments_lexer": "ipython3",
   "version": "3.12.6"
  }
 },
 "nbformat": 4,
 "nbformat_minor": 2
}
