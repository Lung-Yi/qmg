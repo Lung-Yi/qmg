{
 "cells": [
  {
   "cell_type": "code",
   "execution_count": 20,
   "metadata": {},
   "outputs": [
    {
     "name": "stderr",
     "output_type": "stream",
     "text": [
      "/tmp/ipykernel_1531225/2463755316.py:23: DeprecationWarning: The function ``qiskit.execute_function.execute()`` is deprecated as of qiskit 0.46.0. It will be removed in the Qiskit 1.0 release. This function combines ``transpile`` and ``backend.run``, which is covered by ``Sampler`` :mod:`~qiskit.primitives`. Alternatively, you can also run :func:`.transpile` followed by ``backend.run()``.\n",
      "  results = execute(circuit, backend=simulator, shots=1024).result()\n"
     ]
    },
    {
     "name": "stdout",
     "output_type": "stream",
     "text": [
      "{'01': 512, '00': 512}\n"
     ]
    },
    {
     "data": {
      "image/png": "[encoded data removed]",
      "text/plain": [
       "<Figure size 556.762x200.667 with 1 Axes>"
      ]
     },
     "execution_count": 20,
     "metadata": {},
     "output_type": "execute_result"
    }
   ],
   "source": [
    "from qiskit.circuit import QuantumCircuit, QuantumRegister, ClassicalRegister\n",
    "from qiskit_aer import Aer\n",
    "from qiskit import execute\n",
    "import random\n",
    "import numpy as np\n",
    "import sys\n",
    "sys.path.append(\"../\")\n",
    "from qmg.utils import MoleculeQuantumStateGenerator, CircuitBuilder\n",
    "\n",
    "qubits = QuantumRegister(1)\n",
    "clbits = ClassicalRegister(2)\n",
    "circuit = QuantumCircuit(qubits, clbits)\n",
    "# (q0,) = qubits\n",
    "(c0,c1) = clbits\n",
    " \n",
    "circuit.h(qubits[0])\n",
    "circuit.measure(qubits[0], c0)\n",
    "with circuit.if_test((clbits[0], 1)):\n",
    "    circuit.x(qubits[0])\n",
    "    circuit.measure(qubits[0], c1)\n",
    "\n",
    "simulator = Aer.get_backend('aer_simulator')\n",
    "results = execute(circuit, backend=simulator, shots=1024).result()\n",
    "counts = results.get_counts(circuit)\n",
    "print(counts)\n",
    "circuit.draw(\"mpl\", style=\"iqp\")\n",
    " \n",
    "# example output counts: {'0': 1024}"
   ]
  },
  {
   "cell_type": "code",
   "execution_count": 36,
   "metadata": {},
   "outputs": [
    {
     "name": "stdout",
     "output_type": "stream",
     "text": [
      "{'10 1001': 1, '11 1110': 2, '00 0001': 3, '01 1101': 1, '00 0010': 4831, '11 1111': 39, '10 1010': 1337, '00 0011': 168, '01 1010': 383, '10 1101': 9, '11 1010': 3253, '01 1110': 1, '10 1011': 51, '11 1101': 15, '11 1001': 1, '10 1110': 2, '01 1011': 17, '11 1011': 109, '10 1111': 9, '01 1111': 8}\n"
     ]
    },
    {
     "name": "stderr",
     "output_type": "stream",
     "text": [
      "/tmp/ipykernel_1531225/1707280012.py:50: DeprecationWarning: The function ``qiskit.execute_function.execute()`` is deprecated as of qiskit 0.46.0. It will be removed in the Qiskit 1.0 release. This function combines ``transpile`` and ``backend.run``, which is covered by ``Sampler`` :mod:`~qiskit.primitives`. Alternatively, you can also run :func:`.transpile` followed by ``backend.run()``.\n",
      "  results = execute(qc, backend=simulator, shots=1024*10).result()\n"
     ]
    },
    {
     "data": {
      "text/html": [
       "<pre style=\"word-wrap: normal;white-space: pre;background: #fff0;line-height: 1.1;font-family: &quot;Courier New&quot;,Courier,monospace\">        ┌─────────────┐                                       ┌─┐              »\n",
       "q145_0: ┤ Ry(0.42212) ├──■───────────────────────■────────────┤M├──────────────»\n",
       "        └────┬───┬────┘┌─┴─┐               ┌─────┴──────┐     └╥┘              »\n",
       "q145_1: ─────┤ X ├─────┤ X ├───────■───────┤ Ry(2.6623) ├──■───╫───────────────»\n",
       "         ┌───┴───┴────┐└───┘┌──────┴──────┐└────────────┘┌─┴─┐ ║               »\n",
       "q145_2: ─┤ Ry(2.3995) ├─────┤ Ry(0.80132) ├──────■───────┤ X ├─╫───────■───────»\n",
       "         ├────────────┤     └─────────────┘    ┌─┴─┐     └───┘ ║ ┌─────┴──────┐»\n",
       "q145_3: ─┤ Ry(1.5565) ├────────────────────────┤ X ├───────────╫─┤ Ry(1.4121) ├»\n",
       "         └────────────┘                        └───┘           ║ └────────────┘»\n",
       "q145_4: ───────────────────────────────────────────────────────╫───────────────»\n",
       "                                                               ║               »\n",
       "q145_5: ───────────────────────────────────────────────────────╫───────────────»\n",
       "                                                               ║               »\n",
       " c38: 6/═══════════════════════════════════════════════════════╩═══════════════»\n",
       "                                                               0               »\n",
       "«                                                                             »\n",
       "«q145_0: ─────────────────────────────────────────────────────────────────────»\n",
       "«        ┌─┐                                                                  »\n",
       "«q145_1: ┤M├──────────────────────────────────────────────────────────────────»\n",
       "«        └╥┘┌─┐                                                               »\n",
       "«q145_2: ─╫─┤M├───────────────────────────────────────────────────────────────»\n",
       "«         ║ └╥┘┌─┐                                                            »\n",
       "«q145_3: ─╫──╫─┤M├────────────────────────────────────────────────────────────»\n",
       "«         ║  ║ └╥┘┌────── ┌──────── ┌───────────┐                    ───────┐ »\n",
       "«q145_4: ─╫──╫──╫─┤       ┤         ┤ Ry(2.047) ├──■────────■───────        ├─»\n",
       "«         ║  ║  ║ │ If-0  │ Else-0  └───┬───┬───┘┌─┴─┐┌─────┴──────┐  End-0 │ »\n",
       "«q145_5: ─╫──╫──╫─┤       ┤         ────┤ X ├────┤ X ├┤ Ry(2.4778) ├        ├─»\n",
       "«         ║  ║  ║ └──╥─── └────────     └───┘    └───┘└────────────┘ ───────┘ »\n",
       "«         ║  ║  ║ ┌──╨──┐                                                     »\n",
       "« c38: 6/═╩══╩══╩═╡ 0x0 ╞═════════════════════════════════════════════════════»\n",
       "«         1  2  3 └─────┘                                                     »\n",
       "«              \n",
       "«q145_0: ──────\n",
       "«              \n",
       "«q145_1: ──────\n",
       "«              \n",
       "«q145_2: ──────\n",
       "«              \n",
       "«q145_3: ──────\n",
       "«        ┌─┐   \n",
       "«q145_4: ┤M├───\n",
       "«        └╥┘┌─┐\n",
       "«q145_5: ─╫─┤M├\n",
       "«         ║ └╥┘\n",
       "« c38: 6/═╩══╩═\n",
       "«         4  5 </pre>"
      ],
      "text/plain": [
       "        ┌─────────────┐                                       ┌─┐              »\n",
       "q145_0: ┤ Ry(0.42212) ├──■───────────────────────■────────────┤M├──────────────»\n",
       "        └────┬───┬────┘┌─┴─┐               ┌─────┴──────┐     └╥┘              »\n",
       "q145_1: ─────┤ X ├─────┤ X ├───────■───────┤ Ry(2.6623) ├──■───╫───────────────»\n",
       "         ┌───┴───┴────┐└───┘┌──────┴──────┐└────────────┘┌─┴─┐ ║               »\n",
       "q145_2: ─┤ Ry(2.3995) ├─────┤ Ry(0.80132) ├──────■───────┤ X ├─╫───────■───────»\n",
       "         ├────────────┤     └─────────────┘    ┌─┴─┐     └───┘ ║ ┌─────┴──────┐»\n",
       "q145_3: ─┤ Ry(1.5565) ├────────────────────────┤ X ├───────────╫─┤ Ry(1.4121) ├»\n",
       "         └────────────┘                        └───┘           ║ └────────────┘»\n",
       "q145_4: ───────────────────────────────────────────────────────╫───────────────»\n",
       "                                                               ║               »\n",
       "q145_5: ───────────────────────────────────────────────────────╫───────────────»\n",
       "                                                               ║               »\n",
       " c38: 6/═══════════════════════════════════════════════════════╩═══════════════»\n",
       "                                                               0               »\n",
       "«                                                                             »\n",
       "«q145_0: ─────────────────────────────────────────────────────────────────────»\n",
       "«        ┌─┐                                                                  »\n",
       "«q145_1: ┤M├──────────────────────────────────────────────────────────────────»\n",
       "«        └╥┘┌─┐                                                               »\n",
       "«q145_2: ─╫─┤M├───────────────────────────────────────────────────────────────»\n",
       "«         ║ └╥┘┌─┐                                                            »\n",
       "«q145_3: ─╫──╫─┤M├────────────────────────────────────────────────────────────»\n",
       "«         ║  ║ └╥┘┌────── ┌──────── ┌───────────┐                    ───────┐ »\n",
       "«q145_4: ─╫──╫──╫─┤       ┤         ┤ Ry(2.047) ├──■────────■───────        ├─»\n",
       "«         ║  ║  ║ │ If-0  │ Else-0  └───┬───┬───┘┌─┴─┐┌─────┴──────┐  End-0 │ »\n",
       "«q145_5: ─╫──╫──╫─┤       ┤         ────┤ X ├────┤ X ├┤ Ry(2.4778) ├        ├─»\n",
       "«         ║  ║  ║ └──╥─── └────────     └───┘    └───┘└────────────┘ ───────┘ »\n",
       "«         ║  ║  ║ ┌──╨──┐                                                     »\n",
       "« c38: 6/═╩══╩══╩═╡ 0x0 ╞═════════════════════════════════════════════════════»\n",
       "«         1  2  3 └─────┘                                                     »\n",
       "«              \n",
       "«q145_0: ──────\n",
       "«              \n",
       "«q145_1: ──────\n",
       "«              \n",
       "«q145_2: ──────\n",
       "«              \n",
       "«q145_3: ──────\n",
       "«        ┌─┐   \n",
       "«q145_4: ┤M├───\n",
       "«        └╥┘┌─┐\n",
       "«q145_5: ─╫─┤M├\n",
       "«         ║ └╥┘\n",
       "« c38: 6/═╩══╩═\n",
       "«         4  5 "
      ]
     },
     "execution_count": 36,
     "metadata": {},
     "output_type": "execute_result"
    }
   ],
   "source": [
    "def controlled_ry(control:int, target:int, digit:float):\n",
    "    qc.cry(np.pi*digit, control, target)\n",
    "\n",
    "def reset_qubit(qubit, cbit):\n",
    "    temp = ClassicalRegister(bits=clbits[cbit])\n",
    "    qc.add_register(temp)\n",
    "    with qc.if_test((temp, 1)):\n",
    "        qc.cx(qubit)\n",
    "\n",
    "random.seed(1)\n",
    "weight_vector = [random.random() for _ in range(8)]\n",
    "qubits = QuantumRegister(6)\n",
    "clbits = ClassicalRegister(6)\n",
    "qc = QuantumCircuit(qubits, clbits)\n",
    "\n",
    "qc.ry(np.pi * weight_vector[0], 0)\n",
    "qc.x(1)\n",
    "qc.ry(np.pi * weight_vector[2], 2)\n",
    "qc.ry(np.pi * weight_vector[4], 3)\n",
    "qc.cx(0, 1)\n",
    "controlled_ry(1, 2, weight_vector[3])\n",
    "qc.cx(2, 3)\n",
    "controlled_ry(0, 1, weight_vector[1])\n",
    "qc.cx(1, 2)\n",
    "controlled_ry(2, 3, weight_vector[5])\n",
    "\n",
    "# measure atom 1 state:\n",
    "qc.measure(qubits[0:2], clbits[0:2])\n",
    "# measure atom 2 state and save:\n",
    "qc.measure(qubits[2:4], clbits[2:4])\n",
    "\n",
    "# Add a new atom existence ClassicalRegister:\n",
    "atom_existence_CR = ClassicalRegister(bits=clbits[2:4])\n",
    "qc.add_register(atom_existence_CR)\n",
    "with qc.if_test((atom_existence_CR, 0)) as else_:\n",
    "    pass\n",
    "with else_:\n",
    "    qc.ry(np.pi * weight_vector[6], 4)\n",
    "    qc.x(5)\n",
    "    qc.cx(4,5)\n",
    "    controlled_ry(4, 5, weight_vector[7])\n",
    "\n",
    "qc.measure(qubits[4:6], clbits[4:6])\n",
    "\n",
    "# bond type ClassicalRegister:\n",
    "bond_type_CR = ClassicalRegister(bits=clbits[4:6])\n",
    "\n",
    "# reset atom and bond\n",
    "\n",
    "\n",
    "simulator = Aer.get_backend('aer_simulator')\n",
    "results = execute(qc, backend=simulator, shots=1024*10).result()\n",
    "counts = results.get_counts(qc)\n",
    "print(counts)\n",
    "# qc.draw(\"mpl\", style=\"mpl\")\n",
    "qc.draw(\"text\")"
   ]
  },
  {
   "cell_type": "code",
   "execution_count": 26,
   "metadata": {},
   "outputs": [
    {
     "name": "stdout",
     "output_type": "stream",
     "text": [
      "ClassicalRegister(6, 'c18')\n",
      "ClassicalRegister(2, 'c19')\n"
     ]
    }
   ],
   "source": [
    "print(clbits)\n",
    "print(temp_CR)"
   ]
  },
  {
   "cell_type": "code",
   "execution_count": 19,
   "metadata": {},
   "outputs": [
    {
     "name": "stdout",
     "output_type": "stream",
     "text": [
      "Clbit(ClassicalRegister(6, 'c11'), 5)\n",
      "ClassicalRegister(6, 'c11')\n"
     ]
    }
   ],
   "source": [
    "c0,c1,c2,c3,c4,c5 = clbits\n",
    "print(c5)\n",
    "print(clbits)"
   ]
  }
 ],
 "metadata": {
  "kernelspec": {
   "display_name": "qmg",
   "language": "python",
   "name": "python3"
  },
  "language_info": {
   "codemirror_mode": {
    "name": "ipython",
    "version": 3
   },
   "file_extension": ".py",
   "mimetype": "text/x-python",
   "name": "python",
   "nbconvert_exporter": "python",
   "pygments_lexer": "ipython3",
   "version": "3.10.13"
  }
 },
 "nbformat": 4,
 "nbformat_minor": 2
}
