{
 "cells": [
  {
   "cell_type": "code",
   "execution_count": 29,
   "metadata": {},
   "outputs": [
    {
     "data": {
      "text/html": [
       "<div>\n",
       "<style scoped>\n",
       "    .dataframe tbody tr th:only-of-type {\n",
       "        vertical-align: middle;\n",
       "    }\n",
       "\n",
       "    .dataframe tbody tr th {\n",
       "        vertical-align: top;\n",
       "    }\n",
       "\n",
       "    .dataframe thead th {\n",
       "        text-align: right;\n",
       "    }\n",
       "</style>\n",
       "<table border=\"1\" class=\"dataframe\">\n",
       "  <thead>\n",
       "    <tr style=\"text-align: right;\">\n",
       "      <th></th>\n",
       "      <th>decimal_index</th>\n",
       "      <th>smiles</th>\n",
       "    </tr>\n",
       "  </thead>\n",
       "  <tbody>\n",
       "    <tr>\n",
       "      <th>0</th>\n",
       "      <td>64</td>\n",
       "      <td>C</td>\n",
       "    </tr>\n",
       "    <tr>\n",
       "      <th>1</th>\n",
       "      <td>128</td>\n",
       "      <td>O</td>\n",
       "    </tr>\n",
       "    <tr>\n",
       "      <th>2</th>\n",
       "      <td>192</td>\n",
       "      <td>N</td>\n",
       "    </tr>\n",
       "    <tr>\n",
       "      <th>3</th>\n",
       "      <td>256</td>\n",
       "      <td>C</td>\n",
       "    </tr>\n",
       "    <tr>\n",
       "      <th>4</th>\n",
       "      <td>321</td>\n",
       "      <td>CC</td>\n",
       "    </tr>\n",
       "  </tbody>\n",
       "</table>\n",
       "</div>"
      ],
      "text/plain": [
       "   decimal_index smiles\n",
       "0             64      C\n",
       "1            128      O\n",
       "2            192      N\n",
       "3            256      C\n",
       "4            321     CC"
      ]
     },
     "execution_count": 29,
     "metadata": {},
     "output_type": "execute_result"
    }
   ],
   "source": [
    "import matplotlib.pyplot as plt\n",
    "import pennylane as qml\n",
    "import sklearn\n",
    "from sklearn.metrics import mean_squared_error\n",
    "from pennylane import numpy as np\n",
    "from pennylane.templates import StronglyEntanglingLayers\n",
    "from pennylane.optimize import AdamOptimizer, GradientDescentOptimizer\n",
    "import torch.optim as optim\n",
    "import torch\n",
    "import torch.nn as nn\n",
    "\n",
    "import pandas as pd\n",
    "import sys\n",
    "sys.path.append(\"../\")\n",
    "from qmg.utils import MoleculeQuantumStateGenerator\n",
    "\n",
    "num_heavy_atom = 3\n",
    "data_path = f\"../dataset/chemical_space/effective_{num_heavy_atom}.csv\"\n",
    "data_generator = MoleculeQuantumStateGenerator(heavy_atom_size=num_heavy_atom, ncpus=16)\n",
    "data = pd.read_csv(data_path)\n",
    "data.head()\n",
    "\n"
   ]
  },
  {
   "cell_type": "code",
   "execution_count": 30,
   "metadata": {},
   "outputs": [],
   "source": [
    "# Quantum variables\n",
    "# n_a_qubits = 1  # Number of ancillary qubits / N_A\n",
    "n_qubits = data_generator.n_qubits # + n_a_qubits  # Total number of qubits / N\n",
    "q_depth = 3  # Depth of the parameterised quantum circuit / D\n",
    "n_generators = 1  # Number of subgenerators for the patch method / N_G\n",
    "\n",
    "dev = qml.device(\"lightning.qubit\", wires=n_qubits) # Quantum simulator\n",
    "device = torch.device(\"cuda:0\" if torch.cuda.is_available() else \"cpu\") # Enable CUDA device if available\n",
    "\n",
    "valid_state_mask = data_generator.generate_valid_mask(data)\n",
    "valid_state_mask = torch.Tensor(valid_state_mask).to(device)"
   ]
  },
  {
   "cell_type": "code",
   "execution_count": 31,
   "metadata": {},
   "outputs": [],
   "source": [
    "@qml.qnode(dev, diff_method=\"parameter-shift\")\n",
    "def quantum_circuit(noise, weights):\n",
    "    weights = weights.reshape(q_depth, n_qubits * 2)\n",
    "    # Initialise latent vectors\n",
    "    for i in range(n_qubits):\n",
    "        qml.RY(noise[i], wires=i)\n",
    "    # Repeated layer\n",
    "    for i in range(q_depth):\n",
    "        # Parameterised layer\n",
    "        for y in range(n_qubits):\n",
    "            qml.RY(weights[i][2*y], wires=y)\n",
    "            qml.RX(weights[i][2*y+1], wires=y)\n",
    "        # Control Z gates\n",
    "        for y in range(n_qubits - 1):\n",
    "            qml.CZ(wires=[y, y + 1])\n",
    "    return qml.probs(wires=list(range(n_qubits)))\n",
    "\n",
    "# def partial_measure(noise, weights):\n",
    "#     # Non-linear Transform\n",
    "#     probs = quantum_circuit(noise, weights)\n",
    "#     probsgiven0 = probs[: (2 ** (n_qubits - n_a_qubits))]\n",
    "#     probsgiven0 /= torch.sum(probsgiven0)\n",
    "\n",
    "#     # # Post-Processing\n",
    "#     # probsgiven = probsgiven0 / torch.max(probsgiven0)\n",
    "#     return probsgiven0\n",
    "\n",
    "class PatchQuantumGenerator(nn.Module):\n",
    "    \"\"\"Quantum generator class for the patch method\"\"\"\n",
    "    def __init__(self, n_generators, q_delta=1):\n",
    "        \"\"\"\n",
    "        Args:\n",
    "            n_generators (int): Number of sub-generators to be used in the patch method.\n",
    "            q_delta (float, optional): Spread of the random distribution for parameter initialisation.\n",
    "        \"\"\"\n",
    "        super().__init__()\n",
    "        self.q_params = nn.ParameterList(\n",
    "            [\n",
    "                nn.Parameter(q_delta * torch.rand(q_depth * n_qubits * 2), requires_grad=True)\n",
    "                for _ in range(n_generators)\n",
    "            ]\n",
    "        )\n",
    "        self.n_generators = n_generators\n",
    "\n",
    "    def forward(self, x):\n",
    "        # Size of each sub-generator output\n",
    "        patch_size = 2 ** n_qubits # 2 ** (n_qubits - n_a_qubits)\n",
    "        # Create a Tensor to 'catch' a batch of images from the for loop. x.size(0) is the batch size.\n",
    "        outputs = torch.Tensor(x.size(0), 0).to(device)\n",
    "        # Iterate over all sub-generators\n",
    "        for params in self.q_params:\n",
    "            # Create a Tensor to 'catch' a batch of the patches from a single sub-generator\n",
    "            patches = torch.Tensor(0, patch_size).to(device)\n",
    "            for elem in x:\n",
    "                q_out = quantum_circuit(elem, params).float().unsqueeze(0) # partial_measure\n",
    "                patches = torch.cat((patches, q_out))\n",
    "            # Each batch of patches is concatenated with each other to create a batch of images\n",
    "            outputs = torch.cat((outputs, patches), 1)\n",
    "\n",
    "        return outputs"
   ]
  },
  {
   "cell_type": "code",
   "execution_count": 32,
   "metadata": {},
   "outputs": [
    {
     "name": "stdout",
     "output_type": "stream",
     "text": [
      "torch.Size([8, 12])\n",
      "PatchQuantumGenerator(\n",
      "  (q_params): ParameterList(  (0): Parameter containing: [torch.float32 of size 72 (cuda:0)])\n",
      ")\n",
      "torch.Size([8, 4096])\n"
     ]
    }
   ],
   "source": [
    "noise = torch.rand(8, n_qubits, device=device) * np.pi / 2\n",
    "print(noise.shape)\n",
    "generator = PatchQuantumGenerator(n_generators).to(device)\n",
    "print(generator)\n",
    "\n",
    "output = generator(noise)\n",
    "print(output.shape)"
   ]
  },
  {
   "cell_type": "code",
   "execution_count": 55,
   "metadata": {},
   "outputs": [],
   "source": [
    "class valid_state_loss(nn.Module):\n",
    "    def __init__(self, valid_state_mask: torch.tensor, reduction=\"mean\"):\n",
    "        \"\"\"\n",
    "        Parameters\n",
    "        ----------\n",
    "        valid_state_mask :  torch.tensor\n",
    "            binart tensor, 1 indicates valid quantum state, and 0 indicates invalid.\n",
    "        \"\"\"\n",
    "        super().__init__()\n",
    "        self.valid_state_mask = valid_state_mask\n",
    "        self.reduction = reduction\n",
    "\n",
    "    def forward(self, predictions):\n",
    "        loss = (predictions * self.valid_state_mask).sum(dim=1)\n",
    "        if self.reduction == \"mean\":\n",
    "            return torch.mean(-torch.log(loss))\n",
    "        elif self.reduction == \"sum\":\n",
    "            return torch.sum(-torch.log(loss))\n",
    "        else:\n",
    "            return -torch.log(loss)\n",
    "         "
   ]
  },
  {
   "cell_type": "code",
   "execution_count": 56,
   "metadata": {},
   "outputs": [
    {
     "name": "stdout",
     "output_type": "stream",
     "text": [
      "tensor([0.1144, 0.1479, 0.1051, 0.1186, 0.1017, 0.0984, 0.1050, 0.1003],\n",
      "       device='cuda:0', grad_fn=<SumBackward1>)\n",
      "tensor(2.2028, device='cuda:0', grad_fn=<MeanBackward0>)\n"
     ]
    }
   ],
   "source": [
    "a = output * valid_state_mask\n",
    "loss = a.sum(dim=1)\n",
    "print(loss)\n",
    "torch.mean(-torch.log(loss))\n",
    "\n",
    "criterion = valid_state_loss(valid_state_mask=valid_state_mask)\n",
    "loss = criterion(output)\n",
    "print(loss)"
   ]
  },
  {
   "cell_type": "code",
   "execution_count": 60,
   "metadata": {},
   "outputs": [
    {
     "name": "stderr",
     "output_type": "stream",
     "text": [
      "  0%|          | 0/20 [00:00<?, ?it/s]"
     ]
    },
    {
     "name": "stdout",
     "output_type": "stream",
     "text": [
      "tensor(0.4530, device='cuda:0', grad_fn=<MeanBackward0>)\n"
     ]
    },
    {
     "name": "stderr",
     "output_type": "stream",
     "text": [
      "  5%|▌         | 1/20 [01:28<28:03, 88.59s/it]"
     ]
    },
    {
     "name": "stdout",
     "output_type": "stream",
     "text": [
      "tensor(0.3980, device='cuda:0', grad_fn=<MeanBackward0>)\n"
     ]
    },
    {
     "name": "stderr",
     "output_type": "stream",
     "text": [
      " 10%|█         | 2/20 [03:07<28:24, 94.68s/it]"
     ]
    },
    {
     "name": "stdout",
     "output_type": "stream",
     "text": [
      "tensor(0.3930, device='cuda:0', grad_fn=<MeanBackward0>)\n"
     ]
    },
    {
     "name": "stderr",
     "output_type": "stream",
     "text": [
      " 15%|█▌        | 3/20 [04:47<27:29, 97.05s/it]"
     ]
    },
    {
     "name": "stdout",
     "output_type": "stream",
     "text": [
      "tensor(0.3496, device='cuda:0', grad_fn=<MeanBackward0>)\n"
     ]
    },
    {
     "name": "stderr",
     "output_type": "stream",
     "text": [
      " 20%|██        | 4/20 [06:34<26:55, 100.98s/it]"
     ]
    },
    {
     "name": "stdout",
     "output_type": "stream",
     "text": [
      "tensor(0.3150, device='cuda:0', grad_fn=<MeanBackward0>)\n"
     ]
    },
    {
     "name": "stderr",
     "output_type": "stream",
     "text": [
      " 25%|██▌       | 5/20 [08:04<24:15, 97.01s/it] "
     ]
    },
    {
     "name": "stdout",
     "output_type": "stream",
     "text": [
      "tensor(0.3125, device='cuda:0', grad_fn=<MeanBackward0>)\n"
     ]
    },
    {
     "name": "stderr",
     "output_type": "stream",
     "text": [
      " 30%|███       | 6/20 [09:37<22:21, 95.83s/it]"
     ]
    },
    {
     "name": "stdout",
     "output_type": "stream",
     "text": [
      "tensor(0.2947, device='cuda:0', grad_fn=<MeanBackward0>)\n"
     ]
    },
    {
     "name": "stderr",
     "output_type": "stream",
     "text": [
      " 35%|███▌      | 7/20 [10:59<19:45, 91.22s/it]"
     ]
    },
    {
     "name": "stdout",
     "output_type": "stream",
     "text": [
      "tensor(0.3055, device='cuda:0', grad_fn=<MeanBackward0>)\n"
     ]
    },
    {
     "name": "stderr",
     "output_type": "stream",
     "text": [
      " 40%|████      | 8/20 [12:27<18:02, 90.18s/it]"
     ]
    },
    {
     "name": "stdout",
     "output_type": "stream",
     "text": [
      "tensor(0.2819, device='cuda:0', grad_fn=<MeanBackward0>)\n"
     ]
    },
    {
     "name": "stderr",
     "output_type": "stream",
     "text": [
      " 45%|████▌     | 9/20 [13:54<16:22, 89.30s/it]"
     ]
    },
    {
     "name": "stdout",
     "output_type": "stream",
     "text": [
      "tensor(0.2805, device='cuda:0', grad_fn=<MeanBackward0>)\n"
     ]
    },
    {
     "name": "stderr",
     "output_type": "stream",
     "text": [
      " 50%|█████     | 10/20 [15:23<14:49, 88.97s/it]"
     ]
    },
    {
     "name": "stdout",
     "output_type": "stream",
     "text": [
      "tensor(0.3071, device='cuda:0', grad_fn=<MeanBackward0>)\n"
     ]
    },
    {
     "name": "stderr",
     "output_type": "stream",
     "text": [
      " 55%|█████▌    | 11/20 [16:50<13:16, 88.55s/it]"
     ]
    },
    {
     "name": "stdout",
     "output_type": "stream",
     "text": [
      "tensor(0.3117, device='cuda:0', grad_fn=<MeanBackward0>)\n"
     ]
    },
    {
     "name": "stderr",
     "output_type": "stream",
     "text": [
      " 60%|██████    | 12/20 [18:19<11:49, 88.64s/it]"
     ]
    },
    {
     "name": "stdout",
     "output_type": "stream",
     "text": [
      "tensor(0.2576, device='cuda:0', grad_fn=<MeanBackward0>)\n"
     ]
    },
    {
     "name": "stderr",
     "output_type": "stream",
     "text": [
      " 65%|██████▌   | 13/20 [19:43<10:11, 87.33s/it]"
     ]
    },
    {
     "name": "stdout",
     "output_type": "stream",
     "text": [
      "tensor(0.2480, device='cuda:0', grad_fn=<MeanBackward0>)\n"
     ]
    },
    {
     "name": "stderr",
     "output_type": "stream",
     "text": [
      " 70%|███████   | 14/20 [21:10<08:42, 87.12s/it]"
     ]
    },
    {
     "name": "stdout",
     "output_type": "stream",
     "text": [
      "tensor(0.2489, device='cuda:0', grad_fn=<MeanBackward0>)\n"
     ]
    },
    {
     "name": "stderr",
     "output_type": "stream",
     "text": [
      " 75%|███████▌  | 15/20 [22:34<07:10, 86.13s/it]"
     ]
    },
    {
     "name": "stdout",
     "output_type": "stream",
     "text": [
      "tensor(0.2353, device='cuda:0', grad_fn=<MeanBackward0>)\n"
     ]
    },
    {
     "name": "stderr",
     "output_type": "stream",
     "text": [
      " 80%|████████  | 16/20 [23:58<05:42, 85.51s/it]"
     ]
    },
    {
     "name": "stdout",
     "output_type": "stream",
     "text": [
      "tensor(0.2346, device='cuda:0', grad_fn=<MeanBackward0>)\n"
     ]
    },
    {
     "name": "stderr",
     "output_type": "stream",
     "text": [
      " 85%|████████▌ | 17/20 [25:19<04:12, 84.25s/it]"
     ]
    },
    {
     "name": "stdout",
     "output_type": "stream",
     "text": [
      "tensor(0.2262, device='cuda:0', grad_fn=<MeanBackward0>)\n"
     ]
    },
    {
     "name": "stderr",
     "output_type": "stream",
     "text": [
      " 90%|█████████ | 18/20 [26:44<02:48, 84.42s/it]"
     ]
    },
    {
     "name": "stdout",
     "output_type": "stream",
     "text": [
      "tensor(0.1941, device='cuda:0', grad_fn=<MeanBackward0>)\n"
     ]
    },
    {
     "name": "stderr",
     "output_type": "stream",
     "text": [
      " 95%|█████████▌| 19/20 [28:05<01:23, 83.22s/it]"
     ]
    },
    {
     "name": "stdout",
     "output_type": "stream",
     "text": [
      "tensor(0.2039, device='cuda:0', grad_fn=<MeanBackward0>)\n"
     ]
    },
    {
     "name": "stderr",
     "output_type": "stream",
     "text": [
      "100%|██████████| 20/20 [29:28<00:00, 88.44s/it]\n"
     ]
    }
   ],
   "source": [
    "from tqdm import tqdm\n",
    "\n",
    "batch_size = 32\n",
    "opt = optim.Adam(generator.parameters(), lr=0.1)\n",
    "loss_history = []\n",
    "\n",
    "steps = 20\n",
    "for i in tqdm(range(steps)):\n",
    "    # Noise follwing a uniform distribution in range [0,pi/2)\n",
    "    noise = torch.rand(batch_size, n_qubits, device=device) * np.pi / 2\n",
    "    outputs = generator(noise)\n",
    "    loss = criterion(outputs)\n",
    "    print(loss)\n",
    "    loss_history.append(loss.detach().cpu())\n",
    "        \n",
    "    opt.zero_grad()\n",
    "    loss.backward()\n",
    "    opt.step()"
   ]
  },
  {
   "cell_type": "code",
   "execution_count": 36,
   "metadata": {},
   "outputs": [
    {
     "data": {
      "image/png": "[encoded data removed]",
      "text/plain": [
       "<Figure size 500x500 with 1 Axes>"
      ]
     },
     "metadata": {},
     "output_type": "display_data"
    }
   ],
   "source": [
    "plt.figure(figsize=(5, 5))\n",
    "\n",
    "plt.plot(loss_history, label=f'Train loss (batch size={batch_size})')\n",
    "plt.xlabel('Steps')\n",
    "plt.ylabel('Loss')\n",
    "plt.legend()\n",
    "\n",
    "plt.tight_layout()\n",
    "plt.show()"
   ]
  },
  {
   "cell_type": "markdown",
   "metadata": {},
   "source": [
    "## TODO: write function for random smaple molecule SMILES."
   ]
  },
  {
   "cell_type": "code",
   "execution_count": 73,
   "metadata": {},
   "outputs": [
    {
     "data": {
      "text/plain": [
       "ParameterList(  (0): Parameter containing: [torch.float32 of size 72 (cuda:0)])"
      ]
     },
     "execution_count": 73,
     "metadata": {},
     "output_type": "execute_result"
    }
   ],
   "source": [
    "\n",
    "# def random_sample(generator, num_molecules, data_generator):\n",
    "generator.q_params\n",
    "    "
   ]
  },
  {
   "cell_type": "code",
   "execution_count": 74,
   "metadata": {},
   "outputs": [
    {
     "name": "stdout",
     "output_type": "stream",
     "text": [
      "q_params.0 tensor([ 7.8690e-01,  3.7857e-01,  2.9461e-01, -9.9959e-01,  7.6021e-01,\n",
      "         9.9307e-01, -8.5629e-01, -3.2615e-02, -1.0256e+00, -6.7717e-02,\n",
      "         1.0125e-01,  4.0023e-01,  7.3118e-01,  1.5997e+00, -7.7143e-01,\n",
      "         2.4421e-02,  5.1260e-01,  1.1071e+00,  4.8388e-01,  1.0515e+00,\n",
      "         7.8244e-01,  3.0932e+00,  8.7235e-01,  1.0419e+00,  3.2981e-02,\n",
      "         9.2743e-01,  2.3350e-02, -6.7760e-02, -9.6372e-02,  3.6243e-02,\n",
      "        -9.2869e-02, -8.3279e-03,  2.4995e-02, -3.3097e-03,  3.0189e-03,\n",
      "        -6.2288e-02,  8.2185e-01,  1.7190e+00,  7.2444e-02,  8.3306e-03,\n",
      "         1.0947e+00,  1.7810e+00,  1.9653e-02, -7.0170e-03,  1.9889e-02,\n",
      "        -1.3569e+00,  6.9231e-02,  1.4728e-02,  1.5553e+00, -6.4238e-02,\n",
      "        -6.1842e-01,  1.1782e+00,  7.9958e-01,  1.5189e+00,  7.6067e-02,\n",
      "         6.5739e-02,  1.2665e-01,  2.0534e-02, -5.6028e-02,  1.0534e+00,\n",
      "         1.6208e+00, -7.7653e-01,  7.9343e-03,  2.6300e-02,  9.6260e-01,\n",
      "        -1.2048e+00,  1.3981e-01,  1.4427e-01,  1.5923e+00, -3.8336e-02,\n",
      "        -1.0097e-01,  1.3676e+00], device='cuda:0')\n"
     ]
    }
   ],
   "source": [
    "# def random_sample(generator, num_molecules, data_generator):\n",
    "\n",
    "state_dict = generator.state_dict()\n",
    "for name, param in state_dict.items():\n",
    "    print(name, param.data)\n",
    "weights = param.data"
   ]
  },
  {
   "cell_type": "code",
   "execution_count": 149,
   "metadata": {},
   "outputs": [
    {
     "name": "stdout",
     "output_type": "stream",
     "text": [
      "None\n",
      "None\n",
      "None\n",
      "None\n",
      "None\n",
      "None\n",
      "None\n",
      "None\n",
      "None\n",
      "None\n",
      "None\n",
      "None\n",
      "None\n",
      "None\n",
      "None\n",
      "None\n",
      "None\n",
      "None\n",
      "None\n",
      "None\n"
     ]
    }
   ],
   "source": [
    "dev = qml.device(\"default.qubit\", wires=n_qubits, shots=20)\n",
    "@qml.qnode(dev)\n",
    "def quantum_circuit_sample(noise, weights):\n",
    "    weights = weights.reshape(q_depth, n_qubits * 2)\n",
    "    # Initialise latent vectors\n",
    "    for i in range(n_qubits):\n",
    "        qml.RY(noise[i], wires=i)\n",
    "    # Repeated layer\n",
    "    for i in range(q_depth):\n",
    "        # Parameterised layer\n",
    "        for y in range(n_qubits):\n",
    "            qml.RY(weights[i][2*y], wires=y)\n",
    "            qml.RX(weights[i][2*y+1], wires=y)\n",
    "        # Control Z gates\n",
    "        for y in range(n_qubits - 1):\n",
    "            qml.CZ(wires=[y, y + 1])\n",
    "    return qml.sample()\n",
    "\n",
    "def binary_tensor_to_string(tensor):\n",
    "    if not torch.all((tensor == 0) | (tensor == 1)):\n",
    "        raise ValueError(\"The tensor must be binary (contain only 0 and 1).\")\n",
    "    flat_tensor = tensor.view(-1).tolist()\n",
    "    binary_string = ''.join(map(str, flat_tensor))\n",
    "    return binary_string\n",
    "\n",
    "noise = torch.rand(n_qubits, device=device) * np.pi / 2\n",
    "sampled_quantum_states = quantum_circuit_sample(noise, weights)\n",
    "sampled_quantum_states = [binary_tensor_to_string(qs) for qs in sampled_quantum_states]\n",
    "print(sampled_quantum_states)\n",
    "\n",
    "for q in sampled_quantum_states:\n",
    "    print(data_generator.QuantumStateToSmiles(q))"
   ]
  },
  {
   "cell_type": "code",
   "execution_count": 78,
   "metadata": {},
   "outputs": [
    {
     "name": "stdout",
     "output_type": "stream",
     "text": [
      "None\n",
      "None\n",
      "None\n",
      "None\n",
      "None\n",
      "None\n",
      "None\n",
      "None\n",
      "None\n",
      "None\n",
      "None\n",
      "None\n",
      "None\n",
      "None\n",
      "None\n",
      "None\n",
      "None\n",
      "None\n",
      "None\n",
      "None\n"
     ]
    }
   ],
   "source": [
    "from rdkit import RDLogger\n",
    "RDLogger.DisableLog('rdApp.*')\n",
    "\n"
   ]
  }
 ],
 "metadata": {
  "kernelspec": {
   "display_name": "qmg",
   "language": "python",
   "name": "python3"
  },
  "language_info": {
   "codemirror_mode": {
    "name": "ipython",
    "version": 3
   },
   "file_extension": ".py",
   "mimetype": "text/x-python",
   "name": "python",
   "nbconvert_exporter": "python",
   "pygments_lexer": "ipython3",
   "version": "3.10.13"
  }
 },
 "nbformat": 4,
 "nbformat_minor": 2
}
