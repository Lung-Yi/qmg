{
 "cells": [
  {
   "cell_type": "code",
   "execution_count": 1,
   "metadata": {},
   "outputs": [],
   "source": [
    "import sys\n",
    "sys.path.append(\"../\")\n",
    "from qmg.generator import MoleculeGenerator\n",
    "from qmg.utils import ConditionalWeightsGenerator\n",
    "from rdkit import RDLogger\n",
    "import numpy as np\n",
    "RDLogger.DisableLog('rdApp.*')\n",
    "\n",
    "# parameter settings for epoxide derivatives\n",
    "num_heavy_atom = 6\n",
    "random_seed = 3\n",
    "smarts = \"[O:1]1[C:2][C:3]1\"\n",
    "disable_connectivity_position = [1]\n",
    "num_sample = 10000\n",
    "\n",
    "cwg = ConditionalWeightsGenerator(num_heavy_atom, smarts=smarts, disable_connectivity_position=disable_connectivity_position)\n",
    "random_weight_vector = cwg.generate_conditional_random_weights(random_seed)\n",
    "# mg = MoleculeGenerator(num_heavy_atom, all_weight_vector=random_weight_vector)\n",
    "# smiles_dict, validity, diversity = mg.sample_molecule(num_sample)\n",
    "# print(smiles_dict)\n",
    "# print(\"Validity: {:.2f}%\".format(validity*100))\n",
    "# print(\"Diversity: {:.2f}%\".format(diversity*100))"
   ]
  },
  {
   "cell_type": "code",
   "execution_count": 2,
   "metadata": {},
   "outputs": [],
   "source": [
    "from rdkit import Chem\n",
    "from rdkit.Chem import Descriptors\n",
    "\n",
    "class FitnessCalculator():\n",
    "    def __init__(self, task, distribution_learning=True):\n",
    "        self.task = task\n",
    "        self.distribution_learning = distribution_learning\n",
    "\n",
    "    def calc_property(self, mol):\n",
    "        if self.task == \"qed\":\n",
    "            return Descriptors.qed(mol)\n",
    "\n",
    "    def calc_score(self, smiles_dict: dict):\n",
    "        total_count = 0\n",
    "        property_sum = 0\n",
    "        for smiles, count in smiles_dict.items():\n",
    "            total_count += count\n",
    "            mol = Chem.MolFromSmiles(str(smiles))\n",
    "            if mol == None:\n",
    "                continue\n",
    "            else:\n",
    "                property_sum += self.calc_property(mol) * count\n",
    "        return property_sum / total_count"
   ]
  },
  {
   "cell_type": "code",
   "execution_count": 3,
   "metadata": {},
   "outputs": [
    {
     "name": "stdout",
     "output_type": "stream",
     "text": [
      "[1. 0. 0. 0. 1. 0. 0. 1. 0. 1. 0. 1. 1. 0. 0. 0. 0. 0. 0. 0. 0. 0. 0. 0.\n",
      " 0. 0. 0. 0. 0. 0. 0. 0. 0. 0. 0. 0. 0. 0. 0. 0. 0. 0. 0. 0. 0. 0. 0. 0.\n",
      " 0. 0. 0. 0. 0. 0. 0. 0. 0. 0. 0. 0. 0. 0.] [1. 1. 1. 1. 1. 1. 1. 1. 1. 1. 1. 1. 1. 1. 1. 1. 1. 0. 0. 0. 1. 0. 0. 1.\n",
      " 1. 0. 0. 0. 0. 0. 0. 0. 1. 0. 0. 0. 1. 1. 0. 0. 0. 0. 0. 0. 0. 0. 0. 1.\n",
      " 0. 0. 0. 0. 1. 1. 0. 0. 0. 0. 0. 0. 0. 0.]\n",
      "[1.         0.         0.         0.         1.         0.\n",
      " 0.         1.         0.         1.         0.         1.\n",
      " 1.         0.         0.         0.         0.         0.86804531\n",
      " 0.52318121 0.74125186 0.         0.0301489  0.9698511  0.\n",
      " 0.         0.01550588 0.93276362 0.23637454 0.85941196 0.8788128\n",
      " 0.71412948 0.92109867 0.         0.31956348 0.05381312 0.62662339\n",
      " 0.         0.         0.06798443 0.60849347 0.48274007 0.71808093\n",
      " 0.31332415 0.6505131  0.50724298 0.38586626 0.35091049 0.\n",
      " 0.0758389  0.37553858 0.12362627 0.42499626 0.         0.\n",
      " 0.33563677 0.58154981 0.43031877 0.98231647 0.45234799 0.78455375\n",
      " 0.35690851 0.60556249]\n",
      "Number of flexible parameters: 36\n",
      "[0.86804531 0.52318121 0.74125186 0.0301489  0.9698511  0.01550588\n",
      " 0.93276362 0.23637454 0.85941196 0.8788128  0.71412948 0.92109867\n",
      " 0.31956348 0.05381312 0.62662339 0.06798443 0.60849347 0.48274007\n",
      " 0.71808093 0.31332415 0.6505131  0.50724298 0.38586626 0.35091049\n",
      " 0.0758389  0.37553858 0.12362627 0.42499626 0.33563677 0.58154981\n",
      " 0.43031877 0.98231647 0.45234799 0.78455375 0.35690851 0.60556249]\n",
      "[1.         0.         0.         0.         1.         0.\n",
      " 0.         1.         0.         1.         0.         1.\n",
      " 1.         0.         0.         0.         0.         0.85965076\n",
      " 0.13966657 0.178537   0.         0.26793775 0.37970606 0.\n",
      " 0.         0.13839166 0.58775937 0.56034311 0.00860236 0.45740702\n",
      " 0.11131542 0.62469375 0.         0.650813   0.81638465 0.90079368\n",
      " 0.         0.         0.52878815 0.89744882 0.24439425 0.42987456\n",
      " 0.82401606 0.52809851 0.01526001 0.15921581 0.49834313 0.\n",
      " 0.00125621 0.14518949 0.22135802 0.87251455 0.         0.\n",
      " 0.12249568 0.81713135 0.66355681 0.22249878 0.49620109 0.97592423\n",
      " 0.31157393 0.53505821]\n"
     ]
    }
   ],
   "source": [
    "number_flexible_parameters = len(random_weight_vector[cwg.parameters_indicator == 0.])\n",
    "print(cwg.parameters_value, cwg.parameters_indicator)\n",
    "print(random_weight_vector)\n",
    "print(\"Number of flexible parameters:\", number_flexible_parameters)\n",
    "print(random_weight_vector[cwg.parameters_indicator == 0.])\n",
    "random_weight_vector[cwg.parameters_indicator == 0.] = np.random.rand(len(random_weight_vector[cwg.parameters_indicator == 0.]))\n",
    "print(random_weight_vector)"
   ]
  },
  {
   "cell_type": "code",
   "execution_count": 4,
   "metadata": {},
   "outputs": [
    {
     "data": {
      "text/plain": [
       "array([1.        , 0.        , 0.        , 0.        , 1.        ,\n",
       "       0.        , 0.        , 1.        , 0.        , 1.        ,\n",
       "       0.        , 1.        , 1.        , 0.        , 0.        ,\n",
       "       0.        , 0.        , 0.83672073, 0.63030105, 0.69577839,\n",
       "       0.        , 0.61742114, 0.38257886, 0.        , 0.        ,\n",
       "       0.39585807, 0.85205052, 0.21935255, 0.91777708, 0.0557885 ,\n",
       "       0.35996734, 0.64697263, 0.        , 0.58117978, 0.0204442 ,\n",
       "       0.39837602, 0.        , 0.        , 0.49230033, 0.62946299,\n",
       "       0.11659652, 0.7094888 , 0.05122692, 0.87505799, 0.8101921 ,\n",
       "       0.24838461, 0.26833378, 0.        , 0.1226163 , 0.83008269,\n",
       "       0.02601546, 0.02128556, 0.        , 0.        , 0.1884343 ,\n",
       "       0.88476531, 0.38625137, 0.83823792, 0.0487141 , 0.5298295 ,\n",
       "       0.01978145, 0.82977909, 0.56474644, 0.70324672, 0.55436731,\n",
       "       0.        , 0.03592973, 0.36495139, 0.32615915, 0.18480118,\n",
       "       0.08815855, 0.        , 0.        , 0.04631438, 0.64192163,\n",
       "       0.00295997, 0.63726499, 0.46759332, 0.7395317 , 0.41257378,\n",
       "       0.82729375, 0.35669175, 0.93050861, 0.81942357, 0.7056651 ,\n",
       "       0.33563471, 0.        , 0.41402205, 0.21361651, 0.05936374,\n",
       "       0.08273269, 0.22048125, 0.00978377, 0.        , 0.        ,\n",
       "       0.46408038, 0.57633318, 0.42467999, 0.9606278 , 0.25212139,\n",
       "       0.65418448, 0.10291175, 0.53945067, 0.36369143, 0.68475285,\n",
       "       0.21279387, 0.91566366, 0.47543614, 0.2159675 , 0.33651431,\n",
       "       0.        , 0.00882583, 0.13530532, 0.14129578, 0.42829771,\n",
       "       0.17069689, 0.10154173, 0.01403674, 0.        , 0.        ,\n",
       "       0.46638614, 0.97075288, 0.11356899, 0.79737693, 0.22112456,\n",
       "       0.71936482, 0.32968516, 0.53713137, 0.4503772 , 0.75799639,\n",
       "       0.34046663, 0.51685648, 0.26100693, 0.90538575])"
      ]
     },
     "execution_count": 4,
     "metadata": {},
     "output_type": "execute_result"
    }
   ],
   "source": [
    "cwg.apply_chemistry_constraint(random_weight_vector)"
   ]
  },
  {
   "cell_type": "code",
   "execution_count": 8,
   "metadata": {},
   "outputs": [
    {
     "name": "stderr",
     "output_type": "stream",
     "text": [
      "[INFO 11-07 11:46:10] ax.service.ax_client: Starting optimization with verbose logging. To disable logging, set the `verbose_logging` argument to `False`. Note that float values in the logs are rounded to 6 decimal points.\n",
      "[WARNING 11-07 11:46:10] ax.service.ax_client: Random seed set to 42. Note that this setting only affects the Sobol quasi-random generator and BoTorch-powered Bayesian optimization models. For the latter models, setting random seed to the same number for two optimizations will make the generated trials similar, but not exactly the same, and over time the trials will diverge more.\n",
      "[INFO 11-07 11:46:10] ax.service.utils.instantiation: Due to non-specification, we will use the heuristic for selecting objective thresholds.\n",
      "[INFO 11-07 11:46:10] ax.service.utils.instantiation: Created search space: SearchSpace(parameters=[RangeParameter(name='x1', parameter_type=FLOAT, range=[0.0, 1.0]), RangeParameter(name='x2', parameter_type=FLOAT, range=[0.0, 1.0]), RangeParameter(name='x3', parameter_type=FLOAT, range=[0.0, 1.0]), RangeParameter(name='x4', parameter_type=FLOAT, range=[0.0, 1.0]), RangeParameter(name='x5', parameter_type=FLOAT, range=[0.0, 1.0]), RangeParameter(name='x6', parameter_type=FLOAT, range=[0.0, 1.0]), RangeParameter(name='x7', parameter_type=FLOAT, range=[0.0, 1.0]), RangeParameter(name='x8', parameter_type=FLOAT, range=[0.0, 1.0]), RangeParameter(name='x9', parameter_type=FLOAT, range=[0.0, 1.0]), RangeParameter(name='x10', parameter_type=FLOAT, range=[0.0, 1.0]), RangeParameter(name='x11', parameter_type=FLOAT, range=[0.0, 1.0]), RangeParameter(name='x12', parameter_type=FLOAT, range=[0.0, 1.0]), RangeParameter(name='x13', parameter_type=FLOAT, range=[0.0, 1.0]), RangeParameter(name='x14', parameter_type=FLOAT, range=[0.0, 1.0]), RangeParameter(name='x15', parameter_type=FLOAT, range=[0.0, 1.0]), RangeParameter(name='x16', parameter_type=FLOAT, range=[0.0, 1.0]), RangeParameter(name='x17', parameter_type=FLOAT, range=[0.0, 1.0]), RangeParameter(name='x18', parameter_type=FLOAT, range=[0.0, 1.0]), RangeParameter(name='x19', parameter_type=FLOAT, range=[0.0, 1.0]), RangeParameter(name='x20', parameter_type=FLOAT, range=[0.0, 1.0]), RangeParameter(name='x21', parameter_type=FLOAT, range=[0.0, 1.0]), RangeParameter(name='x22', parameter_type=FLOAT, range=[0.0, 1.0]), RangeParameter(name='x23', parameter_type=FLOAT, range=[0.0, 1.0]), RangeParameter(name='x24', parameter_type=FLOAT, range=[0.0, 1.0]), RangeParameter(name='x25', parameter_type=FLOAT, range=[0.0, 1.0]), RangeParameter(name='x26', parameter_type=FLOAT, range=[0.0, 1.0]), RangeParameter(name='x27', parameter_type=FLOAT, range=[0.0, 1.0]), RangeParameter(name='x28', parameter_type=FLOAT, range=[0.0, 1.0]), RangeParameter(name='x29', parameter_type=FLOAT, range=[0.0, 1.0]), RangeParameter(name='x30', parameter_type=FLOAT, range=[0.0, 1.0]), RangeParameter(name='x31', parameter_type=FLOAT, range=[0.0, 1.0]), RangeParameter(name='x32', parameter_type=FLOAT, range=[0.0, 1.0]), RangeParameter(name='x33', parameter_type=FLOAT, range=[0.0, 1.0]), RangeParameter(name='x34', parameter_type=FLOAT, range=[0.0, 1.0]), RangeParameter(name='x35', parameter_type=FLOAT, range=[0.0, 1.0]), RangeParameter(name='x36', parameter_type=FLOAT, range=[0.0, 1.0])], parameter_constraints=[]).\n",
      "[INFO 11-07 11:46:10] ax.core.experiment: The is_test flag has been set to True. This flag is meant purely for development and integration testing purposes. If you are running a live experiment, please set this flag to False\n"
     ]
    },
    {
     "name": "stdout",
     "output_type": "stream",
     "text": [
      "Using cuda: True\n"
     ]
    }
   ],
   "source": [
    "from ax.service.ax_client import AxClient\n",
    "from ax.service.utils.instantiation import ObjectiveProperties\n",
    "from ax.modelbridge.generation_strategy import GenerationStrategy, GenerationStep\n",
    "from ax.modelbridge.registry import Models\n",
    "from ax import SearchSpace, ParameterType, RangeParameter\n",
    "from ax.core.observation import ObservationFeatures\n",
    "from ax.core.arm import Arm\n",
    "import torch\n",
    "torch.set_default_dtype(torch.float64)\n",
    "fc = FitnessCalculator(task=\"qed\")\n",
    "\n",
    "######################## Generation Strategy ###################################\n",
    "model_dict = {'MOO': Models.MOO, 'GPEI': Models.GPEI, 'SAASBO': Models.SAASBO,}\n",
    "gs = GenerationStrategy(\n",
    "    steps=[\n",
    "#         only use this when there is no initial data\n",
    "        GenerationStep(\n",
    "        model=Models.SOBOL, \n",
    "        num_trials=5,\n",
    "        max_parallelism=1,\n",
    "        model_kwargs={\"seed\": 42}, \n",
    "        ),\n",
    "        GenerationStep(\n",
    "            model=model_dict['GPEI'],\n",
    "            num_trials=-1,  # No limitation on how many trials should be produced from this step\n",
    "            max_parallelism=1,  # Parallelism limit for this step, often lower than for Sobol\n",
    "            model_kwargs = {\"torch_dtype\": torch.float64, \"torch_device\": torch.device(\"cuda\" if torch.cuda.is_available() else \"cpu\"), \n",
    "                            },\n",
    "            # !!!!!!!!!!!!!!!!!! Please use the above one for real suggestion, the below is jut for test\n",
    "            # Make sure using the a number which can be divided by 16, or manually specify \"thinning\": 16 or other values\n",
    "            #model_kwargs = {\"num_samples\": 16, \"warmup_steps\": 32, \"gp_kernel\": \"matern\"},\n",
    "#             model_gen_kwargs = {\"fixed_features\": fixed_features, }\n",
    "            # \"matern\" is better for zigzag function than 'rbf'\n",
    "        ),\n",
    "    ]\n",
    ")\n",
    "ax_client = AxClient(random_seed = 42, generation_strategy = gs) # set the random seed for BO for reproducibility\n",
    "#####################################################################################\n",
    "# ax_client = AxClient()\n",
    "\n",
    "ax_client.create_experiment(\n",
    "    name=\"moo_experiment\",\n",
    "    parameters=[\n",
    "        {\n",
    "            \"name\": f\"x{i+1}\",\n",
    "            \"type\": \"range\",\n",
    "            \"bounds\": [0.0, 1.0],\n",
    "            \"value_type\": \"float\"\n",
    "        }\n",
    "        for i in range(number_flexible_parameters)\n",
    "    ],\n",
    "    objectives={\n",
    "        \"qed\": ObjectiveProperties(minimize=False,),\n",
    "        \"uniqueness\": ObjectiveProperties(minimize=False,),\n",
    "    },\n",
    "    overwrite_existing_experiment=True,\n",
    "    is_test=True,\n",
    ")\n",
    "\n",
    "def evaluate(parameters):\n",
    "    partial_inputs = np.array([parameters.get(f\"x{i+1}\") for i in range(number_flexible_parameters)])\n",
    "    inputs = random_weight_vector\n",
    "    inputs[cwg.parameters_indicator == 0.] = partial_inputs\n",
    "    inputs = cwg.apply_chemistry_constraint(inputs)\n",
    "    mg = MoleculeGenerator(num_heavy_atom, all_weight_vector=inputs)\n",
    "    smiles_dict, validity, diversity = mg.sample_molecule(num_sample)\n",
    "    # In our case, standard error is 0, since we are computing a synthetic function.\n",
    "    # Set standard error to None if the noise level is unknown.\n",
    "    return {\"qed\": (fc.calc_score(smiles_dict), None), \"uniqueness\": (diversity, None)}\n",
    "\n",
    "print(\"Using cuda:\", torch.cuda.is_available())"
   ]
  },
  {
   "cell_type": "code",
   "execution_count": 9,
   "metadata": {},
   "outputs": [
    {
     "name": "stderr",
     "output_type": "stream",
     "text": [
      "/beegfs/home/lungyi45/.conda/envs/qmg-n/lib/python3.12/site-packages/ax/modelbridge/cross_validation.py:463: UserWarning: Encountered exception in computing model fit quality: RandomModelBridge does not support prediction.\n",
      "  warn(\"Encountered exception in computing model fit quality: \" + str(e))\n",
      "[INFO 11-07 11:46:13] ax.service.ax_client: Generated new trial 0 with parameters {'x1': 0.997513, 'x2': 0.104366, 'x3': 0.822979, 'x4': 0.419432, 'x5': 0.528322, 'x6': 0.056241, 'x7': 0.455292, 'x8': 0.749203, 'x9': 0.221074, 'x10': 0.617698, 'x11': 0.810095, 'x12': 0.212291, 'x13': 0.038436, 'x14': 0.881824, 'x15': 0.65063, 'x16': 0.666585, 'x17': 0.820932, 'x18': 0.596579, 'x19': 0.236308, 'x20': 0.806974, 'x21': 0.167144, 'x22': 0.767845, 'x23': 0.603483, 'x24': 0.932567, 'x25': 0.537682, 'x26': 0.398814, 'x27': 0.361339, 'x28': 0.289725, 'x29': 0.653567, 'x30': 0.234766, 'x31': 0.37597, 'x32': 0.322637, 'x33': 0.992174, 'x34': 0.348451, 'x35': 0.017679, 'x36': 0.318375} using model Sobol.\n"
     ]
    },
    {
     "name": "stderr",
     "output_type": "stream",
     "text": [
      "[INFO 11-07 11:46:20] ax.service.ax_client: Completed trial 0 with data: {'qed': (0.163656, None), 'uniqueness': (0.0319, None)}.\n",
      "/beegfs/home/lungyi45/.conda/envs/qmg-n/lib/python3.12/site-packages/ax/modelbridge/cross_validation.py:463: UserWarning: Encountered exception in computing model fit quality: RandomModelBridge does not support prediction.\n",
      "  warn(\"Encountered exception in computing model fit quality: \" + str(e))\n",
      "[INFO 11-07 11:46:20] ax.service.ax_client: Generated new trial 1 with parameters {'x1': 0.311222, 'x2': 0.605627, 'x3': 0.035712, 'x4': 0.587921, 'x5': 0.078745, 'x6': 0.899979, 'x7': 0.572131, 'x8': 0.001172, 'x9': 0.951846, 'x10': 6.9e-05, 'x11': 0.124831, 'x12': 0.652968, 'x13': 0.73864, 'x14': 0.302888, 'x15': 0.143091, 'x16': 0.368258, 'x17': 0.41325, 'x18': 0.379579, 'x19': 0.505608, 'x20': 0.182553, 'x21': 0.603845, 'x22': 0.495083, 'x23': 0.478577, 'x24': 0.255406, 'x25': 0.49407, 'x26': 0.82005, 'x27': 0.645375, 'x28': 0.612417, 'x29': 0.257426, 'x30': 0.644416, 'x31': 0.848346, 'x32': 0.746873, 'x33': 0.146935, 'x34': 0.964028, 'x35': 0.683663, 'x36': 0.930639} using model Sobol.\n",
      "[INFO 11-07 11:46:23] ax.service.ax_client: Completed trial 1 with data: {'qed': (0.348589, None), 'uniqueness': (0.006, None)}.\n",
      "/beegfs/home/lungyi45/.conda/envs/qmg-n/lib/python3.12/site-packages/ax/modelbridge/cross_validation.py:463: UserWarning: Encountered exception in computing model fit quality: RandomModelBridge does not support prediction.\n",
      "  warn(\"Encountered exception in computing model fit quality: \" + str(e))\n",
      "[INFO 11-07 11:46:23] ax.service.ax_client: Generated new trial 2 with parameters {'x1': 0.014953, 'x2': 0.35401, 'x3': 0.554523, 'x4': 0.160723, 'x5': 0.404095, 'x6': 0.581929, 'x7': 0.042114, 'x8': 0.492718, 'x9': 0.630148, 'x10': 0.43831, 'x11': 0.350315, 'x12': 0.827958, 'x13': 0.484033, 'x14': 0.594232, 'x15': 0.449907, 'x16': 0.816458, 'x17': 0.042159, 'x18': 0.842282, 'x19': 0.881159, 'x20': 0.512417, 'x21': 0.439919, 'x22': 0.222256, 'x23': 0.87826, 'x24': 0.567615, 'x25': 0.921634, 'x26': 0.725906, 'x27': 0.17486, 'x28': 0.87341, 'x29': 0.96795, 'x30': 0.908836, 'x31': 0.202808, 'x32': 0.239301, 'x33': 0.693161, 'x34': 0.532883, 'x35': 0.758959, 'x36': 0.615213} using model Sobol.\n",
      "[INFO 11-07 11:46:26] ax.service.ax_client: Completed trial 2 with data: {'qed': (0.337475, None), 'uniqueness': (0.0195, None)}.\n",
      "/beegfs/home/lungyi45/.conda/envs/qmg-n/lib/python3.12/site-packages/ax/modelbridge/cross_validation.py:463: UserWarning: Encountered exception in computing model fit quality: RandomModelBridge does not support prediction.\n",
      "  warn(\"Encountered exception in computing model fit quality: \" + str(e))\n",
      "[INFO 11-07 11:46:26] ax.service.ax_client: Generated new trial 3 with parameters {'x1': 0.699748, 'x2': 0.855926, 'x3': 0.337889, 'x4': 0.831959, 'x5': 0.953529, 'x6': 0.488184, 'x7': 0.922834, 'x8': 0.756436, 'x9': 0.415605, 'x10': 0.929946, 'x11': 0.53602, 'x12': 0.259847, 'x13': 0.809218, 'x14': 0.203776, 'x15': 0.941455, 'x16': 0.147951, 'x17': 0.692026, 'x18': 0.179848, 'x19': 0.36137, 'x20': 0.386777, 'x21': 0.752975, 'x22': 0.510887, 'x23': 0.000667, 'x24': 0.244412, 'x25': 0.11009, 'x26': 0.055215, 'x27': 0.833806, 'x28': 0.037048, 'x29': 0.068315, 'x30': 0.438609, 'x31': 0.542877, 'x32': 0.816064, 'x33': 0.410425, 'x34': 0.154626, 'x35': 0.413225, 'x36': 0.135769} using model Sobol.\n",
      "[INFO 11-07 11:46:32] ax.service.ax_client: Completed trial 3 with data: {'qed': (0.216229, None), 'uniqueness': (0.0204, None)}.\n",
      "/beegfs/home/lungyi45/.conda/envs/qmg-n/lib/python3.12/site-packages/ax/modelbridge/cross_validation.py:463: UserWarning: Encountered exception in computing model fit quality: RandomModelBridge does not support prediction.\n",
      "  warn(\"Encountered exception in computing model fit quality: \" + str(e))\n",
      "[INFO 11-07 11:46:32] ax.service.ax_client: Generated new trial 4 with parameters {'x1': 0.602192, 'x2': 0.433671, 'x3': 0.140529, 'x4': 0.989813, 'x5': 0.763721, 'x6': 0.148528, 'x7': 0.201065, 'x8': 0.293101, 'x9': 0.529557, 'x10': 0.141757, 'x11': 0.389903, 'x12': 0.434244, 'x13': 0.369622, 'x14': 0.415097, 'x15': 0.765747, 'x16': 0.030691, 'x17': 0.624768, 'x18': 0.026945, 'x19': 0.854632, 'x20': 0.967775, 'x21': 0.122975, 'x22': 0.913576, 'x23': 0.838211, 'x24': 0.072968, 'x25': 0.151279, 'x26': 0.593645, 'x27': 0.091831, 'x28': 0.656296, 'x29': 0.563061, 'x30': 0.076186, 'x31': 0.122911, 'x32': 0.396054, 'x33': 0.348784, 'x34': 0.688126, 'x35': 0.516998, 'x36': 0.839879} using model Sobol.\n",
      "[INFO 11-07 11:46:36] ax.service.ax_client: Completed trial 4 with data: {'qed': (0.332361, None), 'uniqueness': (0.0224, None)}.\n",
      "[INFO 11-07 11:46:38] ax.service.ax_client: Generated new trial 5 with parameters {'x1': 0.203743, 'x2': 0.171656, 'x3': 0.435315, 'x4': 0.539585, 'x5': 0.693336, 'x6': 0.0, 'x7': 0.078247, 'x8': 0.4179, 'x9': 0.393865, 'x10': 0.168525, 'x11': 0.423449, 'x12': 0.619567, 'x13': 0.053684, 'x14': 0.694679, 'x15': 0.757995, 'x16': 0.494938, 'x17': 0.377311, 'x18': 0.479165, 'x19': 1.0, 'x20': 1.0, 'x21': 0.058878, 'x22': 0.710295, 'x23': 0.925138, 'x24': 0.303085, 'x25': 0.542863, 'x26': 0.687906, 'x27': 0.050338, 'x28': 0.914471, 'x29': 0.88802, 'x30': 0.272729, 'x31': 0.034096, 'x32': 0.164382, 'x33': 0.732097, 'x34': 0.597126, 'x35': 0.737156, 'x36': 0.919244} using model GPEI.\n",
      "[INFO 11-07 11:46:41] ax.service.ax_client: Completed trial 5 with data: {'qed': (0.343462, None), 'uniqueness': (0.0162, None)}.\n",
      "[INFO 11-07 11:46:43] ax.service.ax_client: Generated new trial 6 with parameters {'x1': 1.0, 'x2': 0.555308, 'x3': 0.217797, 'x4': 1.0, 'x5': 0.931392, 'x6': 0.449181, 'x7': 0.0, 'x8': 0.231691, 'x9': 0.742345, 'x10': 0.136401, 'x11': 0.215742, 'x12': 0.743608, 'x13': 0.928966, 'x14': 0.351214, 'x15': 0.662123, 'x16': 0.0, 'x17': 0.275169, 'x18': 0.0, 'x19': 0.994076, 'x20': 1.0, 'x21': 0.258222, 'x22': 0.653878, 'x23': 1.0, 'x24': 0.232491, 'x25': 0.231362, 'x26': 0.811879, 'x27': 0.0, 'x28': 0.912465, 'x29': 0.950895, 'x30': 0.335003, 'x31': 0.0, 'x32': 0.277798, 'x33': 0.297548, 'x34': 0.759137, 'x35': 0.790442, 'x36': 0.896191} using model GPEI.\n",
      "[INFO 11-07 11:46:47] ax.service.ax_client: Completed trial 6 with data: {'qed': (0.349643, None), 'uniqueness': (0.0217, None)}.\n",
      "[INFO 11-07 11:46:50] ax.service.ax_client: Generated new trial 7 with parameters {'x1': 1.0, 'x2': 0.522993, 'x3': 0.0, 'x4': 1.0, 'x5': 1.0, 'x6': 0.0, 'x7': 0.027996, 'x8': 0.125434, 'x9': 0.739627, 'x10': 0.014444, 'x11': 0.175213, 'x12': 0.754929, 'x13': 0.0, 'x14': 0.274926, 'x15': 0.594187, 'x16': 0.0, 'x17': 0.275058, 'x18': 0.0, 'x19': 0.970051, 'x20': 1.0, 'x21': 0.039794, 'x22': 0.803957, 'x23': 0.967646, 'x24': 0.0, 'x25': 0.0, 'x26': 0.840684, 'x27': 0.0, 'x28': 0.920575, 'x29': 0.0, 'x30': 0.057322, 'x31': 0.0, 'x32': 0.640712, 'x33': 0.0, 'x34': 0.853194, 'x35': 0.85264, 'x36': 0.970016} using model GPEI.\n",
      "[INFO 11-07 11:46:54] ax.service.ax_client: Completed trial 7 with data: {'qed': (0.35976, None), 'uniqueness': (0.0069, None)}.\n",
      "[INFO 11-07 11:46:56] ax.service.ax_client: Generated new trial 8 with parameters {'x1': 0.542302, 'x2': 0.624839, 'x3': 0.0, 'x4': 0.767906, 'x5': 0.452311, 'x6': 0.363392, 'x7': 0.099667, 'x8': 0.076842, 'x9': 0.827261, 'x10': 0.014508, 'x11': 0.143634, 'x12': 0.727773, 'x13': 0.439063, 'x14': 0.187608, 'x15': 0.39182, 'x16': 0.188325, 'x17': 0.277595, 'x18': 0.234655, 'x19': 0.962754, 'x20': 0.528314, 'x21': 0.229032, 'x22': 0.665831, 'x23': 0.876768, 'x24': 0.0, 'x25': 0.201145, 'x26': 0.796047, 'x27': 0.119555, 'x28': 0.837867, 'x29': 1.0, 'x30': 0.370613, 'x31': 0.254283, 'x32': 0.996385, 'x33': 0.0, 'x34': 0.882824, 'x35': 0.808885, 'x36': 0.968044} using model GPEI.\n",
      "[INFO 11-07 11:46:59] ax.service.ax_client: Completed trial 8 with data: {'qed': (0.358481, None), 'uniqueness': (0.0149, None)}.\n",
      "[INFO 11-07 11:47:04] ax.service.ax_client: Generated new trial 9 with parameters {'x1': 0.643578, 'x2': 0.446108, 'x3': 0.00523, 'x4': 1.0, 'x5': 0.9289, 'x6': 0.259279, 'x7': 0.117836, 'x8': 0.152843, 'x9': 0.631197, 'x10': 0.025065, 'x11': 0.107317, 'x12': 0.570105, 'x13': 1.0, 'x14': 0.39473, 'x15': 0.895736, 'x16': 0.0, 'x17': 0.565953, 'x18': 0.0, 'x19': 1.0, 'x20': 1.0, 'x21': 0.172603, 'x22': 0.837213, 'x23': 0.902315, 'x24': 0.0, 'x25': 0.197884, 'x26': 0.740858, 'x27': 0.054516, 'x28': 0.935453, 'x29': 0.981279, 'x30': 0.134861, 'x31': 0.04171, 'x32': 0.068287, 'x33': 0.317217, 'x34': 0.784813, 'x35': 0.33826, 'x36': 1.0} using model GPEI.\n",
      "[INFO 11-07 11:47:07] ax.service.ax_client: Completed trial 9 with data: {'qed': (0.361592, None), 'uniqueness': (0.0091, None)}.\n",
      "[INFO 11-07 11:47:14] ax.service.ax_client: Generated new trial 10 with parameters {'x1': 0.813981, 'x2': 0.411317, 'x3': 0.056089, 'x4': 0.906248, 'x5': 1.0, 'x6': 0.41444, 'x7': 0.09276, 'x8': 0.079515, 'x9': 0.695989, 'x10': 0.0, 'x11': 0.036269, 'x12': 0.753081, 'x13': 0.917679, 'x14': 0.449334, 'x15': 0.734307, 'x16': 0.100455, 'x17': 0.289081, 'x18': 0.084936, 'x19': 1.0, 'x20': 1.0, 'x21': 0.246516, 'x22': 0.649251, 'x23': 0.920362, 'x24': 0.084293, 'x25': 0.352508, 'x26': 0.864777, 'x27': 0.088153, 'x28': 1.0, 'x29': 0.728941, 'x30': 0.311147, 'x31': 0.029814, 'x32': 0.0, 'x33': 0.312588, 'x34': 0.851208, 'x35': 0.957317, 'x36': 1.0} using model GPEI.\n",
      "[INFO 11-07 11:47:17] ax.service.ax_client: Completed trial 10 with data: {'qed': (0.363785, None), 'uniqueness': (0.0035, None)}.\n",
      "[INFO 11-07 11:47:31] ax.service.ax_client: Generated new trial 11 with parameters {'x1': 0.311633, 'x2': 0.31502, 'x3': 0.211177, 'x4': 0.632565, 'x5': 0.671059, 'x6': 0.291365, 'x7': 0.300413, 'x8': 0.241526, 'x9': 0.732842, 'x10': 0.224796, 'x11': 0.079334, 'x12': 0.797333, 'x13': 0.541608, 'x14': 0.587489, 'x15': 0.67796, 'x16': 0.384721, 'x17': 0.435792, 'x18': 0.35451, 'x19': 1.0, 'x20': 0.810609, 'x21': 0.273595, 'x22': 0.664675, 'x23': 0.719361, 'x24': 0.32518, 'x25': 0.434717, 'x26': 0.814023, 'x27': 0.299539, 'x28': 1.0, 'x29': 0.826084, 'x30': 0.31791, 'x31': 0.332761, 'x32': 0.340568, 'x33': 0.568307, 'x34': 0.727447, 'x35': 0.0, 'x36': 1.0} using model GPEI.\n",
      "[INFO 11-07 11:47:34] ax.service.ax_client: Completed trial 11 with data: {'qed': (0.349455, None), 'uniqueness': (0.0134, None)}.\n",
      "[INFO 11-07 11:47:46] ax.service.ax_client: Generated new trial 12 with parameters {'x1': 0.516511, 'x2': 0.579959, 'x3': 0.053906, 'x4': 0.99729, 'x5': 0.869625, 'x6': 0.340905, 'x7': 0.0, 'x8': 0.185697, 'x9': 0.557626, 'x10': 0.0, 'x11': 0.699928, 'x12': 0.544421, 'x13': 0.861099, 'x14': 0.26767, 'x15': 0.760865, 'x16': 0.0, 'x17': 0.290842, 'x18': 0.021606, 'x19': 1.0, 'x20': 0.976553, 'x21': 0.17511, 'x22': 0.702938, 'x23': 1.0, 'x24': 0.0, 'x25': 0.263231, 'x26': 0.745913, 'x27': 0.0, 'x28': 0.939376, 'x29': 0.899223, 'x30': 0.314585, 'x31': 0.0, 'x32': 0.323678, 'x33': 0.178931, 'x34': 0.802728, 'x35': 1.0, 'x36': 0.843462} using model GPEI.\n",
      "[INFO 11-07 11:47:51] ax.service.ax_client: Completed trial 12 with data: {'qed': (0.335565, None), 'uniqueness': (0.0303, None)}.\n",
      "[INFO 11-07 11:48:02] ax.service.ax_client: Generated new trial 13 with parameters {'x1': 0.428894, 'x2': 0.367456, 'x3': 0.212701, 'x4': 0.594357, 'x5': 0.614831, 'x6': 0.277426, 'x7': 0.0, 'x8': 0.207681, 'x9': 0.678192, 'x10': 0.022849, 'x11': 0.747736, 'x12': 0.813368, 'x13': 0.46257, 'x14': 0.450011, 'x15': 0.588558, 'x16': 0.347434, 'x17': 0.357289, 'x18': 0.387608, 'x19': 0.948007, 'x20': 0.607012, 'x21': 0.229753, 'x22': 0.594016, 'x23': 0.956001, 'x24': 0.02306, 'x25': 0.48026, 'x26': 0.777888, 'x27': 0.00141, 'x28': 0.777139, 'x29': 0.706221, 'x30': 0.415898, 'x31': 0.0, 'x32': 0.005018, 'x33': 0.34397, 'x34': 0.76357, 'x35': 0.888808, 'x36': 1.0} using model GPEI.\n",
      "[INFO 11-07 11:48:06] ax.service.ax_client: Completed trial 13 with data: {'qed': (0.336775, None), 'uniqueness': (0.038, None)}.\n",
      "[INFO 11-07 11:48:24] ax.service.ax_client: Generated new trial 14 with parameters {'x1': 0.093241, 'x2': 0.241927, 'x3': 0.29413, 'x4': 0.363795, 'x5': 0.418101, 'x6': 0.262237, 'x7': 0.0, 'x8': 0.099997, 'x9': 0.634251, 'x10': 0.0, 'x11': 0.770256, 'x12': 0.349683, 'x13': 0.176629, 'x14': 0.578279, 'x15': 0.472596, 'x16': 0.590357, 'x17': 0.038375, 'x18': 0.621226, 'x19': 1.0, 'x20': 0.643104, 'x21': 0.228512, 'x22': 0.533315, 'x23': 0.943593, 'x24': 0.117699, 'x25': 0.644423, 'x26': 0.982395, 'x27': 0.082627, 'x28': 1.0, 'x29': 0.58249, 'x30': 0.522587, 'x31': 0.184619, 'x32': 0.0, 'x33': 0.478957, 'x34': 0.82144, 'x35': 0.892993, 'x36': 1.0} using model GPEI.\n",
      "[INFO 11-07 11:48:27] ax.service.ax_client: Completed trial 14 with data: {'qed': (0.340012, None), 'uniqueness': (0.0167, None)}.\n",
      "[INFO 11-07 11:48:46] ax.service.ax_client: Generated new trial 15 with parameters {'x1': 0.396078, 'x2': 0.41239, 'x3': 0.004484, 'x4': 0.66382, 'x5': 0.730667, 'x6': 0.167187, 'x7': 0.0, 'x8': 0.132933, 'x9': 0.711615, 'x10': 0.0, 'x11': 0.716062, 'x12': 0.938994, 'x13': 0.562581, 'x14': 0.346218, 'x15': 0.726123, 'x16': 0.250323, 'x17': 0.480354, 'x18': 0.31606, 'x19': 1.0, 'x20': 0.736857, 'x21': 0.118393, 'x22': 0.653641, 'x23': 1.0, 'x24': 0.0, 'x25': 0.438264, 'x26': 0.715893, 'x27': 0.0, 'x28': 1.0, 'x29': 0.733735, 'x30': 0.317157, 'x31': 0.0, 'x32': 0.0, 'x33': 0.167959, 'x34': 0.943692, 'x35': 1.0, 'x36': 1.0} using model GPEI.\n",
      "[INFO 11-07 11:48:50] ax.service.ax_client: Completed trial 15 with data: {'qed': (0.32826, None), 'uniqueness': (0.0243, None)}.\n",
      "[INFO 11-07 11:49:03] ax.service.ax_client: Generated new trial 16 with parameters {'x1': 0.420303, 'x2': 0.520946, 'x3': 0.201747, 'x4': 0.815802, 'x5': 0.726259, 'x6': 0.374667, 'x7': 0.0, 'x8': 0.207168, 'x9': 0.546012, 'x10': 0.0, 'x11': 0.694756, 'x12': 0.861143, 'x13': 0.617577, 'x14': 0.322191, 'x15': 0.564446, 'x16': 0.163802, 'x17': 0.080304, 'x18': 0.190764, 'x19': 1.0, 'x20': 0.631823, 'x21': 0.294776, 'x22': 0.596908, 'x23': 0.987638, 'x24': 0.0, 'x25': 0.297411, 'x26': 0.92511, 'x27': 0.0, 'x28': 0.609747, 'x29': 0.941986, 'x30': 0.431131, 'x31': 0.0, 'x32': 0.230793, 'x33': 0.253999, 'x34': 0.414584, 'x35': 0.826423, 'x36': 1.0} using model GPEI.\n",
      "[INFO 11-07 11:49:08] ax.service.ax_client: Completed trial 16 with data: {'qed': (0.354648, None), 'uniqueness': (0.0271, None)}.\n",
      "[INFO 11-07 11:49:20] ax.service.ax_client: Generated new trial 17 with parameters {'x1': 0.574665, 'x2': 0.513929, 'x3': 0.186216, 'x4': 0.778201, 'x5': 0.764805, 'x6': 0.439447, 'x7': 0.0, 'x8': 0.252283, 'x9': 0.665039, 'x10': 0.060523, 'x11': 0.690735, 'x12': 0.975572, 'x13': 0.91372, 'x14': 0.337266, 'x15': 0.589999, 'x16': 0.163918, 'x17': 0.0, 'x18': 0.207459, 'x19': 1.0, 'x20': 0.580029, 'x21': 0.323484, 'x22': 0.548573, 'x23': 1.0, 'x24': 0.0, 'x25': 0.368461, 'x26': 0.986825, 'x27': 0.0, 'x28': 0.797225, 'x29': 0.881386, 'x30': 0.466082, 'x31': 0.0, 'x32': 0.0, 'x33': 0.258421, 'x34': 0.452699, 'x35': 0.798269, 'x36': 1.0} using model GPEI.\n",
      "[INFO 11-07 11:49:25] ax.service.ax_client: Completed trial 17 with data: {'qed': (0.35178, None), 'uniqueness': (0.0257, None)}.\n",
      "[INFO 11-07 11:49:33] ax.service.ax_client: Generated new trial 18 with parameters {'x1': 0.483045, 'x2': 0.440123, 'x3': 0.189874, 'x4': 0.792738, 'x5': 0.744796, 'x6': 0.325546, 'x7': 0.0, 'x8': 0.242622, 'x9': 0.470306, 'x10': 0.0, 'x11': 0.73193, 'x12': 0.754119, 'x13': 0.516021, 'x14': 0.409573, 'x15': 0.598586, 'x16': 0.212762, 'x17': 0.208361, 'x18': 0.215801, 'x19': 1.0, 'x20': 0.641366, 'x21': 0.291034, 'x22': 0.615669, 'x23': 0.926917, 'x24': 0.0, 'x25': 0.324442, 'x26': 0.791143, 'x27': 0.0, 'x28': 0.668502, 'x29': 0.712589, 'x30': 0.389308, 'x31': 0.0, 'x32': 0.140743, 'x33': 0.331153, 'x34': 0.792786, 'x35': 0.772951, 'x36': 1.0} using model GPEI.\n",
      "[INFO 11-07 11:49:38] ax.service.ax_client: Completed trial 18 with data: {'qed': (0.338241, None), 'uniqueness': (0.0382, None)}.\n",
      "[INFO 11-07 11:49:53] ax.service.ax_client: Generated new trial 19 with parameters {'x1': 0.010879, 'x2': 0.49536, 'x3': 0.325464, 'x4': 0.586614, 'x5': 0.480053, 'x6': 0.433288, 'x7': 0.0, 'x8': 0.235293, 'x9': 0.765418, 'x10': 0.0, 'x11': 0.666908, 'x12': 0.863967, 'x13': 0.276213, 'x14': 0.32816, 'x15': 0.41838, 'x16': 0.352802, 'x17': 0.142414, 'x18': 0.408847, 'x19': 0.91373, 'x20': 0.457374, 'x21': 0.301344, 'x22': 0.429666, 'x23': 1.0, 'x24': 0.0, 'x25': 0.480983, 'x26': 0.846203, 'x27': 0.0, 'x28': 0.390733, 'x29': 0.894929, 'x30': 0.626746, 'x31': 0.0, 'x32': 0.224513, 'x33': 0.239993, 'x34': 0.825872, 'x35': 1.0, 'x36': 1.0} using model GPEI.\n",
      "[INFO 11-07 11:49:57] ax.service.ax_client: Completed trial 19 with data: {'qed': (0.351655, None), 'uniqueness': (0.013, None)}.\n"
     ]
    }
   ],
   "source": [
    "for i in range(20):\n",
    "    parameters, trial_index = ax_client.get_next_trial()\n",
    "    # Local evaluation here can be replaced with deployment to external system.\n",
    "    ax_client.complete_trial(trial_index=trial_index, raw_data=evaluate(parameters))"
   ]
  },
  {
   "cell_type": "code",
   "execution_count": 18,
   "metadata": {},
   "outputs": [
    {
     "name": "stderr",
     "output_type": "stream",
     "text": [
      "[WARNING 11-07 11:54:49] ax.service.utils.report_utils: Column reason missing for all trials. Not appending column.\n"
     ]
    }
   ],
   "source": [
    "trial_df = ax_client.get_trials_data_frame()\n",
    "trial_df['trial_index'] = trial_df['trial_index'] - 4 \n",
    "trial_df = trial_df.iloc[5:]"
   ]
  },
  {
   "cell_type": "code",
   "execution_count": 6,
   "metadata": {},
   "outputs": [
    {
     "name": "stderr",
     "output_type": "stream",
     "text": [
      "findfont: Font family 'Arial' not found.\n",
      "findfont: Font family 'Arial' not found.\n",
      "findfont: Font family 'Arial' not found.\n",
      "findfont: Font family 'Arial' not found.\n",
      "findfont: Font family 'Arial' not found.\n",
      "findfont: Font family 'Arial' not found.\n",
      "findfont: Font family 'Arial' not found.\n",
      "findfont: Font family 'Arial' not found.\n"
     ]
    },
    {
     "data": {
      "image/png": "[encoded data removed]",
      "text/plain": [
       "<Figure size 500x400 with 2 Axes>"
      ]
     },
     "metadata": {},
     "output_type": "display_data"
    }
   ],
   "source": [
    "import pandas as pd\n",
    "import matplotlib.pyplot as plt\n",
    "import numpy as np\n",
    "\n",
    "# Define figure size\n",
    "plt.figure(figsize=(5, 4), dpi=100)\n",
    "\n",
    "# Scatter plot with color based on 'trial_index' column\n",
    "scatter = plt.scatter(trial_df['qed'], trial_df['uniqueness'], c=trial_df['trial_index'], cmap='Reds')\n",
    "\n",
    "# Adding colorbar with integer ticks\n",
    "z_min, z_max = int(trial_df['trial_index'].min()), int(trial_df['trial_index'].max())\n",
    "colorbar = plt.colorbar(scatter, ticks=np.arange(z_min, z_max + 1, 5))\n",
    "colorbar.set_label('Iteration', fontsize=14, weight='semibold')\n",
    "\n",
    "# Remove top and right spines for a cleaner look\n",
    "ax = plt.gca()\n",
    "ax.spines['top'].set_visible(False)\n",
    "ax.spines['right'].set_visible(False)\n",
    "\n",
    "# Set labels with appropriate font sizes\n",
    "plt.xlabel('Average QED score (-)', fontsize=14, weight='semibold')\n",
    "plt.ylabel('Uniqueness (-)', fontsize=14, weight='semibold')\n",
    "\n",
    "# Adjust tick parameters\n",
    "plt.xticks(fontsize=12)\n",
    "plt.yticks(fontsize=12)\n",
    "\n",
    "# Tight layout for optimal spacing\n",
    "plt.tight_layout()\n",
    "\n",
    "# Show plot\n",
    "plt.show()\n"
   ]
  },
  {
   "cell_type": "code",
   "execution_count": null,
   "metadata": {},
   "outputs": [],
   "source": []
  },
  {
   "cell_type": "code",
   "execution_count": null,
   "metadata": {},
   "outputs": [],
   "source": []
  }
 ],
 "metadata": {
  "kernelspec": {
   "display_name": "qmg-n",
   "language": "python",
   "name": "python3"
  },
  "language_info": {
   "codemirror_mode": {
    "name": "ipython",
    "version": 3
   },
   "file_extension": ".py",
   "mimetype": "text/x-python",
   "name": "python",
   "nbconvert_exporter": "python",
   "pygments_lexer": "ipython3",
   "version": "3.12.6"
  }
 },
 "nbformat": 4,
 "nbformat_minor": 2
}
