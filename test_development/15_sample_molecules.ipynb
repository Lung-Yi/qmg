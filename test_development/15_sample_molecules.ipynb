{
 "cells": [
  {
   "cell_type": "code",
   "execution_count": 9,
   "metadata": {},
   "outputs": [
    {
     "name": "stdout",
     "output_type": "stream",
     "text": [
      "{None: 3882, 'CON[C@@]1(N)CO1': 111, 'NCNN[C@@H]1CO1': 47, 'ON[C@@H]1CO1': 946, 'NON[C@@]1(N)CO1': 246, 'NON[C@H]1O[C@@H]1N': 33, 'NNON[C@@H]1CO1': 246, 'CNN[C@@]1(N)CO1': 41, 'C/N=C1\\\\CO1': 9, 'NCON[C@@H]1CO1': 95, 'OO[C@H]1CO1': 218, 'N1O[C@@H]2O[C@H]12': 205, 'NN[C@@H]1CO1': 417, 'C/N=N\\\\[C@]1(O)CO1': 1, 'NCN[C@]1(O)CO1': 1, 'CN(N)[C@H]1O[C@@H]1N': 2, 'NNO[C@@H]1O[C@@H]1N': 29, 'N=NN[C@@]1(N)CO1': 5, 'NNN[C@@]1(N)CO1': 116, 'NCO/N=C1\\\\CO1': 13, 'O=N[C@@H]1CO1': 134, 'NNNN[C@@H]1CO1': 115, 'N[C@@H]1N[C@@]23N[C@]12O3': 1, 'NNN1N[C@H]2O[C@@H]21': 23, 'C1CO1': 196, 'N[C@H]1O[C@H]1O': 117, 'NN[C@@]1(N)O[C@H]1O': 11, 'N[C@]1(ONO)CO1': 5, 'NN1NN[C@H]2O[C@@H]21': 1, 'CN[C@@H]1CO1': 35, 'NNO/N=C1\\\\CO1': 38, 'C1O[C@]12NO2': 2, 'NCOO[C@H]1CO1': 18, 'CN/N=C1/O[C@@H]1N': 1, 'NNNC[C@@H]1CO1': 3, 'COO[C@@]1(N)CO1': 10, 'NN1NN[C@]12CO2': 12, 'NON[C@@]12N=C1O2': 18, 'O=C1CO1': 1, 'N1N[C@H]2O[C@H]12': 86, 'NN1O[C@@H]2O[C@]21N': 2, 'O/N=C1\\\\CO1': 150, 'NOON[C@@H]1CO1': 50, 'OC[C@@H]1CO1': 27, 'N[C@]1(OOO)CO1': 15, 'NNN[C@H]1O[C@@H]1N': 21, 'NN[C@@]1(O)O[C@H]1O': 7, 'NONN[C@@H]1CO1': 17, 'NN[C@]1(N)OC1=O': 1, 'NO[C@H]1CO1': 81, 'N/N=C1\\\\CO1': 66, 'N[C@H]1O[C@@]12CNN2': 1, 'NNOO[C@H]1CO1': 49, 'CON[C@@]12N=C1O2': 3, 'N[C@]12NNN[C@H]1O2': 3, 'N=N[C@@H]1CO1': 62, 'N[C@H]1O[C@@H]1NOO': 6, 'NN[C@]1(NO)CO1': 44, 'NO[C@@]12N[C@@]1(N)O2': 5, 'NNO[C@@]1(N)CO1': 23, 'N/C=C1\\\\CO1': 5, 'N1=N[C@H]2O[C@H]12': 8, 'CNON[C@@H]1CO1': 11, 'NC[C@]1(N)O[C@@H]1N': 2, 'NCCN[C@@H]1CO1': 5, 'NON[C@@H]1CO1': 20, 'N[C@]1(NNO)CO1': 20, 'N=C1O[C@@H]1NON': 14, 'C[C@@]1(NON)CO1': 14, 'NO[C@@H]1O[C@@]1(N)O': 7, 'N/N=N\\\\N[C@@H]1CO1': 7, 'CNN[C@H]1O[C@@H]1N': 6, 'N/N=N/[C@H]1O[C@@H]1N': 1, 'CON[C@@]12N[C@H]1O2': 10, 'CN(O)/N=C1\\\\CO1': 1, 'NON[C@]1(O)CO1': 19, 'NNN(N)[C@@H]1CO1': 2, 'CN[C@]1(CN)CO1': 1, 'C[C@]1(N)O[C@@H]1NN': 3, 'CCNN[C@@H]1CO1': 4, 'NO[C@@]1(N=O)CO1': 1, 'NNC/N=C1\\\\CO1': 3, 'COC[C@@]12N=C1O2': 1, 'NO/N=C1\\\\CO1': 7, 'C[C@@]1(NNN)CO1': 9, 'N[C@@H]1CO1': 41, 'NN[C@@]1(NN)CO1': 20, 'N1=C2O[C@H]2O1': 28, 'NN1ON[C@]12CO2': 26, 'OON[C@@]12N[C@H]1O2': 6, 'NN/C=N\\\\[C@@H]1CO1': 3, 'NNCN[C@@H]1CO1': 8, 'NC[C@@]1(NO)CO1': 19, 'O[C@@H]1O[C@H]1O': 23, 'O1O[C@@H]2O[C@@H]12': 34, 'N[C@]1(NCO)CO1': 5, 'O/C=C1\\\\CO1': 4, 'ONN[C@]1(O)CO1': 1, 'NC[C@@]1(N=O)CO1': 3, 'NC[C@]1(ON)CO1': 4, 'N[C@H]1O[C@@]1(N)N=O': 2, 'NCN/N=C1\\\\CO1': 7, 'ON[C@@]1(NO)CO1': 2, 'N=NO[C@@]1(N)CO1': 2, 'OCN[C@@H]1CO1': 2, 'NC[C@H]1O[C@@]1(N)O': 1, 'NNN1N=C2O[C@@H]21': 2, 'C1O[C@@H]2O[C@H]12': 8, 'NN1N=N[C@]12CO2': 2, 'NN1N[C@@]2(CO2)N1': 14, 'N[C@]1([N@@]2CN2)CO1': 2, 'N=C1O[C@@H]1NNN': 10, 'C[C@H]1O[C@@]1(N)NO': 4, 'NN[C@]12NO[C@@H]1O2': 8, 'COO[C@@H]1O[C@@H]1N': 5, 'NNC[C@@]1(N)CO1': 3, 'C1N=C2O[C@H]12': 2, 'NON[C@@]12N[C@H]1O2': 39, 'NN1[N@]2N[C@@]13O[C@H]23': 2, 'NO[C@@H]1O[C@]1(N)N': 34, 'N=C1O[C@@]1(N)NN': 4, 'N[C@]1(NOO)CO1': 51, 'CNC[C@@]1(N)CO1': 2, 'NOO[C@@]1(N)CO1': 49, 'C[C@@]1(NNO)CO1': 5, 'N[C@H]1O[C@@]1(N)NO': 9, 'NC[C@]1(OO)CO1': 2, 'CN1N[C@@]2(CO2)N1': 4, 'N/N=N\\\\[C@@]1(N)CO1': 15, 'NN[C@H]1O[C@]1(N)N': 10, 'NN1N[C@]2(N)O[C@H]12': 16, 'C[C@@H]1N[C@@]2(CO2)N1': 2, 'CNO[C@@H]1O[C@@H]1N': 4, 'N=C1O[C@H]1OOO': 1, 'CO[C@@H]1O[C@]1(N)N': 18, 'NN[C@]1(N=O)CO1': 6, 'CON[C@@H]1CO1': 5, 'NONO[C@H]1CO1': 5, 'NCO[C@@H]1OC1=O': 1, 'NOO[C@@H]1O[C@@H]1N': 14, 'CNO[C@@H]1OC1=N': 2, 'ONOO[C@H]1CO1': 5, 'NC[C@H]1O[C@@H]1NN': 1, 'N[C@@H]1N[C@@]2(O)O[C@H]12': 1, 'ONO/N=C1\\\\CO1': 1, 'OONN[C@@H]1CO1': 1, 'COO[C@@H]1OC1=N': 3, 'NOO[C@@]12N=C1O2': 4, 'COC[C@]1(O)CO1': 2, 'NO[C@@]1(NO)CO1': 9, 'N=C1O[C@@H]1N': 5, 'N=C1O[C@]12NON2': 1, 'CON[C@]12C=C1O2': 1, 'CON[C@]1(C)CO1': 6, 'N=C1O[C@@]1(N)C=O': 1, 'CON[C@]1(O)CO1': 4, 'NNOC[C@@H]1CO1': 9, 'N[C@H]1O[C@@H]1N': 53, 'N=C1O[C@H]1O': 21, 'C=N[C@@]1(NN)CO1': 1, 'N[C@]1(COO)CO1': 1, 'NO/N=N\\\\[C@@H]1CO1': 6, 'N/C=N\\\\N=C1/CO1': 1, 'N[N@@]1[C@H]2O[C@@H]21': 2, 'CO[C@]1(N)O[C@@H]1N': 1, 'C[C@H]1O/C1=N/NN': 1, 'NN(N)N[C@@H]1CO1': 7, 'NN[C@@H]1N[C@H]2O[C@H]12': 1, 'NNO[C@@]12N[C@H]1O2': 5, 'CNN[C@]1(C)CO1': 1, 'N=N[C@]1(CN)CO1': 1, 'N1=C2O[C@@H]2N1': 9, 'NC[C@@]12NN[C@H]1O2': 1, 'NO/N=C1/O[C@@H]1N': 4, 'N=NN[C@H]1O[C@@H]1N': 3, 'N[C@@H]1CN[C@@]12CO2': 1, 'C=N[C@@H]1CO1': 8, 'NCN[C@H]1O[C@@H]1N': 3, 'OO[C@@]1(OO)CO1': 1, 'CN(N)N[C@@H]1CO1': 5, 'NNO[C@@H]1O[C@H]1O': 7, 'C=NN[C@@]1(N)CO1': 6, 'NNN[C@@H]1CO1': 9, 'NN(N)[C@@]1(N)CO1': 3, 'NCNO[C@H]1CO1': 3, 'CNN[C@@]12N=C1O2': 2, 'CN[C@]12C[C@]1(N)O2': 1, 'OC[C@@]1(NO)CO1': 3, 'NN(O)N[C@@H]1CO1': 1, 'N=c1o/c1=N/ON': 3, 'NCOC[C@@H]1CO1': 4, 'CNNN[C@@H]1CO1': 4, 'NN(N)O[C@H]1CO1': 2, 'NOO[C@@]12O[C@@H]1O2': 1, 'NN(OO)[C@@H]1CO1': 1, 'NN(O)[C@@H]1CO1': 1, 'N[C@@H]1N=N[C@@]12CO2': 3, 'NNN[C@@]12N[C@H]1O2': 13, 'NCN[C@@]12N=C1O2': 3, 'NC[C@@]1(NN)CO1': 7, 'NNN[C@@]12N=C1O2': 6, 'N[C@]1(n2[nH]o2)CO1': 2, 'C[C@]1(NO)OC1=N': 3, 'C/C=N\\\\N[C@@H]1CO1': 1, 'C/C=C1\\\\CO1': 1, 'NO[C@]1(OO)CO1': 1, 'NN[C@@]1(N)CO1': 1, 'NNO[C@H]1CO1': 2, 'ONON[C@@H]1CO1': 10, 'NN/N=N\\\\[C@@H]1CO1': 12, 'NN1N[C@@]2(CO2)O1': 4, 'NNNO[C@H]1CO1': 15, 'NN(O)[C@@]1(N)CO1': 4, 'NCO[C@@]1(N)CO1': 2, 'N[C@]1(N=O)CO1': 1, '[N-]=[N+](N)/N=C1\\\\CO1': 1, 'COO[C@@]12N[C@H]1O2': 2, 'CN(O)[C@@]1(N)CO1': 1, 'NC[C@]1(CO)CO1': 2, 'ON1N[C@@]2(CO2)N1': 4, 'CN[C@H]1O[C@]1(N)N': 2, 'CNO[C@H]1CO1': 1, 'NN[N@@]1[C@@]23N[C@]12O3': 1, 'C[C@@]1(/N=N/N)CO1': 1, 'N=C1O[C@@H]1NOO': 3, 'N[C@H]1O[C@H]1ONO': 1, 'CO/N=c1/oc1=N': 2, 'O[N@@]1[C@H]2O[C@@H]21': 2, 'NOC[C@@]12C[C@H]1O2': 1, 'NOO[C@@]12N[C@H]1O2': 4, 'ONN[C@@]12N[C@H]1O2': 7, 'CON[C@H]1O[C@@H]1N': 9, 'NON/N=C1\\\\CO1': 4, 'NON[C@@]12O[C@H]1O2': 3, 'NN[C@]1(CO)CO1': 2, 'C[C@]1(CNN)CO1': 1, 'Nn1on1[C@@H]1CO1': 1, 'CN[C@]1(N)OC1=N': 1, 'NN[C@]1(OO)CO1': 10, 'N=C1O[C@H]1OON': 2, 'N[N@@]1[C@H]2O[C@@]21NO': 1, 'ONN[C@@]12N=C1O2': 1, 'C[C@@]1(NOO)CO1': 1, 'NN1N=C2O[C@@H]2N1': 2, 'C[C@H]1O[C@H]1O': 5, 'N[C@H]1ON[C@@]12CO2': 7, 'NC/N=N\\\\[C@@H]1CO1': 8, 'NN1N[C@]23O[C@@H]2[N@]13': 2, 'CN1N[C@]2(N)O[C@H]12': 10, 'C1C[C@H]2O[C@H]12': 1, 'CCN[C@@]1(N)CO1': 2, 'NN1OO[C@]12CO2': 5, 'C=C1O[C@@H]1NCN': 1, 'NN[C@@]1(O)O[C@@H]1N': 4, 'CN1N[C@H]2O[C@@H]21': 2, 'C[C@@]1(/N=N\\\\N)CO1': 1, 'C1N[C@H]2O[C@H]12': 9, 'NC[C@@H]1CO1': 12, 'N[C@@H]1N[C@]2(N)O[C@H]12': 3, 'ON(O)N[C@@H]1CO1': 1, 'C[C@H]1N[C@]2(N)O[C@H]12': 1, 'NOCN[C@@H]1CO1': 1, 'NN1O[C@]2(N)O[C@H]12': 6, 'C1ON[C@@]12CO2': 2, 'NOOO[C@H]1CO1': 11, 'C/N=N\\\\[C@@]12N[C@H]1O2': 2, 'CN[C@]1(N)O[C@@H]1N': 1, 'NN[C@H]1O[C@@]1(N)O': 4, 'CN1N[C@@]2(C)O[C@H]12': 1, 'CNO[C@@]1(N)CO1': 4, 'NOC[C@@]1(N)CO1': 7, 'N[C@]1(N)O[C@@H]1C=O': 1, 'NCO[C@@H]1O[C@@H]1N': 9, 'CNN[C@@H]1CO1': 5, 'NCN1N[C@H]2O[C@@H]21': 9, 'N=N[C@@]1(NN)CO1': 3, 'C=C1O[C@@H]1NON': 1, '[N-]=[N+]1N[C@]2(N)O[C@H]12': 2, 'NN1C[C@]2(CO2)N1': 2, 'CN[C@@]1(NN)CO1': 1, 'N=N[C@H]1O[C@@H]1NN': 1, 'N/C=N\\\\N[C@@H]1CO1': 2, 'NOO[C@@H]1O[C@H]1O': 4, 'NNO[C@@H]1OC1=O': 1, 'CN1N[C@]23O[C@@H]2[N@]13': 2, 'N[C@@H]1[N@@]2O[C@@H]3O[C@]312': 1, 'ON/N=N\\\\[C@@H]1CO1': 3, 'C[C@]1(N)O[C@H]1ON': 2, 'OONO[C@H]1CO1': 1, 'NCN(N)[C@@H]1CO1': 1, 'N[C@]1(n2oo2)CO1': 1, 'N[C@]1(OO)CO1': 1, 'CCN[C@H]1O[C@@H]1N': 1, 'O[C@@]12NOO[C@@H]1O2': 1, 'NN/N=C1\\\\CO1': 2, 'NN1C[C@]2(N)O[C@H]12': 3, 'CC[C@@H]1CO1': 2, 'NON[C@H]1O[C@H]1O': 1, 'NN[C@]1(ON)CO1': 7, 'N[C@H]1OC[C@]12CO2': 2, 'C[C@@]1(O)O[C@H]1ON': 3, 'N=C1O[C@@]1(N)N=O': 1, 'C[C@H]1O[C@@H]1N': 10, 'NNN/N=C1\\\\CO1': 13, 'NN[C@]12OO[C@@H]1O2': 2, 'NN1N[C@@]2(N)O[C@H]12': 1, 'O=C[C@@H]1CO1': 4, 'NN[C@]1(N)O[C@@H]1N': 2, 'NNN[C@]1(O)CO1': 3, 'N[C@H]1N[C@@]2(CO2)N1': 2, 'COO[C@@]1(C)CO1': 2, 'N[C@]1(/N=N\\\\O)CO1': 2, 'OCNO[C@H]1CO1': 2, 'NN1N[C@@]2(O)O[C@H]12': 4, 'N[C@]1(NN=O)CO1': 2, '[N-]=[N+]1O[C@@H]2O[C@@]21O': 1, 'N[C@]12NN[C@]1(N)O2': 3, 'C[C@@]1(O)O[C@@]1(N)O': 1, '[N-]=[N+]=C1CO1': 3, 'CN[C@]12NO[C@@H]1O2': 2, 'C[C@H]1O/C1=N/OO': 1, 'C[C@@]1(NN)CO1': 1, 'NNCO[C@H]1CO1': 3, 'N[C@H]1O[C@H]1OOO': 1, 'NNC[C@@]12N[C@H]1O2': 1, 'CN[C@]1(ON)CO1': 2, 'N=C1O[C@]12NOO2': 1, 'CCNO[C@H]1CO1': 1, 'OON[C@@H]1CO1': 4, 'CN1N[C@@]23N[C@]12O3': 1, 'NN1N[C@H]2O[C@@]21N': 2, 'N[C@H]1O[C@@]1(N)OO': 2, 'NO[C@]1(N)O[C@@H]1N': 4, 'N[C@@H]1N[C@]23O[C@@]12O3': 1, 'CN1N[C@H]2O[C@]21N': 2, 'OON[C@@]12N=C1O2': 1, 'N[C@]1(n2[nH][nH]2)CO1': 2, 'N[C@@]12N[C@@]1(OO)O2': 2, 'N/N=C1/O[C@@H]1NN': 1, 'ON1N[C@@]2(CO2)O1': 1, 'NCN1N=C2O[C@@H]21': 1, 'N[C@H]1O[C@@H]1NNO': 2, 'C[C@]1(NO)O[C@@H]1N': 3, 'NOO[C@H]1CO1': 3, 'NN/N=C1/O[C@@H]1N': 4, 'NO[C@@]12NO[C@@H]1O2': 2, 'NN[C@]12NN[C@H]1O2': 3, 'CCON[C@@H]1CO1': 5, 'N[C@]12ON[C@@]1(O)O2': 2, 'CCCN[C@@H]1CO1': 1, 'C=CN[C@@]1(N)CO1': 2, 'N[C@]12OC[C@]1(N)O2': 3, 'N[C@H]1O[C@]12n1on12': 1, 'CN/N=c1/oc1=N': 1, 'ONN(O)[C@@H]1CO1': 1, 'NON1O[C@@H]2O[C@@H]21': 1, 'N=C1CO1': 2, 'NCN[C@@]1(N)CO1': 6, 'C/N=N\\\\[C@@]1(N)CO1': 3, 'N[C@]1(N)O[C@H]1OO': 6, 'COC[C@@]1(N)CO1': 4, 'N=NC[C@@]1(N)CO1': 1, 'N[C@@H]1C[C@]2(N)O[C@H]12': 1, 'NN1C[C@@]2(CO2)O1': 1, 'CN1ON[C@]12CO2': 2, 'O[C@@H]1ON[C@@]12CO2': 1, 'ONNN[C@@H]1CO1': 2, 'Nn1[nH]n1[C@@H]1CO1': 2, 'NON1N[C@H]2O[C@@H]21': 3, 'C1ON[C@@]23N[C@]12O3': 1, 'C[C@]1(N)O[C@H]1O': 1, 'N=C1O[C@H]1ONN': 3, 'NOO/N=C1\\\\CO1': 8, 'C=N[C@H]1O[C@]1(N)N': 1, 'N[C@H]1OO[C@]12CO2': 5, 'C[C@]1(NN)O[C@@H]1N': 1, 'N[N@@]1C[N@]1[C@@H]1CO1': 2, 'ON[C@]12C=C1O2': 1, 'CNN1N[C@H]2O[C@@H]21': 1, 'NNC[C@H]1O[C@@H]1N': 4, 'N[C@@H]1[N@@](N)[C@@]12CO2': 1, 'O=C1O[C@H]1O': 4, 'NOO[C@@]1(O)CO1': 1, 'O[C@@]1(O)CO1': 2, 'NN1NO[C@]12CO2': 2, 'NNO/C=C1\\\\CO1': 1, 'CCC[C@@]1(N)CO1': 1, 'CNN[C@]12C[C@H]1O2': 1, 'NN[C@@]12N[C@@]1(N)O2': 2, 'NN[C@]1(N)O[C@H]1O': 1, '[O-]/[N+](=N\\\\O)[C@@H]1CO1': 1, 'NN1CN[C@]12CO2': 2, 'NC/C=N\\\\[C@@H]1CO1': 1, 'C[C@]1(ONN)CO1': 2, 'NNN[C@H]1O[C@H]1O': 2, 'NN1N[C@H]2O[C@]21N': 2, 'CNN[C@H]1OC1=N': 3, 'O[C@@]12N[C@H]1O2': 1, 'N[C@H]1O[C@@]1(N)CO': 2, 'ONN1N[C@H]2O[C@@H]21': 3, 'N[C@H]1O[C@@H]1/N=N\\\\O': 2, 'N[C@]1(O)CO1': 2, 'CN[C@@H]1N[C@H]2O[C@H]12': 1, 'C[C@@]12NO[C@]1(N)O2': 1, 'N=c1o/c1=N/OO': 1, 'CCN[C@H]1OC1=N': 1, 'NNO[C@@]1(O)CO1': 2, 'N[C@H]1O[C@H]1OO': 1, 'NNN1C[C@H]2O[C@@H]21': 2, 'N[C@]1(/N=C\\\\O)CO1': 1, 'CN(O)[C@H]1OC1=N': 1, 'N/N=N\\\\[C@@]12N[C@H]1O2': 2, 'OO[C@@]1(O)O[C@H]1O': 1, 'N=N[C@]1(N)O[C@H]1O': 1, 'NNN1O[C@@H]2O[C@@H]21': 1, 'N=C1O[C@@]1(N)OO': 1, 'CCO[C@@]12N[C@H]1O2': 1, 'N=NN[C@@]12N[C@H]1O2': 3, 'CN1O[C@]2(N)O[C@H]12': 2, 'N=C1O[C@H]1ONO': 1, 'CC[C@@]1(NO)CO1': 3, 'OOO[C@H]1CO1': 2, 'NC[C@]1(N)O[C@H]1O': 3, 'NN(O)O[C@H]1CO1': 2, 'CNNO[C@H]1CO1': 3, 'CCN1N[C@H]2O[C@@H]21': 2, 'C=C1O[C@@]1(N)NO': 2, 'CON[C@H]1OC1=N': 1, 'NC[C@H]1N[C@H]2O[C@H]12': 1, 'N[C@@H](N)N[C@@H]1CO1': 1, 'N=C1O[C@@]1(N)ON': 1, 'N[C@]12NON[C@H]1O2': 1, 'N[N@@]1[C@H]2O[C@@]21OO': 1, 'N=C1O[C@@]1(N)NO': 3, 'NO[C@@H]1O[C@@H]1N': 2, 'NN[C@H]1O[C@H]1OO': 1, 'O[C@@]12NON[C@H]1O2': 1, 'NO[C@@]1(CO)CO1': 1, 'NNN(O)[C@@H]1CO1': 1, 'C[C@H]1OC1=N': 1, 'N[C@]12NCN[C@H]1O2': 1, 'CC1=N[C@@]23N[C@]12O3': 1, 'C1O[C@]12NON2': 1, 'N[C@H]1O[C@@H]2O[C@]21N': 2, 'CO[C@H]1CO1': 2, 'N=[N+]([O-])[C@@]1(N)CO1': 1, 'OOON[C@@H]1CO1': 5, 'C[C@]1(OOO)CO1': 2, 'N[C@]12N[C@@H](O)[C@H]1O2': 1, 'CO[C@@H]1O[C@]1(C)N': 2, 'N[C@]12N[C@]34O[C@@]13[N@]24': 1, 'N[C@]1(N)O[C@@H]1NO': 3, 'C[C@@]12N[N@@]3N[C@]31O2': 1, 'C=C1O[C@@]12CON2': 1, 'NN1O[C@]23O[C@@H]2[N@]13': 1, 'COON[C@@H]1CO1': 1, 'C=C1O[C@@H]1N': 1, 'N=N[C@@]12N[C@@]1(N)O2': 1, 'C=NN[C@]1(O)CO1': 1, 'NO/C=N\\\\[C@@H]1CO1': 1, 'NN[C@@]1(N)O[C@@H]1N': 1, 'N[C@]12NN(O)[C@H]1O2': 2, 'C[C@H]1O[C@H]1ONN': 2, 'CN1N[C@@]2(N)O[C@H]12': 1, 'NN[C@]12N=N[C@H]1O2': 1, 'CON1N[C@H]2O[C@@H]21': 1, 'ONO[C@@]12N[C@H]1O2': 1, 'C1O[N@@]1[C@@]12N[C@H]1O2': 1, 'O[C@H]1CO1': 4, 'N[C@H]1O[C@@]12N=NN2': 1, 'NCCO[C@H]1CO1': 2, 'CNN[C@H]1O[C@H]1O': 1, 'N[C@@]1(O)O[C@H]1OO': 2, 'CNOO[C@H]1CO1': 2, 'NN[C@]12N=C[C@H]1O2': 1, 'NN[C@]12ON[C@H]1O2': 1, 'C/C=N\\\\[C@@]1(N)CO1': 1, 'ONO[C@@H]1O[C@H]1O': 1, 'NON[C@]12C=C1O2': 2, 'CN[C@@]12N=N[C@H]1O2': 1, 'NN[C@]1(C=O)CO1': 1, 'N/N=N\\\\[C@@H]1CO1': 2, 'N[C@H]1O[C@]12NCN2': 1, 'C1[C@@]23NNN[C@]12O3': 1, 'CN[C@]1(N)O[C@H]1O': 1, 'C/N=N\\\\[C@H]1O[C@@H]1N': 1, 'N=N[C@H]1O[C@]1(N)N': 3, 'NOC[C@@]12N[C@H]1O2': 1, 'NC#CN[C@@H]1CO1': 1, 'NC1=N[C@]2(N)O[C@H]12': 1, 'CNN[C@@]12N[C@H]1O2': 3, 'NOO[C@@H]1OC1=O': 1, 'NO[C@]1(N)O[C@H]1O': 2, 'CO[C@@H]1O[C@@]1(N)O': 5, 'N/N=N\\\\N=C1/CO1': 1, 'N1[N@@]2[C@H]3O[C@@]132': 1, 'NNN[C@@]12O[C@H]1O2': 1, 'N[C@@H]1[N@@]2O[C@@]13O[C@H]23': 1, 'CN1N[C@@]2(O)O[C@H]12': 1, 'N/C=C1/O[C@@H]1NO': 1, 'N/C=N/[C@H]1O[C@@H]1N': 1, 'N[N@]1[N@@](O)[C@]12CO2': 1, 'ON1N=N[C@@]12CO2': 1, 'NN1N[C@@]23N[C@]12O3': 2, 'O[C@@]12N[N@@]3N[C@]31O2': 1, 'OON[C@H]1O[C@H]1O': 1, 'N[C@@]1(O)O[C@]12NO2': 1, 'OON[C@]1(O)CO1': 2, 'CO/N=C1/O[C@@H]1N': 1, 'CN[C@@]12N[C@@]1(N)O2': 1, 'NNCC[C@@H]1CO1': 1, 'C[C@]1(OCN)CO1': 1, 'ONN[C@@H]1CO1': 1, 'C1=C2O[C@@H]2N1': 1, 'NN1N[C@H]2O[C@@H]2N1': 1, 'NN[C@H]1O[C@H]1O': 1, 'OCON[C@@H]1CO1': 3, 'O[C@@H]1N[C@H]2O[C@H]12': 1, 'N[C@H]1O[C@]12NON2': 2, 'C=C1O[C@H]1ONN': 1, 'CN1O[C@@H]2O[C@]21N': 1, 'CCO[C@@H]1O[C@@H]1N': 1, 'CO[C@]1(C)O[C@@H]1N': 1, 'NO[N@]1N[C@@]12CO2': 1, 'NCO[C@H]1CO1': 1, 'C[C@]1(N=O)OC1=N': 1, 'OON1N[C@H]2O[C@@H]21': 1, 'NO[C@@H]1N[C@H]2O[C@H]12': 2, 'NC[C@]12OO[C@@H]1O2': 1, 'CC[C@]1(OO)CO1': 1, '[N-]=[N+]1N[C@@]2(O)O[C@H]12': 1, 'C[C@]1(OON)CO1': 1, 'C1=N[C@H]2O[C@H]12': 1, 'C[C@@]1(ON)O[C@@H]1N': 1, 'N[C@H]1O[C@]12NNN2': 1, 'C=NO[C@@]1(O)CO1': 1, 'N[C@H]1O[C@]2(N)O[C@H]12': 1, 'C[C@@]1(OO)OC1=N': 1, 'N[C@@]12O[C@]13N[N@@]2O3': 1, '[N-]=[N+]1N[C@@]23OC2=C13': 1, 'N[C@@]12O[C@@H]1N(O)O2': 1, 'C[C@]12O[C@@]1(OO)O2': 1, 'N[C@@H]1NO[C@]12CO2': 1, 'NN[C@H]1O/C1=N/O': 2, 'ON[C@]12NO[C@@H]1O2': 2, 'NO/N=C\\\\[C@@H]1CO1': 1, 'COO[C@@]12N=C1O2': 1, 'N[C@H]1O[C@]12NNO2': 1, 'C=C1O[C@H]1ONC': 1, 'NNO[N@@]1[C@H]2O[C@@H]21': 1, 'ON[C@]1(OO)CO1': 1, 'CNCO[C@H]1CO1': 1, 'N[C@@H]1N[C@H]2O[C@@]12N': 1, 'NCN[C@H]1O[C@H]1O': 1, 'CN(NN)[C@@H]1CO1': 1, 'N/N=N\\\\O[C@H]1CO1': 1, '[N-]=[N+]1N[C@@]23N[C@]12O3': 1, 'N#C[C@@H]1CO1': 1, 'ON[C@]1(O)CO1': 1, 'ONN/N=C1\\\\CO1': 1, 'OO/C=C1\\\\CO1': 1, 'N[C@@]12N[C@]3(O[C@@H]31)O2': 1, 'NC[C@H]1O[C@]12CO2': 1, 'C[C@]1(ON=N)CO1': 1, 'N=N[C@]1(ON)CO1': 2, 'N[C@H]1O[C@@H]1NCO': 1, 'NON(O)[C@@H]1CO1': 1, 'C[C@]12OO[C@]1(N)O2': 1, 'ONNC[C@@H]1CO1': 1, 'CNN[C@]1(O)CO1': 1, 'N=C1N[C@]2(N)O[C@H]12': 1, 'NNO[C@@]12O[C@H]1O2': 1, 'N1=C2O[C@@H]2NN1': 1, 'CO[C@]1(N)O[C@H]1O': 1, 'NC[C@H]1O[C@]1(N)N': 2, 'NNO[C@@]12N=C1O2': 1, '[O-][N+]1=N[C@H]2O[C@@H]21': 1, 'C[C@]1(NN)O[C@H]1O': 1, 'N[C@]12ON[C@]1(N)O2': 2, 'NO[C@@H]1O[C@@H]1NO': 1, 'C[C@]1(N)O[C@@H]1NO': 1, 'NCO[C@@H]1O[C@H]1O': 1, 'N[C@@H]1[N@@]2N[C@]13O[C@H]23': 1, 'C[C@H]1O[C@@H]1NON': 1, 'CO[C@@]12N[C@@]1(O)O2': 1, 'NON1N=C2O[C@@H]21': 1, 'CO[C@]1(O)O[C@@H]1N': 1, 'N[C@@]1(N)CO1': 1, 'OC/C=N\\\\[C@@H]1CO1': 1, 'N[C@]12CN(O)[C@H]1O2': 1, 'N/C=N\\\\[C@@]1(N)CO1': 1, 'NCN(O)[C@@H]1CO1': 1, 'NCC/N=C1\\\\CO1': 1, 'N/C=N\\\\O[C@H]1CO1': 1, 'NN1O[C@@H]2O[C@@]21N': 2, 'ON1OO[C@]12CO2': 1, 'CN[C@H]1O[C@@H]1NN': 1, 'N/N=N\\\\[C@H]1O[C@H]1O': 1, 'N[C@@H]1NN[C@@]12CO2': 1, 'C[C@@H]1N=C2O[C@@H]2N1': 1, 'OCN1N[C@H]2O[C@@H]21': 1, 'N=C1O[C@@H]1NCN': 1, 'N[C@H]1O[C@H]1OCO': 1, 'N[C@@]12NN[C@]1(N)O2': 1, 'N/N=N\\\\[C@@]12N=C1O2': 1, 'CNO[C@@]1(O)CO1': 1, 'C[C@@]12NO[C@]1(O)O2': 1, 'NC[C@@]12NO[C@@H]1O2': 1, 'CN[C@]1(NO)CO1': 1, 'NNO[C@@]12O[C@@H]1O2': 1, 'C[C@]1(CON)CO1': 1, 'NN[C@@]1(NO)CO1': 1, 'CN1N[C@@]2(CO2)O1': 1}\n",
      "Validity: 61.18%\n",
      "Diversity: 6.12%\n"
     ]
    }
   ],
   "source": [
    "import sys\n",
    "sys.path.append(\"../\")\n",
    "from qmg.generator import MoleculeGenerator\n",
    "from qmg.utils import ConditionalWeightsGenerator\n",
    "from rdkit import RDLogger\n",
    "RDLogger.DisableLog('rdApp.*')\n",
    "\n",
    "# parameter settings for epoxide derivatives\n",
    "num_heavy_atom = 7\n",
    "random_seed = 3\n",
    "smarts = \"[O:1]1[C:2][C:3]1\"\n",
    "disable_connectivity_position = [1]\n",
    "num_sample = 10000\n",
    "\n",
    "cwg = ConditionalWeightsGenerator(num_heavy_atom, smarts=smarts, disable_connectivity_position=disable_connectivity_position)\n",
    "random_weight_vector = cwg.generate_conditional_random_weights(random_seed)\n",
    "mg = MoleculeGenerator(num_heavy_atom, all_weight_vector=random_weight_vector)\n",
    "smiles_dict, validity, diversity = mg.sample_molecule(num_sample)\n",
    "print(smiles_dict)\n",
    "print(\"Validity: {:.2f}%\".format(validity*100))\n",
    "print(\"Diversity: {:.2f}%\".format(diversity*100))"
   ]
  },
  {
   "cell_type": "code",
   "execution_count": 8,
   "metadata": {},
   "outputs": [
    {
     "name": "stdout",
     "output_type": "stream",
     "text": [
      "{'NO': 915, None: 695, 'CC': 1659, 'O': 288, 'CN': 886, 'C': 3427, 'NCNCN': 51, 'CNNNN': 1, 'N[C@H]1CCN1': 37, 'N': 50, 'CNCNN': 32, 'CCCNC': 30, 'CCCN': 89, 'CCN(N)N': 3, 'C[C@@H]1CC=N1': 12, 'NNCNO': 19, 'C1CNNC1': 2, 'CC[C@@H](N)N': 151, 'C=C[C@@H](N)N': 9, 'CO': 236, 'CN[C@@H](N)N': 84, 'CCCNN': 83, 'NCNON': 48, 'C=C(N)NC': 12, 'C1=NCC1': 7, 'CCC#N': 3, 'C[C@H]1NON1': 1, 'CNCCO': 7, 'CCCCN': 30, 'C1NON1': 7, 'CNOOC': 1, 'C#N': 4, 'C1CON1': 1, 'N[C@@]1(N)CN1': 3, 'N[C@H]1CC1': 3, 'CONCN': 20, 'C=CCCN': 9, 'COCCN': 7, 'N=C1NCN1': 6, 'C#C': 10, 'N=C(N)NN': 1, 'CCCO': 2, 'N=CNCN': 22, 'N=CCCN': 40, 'CNONN': 23, 'CNCN': 48, 'C=C': 7, 'N=C1CCN1': 5, 'CN[C@H](C)N': 37, 'C1CNC1': 15, 'NCCCN': 93, 'C=CNCN': 5, 'CCONN': 2, 'C1=CC1': 1, 'C[C@@H]1CCN1': 25, 'CC[C@@H](C)N': 62, 'CNON': 24, 'NN[C@H]1CN1': 2, 'CCC(=N)N': 67, 'CC/C=N\\\\N': 4, 'CC[C@H]1CN1': 3, 'C=C(N)CC': 20, 'C=C1CCN1': 7, 'C[C@H]1N=C1N': 1, 'OO': 49, 'N[C@H]1CC=N1': 11, 'N[C@@H]1N=CN1': 11, 'COOC#N': 1, 'C1CNCN1': 2, 'CCC(C)=N': 3, 'C1=NCN1': 2, 'N[C@H]1NCN1': 19, 'C[C@]1(N)CN1': 2, 'C#CNCN': 1, 'CO[C@@H](N)N': 6, 'C/C=C\\\\NN': 3, 'NCNO': 10, 'CCC#CN': 1, 'CC[C@@H]1N=N1': 6, 'C=NCCC': 1, 'CN/C=N\\\\N': 5, 'CC[C@@H]1NN1': 2, 'NCCON': 8, 'N=C1N=CN1': 1, 'C1CCNC1': 2, 'NN': 14, 'NCn1[nH]o1': 1, 'CNCNO': 6, 'N/C=N/CN': 1, 'C[C@H]1NCN1': 9, 'NCOON': 3, 'CCNCN': 15, 'CN1CCC1': 5, 'CONC=N': 6, 'NN1CCO1': 2, 'CNC#N': 1, 'C=CC(=N)N': 2, 'CNCNC': 13, 'CN[C@H]1CC1': 2, 'CN[C@@H]1N=N1': 1, 'NN1CCC1': 14, 'COONN': 1, 'NNCCO': 3, 'C=CCC#N': 1, 'CN[C@@H]1NN1': 2, 'CNO': 3, 'N[C@@H]1NO1': 1, 'NN[C@@H]1NO1': 1, 'C[C@@H]1N=CN1': 2, 'CNC1=NN1': 2, 'N/C=N\\\\CN': 1, 'CN1NCN1': 1, 'CC/C=N\\\\C': 2, 'CO[C@@H](C)N': 1, 'N[C@@]1(N)CC1': 11, 'C1CN=NC1': 2, 'N#CNCN': 4, 'CNC(=N)N': 20, 'C1NCN1': 5, 'C[C@@H](N)CN': 1, 'NCCO': 4, 'CCNC=N': 1, 'C=C(N)OC': 1, 'N[C@]12N[C@@H]1N2': 1, 'CNC': 2, 'NCON': 1, 'CN1N=C1N': 1, 'N#CNON': 2, 'CCON': 7, 'CCONC': 1, 'C/N=C(\\\\C)N': 1, 'N=CCON': 1, 'N=C(N)NO': 1, 'NCOCN': 2, 'C[C@]1(N)CC1': 5, 'C[C@@H]1C#CN1': 1, 'CCNNN': 1, 'Cn1nc[nH]1': 1, 'C1CNN=N1': 1, 'C=C1N=CN1': 3, 'N[C@@H]1CCN1': 1, 'C1C2=N[C@H]12': 1, 'ON1CCC1': 1, 'C1N[C@H]2N[C@H]12': 1, 'N[C@@H](N)CO': 2, 'C#CONN': 1, 'C[C@@H](C)NN': 1, 'CNCN=N': 1, 'C=NON': 1, 'N[C@@H]1C[C@@H]1N': 4, 'C1=NOC1': 1, 'COCN': 1, 'NC1=NCC1': 2, 'CNONC': 12, 'C1NC2=N[C@H]12': 1, 'CN(C)CN': 1, 'CN1CCO1': 1, 'c1no[nH]1': 1, 'COOCN': 1, 'NC[C@@H]1CN1': 2, 'NNC1=CC1': 2, 'C=NCNC': 1, 'NONCO': 1, 'N#CCCN': 11, 'N/C=C/CN': 2, 'N/N=C\\\\NO': 1, 'NN1CNO1': 5, 'N[C@@]12C[C@H]1N2': 1, 'CNN(N)N': 2, 'CC1=NCC1': 1, 'C[C@H](N)CN': 1, 'C/N=C\\\\N': 1, 'N=CNO': 1, 'N#CNO': 2, 'N[C@H]1C=CN1': 2, 'NN1COO1': 1, 'NCOO': 2, 'C1=NNCC1': 1, 'CN1CNO1': 5, 'C=C1NCN1': 1, 'NNC1=CN1': 1, 'N=C[C@@H]1CN1': 1, 'C#C[C@@H](C)N': 1, 'N#COCN': 1, 'NN1CNC1': 5, 'N#CCON': 2, 'N#C/C=C\\\\N': 1, 'CN[C@H]1CN1': 1, 'NN1NCN1': 1, 'C1C2=N[C@@H]1N2': 1, 'CC/C=C\\\\N': 1, 'C/N=C\\\\NN': 1, 'C=N': 1, 'CCNC#N': 1, 'C=C[C@@H](C)N': 4, 'CCC': 2, 'N#CCC=N': 1, 'N[C@@H]1N[C@H]1N': 2, 'CCCCC': 2, 'NCCNN': 1, 'N=C(N)CN': 1, 'CCCN=N': 1, 'N=CNON': 1, 'C1N[C@@H]2N[N@]12': 1, 'N=C1CC1=N': 1, 'C[C@@](C)(N)N': 1, 'CN(N)ON': 1, 'C=NONN': 1, 'C[C@@H](C)CN': 1, 'N=O': 3, 'CN1CNC1': 2, 'CCC=N': 2, 'C=N[C@@H](N)N': 2, 'CCC1=CN1': 1, 'C=NO': 1, 'C=CCN': 1, 'CNC=N': 2, 'C/N=C\\\\NC': 1, 'N[C@@H]1CC=N1': 1, 'C#CCCN': 2, 'N=C1CC1': 1, 'N[C@H]1NON1': 1, 'C=C/C=C\\\\N': 1, 'C1[C@@H]2NN[C@H]12': 1, 'NC[C@H]1NO1': 1, 'N[C@]12CC1=N2': 1, 'C=CC(=C)N': 1, 'N=CC#CN': 1, 'CCCC=N': 2, 'C1C2=N[C@@H]12': 1, 'N=C1CC=N1': 1, 'Nn1nc[nH]1': 1, 'NCN1C=C1': 2, 'N/C=N\\\\O': 1, 'C1NNON1': 1, 'C[C@@H]1C=CN1': 1, 'N/C=N\\\\ON': 2, 'C[C@@]1(N)CN1': 1, 'N[C@@H]1NCO1': 1, 'C=C1CC=N1': 4, 'CNCOC': 1, 'C#CCC': 1, 'N#CCC#N': 1, 'CNN1C=N1': 1, 'C=C(O)CC': 1, 'N[C@H]1CON1': 1, 'N=CCC=N': 1, 'NNONO': 1, 'CC1=C(N)N1': 1, 'N/C=C\\\\CN': 1, 'C1C[N@@]2C[N@]12': 1, 'COCNN': 2, 'NC1=C(N)C1': 1, 'C[C@H]1N[C@H]1N': 1, 'C[N@@]1N[C@@H]1N': 1, 'C[C@]12N=C1N2': 1, 'C=C1C[C@H]1N': 1, 'CN[C@@H]1CN1': 1, 'CC#CCN': 1, 'N1O[C@@H]2N[C@H]12': 1, 'C/C(C)=C/N': 1, 'C=NONC': 1, 'CCCC#N': 1, 'C1=CCCN=1': 1, 'N=CNC=N': 1, 'N[C@H]1CN1': 1, 'CCNO': 1, 'NN1CCN1': 1, 'N=C/C=C\\\\N': 1, 'CCCON': 2, 'NN[C@H]1CC1': 1, 'CN[C@@H]1C=N1': 1, 'CC#CNN': 1, 'N[C@H]1CNN1': 1, 'CC[N+](=[N-])N': 1, 'N=CNNN': 1}\n",
      "Validity: 93.05%\n",
      "Diversity: 2.75%\n"
     ]
    }
   ],
   "source": [
    "import sys\n",
    "sys.path.append(\"../\")\n",
    "from qmg.generator import MoleculeGenerator\n",
    "from rdkit import RDLogger\n",
    "RDLogger.DisableLog('rdApp.*')\n",
    "\n",
    "# parameter settings\n",
    "num_heavy_atom = 5\n",
    "num_sample = 10000\n",
    "random_seed = 7\n",
    "\n",
    "mg = MoleculeGenerator(num_heavy_atom) \n",
    "smiles_dict, validity, diversity = mg.sample_molecule(num_sample, random_seed)\n",
    "print(smiles_dict)\n",
    "print(\"Validity: {:.2f}%\".format(validity*100))\n",
    "print(\"Diversity: {:.2f}%\".format(diversity*100))"
   ]
  },
  {
   "cell_type": "code",
   "execution_count": 3,
   "metadata": {},
   "outputs": [
    {
     "name": "stdout",
     "output_type": "stream",
     "text": [
      "{'N=C=C(N)C(=O)CN': 1, None: 411, 'NCC(=O)CCNNO': 1, 'CC(=O)/C=C\\\\N(C)NN': 1, 'CC(=O)CCN(N)N=N': 1, 'NCC(=O)[C@H]1CNC1=O': 1, 'N/N=C/CC(=O)CC=O': 1, 'CC(=O)[C@H]1C=NN1NO': 1, 'NNN1CCC(=O)CN1': 1, 'CC(=O)[C@@H]1N[C@@H]1NNN': 1, 'CC(=O)[C@H](N)CNCO': 1, 'C[C@@H](N)C(=O)CN(N)O': 1, 'N[C@@H]1N=C=CC(=O)CO1': 1, 'C[C@@H]1CC(=O)CC=N1': 1, 'CN1CCC(=O)CC1=N': 1, 'C=C(CNN=N)C(C)=O': 1, 'CCC(=O)CCNCO': 1, 'CC(=O)CN=N': 2, 'CC(=O)/C=C\\\\NC(=N)N': 1, 'NN1C[C@H]2N[C@H]1CC2=O': 1, 'O=C1[C@H](CO)[C@H]2NN[C@@H]12': 1, 'CC(=O)C/C=N/C(C)=O': 1, 'CC(=O)CCN(C)C': 2, 'CC(=O)CCNNN': 1, 'CN1CC(=O)CCN1': 1, 'C[C@]1(N)CC(=O)[C@H]2C[N@]21': 1, 'CC(=O)/C(N)=C/NN=O': 1, 'CC(=O)[C@H]1CN[C@@H](N)O1': 2, 'NNN1CCC(=O)CC1': 1, 'N=NCC(=O)C=C=NN': 1, 'N[N@@+]1([O-])CC(=O)CCN1': 2, 'CC(=O)CCN(N)NN': 1, 'O=C1C=C=NC1': 2, 'NCCC(=O)CN': 1, 'CCC(=O)/C=C\\\\N=N': 1, 'C[C@@H](NNO)C(=O)CN': 2, 'CC(=O)[C@@H](C)N(C)NO': 1, 'NC[C@@H](N)C(=O)CN=O': 1, 'CC(=O)CCNC(C)=O': 1, 'CC(=O)[C@@H](C)[N+](=[N-])CO': 1, 'NN1CC(=O)C=CN1': 1, 'O=C(CNO)C1=NN=C1': 1, 'CC(=O)[C@H](C)CNNO': 1, 'NN=C=CC(=O)CCO': 1, 'NN(C=O)C1=CC(=O)C1': 1, 'CC(=O)C=C=NC(N)=O': 1, 'CC(=O)[C@]1(N)C=NCO1': 1, 'CC(=O)CCN(C)CO': 2, 'CN(C)[C@H]1CC(=O)C1': 1, 'NNCCC(=O)CN=O': 1, 'CN/C=C\\\\C(=O)CNO': 1, 'CC(=O)[C@H]1CN(C)CO1': 1, 'N=C=CC(=O)CCNO': 1, 'NCCC(=O)C[C@@H](N)O': 2, 'NN[C@H]1CC(=O)CCN1': 1, 'N[N@+]1([O-])CC(=O)CCO1': 1, 'C=C(NCNO)C(C)=O': 1, 'NN/C=C1\\\\OCCC1=O': 1, 'NN1CC(=O)[C@H]2C[N@]21': 1, 'CCC(=O)CCNNO': 3, 'O=C1C[C@H](O)C1': 1, 'N=C=C(N)C(=O)CCO': 1, 'CC(=O)CCNCNO': 7, 'CC(=O)[C@H]1C[N@@]1NN': 1, 'NN1C=CC(=O)CC1=O': 1, 'CC(=O)C1=NN(NN)C1': 1, 'CC(=O)[C@H]1CN(C)N1O': 2, 'N=C=C(N)C(=O)CC=O': 1, 'NNN1CC(=O)CC=N1': 1, 'CC(=O)C=C=NNN': 1, 'C[C@]1(N)CC(=O)C=C=N1': 1, 'NN1CCC(=O)CN=N1': 1, 'N[N@]1[C@@H]2[C@H]3CO[C@]21C3=O': 1, 'CC(=O)/C=C\\\\N(C)NO': 6, 'CCC(=O)CN': 6, 'CC(=O)CCNC(=N)N': 1, 'CC(=O)/C(O)=C/N(C)N': 1, 'NC1=CNN=NCC1=O': 1, 'CC1=CNN(O)CC1=O': 1, 'CC(=O)CCN(N)CO': 7, 'NCC(=O)CCNCO': 2, 'N=CN1CCC(=O)C=N1': 1, 'CC(=O)/C(=C/NN)NO': 2, 'NC1=CC(=O)C1': 27, 'O=C1C=CN[C@@H](NO)C1': 2, 'CC(=O)CNN': 2, 'NN1C=CC(=O)CC1': 4, 'NN(N)CCC(=O)CO': 1, 'CC(=O)/C=C\\\\[N+](=[N-])NO': 1, 'CC(=O)/C=C\\\\N(C)N': 3, 'NN=C=CC(=O)CNO': 1, 'CC(=O)[C@H](N)/C=N/CO': 1, 'CC(=O)CCN(C)NO': 6, 'CC(=O)[C@H]1CN(N)CN1': 1, 'CCC(=O)[C@@H](C=N)CO': 1, 'N=C1CC(=O)C1': 8, 'O=C1CNn2cc1n2O': 1, 'CNC[C@@H](C=O)C(C)=O': 1, 'NN(NO)C1=CC(=O)C1': 2, 'CC(=O)[C@H]1CN(NO)N1': 2, 'NNC#CC(=O)CNO': 1, 'C=CC(=O)CN': 1, 'O=C1CCNN(O)C1': 1, 'CC(=O)CCNNO': 1, 'C/N=C/[C@@H](CO)C(C)=O': 1, 'C=C(N)C(=O)CC(N)=O': 1, 'CN1C=C(O)C(=O)CN1': 1, 'NN1C=CC(=O)C[C@@H]1O': 6, 'CC(=O)C1=CN1N': 1, 'CC(=O)[C@@]12CN(N)[C@H]1O2': 1, 'CC(=O)/C=C\\\\NCNO': 8, 'C/N=C/[C@H]1N=CCC1=O': 1, 'C=C(C(C)=O)N(N)N': 2, 'CC(=O)c1cn(C)[nH]1': 1, 'CC(=O)/C=C\\\\NCCN': 2, 'N=C[C@H]1CO[C@H](N)C1=O': 1, 'NN1[C@@H]2[C@@H]3C(=O)[C@@H]2O[C@@H]31': 1, 'O=C1C[N@@]2C[C@H]12': 1, 'CC(=O)/C=C\\\\N(N)NO': 4, 'CCC(=O)[C@H](O)CN=N': 1, 'O=C1C/C(=N/CNO)C1': 1, 'CC(=O)[C@H](N)CNC=O': 1, 'O=C(CNNO)C1=CN1': 1, 'CN=C=CC(=O)CC=O': 1, 'CC(C)=O': 7507, 'CN(NO)[C@H]1CC(=O)C1': 2, 'CC(=O)C1=CN1N(N)O': 1, 'NNCCC(=O)CNO': 3, 'N/C=C\\\\C(=O)CCCO': 1, 'N/N=C/CC(=O)CNO': 1, 'CCC(=O)C=C=NC': 1, 'CC(=O)[C@H]1CN1': 49, 'NNCCC(=O)CC=O': 1, 'CC(=O)CC=O': 1, 'NNN[C@H]1CC(=O)C1': 1, 'CC(=O)C1=NO1': 1, 'CC(=O)CCN[C@@H](N)N': 1, 'C=N/C=C\\\\C(=O)CC': 1, 'CC(=O)CCNCN': 4, 'CC(=O)/C=C\\\\[N+](=[N-])CO': 1, 'NN1CCC(=O)C[C@@H]1O': 2, 'N=CCC(=O)CCNN': 1, 'O=C1CN(O)[N@]2C[C@H]1N2': 1, 'CC(=O)CC#N': 27, 'NN1[C@@H]2CC(=O)[C@@H]2N1O': 1, 'O=C1C=CN(NO)CC1': 2, 'N[C@H]1CC(=O)C1': 40, 'CC(=O)[C@H]1C=N1': 18, 'CC(=O)CCNNCO': 1, 'CC(=O)/C=C\\\\N(N)N=O': 1, 'O=C1CCNC1': 10, 'CC(=O)[C@]1(O)CN(N)C1': 1, 'CC(=N)C(C)=O': 2, 'CCC(=O)C=N': 1, 'CC(=O)CCN(N)C=O': 4, 'CC(=O)C=C=NCN': 1, 'C[C@H]1N[C@H]2CC(=O)[C@@H]21': 1, 'CCNCCC(C)=O': 2, 'NC[C@H]1O[C@H](N)CC1=O': 1, 'O=C1C=CNC1': 3, 'N=CCC(=O)CN(N)N': 1, 'N[C@H]1CC(=O)[C@@H]1NNO': 1, 'CC(=O)[C@@H](C)N': 24, 'CC(=O)CCO': 11, 'CC(=O)/C=C\\\\N(N)CN': 3, 'C[C@@H](O)CC(=O)/C=C\\\\N': 3, 'CC(=O)CCN(C)N': 5, 'NN[C@H]1CC(=O)[C@@H]1N': 1, 'CC(=O)[C@H]1CN(N)N1O': 3, 'C[C@]1(C(=O)CO)N[N@@]1N': 1, 'CC(=O)[C@H](N)CNC=N': 1, 'CC(=O)CCN[C@@H](N)O': 9, 'CC(=O)C1=CN(N)NO1': 1, 'N/C=C\\\\C(=O)C[C@@H](N)O': 3, 'CC(=O)[C@H]1CN(N)NO1': 2, 'CN/C=C(\\\\NO)C(C)=O': 1, 'CC(=O)C(=C=NN)NO': 1, 'CC(=O)/C=C\\\\N(N)C=O': 3, 'NN1CCC(=O)CC1': 2, 'CCC(=O)CCNN': 4, 'CC(=O)CCN(N)C=N': 3, 'CC(=O)/C=C\\\\NCN': 2, 'NCCC(=O)CNN': 1, 'NN[C@H]1CC(=O)C=CN1': 1, 'CC(=O)CCN(C)NN': 2, 'CC(=O)CCNNNO': 2, 'CN[C@H](CC(C)=O)NO': 1, 'CC(=O)CCNN(N)N': 2, 'C=C(N)C(C)=O': 14, 'CC(=O)[C@H](N)CNN=O': 1, 'CCN/C=C\\\\C(C)=O': 1, 'CC(=O)[C@H]1C[N@@]1CNO': 2, 'CC(=O)/C=C\\\\NN(C)O': 1, 'CC(=O)CCN(N)NO': 7, 'CC(=O)CCNCOO': 1, 'CC(=O)/C=C\\\\N(N)CO': 6, 'CC(=O)C1=CN[C@@H](N)O1': 1, 'CC(=O)[C@@H]1CN(NO)C1': 2, 'NN1C=CC(=O)CN1O': 1, 'CC(=O)C#CN(C)N': 1, 'O=C1C=C=NN(NO)C1': 1, 'NNCCC(=O)CNN': 1, 'CC(=O)CCNC(N)=O': 3, 'CN(C)CCC(=O)CO': 1, 'NN/C=C1\\\\ONCC1=O': 1, 'O=C1CCN(NO)NC1': 1, 'CCC(=O)CN(C)NN': 1, 'CC(=O)C1=C=N1': 14, 'NN1C[C@H]2O[N@@]1CC2=O': 2, 'N=C=CC(=O)CN(N)O': 1, 'CC(=O)CCN(C)OO': 1, 'N=CCC(=O)C[C@@H](N)O': 1, 'CCC(=O)C1=NNC1': 1, 'CN[C@H](C)C(=O)CC=O': 1, 'CC(=O)/C=C\\\\N(C)CO': 1, 'NCCC(=O)CCN': 1, 'CC(=O)c1cn(C=O)[nH]1': 1, 'CC(=O)CCN': 633, 'CC(=O)CCNCCO': 2, 'CC(=O)C=C=NNNO': 1, 'CC(=O)C1=CN(N)[C@H]1O': 1, 'CC(=O)c1cn(NN)[nH]1': 1, 'CC(=O)[C@H]1CN(C)N1': 1, 'CCC(=O)c1c[nH][nH]1': 1, 'CCN/C=C(\\\\O)C(C)=O': 1, 'CC(=O)[C@H]1CO1': 2, 'CC(=O)/C=C\\\\N': 410, 'CC(=O)C=C=N': 95, 'CC(=O)c1cn(N=N)[nH]1': 1, 'CNC[C@@H](O)C(=O)CN': 1, 'N/N=C/CC(=O)CNN': 2, 'N[C@@H]1CCC1=O': 4, 'C=NCCC(=O)CCO': 1, 'O=C1CCN[C@@H](NO)C1': 1, 'CC(=O)/C=C\\\\N(O)N=O': 1, 'CCC(=O)C=C=NNO': 1, 'NN1CCC(=O)CN1O': 2, 'CN1CCC(=O)C[C@@H]1N': 1, 'CC(=O)C1=C[N+](=[N-])CO1': 1, 'CC(=O)C(N)=C=NNO': 1, 'C[C@@H](N)C(=O)CNCO': 1, 'NN1CCC(=O)[C@@H]2O[C@@H]21': 1, '[N-]=[N+]1C=C1C(=O)CN=O': 1, 'CC(=O)/C=C\\\\NCCO': 1, 'CC(=O)/C=C\\\\[N+](=[N-])N': 1, 'N/C=C\\\\C(=O)CCN': 2, 'CN(N)CCC(=O)CO': 1, 'CC(=O)[C@H]1C[N@@]1CCN': 1, 'CC(=O)CCN(C)C=N': 1, 'O=C1CC=NC1': 3, 'C#CC(=O)CCNNO': 1, 'CNNCCC(C)=O': 1, 'C[C@]12CC(=O)C(=C=N1)O2': 1, '[N-]=[N+](N)CC(=O)/C=C\\\\N': 1, 'NCCC(=O)CCNO': 1, 'CCC(=O)/C=C\\\\NNO': 2, 'N/C=C\\\\C(=O)CN': 1, 'CC(=O)[C@H]1CN(N)CO1': 1, 'N[C@@]1(O)CC(=O)C=CN1': 1, 'C[C@H]1NCC1=O': 1, 'C[C@H]1C(=O)C[C@@H]1NNN': 1, 'CC(=N)C(=O)CC(=N)N': 1, 'CC(=O)/C=C\\\\N[C@H](C)O': 1, 'CCC(C)=O': 5, 'CC(=O)c1cn(C)n1O': 2, 'N[C@H]1CC(=O)C=CN1': 2, 'CC(=O)C1=CN1': 32, 'O=C(CCO)[C@@H]1CNC1': 1, 'CC(=O)c1cn(CN)[nH]1': 1, 'CC(=O)[C@H]1CN(N)[C@H]1O': 1, 'N[C@@H]1C=NC(=O)CC1=O': 1, 'CC(=O)/C=C\\\\N(N)NN': 1, 'CC(=O)CC(=O)C=C=N': 1, 'O=C1C=NCC1': 1, 'CC(=O)[C@H]1CN(N)N1': 1, 'N[C@]12OCN=C1CC2=O': 1, 'CN/C=C(\\\\N)C(C)=O': 3, 'CC(=O)C1=NC1': 1, 'NNCC(=O)[C@@H]1CNC1': 1, 'N/C=C\\\\C(=O)CNN': 1, 'NN1CC(=O)[C@H](O)CN1': 1, 'CC(=O)C(N)=C=NCO': 1, 'CC(=O)[C@H]1CN(C=O)N1': 3, 'N=CC(=O)[C@@]1(O)CNN1': 1, 'O=C1C=CN[C@H]1NNO': 1, 'N=C1CC(=O)CCN1N': 1, 'N[C@@H]1CNN(O)CC1=O': 1, 'CC(=O)C#CN': 4, 'CC(=O)/C=C\\\\O': 4, 'CC(=O)CCN(C)C=O': 1, 'NCCC(=O)CC(N)=O': 1, 'CC(=O)[C@@H]1CN(CN)C1': 1, 'CC(=O)C=C=NNNN': 1, 'CC(=O)C1=CN1NN': 1, 'CNCCC(=O)[C@@H](N)O': 1, 'O=C1CCNC=C1NO': 1, 'N=CCC(=O)[C@H]1CNN1': 1, 'NN1CCC(=O)CC1=O': 1, 'CC(=O)CC[N+](=[N-])CO': 1, 'NCC(=O)[C@H]1CNN1O': 1, 'O=C1C=CNN(NO)C1': 1, 'CC(=O)[C@H](O)CNCO': 1, 'O=C1C[C@H]2N=C12': 1, 'CC(=O)c1cn(N)n1O': 1, 'N=NCCC(=O)CN=O': 1, 'CC(=O)[C@H](N)CN(C)N': 1, 'CC(=O)CC=N': 167, 'C=CC(=O)CN[C@@H](N)N': 1, 'O=C1C[C@H]2[C@H]1CN2NO': 1, 'CC(=O)CON': 3, 'O=C1CC[N@]2C[C@H]1N2': 1, 'CC(=O)CON(C)N=O': 1, 'O=C(CCO)[C@H]1CN=N1': 1, 'O=C1C[C@@H]2N[C@@H](NO)[C@@H]12': 1, '[N-]=[N+]1[C@@H](O)[C@H]2C(=O)C[C@@H]21': 1, 'CC(=O)C=C=O': 1, 'Cn1c2c(n1O)C(=O)C2': 1, 'O=C(CCCO)[C@H]1CN1': 1, 'NN(CO)C1=CC(=O)C1': 1, 'CC(=O)[C@H](CN)CNN': 1, 'CN1CCC(=O)CN1': 1, 'O=C1C[C@H](O)[N@]2C[C@H]1N2': 1, 'CCC(=O)/C(=C/N)NO': 2, 'CC(=O)CCN(N)N': 2, 'NNCCC(=O)CCO': 2, 'CC(=O)CCN[C@H](C)O': 1, 'CC(=O)[C@](C)(N)N(N)N': 1, 'CC(=O)C/C=N/CN': 1, 'CC(=O)[C@]12C[N@@](CO1)N2': 1, 'CC(=O)/C=C\\\\NNNO': 3, 'O=C1CCN(NO)CC1': 1, 'CCC(=O)[C@@H](CN)NO': 1, 'CC(=O)CCNN(N)O': 2, 'CC(=O)/C=C\\\\N(O)NO': 1, 'O=C1C[C@H]2N[C@@H]12': 4, 'CC(=O)/C=C\\\\NC(N)=O': 4, 'CC(=O)[C@](C)(O)N(C)N': 1, 'CN=C=CC(=O)CCO': 1, 'C[C@@H]1CNCCC1=O': 1, 'O=C1C=C=N[C@@H](NO)C1': 1, 'CC(=O)/C(O)=C/NNN': 1, 'NCCC(=O)CCNN': 1, 'O=C(C/C=N/O)CCO': 1, 'O=C1CC=N[C@@H](NO)C1': 1, 'CC(=O)C1=C=N[C@@H](N)O1': 1, 'N[C@@H]1NCCC(=O)CO1': 1, 'CCCC(=O)CNN': 1, 'O=CCC(=O)[C@H]1CN=N1': 1, 'C[C@@H](NN)C(=O)CNO': 1, 'CC(=O)c1cn(N=O)[nH]1': 1}\n",
      "Validity: 95.89%\n",
      "Diversity: 3.49%\n"
     ]
    }
   ],
   "source": [
    "import sys\n",
    "sys.path.append(\"../\")\n",
    "from qmg.generator import MoleculeGenerator\n",
    "from qmg.utils import ConditionalWeightsGenerator\n",
    "from rdkit import RDLogger\n",
    "RDLogger.DisableLog('rdApp.*')\n",
    "# parameter settings for ketone derivatives\n",
    "num_heavy_atom = 9\n",
    "random_seed = 2\n",
    "smarts = \"[C:1][C:2](=[O:3])[C:4]\"\n",
    "disable_connectivity_position = [2, 3]\n",
    "num_sample = 10000\n",
    "\n",
    "cwg = ConditionalWeightsGenerator(num_heavy_atom, smarts=smarts, disable_connectivity_position=disable_connectivity_position)\n",
    "random_weight_vector = cwg.generate_conditional_random_weights(random_seed)\n",
    "mg = MoleculeGenerator(num_heavy_atom, all_weight_vector=random_weight_vector) \n",
    "smiles_dict, validity, diversity = mg.sample_molecule(num_sample)\n",
    "print(smiles_dict)\n",
    "print(\"Validity: {:.2f}%\".format(validity*100))\n",
    "print(\"Diversity: {:.2f}%\".format(diversity*100))"
   ]
  },
  {
   "cell_type": "code",
   "execution_count": null,
   "metadata": {},
   "outputs": [],
   "source": [
    "import sys\n",
    "sys.path.append(\"../\")\n",
    "from qmg.generator import MoleculeGenerator\n",
    "from qmg.utils import ConditionalWeightsGenerator\n",
    "from rdkit import RDLogger\n",
    "RDLogger.DisableLog('rdApp.*')\n",
    "\n",
    "# parameter settings for epoxide derivatives\n",
    "num_heavy_atom = 5\n",
    "random_seed = 2\n",
    "smarts = \"[C:1]1[N:2][C:3]=[C:4][C:5]=1\"\n",
    "disable_connectivity_position = [2]\n",
    "num_sample = 10000\n",
    "\n",
    "cwg = ConditionalWeightsGenerator(num_heavy_atom, smarts=smarts, disable_connectivity_position=disable_connectivity_position)\n",
    "random_weight_vector = cwg.generate_conditional_random_weights(random_seed)\n",
    "mg = MoleculeGenerator(num_heavy_atom, all_weight_vector=random_weight_vector) \n",
    "\n",
    "# smiles_dict, validity, diversity = mg.sample_molecule(num_sample)\n",
    "# print(smiles_dict)\n",
    "# print(\"Validity: {:.2f}%\".format(validity*100))\n",
    "# print(\"Diversity: {:.2f}%\".format(diversity*100))"
   ]
  }
 ],
 "metadata": {
  "kernelspec": {
   "display_name": "qmg",
   "language": "python",
   "name": "python3"
  },
  "language_info": {
   "codemirror_mode": {
    "name": "ipython",
    "version": 3
   },
   "file_extension": ".py",
   "mimetype": "text/x-python",
   "name": "python",
   "nbconvert_exporter": "python",
   "pygments_lexer": "ipython3",
   "version": "3.12.6"
  }
 },
 "nbformat": 4,
 "nbformat_minor": 2
}
