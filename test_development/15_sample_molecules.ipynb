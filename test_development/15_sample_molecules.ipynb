{
 "cells": [
  {
   "cell_type": "code",
   "execution_count": 1,
   "metadata": {},
   "outputs": [
    {
     "name": "stdout",
     "output_type": "stream",
     "text": [
      "{'CNN[C@@]1(N)CO1': 28, None: 3724, 'NOO[C@@H]1O[C@@H]1N': 15, 'N[C@H]1O[C@H]1O': 125, 'NNNN[C@@H]1CO1': 107, 'ON[C@@H]1CO1': 1023, 'O/N=C1\\\\CO1': 153, '[N-]=[N+](O)[C@@]1(N)CO1': 1, 'NN1ON[C@]12CO2': 22, 'CNN[C@@H]1CO1': 6, 'C1CO1': 198, 'OO[C@H]1CO1': 192, 'N1O[C@@H]2O[C@H]12': 179, 'N[C@]1(/N=N\\\\O)CO1': 4, 'NCOO[C@H]1CO1': 18, 'N/N=C1\\\\CO1': 64, 'NN1OO[C@]12CO2': 3, 'NON[C@H]1O[C@@H]1N': 28, 'NN[C@@H]1CO1': 418, 'NCON[C@@H]1CO1': 92, 'NN[C@@]1(N)O[C@H]1O': 10, 'NONN[C@@H]1CO1': 13, 'COON[C@@H]1CO1': 6, 'NNN[C@@]1(N)CO1': 109, 'NN[C@]1(ON)CO1': 16, 'NON[C@@]1(N)CO1': 289, 'N/C=N\\\\[C@@]1(N)CO1': 4, 'NNON[C@@H]1CO1': 254, 'NNO[C@@H]1O[C@@H]1N': 35, 'O1O[C@@H]2O[C@@H]12': 58, 'N/N=N\\\\[C@@]1(N)CO1': 19, 'N1N[C@H]2O[C@H]12': 99, 'NC[C@@H]1CO1': 18, 'CON[C@@]1(N)CO1': 97, 'N[C@]1(COO)CO1': 3, 'N[C@@H]1CO1': 61, 'NO[C@@H]1O[C@]1(N)N': 27, 'OON[C@]1(O)CO1': 4, 'NNN[C@@]12N=C1O2': 8, 'C/N=N\\\\[C@@]12N[C@H]1O2': 1, 'C=C1O[C@@H]1NOC': 1, 'NNN1N[C@H]2O[C@@H]21': 28, 'C=N[C@@H]1CO1': 11, 'N=C1O[C@@H]1NNO': 3, 'O=N[C@@H]1CO1': 155, 'N=N[C@@H]1CO1': 68, 'N[C@]1(NOO)CO1': 52, 'N=C1O[C@H]1OO': 1, 'N=NN[C@H]1O[C@@H]1N': 3, 'N[C@H]1O[C@@H]1N': 42, 'CN(CN)[C@@H]1CO1': 1, 'N=C1O[C@H]1O': 25, 'CN[C@@H]1CO1': 42, 'N[C@]1(ONO)CO1': 6, 'NNNO[C@H]1CO1': 14, 'N[C@]1(NN=O)CO1': 2, 'N1=C2O[C@@H]2N1': 6, 'NN1N[C@@]2(CO2)N1': 10, 'NCNN[C@@H]1CO1': 33, 'NNN[C@@]12N[C@H]1O2': 13, 'C[C@]1(ONN)CO1': 1, 'NO[C@H]1CO1': 89, 'O[C@@H]1O[C@H]1O': 18, 'NOC[C@@]1(N)CO1': 10, 'NCN1O[C@@H]2O[C@@H]21': 3, 'CO[C@H]1CO1': 8, 'NOO/N=C1\\\\CO1': 7, 'NO[C@@]12NO[C@@H]1O2': 4, 'NNOO[C@H]1CO1': 41, 'C[C@@]12NN(O)[C@H]1O2': 2, 'NON[C@]1(O)CO1': 14, 'NN1N[C@@]23N[C@]12O3': 1, 'OC[C@@H]1CO1': 27, 'NCO[N@@]1[C@H]2O[C@@H]21': 1, 'NNN(O)[C@@H]1CO1': 3, 'CN[C@]1(NO)CO1': 2, 'N[C@]12OC[C@]1(N)O2': 1, 'COO[C@@]1(N)CO1': 20, 'CON[C@@H]1CO1': 11, 'NON[C@@]12N[C@H]1O2': 30, 'NO[C@@]1(N=O)CO1': 2, 'NNN1O[C@@H]2O[C@@H]21': 2, 'ON1N[C@@]2(CO2)O1': 2, 'N[C@@H]1[N@@](N)[C@@]12CO2': 1, 'NNN[C@@H]1CO1': 7, 'N[C@@H](N)[C@H]1O[C@@H]1N': 2, 'NNN[C@H]1O[C@@H]1N': 25, 'NNC[C@H]1O[C@@H]1N': 1, 'NNN[C@]1(O)CO1': 3, 'CO[C@]1(N)OC1=O': 1, 'NOON[C@@H]1CO1': 48, 'N1[C@H]2O[C@]12n1[nH][nH]1': 1, 'NCN[C@@]1(N)CO1': 13, 'NNCN[C@@H]1CO1': 14, 'NNNC[C@@H]1CO1': 3, 'CN/N=C1\\\\CO1': 1, 'NO[C@@H]1O[C@@H]1N': 2, 'COO[C@@]1(O)CO1': 5, 'NN[C@]1(NO)CO1': 43, 'NN[C@]1(N=O)CO1': 8, 'N[C@H]1O[C@@]1(N)NO': 11, 'NON[C@H]1O[C@H]1O': 3, 'C[C@@]1(NON)CO1': 12, 'NC[C@@]1(O)O[C@H]1O': 1, 'N=C=C1CO1': 1, 'NCNO[C@H]1CO1': 11, 'NN[C@@]1(NN)CO1': 28, 'C[C@H]1O[C@@H]1NNO': 1, 'NN1NN[C@]12CO2': 13, 'COO[C@@]12N[C@H]1O2': 6, 'NNN/N=C1\\\\CO1': 13, 'NCO[C@@H]1O[C@@H]1N': 10, 'N[C@]12NNN[C@H]1O2': 2, 'CNO[C@@]1(N)CO1': 7, 'ONON[C@@H]1CO1': 17, 'N[C@@H](N)N[C@@H]1CO1': 3, 'N[C@H]1O[C@]12NON2': 3, 'N=C1CO1': 7, 'O=C1O[C@H]1O': 2, 'CON[C@H]1OC1=N': 12, 'NO[C@]1(N)O[C@H]1O': 2, 'N=C1O[C@@H]1n1[nH][nH]1': 1, 'NCN/N=C1\\\\CO1': 5, 'NN[C@]1(N)O[C@@H]1N': 4, 'N=C1O[C@@H]1NON': 16, 'N/N=N\\\\N=C1/CO1': 4, 'N[C@H]1O[C@@]12N[N@@]2O': 1, 'C=NC[C@H]1OC1=N': 1, 'N[C@H]1O[C@@H]1NOO': 6, 'CN(O)O[C@H]1CO1': 1, 'N1=C2O[C@H]2O1': 32, 'NC1=[N+]([O-])[C@@]12CO2': 1, 'NOOO[C@H]1CO1': 17, 'NN[C@H]1O[C@]1(N)N': 9, 'C=NO[C@@]1(N)CO1': 2, 'NN(N)N[C@@H]1CO1': 13, 'NN/N=C1\\\\CO1': 3, 'NOO[C@@]1(N)CO1': 47, 'C1=N[C@H]2O[C@H]12': 3, 'N=NN[C@@]1(N)CO1': 9, 'NN1N[C@H]2O[C@]21N': 5, 'NC[C@@]1(NO)CO1': 9, 'C[C@H]1ON[C@@]12CO2': 1, 'NN[C@@]1(N)O[C@@H]1N': 4, 'NON[C@@H]1CO1': 19, 'C/N=N\\\\[C@@]1(N)CO1': 6, 'C1[C@H]2O[C@@]12n1[nH]o1': 1, 'C1OO[C@@H]2O[C@H]12': 1, 'C/N=C1\\\\CO1': 10, 'NONO[C@H]1CO1': 5, 'N[C@]1(N)O[C@@H]1NO': 3, 'N[C@]1(NNO)CO1': 22, 'CO/N=C1\\\\CO1': 3, 'NN/N=N\\\\[C@@H]1CO1': 12, 'N[C@H]1O[C@]12NOO2': 3, 'NO/N=C1\\\\CO1': 5, 'CO[C@@H]1O[C@@]1(N)O': 2, 'NC[C@]1(ON)CO1': 2, 'N[C@H]1OC1=O': 2, 'NNOC[C@@H]1CO1': 6, 'C[C@H]1O[C@H]1ONN': 1, 'NOO[C@H]1CO1': 4, 'NO[C@@]12NN[C@H]1O2': 1, 'CNC[C@]1(O)CO1': 1, 'NO/N=C1/O[C@@H]1N': 6, 'NNC/N=C1\\\\CO1': 3, 'NN(N)[C@@]12N[C@H]1O2': 1, 'NON(O)[C@@H]1CO1': 1, 'NNO/N=C1\\\\CO1': 31, 'NN1N=N[C@]12CO2': 1, 'C[C@H]1O[C@]1(C)NO': 1, 'C[C@]1(N)O[C@]12NO2': 1, 'C[C@]1(N)O[C@H]1OO': 1, 'NCO[C@@H]1O[C@H]1O': 3, 'CNON[C@@H]1CO1': 15, 'NCN1N[C@H]2O[C@@H]21': 10, 'NNO[C@H]1CO1': 4, 'NC[C@@]1(NN)CO1': 5, 'N[C@H]1O[C@@]1(N)N=O': 3, 'COO[C@@H]1OC1=N': 1, 'NNN[C@H]1O[C@H]1O': 4, 'NON(N)[C@@H]1CO1': 1, 'CN[C@H]1O[C@]1(N)N': 7, 'OOO[C@@]12N[C@H]1O2': 2, 'C1N=C2O[C@H]12': 4, 'C1O[C@@H]2O[C@H]12': 14, 'NO[C@@]1(NO)CO1': 10, 'NOO[C@@]1(O)CO1': 4, 'CCN[C@@]1(N)CO1': 5, 'CNN[C@@]12N[C@H]1O2': 6, 'NN[C@H]1O[C@@H]1NN': 2, 'CO[C@@H]1O[C@]1(N)N': 9, 'NON1N[C@H]2O[C@@H]21': 3, 'NN[C@@H]1N=C2O[C@@H]21': 2, 'N/N=N\\\\N[C@@H]1CO1': 10, 'N/N=N/[C@H]1O[C@@H]1N': 2, 'NNO[C@@]1(N)CO1': 29, 'NN[C@@]12N[C@@]1(N)O2': 1, 'N[C@]1(N(O)O)CO1': 1, 'CO[C@]1(C)O[C@@H]1N': 1, 'N[C@]1(OOO)CO1': 13, 'NON[C@]12C[C@H]1O2': 4, 'CON[C@H]1O[C@@H]1N': 8, 'NN1N[C@]23C[C@@]12O3': 1, 'C[C@]1(NO)OC1=N': 2, 'CC[C@@H]1CO1': 1, 'C[C@@H]1CO1': 2, 'NN[C@H]1O[C@@H]1NO': 3, 'N/C=N\\\\N[C@@H]1CO1': 5, 'CN(N)N[C@@H]1CO1': 2, 'CON[C@@]12N[C@H]1O2': 18, 'N[C@]1(CNO)CO1': 2, 'N[C@H]1[C@H]2O[C@@]21OO': 1, 'CNNO[C@H]1CO1': 1, 'N[C@@]12O[C@@H]1[C@@H]1O[N@]12': 1, 'NCO/N=C1\\\\CO1': 10, 'OCN(O)[C@@H]1CO1': 1, 'CN[C@]1(N)O[C@@H]1N': 2, 'ONOO[C@H]1CO1': 2, 'NO[C@@H]1O[C@@]1(N)O': 7, 'OO[C@@]1(OO)CO1': 1, 'OC[C@@]12NN[C@H]1O2': 1, 'N[N@@]1[N@@](O)[C@@]12CO2': 1, 'N[C@]12NN(O)[C@H]1O2': 2, 'N/N=N\\\\[C@@]12N[C@H]1O2': 1, 'N=C1O[C@@]12CON2': 1, 'N=C1O[C@@H]1N': 7, 'C[C@]1(OOO)CO1': 1, 'NN1O[C@]2(O)O[C@H]12': 2, 'NN[C@]12NN[C@H]1O2': 5, 'NOO[C@@]12N=C1O2': 4, 'N/C=C1\\\\N[C@H]2O[C@H]12': 1, 'NN(O)[C@@]1(N)CO1': 5, 'N/N=C\\\\N=C1/CO1': 1, 'C[C@H]1O[C@@H]1NNN': 1, 'N[C@@H]1N[C@H]2O[C@@]12N': 1, 'C/N=N\\\\[C@H]1O[C@@H]1N': 1, 'N[C@]1(O)CO1': 6, 'NON[C@@]12O[C@H]1O2': 2, 'N=C1O[C@H]1OCN': 2, 'CO[C@@]1(NO)CO1': 2, 'N[C@H]1ON[C@@]12CO2': 4, 'C[C@]1(OON)CO1': 3, 'C[C@@H]1N[C@@]2(CO2)N1': 3, 'CN(N)O[C@H]1CO1': 1, 'NON/N=C1\\\\CO1': 2, 'N[C@]1(n2[nH][nH]2)CO1': 1, 'CCN[C@H]1O[C@@H]1N': 3, 'NNN[C@]12C=C1O2': 2, 'N[C@]1(OO)CO1': 1, 'N/C=C1\\\\CO1': 2, 'CN[C@@H]1N[C@H]2O[C@H]12': 1, 'ONO[C@@H]1O[C@H]1O': 1, 'N[C@@H]1NN[C@@]12CO2': 3, 'N[C@H]1O[C@@H]1N(N)N': 2, 'COC[C@@]1(N)CO1': 4, 'NN1[N@@]2N[C@]13O[C@H]23': 1, 'N=C1O[C@@]1(N)NO': 3, 'NN1N[C@]2(N)O[C@H]12': 20, 'ONNN[C@@H]1CO1': 5, 'O=C[C@@H]1CO1': 6, 'NN1O[C@]2(N)O[C@H]12': 5, 'N[C@@]12O[C@@]13NO[N@@]23': 1, 'ON[C@@]1(NO)CO1': 3, 'C[C@H]1O[C@@H]1N': 6, 'CO[C@@H]1O[C@]1(C)N': 1, 'C[C@H]1O[C@]12NON2': 1, 'C[C@H]1O[C@@H]1NCN': 1, 'NN[C@]1(OO)CO1': 6, 'CN1O[C@@H]2O[C@]21N': 4, 'NOO[C@@]12N[C@H]1O2': 4, 'C[C@H]1O[C@H]1OON': 2, 'CNN[C@]1(C)CO1': 2, 'CON[C@@]12N=C1O2': 6, 'ON[C@]12NN[C@H]1O2': 1, 'C1N[C@H]2O[C@H]12': 12, 'N[C@]12NN[C@]1(N)O2': 1, 'C1O[C@]12NON2': 3, 'N=C1O[C@H]1ONN': 5, 'NCN/C=C1\\\\CO1': 1, 'N1=N[C@H]2O[C@H]12': 13, 'C[C@H]1O[C@H]1OCN': 1, 'ONO[C@H]1CO1': 1, 'NN(N)O[C@H]1CO1': 2, 'N[C@]1([N@@]2CN2)CO1': 1, 'C[C@]1(ON)CO1': 1, 'ON1N[C@@]2(CO2)N1': 2, 'O[C@H]1N[C@]23O[C@@H]2[N@]13': 1, 'NCCN[C@@H]1CO1': 5, 'N/N=N\\\\O[C@H]1CO1': 2, 'C1O[C@]12NO2': 1, 'N=NN[C@@]12N=C1O2': 1, 'C[C@@H]1O[N@@]1[C@@H]1CO1': 1, 'CON[C@]1(O)CO1': 3, 'NN[C@@H]1N[C@H]2O[C@H]12': 2, 'C[C@]1(NN)OC1=O': 1, 'CN1N[C@@]2(CO2)N1': 3, 'CC[C@@]1(NO)CO1': 1, 'CN1C[C@]2(N)O[C@H]12': 1, 'N=N[C@H]1O[C@]1(N)N': 2, 'COCN[C@@H]1CO1': 1, 'CN1N[C@@]2(O)O[C@H]12': 2, 'O/C=C1\\\\CO1': 3, 'C/N=N\\\\[C@]1(O)CO1': 1, 'NOO[C@@]12C[C@H]1O2': 1, 'C=NO[C@@]12N[C@H]1O2': 1, 'N/N=N\\\\[C@@H]1CO1': 2, 'NCO[C@@]1(N)CO1': 6, 'NN[C@H]1O[C@@]1(N)O': 2, 'NCN[C@H]1O[C@@H]1N': 6, 'OON[C@@]12N=C1O2': 1, 'NN1N=C2O[C@@H]2N1': 1, 'NNC[C@@]1(N)CO1': 4, 'CNN[C@H]1OC1=N': 2, 'NCN(N)[C@@H]1CO1': 1, 'N[C@]1(N)O[C@H]1OO': 4, 'NN1N[C@]23O[C@@H]2[N@]13': 2, 'N=C1O[C@@H]1NNN': 6, 'CN[C@@]1(NN)CO1': 4, 'NN[C@@]1(O)OC1=O': 1, 'NON[C@@]12N=C1O2': 11, 'N=N[C@H]1O[C@@]1(N)O': 1, '[N-]=[N+]=C1CO1': 3, 'NCN[C@]1(O)CO1': 1, 'NC/N=N\\\\[C@@H]1CO1': 5, 'NN1[N@@]2O[C@@]13O[C@H]23': 1, 'ONN(O)[C@@H]1CO1': 1, 'O[C@@H]1O[C@@]12CNN2': 1, 'NNC[C@@H]1CO1': 1, 'N/N=N\\\\[C@H]1O[C@@H]1N': 3, 'N[C@H]1O[C@@]1(N)OO': 1, 'C=C1O[C@H]1O': 1, 'NON1O[C@@H]2O[C@@H]21': 2, 'CNN[C@@]12N=C1O2': 4, 'NN(N)[C@@]1(N)CO1': 2, 'O[C@H]1CO1': 8, 'OCON[C@@H]1CO1': 6, 'CN(O)N[C@@H]1CO1': 1, 'C[C@@]1(NNN)CO1': 6, 'NN1[N@]2N[C@@]13O[C@H]23': 2, 'CON[C@]1(C)CO1': 7, 'CCN[C@H]1OC1=O': 1, 'OCN[C@@H]1CO1': 1, 'N=c1o/c1=N/NN': 2, 'C[C@H]1O[C@@]1(N)NO': 1, 'NOO[C@@H]1OC1=O': 1, 'NO[C@@H]1O[C@H]1O': 1, 'NO[C@]1(N)O[C@@H]1N': 7, 'CO[C@]1(N)O[C@@H]1N': 3, 'CN1N[C@]2(N)O[C@H]12': 3, 'NC[C@@]12N[C@@]1(N)O2': 1, 'NN1N[C@H]2O[C@@]21N': 1, 'OC1=NN[C@@]12CO2': 1, 'NN[C@@]12OC1=C2N': 1, 'ON1N[C@H]2O[C@H]2O1': 1, 'OOO[C@@]1(O)CO1': 1, 'NNN(N)[C@@H]1CO1': 2, 'NCNC[C@@H]1CO1': 2, 'NN1O[C@@]23N[C@]12O3': 1, 'N[C@H]1O[C@@H]1NCO': 1, 'NNC1=N[C@H]2O[C@H]12': 1, 'C/N=N\\\\[C@@H]1CO1': 1, 'N[C@]1(N=O)CO1': 1, 'ONN[C@@]12N=C1O2': 2, 'N[C@H]1O[C@@H]2O[C@]21N': 1, 'ONN[C@@H]1CO1': 2, 'ONN1N[C@H]2O[C@@H]21': 1, 'NOO[C@@H]1O[C@H]1O': 1, 'CN/N=N\\\\[C@@H]1CO1': 1, 'NNCO[C@H]1CO1': 2, 'C=C1O[C@@H]1NNN': 1, 'CNN[C@H]1O[C@@H]1N': 5, 'CCC[C@@]1(N)CO1': 1, 'OCN[C@@]12N[C@H]1O2': 1, 'NC[C@]1(N)O[C@H]1O': 2, 'N[C@]12OON[C@H]1O2': 1, 'C/C=N\\\\N[C@@H]1CO1': 1, 'NC[C@@]1(N=O)CO1': 1, 'OOON[C@@H]1CO1': 1, 'NCOC[C@@H]1CO1': 4, 'N[C@@]12NO[C@@H]1O2': 1, 'N[C@H]1O[C@@H]1NNO': 1, 'NN1ON[C@H]2O[C@@H]21': 1, 'N[C@]12NON=C1O2': 3, 'C[C@H]1O[C@@H]1NOO': 1, 'NNO[C@@H]1OC1=O': 2, 'NN[C@H]1O[C@@H]1N': 1, 'OON[C@@]12N[C@H]1O2': 4, 'CNNN[C@@H]1CO1': 4, 'N=C1O[C@]12NON2': 1, 'C[C@]1(N)O[C@@H]1N': 1, 'C/C=N\\\\[C@@]1(N)CO1': 1, 'C=CN[C@@]1(N)CO1': 1, 'NO/N=N\\\\[C@@H]1CO1': 1, 'ONN[C@]1(O)CO1': 3, 'ONO[C@@]12N[C@H]1O2': 1, 'COC[C@@]12C[C@H]1O2': 1, 'CCON[C@@H]1CO1': 6, 'C=C1O[C@@H]1NNC': 1, 'N=N[C@]1(N)OC1=N': 1, 'NN[C@]12N=N[C@H]1O2': 1, 'N[C@]12NO[C@@H]1O2': 1, 'N[C@H]1O/C1=N/OO': 1, 'CN[C@]1(OO)CO1': 2, 'NN1O[C@@H]2O[C@]21N': 3, 'CN1N[C@@]2(CO2)O1': 1, 'N[C@]1(N)O[C@H]1O': 1, 'N[C@@]12O[C@@H]1NN2O': 2, 'NN[C@@]1(O)O[C@H]1O': 1, 'NC[C@]1(OO)CO1': 2, 'N[C@@]1(NO)O[C@H]1O': 2, 'ONN[C@@]12N[C@H]1O2': 1, 'NNN1N=C2O[C@@H]21': 3, 'ON[C@]1(O)CO1': 1, 'C/N=N\\\\N[C@@H]1CO1': 1, 'NO[C@@]12N[C@@]1(N)O2': 1, 'OCOC[C@@H]1CO1': 1, 'N[C@@H]1NC[C@]12CO2': 1, 'NN1N[C@H]2O[C@@H]21': 1, 'N[C@H]1O[C@]12NNN2': 5, 'NNO[C@@H]1O[C@H]1O': 4, 'N[C@]1(NCO)CO1': 4, 'ONO/N=C1\\\\CO1': 1, 'N[C@@]12O[C@H]1ON2O': 1, 'NN1NC[C@]12CO2': 1, 'CCN[C@@H]1CO1': 1, 'N[N@]1N[C@@]12O[C@H]2O': 1, 'NC1=N[C@@]2(CO2)N1': 1, 'NN1N[C@H]2O[C@@H]2N1': 1, 'ON1N[C@H]2O[C@@H]2N1': 1, 'N[C@@]1(N=O)O[C@H]1O': 1, 'OON[C@@H]1CO1': 3, 'N=N[C@@]1(NN)CO1': 2, 'OOO[C@H]1CO1': 1, 'N=C1O[C@@H]1/N=N\\\\O': 1, 'N=C1O[C@@H]1NCN': 3, 'NN[N@@]1[C@H]2O[C@]21N': 1, 'CN(O)[C@H]1O[C@@H]1N': 2, 'CN1N[C@H]2O[C@@]21N': 1, 'NC[C@@]12NO[C@@H]1O2': 1, 'N[C@H]1ON[C@H]2O[C@H]12': 1, 'CN1N[C@@]23N[C@]12O3': 2, 'COO[C@H]1CO1': 1, 'NC[C@]12OO[C@@H]1O2': 1, 'C[C@]1(NO)O[C@@H]1N': 3, 'NN/N=C1/O[C@@H]1N': 1, 'NNN1C[C@H]2O[C@@H]21': 1, 'CN(N)C[C@@H]1CO1': 1, 'N=C1O[C@]1(O)NO': 1, 'CN(N)[C@H]1OC1=N': 1, 'NN[C@]12NO[C@@H]1O2': 5, 'ONN[C@]12C[C@H]1O2': 1, 'NN1N[C@]23O[C@@]12O3': 1, 'NN(O)N[C@@H]1CO1': 2, '[N-]=[N+](O)N[C@@H]1CO1': 1, 'O[C@]12O[C@@H]1n1[nH]n12': 1, 'CO[C@]1(N)OC1=N': 1, 'C[C@@]12NN(N)[C@H]1O2': 2, 'N/N=N\\\\[C@@]12N=C1O2': 2, 'NCO[C@@]12N[C@H]1O2': 1, 'NCN[C@@]12N[C@H]1O2': 2, 'NC1=N[C@]2(N)O[C@H]12': 1, 'N=C1O[C@]1(O)NN': 1, 'N[C@H]1O[C@H]1OCO': 1, 'C[C@@]12O[C@@H]1N(N)O2': 1, 'N=C1O[C@]12NOO2': 2, 'NN1O[C@@H]2O[C@@]21N': 2, 'C[C@@]1(O)O[C@@]1(N)O': 1, 'N[C@]12ON[C@@]1(O)O2': 1, 'N[C@]12ON[C@]1(N)O2': 1, 'N=C1O[C@@]1(N)NN': 2, 'N[C@@]1(O)O[C@H]1OO': 2, 'OOOO[C@H]1CO1': 1, 'CNOO[C@H]1CO1': 2, 'N[C@@H]1N[C@]2(N)O[C@H]12': 1, 'N[C@H]1[C@H]2O[C@]21NO': 1, 'CN[C@]1(N)OC1=N': 1, 'CN1[N@]2N[C@@]13O[C@H]23': 1, 'N=N[C@]1(ON)CO1': 1, 'C[C@@]1(NOO)CO1': 2, 'N/N=C1/O[C@@H]1NN': 1, 'NNO[C@@]12N[C@H]1O2': 3, 'NNO[C@@]12N=C1O2': 1, 'NN(N)/N=C1\\\\CO1': 2, 'NN(NO)[C@@H]1CO1': 1, 'NN(N)[C@]12C[C@H]1O2': 1, 'C=N[C@H]1O[C@]1(N)N': 1, 'C[C@H]1O[C@@H]1n1[nH]o1': 1, 'N[C@]1(NO)CO1': 3, 'CN[C@H]1O[C@@H]1N': 1, 'C[C@H]1O[C@H]1O': 1, 'N=N/N=c1/oc1=N': 1, 'O=NN[C@@]12N[C@H]1O2': 1, 'NN1[C@@H]2N[C@@]13O[C@H]23': 1, 'O[N@@]1[C@H]2O[C@@H]21': 2, 'OCN1N[C@H]2O[C@@H]21': 1, 'CCN[C@@]12N[C@H]1O2': 1, 'NN[C@]12OO[C@@H]1O2': 2, 'N[C@]12NN[C@H]1O2': 1, 'N=C(O)N[C@@H]1CO1': 1, 'CONN[C@@H]1CO1': 1, 'CO[C@@]1(NN)CO1': 2, 'Nn1[nH]n1[C@@H]1CO1': 2, 'NC[C@@]12NN[C@H]1O2': 1, 'NCN1C[C@H]2O[C@@H]21': 1, 'NC/C=N\\\\[C@@H]1CO1': 1, 'C=NN[C@@]1(N)CO1': 1, 'CNO[C@@H]1OC1=N': 2, 'NN1NN[C@H]2O[C@@H]21': 2, 'NN[C@@]1(O)O[C@@H]1N': 2, 'NN1NO[C@]12CO2': 1, 'N[C@]12N[C@@H](O)[C@H]1O2': 1, '[N-]=[N+]1N[C@]2(N)O[C@H]12': 1, 'C[C@]1(N)O[C@H]1ON': 2, 'N1N[C@@]23O[C@@H]2[N@]1O3': 1, 'N=C1O[C@]12CNO2': 1, 'C[C@]12O[C@@H]1NN2N': 1, 'NO[C@]12ON[C@H]1O2': 1, 'O=C1O[C@@H]1NOO': 1, 'CO[C@@]12N[C@@]1(N)O2': 1, 'NO[C@@]1(CO)CO1': 1, 'CN[C@H]1O[C@@]1(N)O': 1, 'NO[C@@]12O[C@]1(N)O2': 1, 'C[C@]1(NN)O[C@@H]1N': 2, 'NC1=N[C@]23C[C@]12O3': 1, 'N[C@H]1O[C@@H]1N(N)O': 2, 'C1O[C@]12NOO2': 1, 'NN1N[C@@]2(N)O[C@H]12': 1, 'NC[C@H]1O[C@@H]1NO': 1, 'N[C@H]1O[C@@H]1n1[nH]o1': 1, 'CNO[C@@H]1O[C@@H]1N': 2, 'N[C@H]1N[C@H]2O[C@H]2O1': 1, 'NN[C@]1(N)O[C@H]1O': 2, 'NNO[C@@]12C[C@H]1O2': 1, 'O=NN[C@@]12N=C1O2': 1, 'NOOC[C@@H]1CO1': 1, 'O=C1O[C@@H]1NCO': 1, 'C1O[C@]12NNN2': 1, 'O[C@@]1([N@@]2CO2)CO1': 1, 'N[C@H]1O[C@@]12CON2': 1, 'N[C@]1(n2oo2)CO1': 1, 'COO[C@@]12N=C1O2': 2, 'CN1N[C@]23O[C@@H]2[N@]13': 1, 'N/N=C\\\\N[C@@H]1CO1': 1, 'CNC[C@@]1(N)CO1': 1, 'N[C@@H]1C[C@@]2(CO2)O1': 1, 'O[C@H]1N[C@H]2O[C@@H]2N1': 1, 'CON[C@@]12O[C@H]1O2': 1, 'N[C@]1(N)O[C@]1(O)O': 1, 'C[C@@]1(NNO)CO1': 2, 'OO/N=C1\\\\CO1': 1, 'NCN1N=C2O[C@@H]21': 1, 'N=C1O[C@@H]1NOO': 3, 'N#C[C@@H]1CO1': 1, '[N-]=[N+]1N[C@@]2(CO2)N1': 1, 'N=NNN[C@@H]1CO1': 1, 'C/C=N\\\\[C@]1(O)CO1': 1, 'CNN[C@]1(O)CO1': 1, 'NOC[C@H]1O[C@@H]1N': 2, 'N[C@]1(N2N=N2)CO1': 2, 'N=C1O[C@H]1OON': 2, 'NN1CO[C@]12CO2': 1, 'CN[C@]1(NN)CO1': 1, 'NN[C@@]1(NO)CO1': 1, 'C[N@@]1[N@@](O)[C@]12CO2': 1, 'C=C1O[C@@]1(N)NO': 1, 'C[C@H](N)/N=C1\\\\CO1': 1, 'N[C@]1(n2[nH]o2)CO1': 1, 'N[C@H]1O[C@@]12CNN2': 1, 'C[C@@]1(NO)CO1': 1, 'N[C@@]1(O)O[C@@H]1NO': 1, 'C[C@H]1O[C@]1(N)NN': 1, 'N=c1o/c1=N/OO': 1, 'N[C@@]12O[C@@H]1[C@@H]1N[N@]12': 1, 'CC[C@]1(OO)CO1': 1, 'N[C@@]12N[C@@]1(NO)O2': 2, 'N[C@]12NOC[C@H]1O2': 1, 'NN1C[C@H]2O[C@@H]21': 1, 'CNCN[C@@H]1CO1': 1, 'C[C@@]12NO[C@]1(N)O2': 1, 'N=[N+]([O-])[C@@]1(N)CO1': 1, 'NN1N[C@@]2(CO2)O1': 1, 'NO[C@@]1(ON)CO1': 1, 'COO[C@@H]1O[C@@H]1N': 1, 'NCC[C@H]1O[C@@H]1N': 1, 'CN(O)[C@@]12N=C1O2': 1, 'ONC[C@@]12N[C@H]1O2': 1, 'CNN[C@@]12O[C@H]1O2': 1, 'NN[C@H]1O[C@@H]2O[C@@H]21': 1, 'C1O[C@]12NN2': 1, 'OON[C@H]1O[C@H]1O': 1, 'ONN[C@@]12O[C@H]1O2': 1, 'CN(N)[C@@]1(N)CO1': 1, 'NN1C(=O)[C@]12CO2': 1, 'N[C@@H]1[N@@](O)[C@@]12CO2': 1, 'N/C=N\\\\[C@@]12N[C@H]1O2': 1, 'N=CO[C@@]1(N)CO1': 1, 'O=N[C@]1(CO)CO1': 1, 'NNO/C=C1\\\\CO1': 1, 'CN[C@]12NN[C@H]1O2': 1, 'C[C@@]1(ON)O[C@@H]1N': 1, 'O=N[C@@]1(NO)CO1': 1, 'OON/C=C1\\\\CO1': 1, 'NOC[C@@]12N[C@H]1O2': 1, 'OCNN[C@@H]1CO1': 1, 'C[C@]12CN[C@]1(N)O2': 1, 'N[C@H]1OO[C@]12CO2': 1, 'CNN1N[C@H]2O[C@@H]21': 1}\n",
      "Validity: 62.76%\n",
      "Diversity: 6.07%\n"
     ]
    }
   ],
   "source": [
    "import sys\n",
    "sys.path.append(\"../\")\n",
    "from qmg.generator import MoleculeGenerator\n",
    "from qmg.utils import ConditionalWeightsGenerator\n",
    "from rdkit import RDLogger\n",
    "RDLogger.DisableLog('rdApp.*')\n",
    "\n",
    "# parameter settings for epoxide derivatives\n",
    "num_heavy_atom = 7\n",
    "random_seed = 3\n",
    "smarts = \"[O:1]1[C:2][C:3]1\"\n",
    "disable_connectivity_position = [1]\n",
    "num_sample = 10000\n",
    "\n",
    "cwg = ConditionalWeightsGenerator(num_heavy_atom, smarts=smarts, disable_connectivity_position=disable_connectivity_position)\n",
    "random_weight_vector = cwg.generate_conditional_random_weights(random_seed)\n",
    "mg = MoleculeGenerator(num_heavy_atom, all_weight_vector=random_weight_vector)\n",
    "smiles_dict, validity, diversity = mg.sample_molecule(num_sample)\n",
    "print(smiles_dict)\n",
    "print(\"Validity: {:.2f}%\".format(validity*100))\n",
    "print(\"Diversity: {:.2f}%\".format(diversity*100))"
   ]
  },
  {
   "cell_type": "code",
   "execution_count": 4,
   "metadata": {},
   "outputs": [],
   "source": [
    "# import sys\n",
    "# sys.path.append(\"../\")\n",
    "# from qmg.generator import MoleculeGenerator\n",
    "# from qmg.utils import ConditionalWeightsGenerator\n",
    "# from rdkit import RDLogger\n",
    "# RDLogger.DisableLog('rdApp.*')\n",
    "# import multiprocessing\n",
    "\n",
    "# # Parameter settings for epoxide derivatives\n",
    "# num_heavy_atom = 7\n",
    "# smarts = \"[O:1]1[C:2][C:3]1\"\n",
    "# disable_connectivity_position = [1]\n",
    "# num_sample = 10000\n",
    "\n",
    "# # Function to run sample_molecule for a given random_seed\n",
    "# def run_sample_molecule(args):\n",
    "#     random_seed, index = args\n",
    "#     cwg = ConditionalWeightsGenerator(\n",
    "#         num_heavy_atom,\n",
    "#         smarts=smarts,\n",
    "#         disable_connectivity_position=disable_connectivity_position\n",
    "#     )\n",
    "#     random_weight_vector = cwg.generate_conditional_random_weights(random_seed)\n",
    "#     mg = MoleculeGenerator(num_heavy_atom, all_weight_vector=random_weight_vector)\n",
    "#     smiles_dict, validity, diversity = mg.sample_molecule(num_sample)\n",
    "    \n",
    "#     # Print results for each process\n",
    "#     print(f\"\\nProcess {index}:\")\n",
    "#     print(f\"Random Seed: {random_seed}\")\n",
    "#     print(smiles_dict)\n",
    "#     print(\"Validity: {:.2f}%\".format(validity * 100))\n",
    "#     print(\"Diversity: {:.2f}%\".format(diversity * 100))\n",
    "    \n",
    "#     return smiles_dict, validity, diversity\n",
    "\n",
    "\n",
    "# # Get the number of processes from the user\n",
    "# n = 10\n",
    "\n",
    "# # Collect random seeds from the user\n",
    "# random_seeds = []\n",
    "# for i in range(n):\n",
    "#     seed = i\n",
    "#     random_seeds.append((seed, i + 1))  # Tuple of (random_seed, index)\n",
    "\n",
    "# # Use multiprocessing to run sample_molecule in parallel\n",
    "# with multiprocessing.Pool(processes=n) as pool:\n",
    "#     results = pool.map(run_sample_molecule, random_seeds)\n",
    "\n",
    "# # Optionally, process the collected results\n",
    "# for i, result in enumerate(results):\n",
    "#     smiles_dict, validity, diversity = result\n",
    "#     print(f\"\\nSummary for Random Seed {random_seeds[i][0]}:\")\n",
    "#     print(smiles_dict)\n",
    "#     print(\"Validity: {:.2f}%\".format(validity * 100))\n",
    "#     print(\"Diversity: {:.2f}%\".format(diversity * 100))\n"
   ]
  },
  {
   "cell_type": "code",
   "execution_count": 8,
   "metadata": {},
   "outputs": [
    {
     "name": "stdout",
     "output_type": "stream",
     "text": [
      "{'NO': 915, None: 695, 'CC': 1659, 'O': 288, 'CN': 886, 'C': 3427, 'NCNCN': 51, 'CNNNN': 1, 'N[C@H]1CCN1': 37, 'N': 50, 'CNCNN': 32, 'CCCNC': 30, 'CCCN': 89, 'CCN(N)N': 3, 'C[C@@H]1CC=N1': 12, 'NNCNO': 19, 'C1CNNC1': 2, 'CC[C@@H](N)N': 151, 'C=C[C@@H](N)N': 9, 'CO': 236, 'CN[C@@H](N)N': 84, 'CCCNN': 83, 'NCNON': 48, 'C=C(N)NC': 12, 'C1=NCC1': 7, 'CCC#N': 3, 'C[C@H]1NON1': 1, 'CNCCO': 7, 'CCCCN': 30, 'C1NON1': 7, 'CNOOC': 1, 'C#N': 4, 'C1CON1': 1, 'N[C@@]1(N)CN1': 3, 'N[C@H]1CC1': 3, 'CONCN': 20, 'C=CCCN': 9, 'COCCN': 7, 'N=C1NCN1': 6, 'C#C': 10, 'N=C(N)NN': 1, 'CCCO': 2, 'N=CNCN': 22, 'N=CCCN': 40, 'CNONN': 23, 'CNCN': 48, 'C=C': 7, 'N=C1CCN1': 5, 'CN[C@H](C)N': 37, 'C1CNC1': 15, 'NCCCN': 93, 'C=CNCN': 5, 'CCONN': 2, 'C1=CC1': 1, 'C[C@@H]1CCN1': 25, 'CC[C@@H](C)N': 62, 'CNON': 24, 'NN[C@H]1CN1': 2, 'CCC(=N)N': 67, 'CC/C=N\\\\N': 4, 'CC[C@H]1CN1': 3, 'C=C(N)CC': 20, 'C=C1CCN1': 7, 'C[C@H]1N=C1N': 1, 'OO': 49, 'N[C@H]1CC=N1': 11, 'N[C@@H]1N=CN1': 11, 'COOC#N': 1, 'C1CNCN1': 2, 'CCC(C)=N': 3, 'C1=NCN1': 2, 'N[C@H]1NCN1': 19, 'C[C@]1(N)CN1': 2, 'C#CNCN': 1, 'CO[C@@H](N)N': 6, 'C/C=C\\\\NN': 3, 'NCNO': 10, 'CCC#CN': 1, 'CC[C@@H]1N=N1': 6, 'C=NCCC': 1, 'CN/C=N\\\\N': 5, 'CC[C@@H]1NN1': 2, 'NCCON': 8, 'N=C1N=CN1': 1, 'C1CCNC1': 2, 'NN': 14, 'NCn1[nH]o1': 1, 'CNCNO': 6, 'N/C=N/CN': 1, 'C[C@H]1NCN1': 9, 'NCOON': 3, 'CCNCN': 15, 'CN1CCC1': 5, 'CONC=N': 6, 'NN1CCO1': 2, 'CNC#N': 1, 'C=CC(=N)N': 2, 'CNCNC': 13, 'CN[C@H]1CC1': 2, 'CN[C@@H]1N=N1': 1, 'NN1CCC1': 14, 'COONN': 1, 'NNCCO': 3, 'C=CCC#N': 1, 'CN[C@@H]1NN1': 2, 'CNO': 3, 'N[C@@H]1NO1': 1, 'NN[C@@H]1NO1': 1, 'C[C@@H]1N=CN1': 2, 'CNC1=NN1': 2, 'N/C=N\\\\CN': 1, 'CN1NCN1': 1, 'CC/C=N\\\\C': 2, 'CO[C@@H](C)N': 1, 'N[C@@]1(N)CC1': 11, 'C1CN=NC1': 2, 'N#CNCN': 4, 'CNC(=N)N': 20, 'C1NCN1': 5, 'C[C@@H](N)CN': 1, 'NCCO': 4, 'CCNC=N': 1, 'C=C(N)OC': 1, 'N[C@]12N[C@@H]1N2': 1, 'CNC': 2, 'NCON': 1, 'CN1N=C1N': 1, 'N#CNON': 2, 'CCON': 7, 'CCONC': 1, 'C/N=C(\\\\C)N': 1, 'N=CCON': 1, 'N=C(N)NO': 1, 'NCOCN': 2, 'C[C@]1(N)CC1': 5, 'C[C@@H]1C#CN1': 1, 'CCNNN': 1, 'Cn1nc[nH]1': 1, 'C1CNN=N1': 1, 'C=C1N=CN1': 3, 'N[C@@H]1CCN1': 1, 'C1C2=N[C@H]12': 1, 'ON1CCC1': 1, 'C1N[C@H]2N[C@H]12': 1, 'N[C@@H](N)CO': 2, 'C#CONN': 1, 'C[C@@H](C)NN': 1, 'CNCN=N': 1, 'C=NON': 1, 'N[C@@H]1C[C@@H]1N': 4, 'C1=NOC1': 1, 'COCN': 1, 'NC1=NCC1': 2, 'CNONC': 12, 'C1NC2=N[C@H]12': 1, 'CN(C)CN': 1, 'CN1CCO1': 1, 'c1no[nH]1': 1, 'COOCN': 1, 'NC[C@@H]1CN1': 2, 'NNC1=CC1': 2, 'C=NCNC': 1, 'NONCO': 1, 'N#CCCN': 11, 'N/C=C/CN': 2, 'N/N=C\\\\NO': 1, 'NN1CNO1': 5, 'N[C@@]12C[C@H]1N2': 1, 'CNN(N)N': 2, 'CC1=NCC1': 1, 'C[C@H](N)CN': 1, 'C/N=C\\\\N': 1, 'N=CNO': 1, 'N#CNO': 2, 'N[C@H]1C=CN1': 2, 'NN1COO1': 1, 'NCOO': 2, 'C1=NNCC1': 1, 'CN1CNO1': 5, 'C=C1NCN1': 1, 'NNC1=CN1': 1, 'N=C[C@@H]1CN1': 1, 'C#C[C@@H](C)N': 1, 'N#COCN': 1, 'NN1CNC1': 5, 'N#CCON': 2, 'N#C/C=C\\\\N': 1, 'CN[C@H]1CN1': 1, 'NN1NCN1': 1, 'C1C2=N[C@@H]1N2': 1, 'CC/C=C\\\\N': 1, 'C/N=C\\\\NN': 1, 'C=N': 1, 'CCNC#N': 1, 'C=C[C@@H](C)N': 4, 'CCC': 2, 'N#CCC=N': 1, 'N[C@@H]1N[C@H]1N': 2, 'CCCCC': 2, 'NCCNN': 1, 'N=C(N)CN': 1, 'CCCN=N': 1, 'N=CNON': 1, 'C1N[C@@H]2N[N@]12': 1, 'N=C1CC1=N': 1, 'C[C@@](C)(N)N': 1, 'CN(N)ON': 1, 'C=NONN': 1, 'C[C@@H](C)CN': 1, 'N=O': 3, 'CN1CNC1': 2, 'CCC=N': 2, 'C=N[C@@H](N)N': 2, 'CCC1=CN1': 1, 'C=NO': 1, 'C=CCN': 1, 'CNC=N': 2, 'C/N=C\\\\NC': 1, 'N[C@@H]1CC=N1': 1, 'C#CCCN': 2, 'N=C1CC1': 1, 'N[C@H]1NON1': 1, 'C=C/C=C\\\\N': 1, 'C1[C@@H]2NN[C@H]12': 1, 'NC[C@H]1NO1': 1, 'N[C@]12CC1=N2': 1, 'C=CC(=C)N': 1, 'N=CC#CN': 1, 'CCCC=N': 2, 'C1C2=N[C@@H]12': 1, 'N=C1CC=N1': 1, 'Nn1nc[nH]1': 1, 'NCN1C=C1': 2, 'N/C=N\\\\O': 1, 'C1NNON1': 1, 'C[C@@H]1C=CN1': 1, 'N/C=N\\\\ON': 2, 'C[C@@]1(N)CN1': 1, 'N[C@@H]1NCO1': 1, 'C=C1CC=N1': 4, 'CNCOC': 1, 'C#CCC': 1, 'N#CCC#N': 1, 'CNN1C=N1': 1, 'C=C(O)CC': 1, 'N[C@H]1CON1': 1, 'N=CCC=N': 1, 'NNONO': 1, 'CC1=C(N)N1': 1, 'N/C=C\\\\CN': 1, 'C1C[N@@]2C[N@]12': 1, 'COCNN': 2, 'NC1=C(N)C1': 1, 'C[C@H]1N[C@H]1N': 1, 'C[N@@]1N[C@@H]1N': 1, 'C[C@]12N=C1N2': 1, 'C=C1C[C@H]1N': 1, 'CN[C@@H]1CN1': 1, 'CC#CCN': 1, 'N1O[C@@H]2N[C@H]12': 1, 'C/C(C)=C/N': 1, 'C=NONC': 1, 'CCCC#N': 1, 'C1=CCCN=1': 1, 'N=CNC=N': 1, 'N[C@H]1CN1': 1, 'CCNO': 1, 'NN1CCN1': 1, 'N=C/C=C\\\\N': 1, 'CCCON': 2, 'NN[C@H]1CC1': 1, 'CN[C@@H]1C=N1': 1, 'CC#CNN': 1, 'N[C@H]1CNN1': 1, 'CC[N+](=[N-])N': 1, 'N=CNNN': 1}\n",
      "Validity: 93.05%\n",
      "Diversity: 2.75%\n"
     ]
    }
   ],
   "source": [
    "import sys\n",
    "sys.path.append(\"../\")\n",
    "from qmg.generator import MoleculeGenerator\n",
    "from rdkit import RDLogger\n",
    "RDLogger.DisableLog('rdApp.*')\n",
    "\n",
    "# parameter settings\n",
    "num_heavy_atom = 5\n",
    "num_sample = 10000\n",
    "random_seed = 7\n",
    "\n",
    "mg = MoleculeGenerator(num_heavy_atom) \n",
    "smiles_dict, validity, diversity = mg.sample_molecule(num_sample, random_seed)\n",
    "print(smiles_dict)\n",
    "print(\"Validity: {:.2f}%\".format(validity*100))\n",
    "print(\"Diversity: {:.2f}%\".format(diversity*100))"
   ]
  },
  {
   "cell_type": "code",
   "execution_count": 3,
   "metadata": {},
   "outputs": [
    {
     "name": "stdout",
     "output_type": "stream",
     "text": [
      "{'N=C=C(N)C(=O)CN': 1, None: 411, 'NCC(=O)CCNNO': 1, 'CC(=O)/C=C\\\\N(C)NN': 1, 'CC(=O)CCN(N)N=N': 1, 'NCC(=O)[C@H]1CNC1=O': 1, 'N/N=C/CC(=O)CC=O': 1, 'CC(=O)[C@H]1C=NN1NO': 1, 'NNN1CCC(=O)CN1': 1, 'CC(=O)[C@@H]1N[C@@H]1NNN': 1, 'CC(=O)[C@H](N)CNCO': 1, 'C[C@@H](N)C(=O)CN(N)O': 1, 'N[C@@H]1N=C=CC(=O)CO1': 1, 'C[C@@H]1CC(=O)CC=N1': 1, 'CN1CCC(=O)CC1=N': 1, 'C=C(CNN=N)C(C)=O': 1, 'CCC(=O)CCNCO': 1, 'CC(=O)CN=N': 2, 'CC(=O)/C=C\\\\NC(=N)N': 1, 'NN1C[C@H]2N[C@H]1CC2=O': 1, 'O=C1[C@H](CO)[C@H]2NN[C@@H]12': 1, 'CC(=O)C/C=N/C(C)=O': 1, 'CC(=O)CCN(C)C': 2, 'CC(=O)CCNNN': 1, 'CN1CC(=O)CCN1': 1, 'C[C@]1(N)CC(=O)[C@H]2C[N@]21': 1, 'CC(=O)/C(N)=C/NN=O': 1, 'CC(=O)[C@H]1CN[C@@H](N)O1': 2, 'NNN1CCC(=O)CC1': 1, 'N=NCC(=O)C=C=NN': 1, 'N[N@@+]1([O-])CC(=O)CCN1': 2, 'CC(=O)CCN(N)NN': 1, 'O=C1C=C=NC1': 2, 'NCCC(=O)CN': 1, 'CCC(=O)/C=C\\\\N=N': 1, 'C[C@@H](NNO)C(=O)CN': 2, 'CC(=O)[C@@H](C)N(C)NO': 1, 'NC[C@@H](N)C(=O)CN=O': 1, 'CC(=O)CCNC(C)=O': 1, 'CC(=O)[C@@H](C)[N+](=[N-])CO': 1, 'NN1CC(=O)C=CN1': 1, 'O=C(CNO)C1=NN=C1': 1, 'CC(=O)[C@H](C)CNNO': 1, 'NN=C=CC(=O)CCO': 1, 'NN(C=O)C1=CC(=O)C1': 1, 'CC(=O)C=C=NC(N)=O': 1, 'CC(=O)[C@]1(N)C=NCO1': 1, 'CC(=O)CCN(C)CO': 2, 'CN(C)[C@H]1CC(=O)C1': 1, 'NNCCC(=O)CN=O': 1, 'CN/C=C\\\\C(=O)CNO': 1, 'CC(=O)[C@H]1CN(C)CO1': 1, 'N=C=CC(=O)CCNO': 1, 'NCCC(=O)C[C@@H](N)O': 2, 'NN[C@H]1CC(=O)CCN1': 1, 'N[N@+]1([O-])CC(=O)CCO1': 1, 'C=C(NCNO)C(C)=O': 1, 'NN/C=C1\\\\OCCC1=O': 1, 'NN1CC(=O)[C@H]2C[N@]21': 1, 'CCC(=O)CCNNO': 3, 'O=C1C[C@H](O)C1': 1, 'N=C=C(N)C(=O)CCO': 1, 'CC(=O)CCNCNO': 7, 'CC(=O)[C@H]1C[N@@]1NN': 1, 'NN1C=CC(=O)CC1=O': 1, 'CC(=O)C1=NN(NN)C1': 1, 'CC(=O)[C@H]1CN(C)N1O': 2, 'N=C=C(N)C(=O)CC=O': 1, 'NNN1CC(=O)CC=N1': 1, 'CC(=O)C=C=NNN': 1, 'C[C@]1(N)CC(=O)C=C=N1': 1, 'NN1CCC(=O)CN=N1': 1, 'N[N@]1[C@@H]2[C@H]3CO[C@]21C3=O': 1, 'CC(=O)/C=C\\\\N(C)NO': 6, 'CCC(=O)CN': 6, 'CC(=O)CCNC(=N)N': 1, 'CC(=O)/C(O)=C/N(C)N': 1, 'NC1=CNN=NCC1=O': 1, 'CC1=CNN(O)CC1=O': 1, 'CC(=O)CCN(N)CO': 7, 'NCC(=O)CCNCO': 2, 'N=CN1CCC(=O)C=N1': 1, 'CC(=O)/C(=C/NN)NO': 2, 'NC1=CC(=O)C1': 27, 'O=C1C=CN[C@@H](NO)C1': 2, 'CC(=O)CNN': 2, 'NN1C=CC(=O)CC1': 4, 'NN(N)CCC(=O)CO': 1, 'CC(=O)/C=C\\\\[N+](=[N-])NO': 1, 'CC(=O)/C=C\\\\N(C)N': 3, 'NN=C=CC(=O)CNO': 1, 'CC(=O)[C@H](N)/C=N/CO': 1, 'CC(=O)CCN(C)NO': 6, 'CC(=O)[C@H]1CN(N)CN1': 1, 'CCC(=O)[C@@H](C=N)CO': 1, 'N=C1CC(=O)C1': 8, 'O=C1CNn2cc1n2O': 1, 'CNC[C@@H](C=O)C(C)=O': 1, 'NN(NO)C1=CC(=O)C1': 2, 'CC(=O)[C@H]1CN(NO)N1': 2, 'NNC#CC(=O)CNO': 1, 'C=CC(=O)CN': 1, 'O=C1CCNN(O)C1': 1, 'CC(=O)CCNNO': 1, 'C/N=C/[C@@H](CO)C(C)=O': 1, 'C=C(N)C(=O)CC(N)=O': 1, 'CN1C=C(O)C(=O)CN1': 1, 'NN1C=CC(=O)C[C@@H]1O': 6, 'CC(=O)C1=CN1N': 1, 'CC(=O)[C@@]12CN(N)[C@H]1O2': 1, 'CC(=O)/C=C\\\\NCNO': 8, 'C/N=C/[C@H]1N=CCC1=O': 1, 'C=C(C(C)=O)N(N)N': 2, 'CC(=O)c1cn(C)[nH]1': 1, 'CC(=O)/C=C\\\\NCCN': 2, 'N=C[C@H]1CO[C@H](N)C1=O': 1, 'NN1[C@@H]2[C@@H]3C(=O)[C@@H]2O[C@@H]31': 1, 'O=C1C[N@@]2C[C@H]12': 1, 'CC(=O)/C=C\\\\N(N)NO': 4, 'CCC(=O)[C@H](O)CN=N': 1, 'O=C1C/C(=N/CNO)C1': 1, 'CC(=O)[C@H](N)CNC=O': 1, 'O=C(CNNO)C1=CN1': 1, 'CN=C=CC(=O)CC=O': 1, 'CC(C)=O': 7507, 'CN(NO)[C@H]1CC(=O)C1': 2, 'CC(=O)C1=CN1N(N)O': 1, 'NNCCC(=O)CNO': 3, 'N/C=C\\\\C(=O)CCCO': 1, 'N/N=C/CC(=O)CNO': 1, 'CCC(=O)C=C=NC': 1, 'CC(=O)[C@H]1CN1': 49, 'NNCCC(=O)CC=O': 1, 'CC(=O)CC=O': 1, 'NNN[C@H]1CC(=O)C1': 1, 'CC(=O)C1=NO1': 1, 'CC(=O)CCN[C@@H](N)N': 1, 'C=N/C=C\\\\C(=O)CC': 1, 'CC(=O)CCNCN': 4, 'CC(=O)/C=C\\\\[N+](=[N-])CO': 1, 'NN1CCC(=O)C[C@@H]1O': 2, 'N=CCC(=O)CCNN': 1, 'O=C1CN(O)[N@]2C[C@H]1N2': 1, 'CC(=O)CC#N': 27, 'NN1[C@@H]2CC(=O)[C@@H]2N1O': 1, 'O=C1C=CN(NO)CC1': 2, 'N[C@H]1CC(=O)C1': 40, 'CC(=O)[C@H]1C=N1': 18, 'CC(=O)CCNNCO': 1, 'CC(=O)/C=C\\\\N(N)N=O': 1, 'O=C1CCNC1': 10, 'CC(=O)[C@]1(O)CN(N)C1': 1, 'CC(=N)C(C)=O': 2, 'CCC(=O)C=N': 1, 'CC(=O)CCN(N)C=O': 4, 'CC(=O)C=C=NCN': 1, 'C[C@H]1N[C@H]2CC(=O)[C@@H]21': 1, 'CCNCCC(C)=O': 2, 'NC[C@H]1O[C@H](N)CC1=O': 1, 'O=C1C=CNC1': 3, 'N=CCC(=O)CN(N)N': 1, 'N[C@H]1CC(=O)[C@@H]1NNO': 1, 'CC(=O)[C@@H](C)N': 24, 'CC(=O)CCO': 11, 'CC(=O)/C=C\\\\N(N)CN': 3, 'C[C@@H](O)CC(=O)/C=C\\\\N': 3, 'CC(=O)CCN(C)N': 5, 'NN[C@H]1CC(=O)[C@@H]1N': 1, 'CC(=O)[C@H]1CN(N)N1O': 3, 'C[C@]1(C(=O)CO)N[N@@]1N': 1, 'CC(=O)[C@H](N)CNC=N': 1, 'CC(=O)CCN[C@@H](N)O': 9, 'CC(=O)C1=CN(N)NO1': 1, 'N/C=C\\\\C(=O)C[C@@H](N)O': 3, 'CC(=O)[C@H]1CN(N)NO1': 2, 'CN/C=C(\\\\NO)C(C)=O': 1, 'CC(=O)C(=C=NN)NO': 1, 'CC(=O)/C=C\\\\N(N)C=O': 3, 'NN1CCC(=O)CC1': 2, 'CCC(=O)CCNN': 4, 'CC(=O)CCN(N)C=N': 3, 'CC(=O)/C=C\\\\NCN': 2, 'NCCC(=O)CNN': 1, 'NN[C@H]1CC(=O)C=CN1': 1, 'CC(=O)CCN(C)NN': 2, 'CC(=O)CCNNNO': 2, 'CN[C@H](CC(C)=O)NO': 1, 'CC(=O)CCNN(N)N': 2, 'C=C(N)C(C)=O': 14, 'CC(=O)[C@H](N)CNN=O': 1, 'CCN/C=C\\\\C(C)=O': 1, 'CC(=O)[C@H]1C[N@@]1CNO': 2, 'CC(=O)/C=C\\\\NN(C)O': 1, 'CC(=O)CCN(N)NO': 7, 'CC(=O)CCNCOO': 1, 'CC(=O)/C=C\\\\N(N)CO': 6, 'CC(=O)C1=CN[C@@H](N)O1': 1, 'CC(=O)[C@@H]1CN(NO)C1': 2, 'NN1C=CC(=O)CN1O': 1, 'CC(=O)C#CN(C)N': 1, 'O=C1C=C=NN(NO)C1': 1, 'NNCCC(=O)CNN': 1, 'CC(=O)CCNC(N)=O': 3, 'CN(C)CCC(=O)CO': 1, 'NN/C=C1\\\\ONCC1=O': 1, 'O=C1CCN(NO)NC1': 1, 'CCC(=O)CN(C)NN': 1, 'CC(=O)C1=C=N1': 14, 'NN1C[C@H]2O[N@@]1CC2=O': 2, 'N=C=CC(=O)CN(N)O': 1, 'CC(=O)CCN(C)OO': 1, 'N=CCC(=O)C[C@@H](N)O': 1, 'CCC(=O)C1=NNC1': 1, 'CN[C@H](C)C(=O)CC=O': 1, 'CC(=O)/C=C\\\\N(C)CO': 1, 'NCCC(=O)CCN': 1, 'CC(=O)c1cn(C=O)[nH]1': 1, 'CC(=O)CCN': 633, 'CC(=O)CCNCCO': 2, 'CC(=O)C=C=NNNO': 1, 'CC(=O)C1=CN(N)[C@H]1O': 1, 'CC(=O)c1cn(NN)[nH]1': 1, 'CC(=O)[C@H]1CN(C)N1': 1, 'CCC(=O)c1c[nH][nH]1': 1, 'CCN/C=C(\\\\O)C(C)=O': 1, 'CC(=O)[C@H]1CO1': 2, 'CC(=O)/C=C\\\\N': 410, 'CC(=O)C=C=N': 95, 'CC(=O)c1cn(N=N)[nH]1': 1, 'CNC[C@@H](O)C(=O)CN': 1, 'N/N=C/CC(=O)CNN': 2, 'N[C@@H]1CCC1=O': 4, 'C=NCCC(=O)CCO': 1, 'O=C1CCN[C@@H](NO)C1': 1, 'CC(=O)/C=C\\\\N(O)N=O': 1, 'CCC(=O)C=C=NNO': 1, 'NN1CCC(=O)CN1O': 2, 'CN1CCC(=O)C[C@@H]1N': 1, 'CC(=O)C1=C[N+](=[N-])CO1': 1, 'CC(=O)C(N)=C=NNO': 1, 'C[C@@H](N)C(=O)CNCO': 1, 'NN1CCC(=O)[C@@H]2O[C@@H]21': 1, '[N-]=[N+]1C=C1C(=O)CN=O': 1, 'CC(=O)/C=C\\\\NCCO': 1, 'CC(=O)/C=C\\\\[N+](=[N-])N': 1, 'N/C=C\\\\C(=O)CCN': 2, 'CN(N)CCC(=O)CO': 1, 'CC(=O)[C@H]1C[N@@]1CCN': 1, 'CC(=O)CCN(C)C=N': 1, 'O=C1CC=NC1': 3, 'C#CC(=O)CCNNO': 1, 'CNNCCC(C)=O': 1, 'C[C@]12CC(=O)C(=C=N1)O2': 1, '[N-]=[N+](N)CC(=O)/C=C\\\\N': 1, 'NCCC(=O)CCNO': 1, 'CCC(=O)/C=C\\\\NNO': 2, 'N/C=C\\\\C(=O)CN': 1, 'CC(=O)[C@H]1CN(N)CO1': 1, 'N[C@@]1(O)CC(=O)C=CN1': 1, 'C[C@H]1NCC1=O': 1, 'C[C@H]1C(=O)C[C@@H]1NNN': 1, 'CC(=N)C(=O)CC(=N)N': 1, 'CC(=O)/C=C\\\\N[C@H](C)O': 1, 'CCC(C)=O': 5, 'CC(=O)c1cn(C)n1O': 2, 'N[C@H]1CC(=O)C=CN1': 2, 'CC(=O)C1=CN1': 32, 'O=C(CCO)[C@@H]1CNC1': 1, 'CC(=O)c1cn(CN)[nH]1': 1, 'CC(=O)[C@H]1CN(N)[C@H]1O': 1, 'N[C@@H]1C=NC(=O)CC1=O': 1, 'CC(=O)/C=C\\\\N(N)NN': 1, 'CC(=O)CC(=O)C=C=N': 1, 'O=C1C=NCC1': 1, 'CC(=O)[C@H]1CN(N)N1': 1, 'N[C@]12OCN=C1CC2=O': 1, 'CN/C=C(\\\\N)C(C)=O': 3, 'CC(=O)C1=NC1': 1, 'NNCC(=O)[C@@H]1CNC1': 1, 'N/C=C\\\\C(=O)CNN': 1, 'NN1CC(=O)[C@H](O)CN1': 1, 'CC(=O)C(N)=C=NCO': 1, 'CC(=O)[C@H]1CN(C=O)N1': 3, 'N=CC(=O)[C@@]1(O)CNN1': 1, 'O=C1C=CN[C@H]1NNO': 1, 'N=C1CC(=O)CCN1N': 1, 'N[C@@H]1CNN(O)CC1=O': 1, 'CC(=O)C#CN': 4, 'CC(=O)/C=C\\\\O': 4, 'CC(=O)CCN(C)C=O': 1, 'NCCC(=O)CC(N)=O': 1, 'CC(=O)[C@@H]1CN(CN)C1': 1, 'CC(=O)C=C=NNNN': 1, 'CC(=O)C1=CN1NN': 1, 'CNCCC(=O)[C@@H](N)O': 1, 'O=C1CCNC=C1NO': 1, 'N=CCC(=O)[C@H]1CNN1': 1, 'NN1CCC(=O)CC1=O': 1, 'CC(=O)CC[N+](=[N-])CO': 1, 'NCC(=O)[C@H]1CNN1O': 1, 'O=C1C=CNN(NO)C1': 1, 'CC(=O)[C@H](O)CNCO': 1, 'O=C1C[C@H]2N=C12': 1, 'CC(=O)c1cn(N)n1O': 1, 'N=NCCC(=O)CN=O': 1, 'CC(=O)[C@H](N)CN(C)N': 1, 'CC(=O)CC=N': 167, 'C=CC(=O)CN[C@@H](N)N': 1, 'O=C1C[C@H]2[C@H]1CN2NO': 1, 'CC(=O)CON': 3, 'O=C1CC[N@]2C[C@H]1N2': 1, 'CC(=O)CON(C)N=O': 1, 'O=C(CCO)[C@H]1CN=N1': 1, 'O=C1C[C@@H]2N[C@@H](NO)[C@@H]12': 1, '[N-]=[N+]1[C@@H](O)[C@H]2C(=O)C[C@@H]21': 1, 'CC(=O)C=C=O': 1, 'Cn1c2c(n1O)C(=O)C2': 1, 'O=C(CCCO)[C@H]1CN1': 1, 'NN(CO)C1=CC(=O)C1': 1, 'CC(=O)[C@H](CN)CNN': 1, 'CN1CCC(=O)CN1': 1, 'O=C1C[C@H](O)[N@]2C[C@H]1N2': 1, 'CCC(=O)/C(=C/N)NO': 2, 'CC(=O)CCN(N)N': 2, 'NNCCC(=O)CCO': 2, 'CC(=O)CCN[C@H](C)O': 1, 'CC(=O)[C@](C)(N)N(N)N': 1, 'CC(=O)C/C=N/CN': 1, 'CC(=O)[C@]12C[N@@](CO1)N2': 1, 'CC(=O)/C=C\\\\NNNO': 3, 'O=C1CCN(NO)CC1': 1, 'CCC(=O)[C@@H](CN)NO': 1, 'CC(=O)CCNN(N)O': 2, 'CC(=O)/C=C\\\\N(O)NO': 1, 'O=C1C[C@H]2N[C@@H]12': 4, 'CC(=O)/C=C\\\\NC(N)=O': 4, 'CC(=O)[C@](C)(O)N(C)N': 1, 'CN=C=CC(=O)CCO': 1, 'C[C@@H]1CNCCC1=O': 1, 'O=C1C=C=N[C@@H](NO)C1': 1, 'CC(=O)/C(O)=C/NNN': 1, 'NCCC(=O)CCNN': 1, 'O=C(C/C=N/O)CCO': 1, 'O=C1CC=N[C@@H](NO)C1': 1, 'CC(=O)C1=C=N[C@@H](N)O1': 1, 'N[C@@H]1NCCC(=O)CO1': 1, 'CCCC(=O)CNN': 1, 'O=CCC(=O)[C@H]1CN=N1': 1, 'C[C@@H](NN)C(=O)CNO': 1, 'CC(=O)c1cn(N=O)[nH]1': 1}\n",
      "Validity: 95.89%\n",
      "Diversity: 3.49%\n"
     ]
    }
   ],
   "source": [
    "import sys\n",
    "sys.path.append(\"../\")\n",
    "from qmg.generator import MoleculeGenerator\n",
    "from qmg.utils import ConditionalWeightsGenerator\n",
    "from rdkit import RDLogger\n",
    "RDLogger.DisableLog('rdApp.*')\n",
    "# parameter settings for ketone derivatives\n",
    "num_heavy_atom = 9\n",
    "random_seed = 2\n",
    "smarts = \"[C:1][C:2](=[O:3])[C:4]\"\n",
    "disable_connectivity_position = [2, 3]\n",
    "num_sample = 10000\n",
    "\n",
    "cwg = ConditionalWeightsGenerator(num_heavy_atom, smarts=smarts, disable_connectivity_position=disable_connectivity_position)\n",
    "random_weight_vector = cwg.generate_conditional_random_weights(random_seed)\n",
    "mg = MoleculeGenerator(num_heavy_atom, all_weight_vector=random_weight_vector) \n",
    "smiles_dict, validity, diversity = mg.sample_molecule(num_sample)\n",
    "print(smiles_dict)\n",
    "print(\"Validity: {:.2f}%\".format(validity*100))\n",
    "print(\"Diversity: {:.2f}%\".format(diversity*100))"
   ]
  },
  {
   "cell_type": "code",
   "execution_count": null,
   "metadata": {},
   "outputs": [],
   "source": [
    "import sys\n",
    "sys.path.append(\"../\")\n",
    "from qmg.generator import MoleculeGenerator\n",
    "from qmg.utils import ConditionalWeightsGenerator\n",
    "from rdkit import RDLogger\n",
    "RDLogger.DisableLog('rdApp.*')\n",
    "\n",
    "# parameter settings for epoxide derivatives\n",
    "num_heavy_atom = 5\n",
    "random_seed = 2\n",
    "smarts = \"[C:1]1[N:2][C:3]=[C:4][C:5]=1\"\n",
    "disable_connectivity_position = [2]\n",
    "num_sample = 10000\n",
    "\n",
    "cwg = ConditionalWeightsGenerator(num_heavy_atom, smarts=smarts, disable_connectivity_position=disable_connectivity_position)\n",
    "random_weight_vector = cwg.generate_conditional_random_weights(random_seed)\n",
    "mg = MoleculeGenerator(num_heavy_atom, all_weight_vector=random_weight_vector) \n",
    "\n",
    "# smiles_dict, validity, diversity = mg.sample_molecule(num_sample)\n",
    "# print(smiles_dict)\n",
    "# print(\"Validity: {:.2f}%\".format(validity*100))\n",
    "# print(\"Diversity: {:.2f}%\".format(diversity*100))"
   ]
  }
 ],
 "metadata": {
  "kernelspec": {
   "display_name": "qmg",
   "language": "python",
   "name": "python3"
  },
  "language_info": {
   "codemirror_mode": {
    "name": "ipython",
    "version": 3
   },
   "file_extension": ".py",
   "mimetype": "text/x-python",
   "name": "python",
   "nbconvert_exporter": "python",
   "pygments_lexer": "ipython3",
   "version": "3.12.6"
  }
 },
 "nbformat": 4,
 "nbformat_minor": 2
}
