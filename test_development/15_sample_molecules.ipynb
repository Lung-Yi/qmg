{
 "cells": [
  {
   "cell_type": "code",
   "execution_count": 3,
   "metadata": {},
   "outputs": [
    {
     "name": "stdout",
     "output_type": "stream",
     "text": [
      "{None: 2985, 'NCNc1cc[nH]c1': 55, '[N-]=[N+]1c2[nH]cc(N)c21': 1, 'ON[C@H]1Oc2c[nH]cc21': 1, 'Nc1[nH]cc2c1[nH]n2N': 3, 'Nc1[nH]ccc1N(N)N': 1, 'N[C@@H](N)Nc1ccc[nH]1': 1, 'NNc1c[nH]c(N)c1': 2, 'CN(N)c1c[nH]cc1N': 2, 'NNc1cc[nH]c1NN': 2, 'Nc1[nH]cc2c1[nH]n2O': 1, 'CNc1c[nH]c(N)c1N': 1, 'N=Cc1c[nH]c(N)c1N': 1, 'C[C@@]1(O)Nc2c[nH]cc21': 2, 'Cc1[nH]cc(N)c1C=O': 1, 'NCNc1c[nH]cc1N': 2, 'O=CN(O)c1cc[nH]c1': 1, 'N[C@@H]1Nc2[nH]ccc2O1': 1, 'NN1c2c[nH]c(c2)N1O': 1, 'OCn1oc2[nH]ccc21': 1, 'N[C@]12Nc3c1c[nH]c3O2': 4, 'Cc1cc(NN)c(N)[nH]1': 1, 'c1[nH]cc2c1CN2': 2, 'Nn1c2c[nH]cc2n1O': 4, 'N[C@@H]1Nc2ccc([nH]2)N1': 1, 'Nc1[nH]cc2[nH]n(O)c12': 1, 'NCc1c[nH]c(O)c1N': 2, 'C=Nc1c[nH]cc1N': 1, 'NCn1[nH]c2c[nH]cc21': 4, 'Cc1[nH]cc2c1[C@H](N)N2': 1, 'N=Cc1c[nH]cc1N=N': 1, 'Cc1ccc(NC=O)[nH]1': 1, 'Nc1cc(CCO)c[nH]1': 1, 'Cc1c[nH]c(N)c1N': 1, 'N=Cc1c[nH]c2c1N=C2': 1, 'N=Nc1c[nH]cc1NN': 4, 'NOCNc1cc[nH]c1': 1, 'NN1c2[nH]cc(NO)c21': 1, '[N-]=[N+](CN)c1cc[nH]c1': 1, 'O=Nn1[nH]c2[nH]ccc21': 2, 'Cc1c[nH]c2c1N2NO': 2, 'Nc1[nH]cc2c1N[C@H]2N': 1, 'CN(NO)c1ccc[nH]1': 4, 'ON[C@@H]1Nc2cc1c[nH]2': 2, 'N[C@H]1c2c[nH]c3c2N31': 1, 'NNNc1c2c[nH]c1O2': 1, 'NC(=O)c1c[nH]c(N)c1': 1, 'Cc1[nH]ccc1NN=N': 1, 'N[C@@H](O)Nc1cc[nH]c1': 60, 'O[C@@H]1Nc2c[nH]cc21': 1, 'CNc1c[nH]cc1N': 1, 'Nc1cc2c([nH]1)N2NO': 1, 'C[C@]1(N)c2cc3[nH]c2n31': 1, 'CNc1ccc[nH]1': 1, 'CN(N)Nc1cc[nH]c1': 1, 'N=Nc1c[nH]c2[nH][nH]c12': 1, 'Nn1cnc2[nH]ccc21': 1, 'ONc1[nH]cc2[nH][nH]c12': 3, 'ONNc1cc2[nH]c1C2': 1, 'OO[C@@H]1Nc2c[nH]cc21': 1, 'Cc1c[nH]cc1/N=N\\\\N': 1, 'Nc1c[nH]cc1NCO': 1, 'Cc1[nH]cc(C=O)c1N': 1, 'Cc1c[nH]c(O)c1NN': 2, 'NNNc1c[nH]cc1N': 8, 'NCn1[nH]c2[nH]ccc21': 2, 'CN(O)Oc1ccc[nH]1': 1, 'Nc1cc(NC=O)c[nH]1': 1, '[N-]=[N+]1C=Nc2[nH]ccc21': 1, 'NNn1oc2c[nH]cc21': 1, 'c1[nH]c2c3[nH]n(c13)N2': 1, 'N=Nc1cc(N)c[nH]1': 1, 'OCNc1cc2[nH]c1[nH]2': 1, 'On1c2[nH]c1c1c2CN1': 1, 'Cc1[nH]c2cc1N(O)N2': 1, 'NCNNc1cc[nH]c1': 2, 'OOCNc1cc[nH]c1': 2, 'ONN1Oc2cc1c[nH]2': 1, 'Cn1c2c[nH]cc2n1N': 1, 'Nc1cc(N(N)O)c[nH]1': 2, 'OCc1[nH]cc2c1NC2': 1, '[N-]=[N+]1COc2[nH]ccc21': 1, 'NNNc1ccc[nH]1': 4, 'Nn1c2c[nH]cc2n1N': 1, 'N[C@H]1c2c[nH]c3[nH]n1c23': 1, 'Nc1[nH]cc2c1NC2': 1, 'Cc1[nH]cc2c1NC2=N': 1, 'NNCc1c[nH]c2c1N2': 1, 'CN1C(=O)c2c[nH]cc21': 2, 'Nc1[nH]cc(N=O)c1N': 1, 'CNc1cc[nH]c1C': 1, 'CN(N)c1cc[nH]c1': 41, 'Oc1cc[nH]c1': 94, 'OCCNc1ccc[nH]1': 1, 'NCc1c[nH]cc1N': 10, 'N[C@H]1Oc2c[nH]cc2O1': 1, 'N=C(N)Nc1cc[nH]c1': 6, 'Nc1ccc[nH]1': 207, 'C[C@H]1Nc2c1c[nH]c2O': 1, 'CCNc1cc[nH]c1': 4, 'OCN(O)c1cc[nH]c1': 1, 'Nc1c2c[nH]c1O[C@@H]2N': 4, 'NN1Nc2cc1c[nH]2': 1, 'N[C@]1(O)Nc2c[nH]cc21': 17, '[N-]=[N+](NO)c1cc[nH]c1': 1, 'c1[nH]c2[nH]n3c2c1OC3': 1, 'CN1COc2[nH]ccc21': 2, 'Nc1c[nH]c(N)c1N': 3, 'O=C1c2c[nH]c3[nH]n1c23': 1, 'Cc1c[nH]cc1NNN': 6, 'OCn1c2cc3[nH]c2n31': 1, 'N[C@@H](O)Nc1ccc[nH]1': 3, 'Cc1[nH]ccc1NNO': 1, 'N=Cc1c[nH]cc1NN': 2, 'ONNNc1ccc[nH]1': 2, 'N=Nc1c2c[nH]c1NC2': 1, 'C[N+](=[N-])c1cc[nH]c1': 6, 'CNc1c[nH]cc1NO': 2, 'CNc1c[nH]cc1NN': 1, 'Nc1[nH]ccc1NC=O': 6, 'C1Nc2[nH]c3c1c2NN3': 1, 'ONN(O)c1cc[nH]c1': 1, 'ONNN1c2cc[nH]c21': 3, 'Nn1c2c3[nH]cc2n1N3': 2, 'Cn1c2cc[nH]c2n1N': 1, 'O=CN1Cc2[nH]ccc21': 1, 'NNn1[nH]c2[nH]ccc21': 3, 'N[C@@H](N)Nc1cc[nH]c1': 15, 'CN(C)c1cc[nH]c1O': 3, 'Nc1[nH]ccc1NNO': 6, 'c1[nH]c2[nH]n3[nH]c1c23': 3, 'N=NN(N)c1cc[nH]c1': 5, 'CN(NN)c1cc[nH]c1': 20, 'NNN(N)c1cc[nH]c1': 11, 'Cc1c[nH]c2[nH][nH]c12': 5, 'NN1c2c[nH]c(c2)[C@@H]1O': 1, 'ONCN1c2cc[nH]c21': 7, 'CN(N)c1cc[nH]c1O': 6, 'CN(N)c1c2c[nH]c1O2': 1, 'N[C@@H]1Nc2c[nH]cc2O1': 1, 'NNc1cc[nH]c1CO': 2, 'CN(O)N1c2c[nH]cc21': 1, 'Cc1[nH]cc2c1NC2=O': 1, 'O[C@H]1c2c[nH]c3c2N1C3': 1, 'Nc1cc(ON=O)c[nH]1': 1, 'CN1CNc2[nH]ccc21': 2, 'Cc1c(O)c[nH]c1N': 1, '[N-]=[N+](N=O)c1cc[nH]c1': 3, 'Cc1[nH]c2c3c1[C@H](N)N23': 1, 'ONc1[nH]c2cc1NN2': 1, 'Nc1[nH]ccc1NCO': 6, 'NNc1c(N)c[nH]c1O': 2, 'NN1COc2[nH]ccc21': 6, 'NN(N)c1cc[nH]c1': 13, 'NNc1cc[nH]c1N': 3, 'NNNNc1cc[nH]c1': 6, 'On1c2c[nH]c3[nH]n1c32': 1, 'ONNc1c[nH]c2c1N2': 1, 'N[C@@H]1Nc2cc[nH]c2O1': 8, 'Cn1[nH]c2c(O)[nH]cc21': 1, 'c1[nH]cc2c1N2': 20, 'CN1c2c[nH]c(c2)[C@@H]1O': 1, 'OCc1c[nH]c2[nH][nH]c12': 1, 'NNNc1cc[nH]c1N': 2, 'Nc1[nH]cc2c1NC2=O': 6, 'O=Cn1[nH]c2[nH]ccc21': 2, 'C[C@@H](O)c1c[nH]cc1N': 2, 'Nc1c[nH]cc1N(N)O': 9, 'NCN(N)c1cc[nH]c1': 4, 'OC[C@H]1Nc2c[nH]cc21': 7, 'Cc1[nH]cc2c1NC2': 1, 'c1cc[nH]c1': 43, 'NNc1c[nH]cc1CO': 7, 'CNNc1cc[nH]c1O': 1, 'CN(CN)c1cc[nH]c1': 6, 'Cc1[nH]ccc1NC=O': 2, 'NNc1[nH]cc(N)c1N': 1, 'NNc1c2c[nH]c1N=C2': 1, 'ON1Cc2c[nH]cc21': 1, 'C[N+](=[N-])c1cc[nH]c1O': 1, 'NCCc1c[nH]cc1N': 1, 'OCn1[nH]c2c[nH]cc21': 2, 'Cn1c2cc[nH]c2n1O': 4, 'NN(N)c1cc[nH]c1O': 3, '[N-]=[N+](N)c1cc[nH]c1O': 2, 'ONc1[nH]cc2c1CN2': 1, 'Nc1c[nH]cc1[C@@H](N)O': 14, 'O=NN1Nc2ccc1[nH]2': 1, 'CN(NO)c1cc[nH]c1': 57, 'c1cc2c([nH]1)O2': 8, 'NNc1cc[nH]c1NO': 4, 'C[N+](=[N-])c1ccc[nH]1': 1, 'NNc1c[nH]cc1N': 13, 'Nc1c[nH]c2c1NC2': 1, 'ONCc1c2c[nH]c1N2': 1, 'NCN1Cc2c[nH]cc21': 1, 'NN1C(=O)c2c[nH]c1c2': 2, 'ONNNc1cc[nH]c1': 35, 'C[C@H](N)Nc1cc[nH]c1': 2, '[N-]=[N+](CO)c1ccc[nH]1': 1, 'NNc1c[nH]c(O)c1N': 1, 'OCc1c[nH]c2c1N2O': 1, 'CN(C=O)c1cc[nH]c1': 9, 'NN[C@@H]1Nc2c[nH]cc21': 8, 'ONn1[nH]c2c[nH]cc21': 15, 'Nc1c[nH]cc1NNO': 11, 'O[C@]1(O)Nc2cc1c[nH]2': 1, 'Nc1c[nH]c(NO)c1N': 1, 'N[C@@H](O)N1c2cc[nH]c21': 7, 'CNc1c[nH]cc1CO': 3, 'NN(NO)c1cc[nH]c1': 41, 'NCNc1cc[nH]c1N': 4, 'O=Nc1c[nH]c2[nH][nH]c12': 1, 'Cn1c2cc3[nH]c2n31': 1, 'NNc1c[nH]cc1NN': 2, 'ON[C@@H]1Nc2c[nH]cc21': 28, 'OCNNc1cc[nH]c1': 7, 'C[C@H]1Nc2cc1c[nH]2': 1, 'c1c2c3[nH]c1n3-2': 4, 'N=C(N)c1c[nH]cc1N': 1, 'NN1Nc2cc[nH]c2O1': 3, 'NN1NOc2c[nH]cc21': 3, 'Nc1ccc(NCO)[nH]1': 1, 'Cc1[nH]cc(CN)c1N': 1, 'NN1NOc2[nH]ccc21': 3, 'NN1Cc2c[nH]cc21': 14, 'Nn1c2[nH]cc3[nH]n1c32': 2, 'CNc1cc[nH]c1NO': 16, 'Cc1[nH]cc2c1N[C@H]2O': 2, 'c1[nH]c2cc1N2': 34, 'Cc1c[nH]cc1NNO': 9, 'CNNc1cc[nH]c1': 7, 'Cc1c[nH]cc1CNN': 1, 'NNc1[nH]cc2c1NC2': 3, 'C[C@H]1Nc2c[nH]cc21': 4, 'CN1Cc2c[nH]cc21': 3, 'NN(C=O)c1ccc[nH]1': 4, 'Cn1[nH]c2c[nH]cc21': 3, 'CN1c2cc[nH]c2[C@@H]1N': 1, 'CNc1c(N)c[nH]c1N': 1, '[N-]=[N+]1Cc2c[nH]cc21': 4, 'Nc1cc(NN=O)c[nH]1': 1, 'NN(N=O)c1cc[nH]c1': 11, 'NNc1c2c[nH]c1ON2': 1, 'CN(N=O)c1cc[nH]c1': 3, 'CNc1cc[nH]c1N': 3, 'CC(=O)Nc1cc[nH]c1': 9, 'CNNc1c2c[nH]c1O2': 1, 'Nc1c[nH]cc1[C@@H](N)N': 2, 'Cc1c[nH]c(NO)c1N': 5, 'NCc1c[nH]c(N)c1': 1, 'Nc1[nH]cc2c1NCN2': 1, 'C[C@@H](N)c1c[nH]cc1O': 1, 'C=Nc1c[nH]cc1C': 1, 'CNc1c[nH]c(N)c1': 2, 'ONc1[nH]cc2c1NC2': 5, 'ONc1c[nH]cc1NO': 1, 'Nc1c(N)c2[nH]c1n2O': 1, 'O=NN1Nc2cc1c[nH]2': 3, 'Cc1c[nH]c2c1N[C@H]2O': 1, 'CN(C)c1cc[nH]c1': 10, 'CN(OO)c1cc[nH]c1': 3, 'CN(N)c1c[nH]cc1O': 3, 'NN(N)c1c[nH]cc1O': 3, 'NNCNc1cc[nH]c1': 10, 'Cc1c[nH]cc1N=N': 2, 'Nc1[nH]ccc1OCO': 2, 'Nc1cc2[nH]c1NN2': 1, '[N-]=[N+]1Nc2c[nH]cc21': 3, 'CN(O)N1c2cc[nH]c21': 1, 'Nc1[nH]ccc1NN=O': 2, 'NNCc1c[nH]cc1N': 6, 'NNn1[nH]c2c[nH]cc21': 3, 'NN(CO)c1cc[nH]c1': 53, 'N=CNc1cc[nH]c1N': 2, 'OCNNc1ccc[nH]1': 3, 'OCNc1cc[nH]c1O': 1, 'NCNc1cc[nH]c1O': 11, 'NNNc1c[nH]c(N)c1': 2, 'N=Cc1c[nH]c2[nH][nH]c12': 1, 'O=Cc1c[nH]c2c1N=N2': 1, 'N=C(O)Nc1cc[nH]c1': 1, 'N[C@@H](O)N1c2c[nH]c1c2': 2, 'NN1Nc2cc1c(O)[nH]2': 1, 'NN1c2c3c[nH]c2N[C@@H]31': 1, 'CC(=N)c1c[nH]cc1N': 1, 'Cc1cc[nH]c1': 1, 'C[N@@+]1([O-])Nc2c[nH]cc21': 1, 'NC(=O)Nc1cc[nH]c1': 40, 'NN1c2[nH]cc3c2CN31': 1, 'Nc1c[nH]cc1N(N)N': 2, '[N-]=[N+](C=O)c1cc[nH]c1': 7, 'O[C@H]1c2[nH]cc3[nH]n1c23': 1, 'NN(O)c1ccc[nH]1': 1, 'NCc1c[nH]c(NN)c1': 2, 'Nc1cc(NCO)c[nH]1': 3, 'c1cc2c([nH]1)N2': 304, 'CNc1cc[nH]c1NN': 2, 'CNc1cc[nH]c1': 3, 'CCc1c[nH]cc1N': 1, 'NNc1c[nH]cc1C=O': 7, 'Cc1c[nH]cc1NOO': 1, 'c1[nH]c2c3c1-n-2-3': 3, 'NOc1c[nH]cc1C=O': 2, 'CN(CO)c1cc[nH]c1': 9, 'Cn1[nH]c2[nH]ccc21': 7, 'CNc1c[nH]cc1C': 2, 'CN(N)c1ccc[nH]1': 5, 'CN(O)Nc1cc[nH]c1': 11, 'Nc1cc[nH]c1': 4478, 'CC(=N)N1c2cc[nH]c21': 1, 'Cc1c[nH]cc1/N=N\\\\O': 4, 'NN1COc2c[nH]cc21': 3, 'O=Nc1c[nH]cc1CO': 1, 'Nc1[nH]cc2c1NNO2': 1, 'CN1Cc2cc1c[nH]2': 2, 'OCN1Cc2[nH]ccc21': 1, 'Cc1c[nH]cc1NN': 5, 'N[C@@H]1Nc2c[nH]cc21': 15, '[N-]=[N+](N)c1cc[nH]c1': 3, 'NN(O)Nc1cc[nH]c1': 44, 'NN1Nc2c[nH]cc2O1': 4, 'CN1c2c3c[nH]c2O[C@@H]31': 2, 'On1c2[nH]cc3c2n1C3': 4, 'O=Cc1c[nH]c2[nH][nH]c12': 2, 'NCc1c[nH]cc1NN': 4, 'Nn1[nH]c2c[nH]c(O)c21': 1, 'NNNc1cc[nH]c1O': 3, 'Nc1[nH]cc2c1N[C@H]2O': 5, 'NNc1c2c[nH]c1OC2': 2, 'Nc1c[nH]cc1/N=N\\\\O': 1, 'OCCNc1cc[nH]c1': 9, 'N[C@@H]1Nc2cc[nH]c2N1': 4, 'N[C@@H]1Nc2c[nH]cc2N1': 2, 'ONNOc1cc[nH]c1': 1, '[N-]=[N+]1c2c[nH]cc2[C@@H]1O': 3, 'NCN1c2cc[nH]c21': 3, 'CN(O)c1c[nH]cc1N': 2, 'CN1Cc2[nH]ccc21': 2, 'CN1NOc2c[nH]cc21': 1, 'NN1c2cc3[nH]c2[C@@H]31': 1, 'NN(CO)c1ccc[nH]1': 3, 'CNc1c[nH]cc1C=N': 1, 'NN(C=O)c1cc[nH]c1': 30, 'CN1c2cc(NO)[nH]c21': 2, 'Cc1cc(NCN)c[nH]1': 1, 'Nc1cc(NNO)c[nH]1': 1, 'NC(=O)c1c[nH]cc1N': 10, 'Nn1[nH]c2c[nH]cc21': 12, 'ONn1[nH]c2[nH]ccc21': 6, 'N=CN(N)c1ccc[nH]1': 1, 'Nc1c[nH]c(O)c1CO': 1, 'Nc1c2c[nH]c1ON2N': 1, 'c1[nH]c2cc1O2': 1, 'C[C@H]1Nc2c[nH]cc2O1': 1, 'Cn1[nH]c2c(N)[nH]cc21': 1, 'C[C@H](O)Nc1cc[nH]c1': 9, 'C[C@H]1Nc2cc[nH]c2O1': 3, 'c1cc2[nH]c1[nH]2': 2, 'Nc1c[nH]cc1CNO': 23, 'N=Nc1c[nH]cc1N': 1, 'CNc1cc[nH]c1CO': 2, 'N[C@@H](N)N1c2cc[nH]c21': 2, 'N[C@H](O)Oc1cc[nH]c1': 2, 'Nn1[nH]c2[nH]ccc21': 3, 'NC(=O)N1c2cc[nH]c21': 4, 'NCNc1c2c[nH]c1O2': 1, 'CN1c2c[nH]c(c2)N1N': 1, 'Nc1[nH]cc2[nH][nH]c12': 2, 'Nc1cc2[nH]c1N[C@H]2O': 1, 'Nc1[nH]cc(C=O)c1N': 1, 'NN(N)Nc1cc[nH]c1': 8, 'NN(N=O)c1ccc[nH]1': 3, 'NCOc1cc[nH]c1': 1, 'CN(ON)c1cc[nH]c1': 1, 'CNc1c[nH]c(NO)c1': 2, 'NN1C(=O)c2c[nH]cc21': 6, 'CNc1c[nH]c(C)c1': 1, 'NN1CNc2[nH]ccc21': 1, 'N=CN(N)c1cc[nH]c1': 11, 'CN(N=N)c1cc[nH]c1': 1, 'NCCNc1cc[nH]c1': 2, 'Nc1[nH]cc(NO)c1N': 3, 'ONCNc1cc[nH]c1': 56, 'OCN1Cc2c[nH]cc21': 2, 'CN1Nc2cc[nH]c2O1': 3, 'On1c2c[nH]c3c2n1C3': 1, 'NOc1c[nH]cc1N=O': 1, 'C[C@H]1Nc2c1c[nH]c2N': 1, 'O[C@H]1c2c[nH]c3[nH]n1c23': 3, 'C[C@@]1(N)Nc2c[nH]cc21': 1, 'CN(C)c1cc[nH]c1N': 1, 'Cc1c[nH]cc1NCO': 2, 'N[C@H]1c2c[nH]cc2N1N': 1, 'ONNN1c2c[nH]cc21': 1, 'ONCNc1ccc[nH]1': 2, 'NCNc1c[nH]cc1O': 1, 'Cc1[nH]cc2[nH][nH]c12': 2, 'C[C@H]1Oc2[nH]cc1c2N': 1, 'NN1Cc2c[nH]c(O)c21': 3, 'C=Nc1c[nH]cc1CO': 1, 'On1c2[nH]cc3[nH]n1c32': 3, 'CN1c2cc(CN)[nH]c21': 1, 'CN1c2c[nH]cc2[C@@H]1O': 2, 'NN1c2c[nH]cc2[C@@H]1O': 14, 'ONCc1c[nH]c2c1N2': 1, 'O=CN1Nc2cc1c[nH]2': 1, 'CN1Nc2cc1c[nH]2': 1, 'N/N=N\\\\c1c[nH]cc1N': 1, '[N-]=[N+](CO)c1cc[nH]c1': 6, 'CC(=N)Nc1cc[nH]c1': 6, 'NNNc1c[nH]cc1O': 3, 'O=Nc1c[nH]c2c1N=N2': 1, 'NC(=O)Nc1ccc[nH]1': 1, 'NNc1c[nH]cc1NO': 4, 'ONN1Cc2c[nH]cc21': 17, 'N[C@@H]1Nc2c1c[nH]c2O': 3, 'N[N@+]1([O-])Nc2c[nH]cc21': 11, 'OCn1[nH]c2[nH]ccc21': 3, 'NNNc1cc[nH]c1': 25, 'NNc1[nH]ccc1C=O': 1, 'NNc1cc(N)[nH]c1O': 1, 'O=CN1Cc2cc1c[nH]2': 1, 'Cc1[nH]ccc1NCO': 3, 'O[C@H]1c2c3c[nH]c2NN31': 2, 'NN1c2c3c[nH]c2O[C@@H]31': 3, 'Nc1[nH]cc2c1NNN2': 1, 'C[C@@H](N)c1c[nH]cc1N': 1, 'OCN1Nc2cc1c[nH]2': 1, 'CN(O)c1cc[nH]c1N': 1, 'NNc1c[nH]c(NO)c1': 2, 'Nc1c[nH]cc1CCO': 4, 'c1[nH]c2[nH]n3c2c1C3': 1, 'Nc1[nH]cc(CO)c1N': 1, 'NO[C@@H]1Nc2c[nH]cc21': 1, 'Cc1c[nH]c(C)c1N': 2, 'CN1c2cc(NN)[nH]c21': 1, 'NNc1c[nH]cc1N=O': 5, 'NN(O)N1c2cc[nH]c21': 1, 'N[C@]12Oc3[nH]cc1c3O2': 1, 'C1Oc2[nH]c3c1c2NN3': 1, 'Oc1ccc[nH]1': 2, 'Nn1c2c[nH]c3on1c32': 1, 'OC[C@H]1Nc2cc1c[nH]2': 1, 'N=Nc1c[nH]cc1C=O': 2, 'NN1CNc2c[nH]cc21': 1, 'N[C@]1(N)Nc2c[nH]cc21': 4, 'Nc1[nH]cc2c1NCO2': 2, 'NN(O)Cc1cc[nH]c1': 1, 'CNc1cc2[nH]c1[nH]2': 1, 'NNc1cc[nH]c1': 5, 'CNc1c[nH]cc1C=O': 1, 'On1[nH]c2c[nH]cc21': 1, 'NNCN1c2cc[nH]c21': 1, 'Nn1oc2c[nH]cc21': 1, 'OCc1c2c[nH]c1NN2': 2, 'NCNc1c[nH]c(O)c1': 1, 'CN(C)c1ccc[nH]1': 1, 'NNN1Cc2c[nH]cc21': 4, 'Nn1c2cc[nH]c2n1O': 4, 'O[C@H]1c2[nH]cc3c2CN31': 1, 'NC[C@H]1Nc2c[nH]cc21': 1, 'CC(=O)c1c[nH]cc1N': 4}\n",
      "Validity: 70.15%\n",
      "Diversity: 4.62%\n"
     ]
    }
   ],
   "source": [
    "import sys\n",
    "sys.path.append(\"../\")\n",
    "from qmg.generator import MoleculeGenerator\n",
    "from qmg.utils import ConditionalWeightsGenerator\n",
    "from rdkit import RDLogger\n",
    "RDLogger.DisableLog('rdApp.*')\n",
    "\n",
    "# parameter settings for epoxide derivatives\n",
    "num_heavy_atom = 9\n",
    "random_seed = 2\n",
    "smarts = \"[C:1]1[N:2][C:3]=[C:4][C:5]=1\"\n",
    "disable_connectivity_position = [2]\n",
    "num_sample = 10000\n",
    "\n",
    "cwg = ConditionalWeightsGenerator(num_heavy_atom, smarts=smarts, disable_connectivity_position=disable_connectivity_position)\n",
    "random_weight_vector = cwg.generate_conditional_random_weights(random_seed)\n",
    "mg = MoleculeGenerator(num_heavy_atom, all_weight_vector=random_weight_vector) \n",
    "smiles_dict, validity, diversity = mg.sample_molecule(num_sample)\n",
    "print(smiles_dict)\n",
    "print(\"Validity: {:.2f}%\".format(validity*100))\n",
    "print(\"Diversity: {:.2f}%\".format(diversity*100))"
   ]
  },
  {
   "cell_type": "code",
   "execution_count": 3,
   "metadata": {},
   "outputs": [
    {
     "name": "stdout",
     "output_type": "stream",
     "text": [
      "{'N=C=C(N)C(=O)CN': 1, None: 411, 'NCC(=O)CCNNO': 1, 'CC(=O)/C=C\\\\N(C)NN': 1, 'CC(=O)CCN(N)N=N': 1, 'NCC(=O)[C@H]1CNC1=O': 1, 'N/N=C/CC(=O)CC=O': 1, 'CC(=O)[C@H]1C=NN1NO': 1, 'NNN1CCC(=O)CN1': 1, 'CC(=O)[C@@H]1N[C@@H]1NNN': 1, 'CC(=O)[C@H](N)CNCO': 1, 'C[C@@H](N)C(=O)CN(N)O': 1, 'N[C@@H]1N=C=CC(=O)CO1': 1, 'C[C@@H]1CC(=O)CC=N1': 1, 'CN1CCC(=O)CC1=N': 1, 'C=C(CNN=N)C(C)=O': 1, 'CCC(=O)CCNCO': 1, 'CC(=O)CN=N': 2, 'CC(=O)/C=C\\\\NC(=N)N': 1, 'NN1C[C@H]2N[C@H]1CC2=O': 1, 'O=C1[C@H](CO)[C@H]2NN[C@@H]12': 1, 'CC(=O)C/C=N/C(C)=O': 1, 'CC(=O)CCN(C)C': 2, 'CC(=O)CCNNN': 1, 'CN1CC(=O)CCN1': 1, 'C[C@]1(N)CC(=O)[C@H]2C[N@]21': 1, 'CC(=O)/C(N)=C/NN=O': 1, 'CC(=O)[C@H]1CN[C@@H](N)O1': 2, 'NNN1CCC(=O)CC1': 1, 'N=NCC(=O)C=C=NN': 1, 'N[N@@+]1([O-])CC(=O)CCN1': 2, 'CC(=O)CCN(N)NN': 1, 'O=C1C=C=NC1': 2, 'NCCC(=O)CN': 1, 'CCC(=O)/C=C\\\\N=N': 1, 'C[C@@H](NNO)C(=O)CN': 2, 'CC(=O)[C@@H](C)N(C)NO': 1, 'NC[C@@H](N)C(=O)CN=O': 1, 'CC(=O)CCNC(C)=O': 1, 'CC(=O)[C@@H](C)[N+](=[N-])CO': 1, 'NN1CC(=O)C=CN1': 1, 'O=C(CNO)C1=NN=C1': 1, 'CC(=O)[C@H](C)CNNO': 1, 'NN=C=CC(=O)CCO': 1, 'NN(C=O)C1=CC(=O)C1': 1, 'CC(=O)C=C=NC(N)=O': 1, 'CC(=O)[C@]1(N)C=NCO1': 1, 'CC(=O)CCN(C)CO': 2, 'CN(C)[C@H]1CC(=O)C1': 1, 'NNCCC(=O)CN=O': 1, 'CN/C=C\\\\C(=O)CNO': 1, 'CC(=O)[C@H]1CN(C)CO1': 1, 'N=C=CC(=O)CCNO': 1, 'NCCC(=O)C[C@@H](N)O': 2, 'NN[C@H]1CC(=O)CCN1': 1, 'N[N@+]1([O-])CC(=O)CCO1': 1, 'C=C(NCNO)C(C)=O': 1, 'NN/C=C1\\\\OCCC1=O': 1, 'NN1CC(=O)[C@H]2C[N@]21': 1, 'CCC(=O)CCNNO': 3, 'O=C1C[C@H](O)C1': 1, 'N=C=C(N)C(=O)CCO': 1, 'CC(=O)CCNCNO': 7, 'CC(=O)[C@H]1C[N@@]1NN': 1, 'NN1C=CC(=O)CC1=O': 1, 'CC(=O)C1=NN(NN)C1': 1, 'CC(=O)[C@H]1CN(C)N1O': 2, 'N=C=C(N)C(=O)CC=O': 1, 'NNN1CC(=O)CC=N1': 1, 'CC(=O)C=C=NNN': 1, 'C[C@]1(N)CC(=O)C=C=N1': 1, 'NN1CCC(=O)CN=N1': 1, 'N[N@]1[C@@H]2[C@H]3CO[C@]21C3=O': 1, 'CC(=O)/C=C\\\\N(C)NO': 6, 'CCC(=O)CN': 6, 'CC(=O)CCNC(=N)N': 1, 'CC(=O)/C(O)=C/N(C)N': 1, 'NC1=CNN=NCC1=O': 1, 'CC1=CNN(O)CC1=O': 1, 'CC(=O)CCN(N)CO': 7, 'NCC(=O)CCNCO': 2, 'N=CN1CCC(=O)C=N1': 1, 'CC(=O)/C(=C/NN)NO': 2, 'NC1=CC(=O)C1': 27, 'O=C1C=CN[C@@H](NO)C1': 2, 'CC(=O)CNN': 2, 'NN1C=CC(=O)CC1': 4, 'NN(N)CCC(=O)CO': 1, 'CC(=O)/C=C\\\\[N+](=[N-])NO': 1, 'CC(=O)/C=C\\\\N(C)N': 3, 'NN=C=CC(=O)CNO': 1, 'CC(=O)[C@H](N)/C=N/CO': 1, 'CC(=O)CCN(C)NO': 6, 'CC(=O)[C@H]1CN(N)CN1': 1, 'CCC(=O)[C@@H](C=N)CO': 1, 'N=C1CC(=O)C1': 8, 'O=C1CNn2cc1n2O': 1, 'CNC[C@@H](C=O)C(C)=O': 1, 'NN(NO)C1=CC(=O)C1': 2, 'CC(=O)[C@H]1CN(NO)N1': 2, 'NNC#CC(=O)CNO': 1, 'C=CC(=O)CN': 1, 'O=C1CCNN(O)C1': 1, 'CC(=O)CCNNO': 1, 'C/N=C/[C@@H](CO)C(C)=O': 1, 'C=C(N)C(=O)CC(N)=O': 1, 'CN1C=C(O)C(=O)CN1': 1, 'NN1C=CC(=O)C[C@@H]1O': 6, 'CC(=O)C1=CN1N': 1, 'CC(=O)[C@@]12CN(N)[C@H]1O2': 1, 'CC(=O)/C=C\\\\NCNO': 8, 'C/N=C/[C@H]1N=CCC1=O': 1, 'C=C(C(C)=O)N(N)N': 2, 'CC(=O)c1cn(C)[nH]1': 1, 'CC(=O)/C=C\\\\NCCN': 2, 'N=C[C@H]1CO[C@H](N)C1=O': 1, 'NN1[C@@H]2[C@@H]3C(=O)[C@@H]2O[C@@H]31': 1, 'O=C1C[N@@]2C[C@H]12': 1, 'CC(=O)/C=C\\\\N(N)NO': 4, 'CCC(=O)[C@H](O)CN=N': 1, 'O=C1C/C(=N/CNO)C1': 1, 'CC(=O)[C@H](N)CNC=O': 1, 'O=C(CNNO)C1=CN1': 1, 'CN=C=CC(=O)CC=O': 1, 'CC(C)=O': 7507, 'CN(NO)[C@H]1CC(=O)C1': 2, 'CC(=O)C1=CN1N(N)O': 1, 'NNCCC(=O)CNO': 3, 'N/C=C\\\\C(=O)CCCO': 1, 'N/N=C/CC(=O)CNO': 1, 'CCC(=O)C=C=NC': 1, 'CC(=O)[C@H]1CN1': 49, 'NNCCC(=O)CC=O': 1, 'CC(=O)CC=O': 1, 'NNN[C@H]1CC(=O)C1': 1, 'CC(=O)C1=NO1': 1, 'CC(=O)CCN[C@@H](N)N': 1, 'C=N/C=C\\\\C(=O)CC': 1, 'CC(=O)CCNCN': 4, 'CC(=O)/C=C\\\\[N+](=[N-])CO': 1, 'NN1CCC(=O)C[C@@H]1O': 2, 'N=CCC(=O)CCNN': 1, 'O=C1CN(O)[N@]2C[C@H]1N2': 1, 'CC(=O)CC#N': 27, 'NN1[C@@H]2CC(=O)[C@@H]2N1O': 1, 'O=C1C=CN(NO)CC1': 2, 'N[C@H]1CC(=O)C1': 40, 'CC(=O)[C@H]1C=N1': 18, 'CC(=O)CCNNCO': 1, 'CC(=O)/C=C\\\\N(N)N=O': 1, 'O=C1CCNC1': 10, 'CC(=O)[C@]1(O)CN(N)C1': 1, 'CC(=N)C(C)=O': 2, 'CCC(=O)C=N': 1, 'CC(=O)CCN(N)C=O': 4, 'CC(=O)C=C=NCN': 1, 'C[C@H]1N[C@H]2CC(=O)[C@@H]21': 1, 'CCNCCC(C)=O': 2, 'NC[C@H]1O[C@H](N)CC1=O': 1, 'O=C1C=CNC1': 3, 'N=CCC(=O)CN(N)N': 1, 'N[C@H]1CC(=O)[C@@H]1NNO': 1, 'CC(=O)[C@@H](C)N': 24, 'CC(=O)CCO': 11, 'CC(=O)/C=C\\\\N(N)CN': 3, 'C[C@@H](O)CC(=O)/C=C\\\\N': 3, 'CC(=O)CCN(C)N': 5, 'NN[C@H]1CC(=O)[C@@H]1N': 1, 'CC(=O)[C@H]1CN(N)N1O': 3, 'C[C@]1(C(=O)CO)N[N@@]1N': 1, 'CC(=O)[C@H](N)CNC=N': 1, 'CC(=O)CCN[C@@H](N)O': 9, 'CC(=O)C1=CN(N)NO1': 1, 'N/C=C\\\\C(=O)C[C@@H](N)O': 3, 'CC(=O)[C@H]1CN(N)NO1': 2, 'CN/C=C(\\\\NO)C(C)=O': 1, 'CC(=O)C(=C=NN)NO': 1, 'CC(=O)/C=C\\\\N(N)C=O': 3, 'NN1CCC(=O)CC1': 2, 'CCC(=O)CCNN': 4, 'CC(=O)CCN(N)C=N': 3, 'CC(=O)/C=C\\\\NCN': 2, 'NCCC(=O)CNN': 1, 'NN[C@H]1CC(=O)C=CN1': 1, 'CC(=O)CCN(C)NN': 2, 'CC(=O)CCNNNO': 2, 'CN[C@H](CC(C)=O)NO': 1, 'CC(=O)CCNN(N)N': 2, 'C=C(N)C(C)=O': 14, 'CC(=O)[C@H](N)CNN=O': 1, 'CCN/C=C\\\\C(C)=O': 1, 'CC(=O)[C@H]1C[N@@]1CNO': 2, 'CC(=O)/C=C\\\\NN(C)O': 1, 'CC(=O)CCN(N)NO': 7, 'CC(=O)CCNCOO': 1, 'CC(=O)/C=C\\\\N(N)CO': 6, 'CC(=O)C1=CN[C@@H](N)O1': 1, 'CC(=O)[C@@H]1CN(NO)C1': 2, 'NN1C=CC(=O)CN1O': 1, 'CC(=O)C#CN(C)N': 1, 'O=C1C=C=NN(NO)C1': 1, 'NNCCC(=O)CNN': 1, 'CC(=O)CCNC(N)=O': 3, 'CN(C)CCC(=O)CO': 1, 'NN/C=C1\\\\ONCC1=O': 1, 'O=C1CCN(NO)NC1': 1, 'CCC(=O)CN(C)NN': 1, 'CC(=O)C1=C=N1': 14, 'NN1C[C@H]2O[N@@]1CC2=O': 2, 'N=C=CC(=O)CN(N)O': 1, 'CC(=O)CCN(C)OO': 1, 'N=CCC(=O)C[C@@H](N)O': 1, 'CCC(=O)C1=NNC1': 1, 'CN[C@H](C)C(=O)CC=O': 1, 'CC(=O)/C=C\\\\N(C)CO': 1, 'NCCC(=O)CCN': 1, 'CC(=O)c1cn(C=O)[nH]1': 1, 'CC(=O)CCN': 633, 'CC(=O)CCNCCO': 2, 'CC(=O)C=C=NNNO': 1, 'CC(=O)C1=CN(N)[C@H]1O': 1, 'CC(=O)c1cn(NN)[nH]1': 1, 'CC(=O)[C@H]1CN(C)N1': 1, 'CCC(=O)c1c[nH][nH]1': 1, 'CCN/C=C(\\\\O)C(C)=O': 1, 'CC(=O)[C@H]1CO1': 2, 'CC(=O)/C=C\\\\N': 410, 'CC(=O)C=C=N': 95, 'CC(=O)c1cn(N=N)[nH]1': 1, 'CNC[C@@H](O)C(=O)CN': 1, 'N/N=C/CC(=O)CNN': 2, 'N[C@@H]1CCC1=O': 4, 'C=NCCC(=O)CCO': 1, 'O=C1CCN[C@@H](NO)C1': 1, 'CC(=O)/C=C\\\\N(O)N=O': 1, 'CCC(=O)C=C=NNO': 1, 'NN1CCC(=O)CN1O': 2, 'CN1CCC(=O)C[C@@H]1N': 1, 'CC(=O)C1=C[N+](=[N-])CO1': 1, 'CC(=O)C(N)=C=NNO': 1, 'C[C@@H](N)C(=O)CNCO': 1, 'NN1CCC(=O)[C@@H]2O[C@@H]21': 1, '[N-]=[N+]1C=C1C(=O)CN=O': 1, 'CC(=O)/C=C\\\\NCCO': 1, 'CC(=O)/C=C\\\\[N+](=[N-])N': 1, 'N/C=C\\\\C(=O)CCN': 2, 'CN(N)CCC(=O)CO': 1, 'CC(=O)[C@H]1C[N@@]1CCN': 1, 'CC(=O)CCN(C)C=N': 1, 'O=C1CC=NC1': 3, 'C#CC(=O)CCNNO': 1, 'CNNCCC(C)=O': 1, 'C[C@]12CC(=O)C(=C=N1)O2': 1, '[N-]=[N+](N)CC(=O)/C=C\\\\N': 1, 'NCCC(=O)CCNO': 1, 'CCC(=O)/C=C\\\\NNO': 2, 'N/C=C\\\\C(=O)CN': 1, 'CC(=O)[C@H]1CN(N)CO1': 1, 'N[C@@]1(O)CC(=O)C=CN1': 1, 'C[C@H]1NCC1=O': 1, 'C[C@H]1C(=O)C[C@@H]1NNN': 1, 'CC(=N)C(=O)CC(=N)N': 1, 'CC(=O)/C=C\\\\N[C@H](C)O': 1, 'CCC(C)=O': 5, 'CC(=O)c1cn(C)n1O': 2, 'N[C@H]1CC(=O)C=CN1': 2, 'CC(=O)C1=CN1': 32, 'O=C(CCO)[C@@H]1CNC1': 1, 'CC(=O)c1cn(CN)[nH]1': 1, 'CC(=O)[C@H]1CN(N)[C@H]1O': 1, 'N[C@@H]1C=NC(=O)CC1=O': 1, 'CC(=O)/C=C\\\\N(N)NN': 1, 'CC(=O)CC(=O)C=C=N': 1, 'O=C1C=NCC1': 1, 'CC(=O)[C@H]1CN(N)N1': 1, 'N[C@]12OCN=C1CC2=O': 1, 'CN/C=C(\\\\N)C(C)=O': 3, 'CC(=O)C1=NC1': 1, 'NNCC(=O)[C@@H]1CNC1': 1, 'N/C=C\\\\C(=O)CNN': 1, 'NN1CC(=O)[C@H](O)CN1': 1, 'CC(=O)C(N)=C=NCO': 1, 'CC(=O)[C@H]1CN(C=O)N1': 3, 'N=CC(=O)[C@@]1(O)CNN1': 1, 'O=C1C=CN[C@H]1NNO': 1, 'N=C1CC(=O)CCN1N': 1, 'N[C@@H]1CNN(O)CC1=O': 1, 'CC(=O)C#CN': 4, 'CC(=O)/C=C\\\\O': 4, 'CC(=O)CCN(C)C=O': 1, 'NCCC(=O)CC(N)=O': 1, 'CC(=O)[C@@H]1CN(CN)C1': 1, 'CC(=O)C=C=NNNN': 1, 'CC(=O)C1=CN1NN': 1, 'CNCCC(=O)[C@@H](N)O': 1, 'O=C1CCNC=C1NO': 1, 'N=CCC(=O)[C@H]1CNN1': 1, 'NN1CCC(=O)CC1=O': 1, 'CC(=O)CC[N+](=[N-])CO': 1, 'NCC(=O)[C@H]1CNN1O': 1, 'O=C1C=CNN(NO)C1': 1, 'CC(=O)[C@H](O)CNCO': 1, 'O=C1C[C@H]2N=C12': 1, 'CC(=O)c1cn(N)n1O': 1, 'N=NCCC(=O)CN=O': 1, 'CC(=O)[C@H](N)CN(C)N': 1, 'CC(=O)CC=N': 167, 'C=CC(=O)CN[C@@H](N)N': 1, 'O=C1C[C@H]2[C@H]1CN2NO': 1, 'CC(=O)CON': 3, 'O=C1CC[N@]2C[C@H]1N2': 1, 'CC(=O)CON(C)N=O': 1, 'O=C(CCO)[C@H]1CN=N1': 1, 'O=C1C[C@@H]2N[C@@H](NO)[C@@H]12': 1, '[N-]=[N+]1[C@@H](O)[C@H]2C(=O)C[C@@H]21': 1, 'CC(=O)C=C=O': 1, 'Cn1c2c(n1O)C(=O)C2': 1, 'O=C(CCCO)[C@H]1CN1': 1, 'NN(CO)C1=CC(=O)C1': 1, 'CC(=O)[C@H](CN)CNN': 1, 'CN1CCC(=O)CN1': 1, 'O=C1C[C@H](O)[N@]2C[C@H]1N2': 1, 'CCC(=O)/C(=C/N)NO': 2, 'CC(=O)CCN(N)N': 2, 'NNCCC(=O)CCO': 2, 'CC(=O)CCN[C@H](C)O': 1, 'CC(=O)[C@](C)(N)N(N)N': 1, 'CC(=O)C/C=N/CN': 1, 'CC(=O)[C@]12C[N@@](CO1)N2': 1, 'CC(=O)/C=C\\\\NNNO': 3, 'O=C1CCN(NO)CC1': 1, 'CCC(=O)[C@@H](CN)NO': 1, 'CC(=O)CCNN(N)O': 2, 'CC(=O)/C=C\\\\N(O)NO': 1, 'O=C1C[C@H]2N[C@@H]12': 4, 'CC(=O)/C=C\\\\NC(N)=O': 4, 'CC(=O)[C@](C)(O)N(C)N': 1, 'CN=C=CC(=O)CCO': 1, 'C[C@@H]1CNCCC1=O': 1, 'O=C1C=C=N[C@@H](NO)C1': 1, 'CC(=O)/C(O)=C/NNN': 1, 'NCCC(=O)CCNN': 1, 'O=C(C/C=N/O)CCO': 1, 'O=C1CC=N[C@@H](NO)C1': 1, 'CC(=O)C1=C=N[C@@H](N)O1': 1, 'N[C@@H]1NCCC(=O)CO1': 1, 'CCCC(=O)CNN': 1, 'O=CCC(=O)[C@H]1CN=N1': 1, 'C[C@@H](NN)C(=O)CNO': 1, 'CC(=O)c1cn(N=O)[nH]1': 1}\n",
      "Validity: 95.89%\n",
      "Diversity: 3.49%\n"
     ]
    }
   ],
   "source": [
    "import sys\n",
    "sys.path.append(\"../\")\n",
    "from qmg.generator import MoleculeGenerator\n",
    "from qmg.utils import ConditionalWeightsGenerator\n",
    "from rdkit import RDLogger\n",
    "RDLogger.DisableLog('rdApp.*')\n",
    "# parameter settings for ketone derivatives\n",
    "num_heavy_atom = 9\n",
    "random_seed = 2\n",
    "smarts = \"[C:1][C:2](=[O:3])[C:4]\"\n",
    "disable_connectivity_position = [2, 3]\n",
    "num_sample = 10000\n",
    "\n",
    "cwg = ConditionalWeightsGenerator(num_heavy_atom, smarts=smarts, disable_connectivity_position=disable_connectivity_position)\n",
    "random_weight_vector = cwg.generate_conditional_random_weights(random_seed)\n",
    "mg = MoleculeGenerator(num_heavy_atom, all_weight_vector=random_weight_vector) \n",
    "smiles_dict, validity, diversity = mg.sample_molecule(num_sample)\n",
    "print(smiles_dict)\n",
    "print(\"Validity: {:.2f}%\".format(validity*100))\n",
    "print(\"Diversity: {:.2f}%\".format(diversity*100))"
   ]
  },
  {
   "cell_type": "code",
   "execution_count": null,
   "metadata": {},
   "outputs": [],
   "source": [
    "import sys\n",
    "sys.path.append(\"../\")\n",
    "from qmg.generator import MoleculeGenerator\n",
    "from qmg.utils import ConditionalWeightsGenerator\n",
    "from rdkit import RDLogger\n",
    "RDLogger.DisableLog('rdApp.*')\n",
    "\n",
    "# parameter settings for epoxide derivatives\n",
    "num_heavy_atom = 5\n",
    "random_seed = 2\n",
    "smarts = \"[C:1]1[N:2][C:3]=[C:4][C:5]=1\"\n",
    "disable_connectivity_position = [2]\n",
    "num_sample = 10000\n",
    "\n",
    "cwg = ConditionalWeightsGenerator(num_heavy_atom, smarts=smarts, disable_connectivity_position=disable_connectivity_position)\n",
    "random_weight_vector = cwg.generate_conditional_random_weights(random_seed)\n",
    "mg = MoleculeGenerator(num_heavy_atom, all_weight_vector=random_weight_vector) \n",
    "\n",
    "# smiles_dict, validity, diversity = mg.sample_molecule(num_sample)\n",
    "# print(smiles_dict)\n",
    "# print(\"Validity: {:.2f}%\".format(validity*100))\n",
    "# print(\"Diversity: {:.2f}%\".format(diversity*100))"
   ]
  }
 ],
 "metadata": {
  "kernelspec": {
   "display_name": "qmg",
   "language": "python",
   "name": "python3"
  },
  "language_info": {
   "codemirror_mode": {
    "name": "ipython",
    "version": 3
   },
   "file_extension": ".py",
   "mimetype": "text/x-python",
   "name": "python",
   "nbconvert_exporter": "python",
   "pygments_lexer": "ipython3",
   "version": "3.10.13"
  }
 },
 "nbformat": 4,
 "nbformat_minor": 2
}
