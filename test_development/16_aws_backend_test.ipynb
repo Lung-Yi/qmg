{
 "cells": [
  {
   "cell_type": "code",
   "execution_count": 19,
   "metadata": {},
   "outputs": [],
   "source": [
    "import os\n",
    "from qiskit import QuantumCircuit\n",
    "from qiskit.circuit.random import random_circuit\n",
    "from qiskit.visualization import plot_histogram\n",
    "\n",
    "from braket.tracking import Tracker\n",
    "\n",
    "from qiskit_braket_provider import BraketLocalBackend, BraketProvider, to_braket\n",
    "# Use Braket SDK Cost Tracking to estimate the cost to run this example\n",
    "t = Tracker().start()\n",
    "\n",
    "os.environ['AWS_DEFAULT_REGION'] = 'us-east-1'"
   ]
  },
  {
   "cell_type": "code",
   "execution_count": 20,
   "metadata": {},
   "outputs": [
    {
     "name": "stdout",
     "output_type": "stream",
     "text": [
      "[]\n"
     ]
    }
   ],
   "source": [
    "provider = BraketProvider()\n",
    "backends = provider.backends()\n",
    "print(backends)\n",
    "# print(provider.backends(\"Aria 1\"))\n",
    "\n",
    "# online_simulators_backends = provider.backends(statuses=[\"ONLINE\"], types=[\"SIMULATOR\"])\n",
    "# online_simulators_backends"
   ]
  },
  {
   "cell_type": "code",
   "execution_count": 6,
   "metadata": {},
   "outputs": [
    {
     "data": {
      "text/plain": [
       "BraketBackend[default]"
      ]
     },
     "execution_count": 6,
     "metadata": {},
     "output_type": "execute_result"
    }
   ],
   "source": [
    "local_simulator = BraketLocalBackend()\n",
    "local_simulator"
   ]
  },
  {
   "cell_type": "code",
   "execution_count": 9,
   "metadata": {},
   "outputs": [
    {
     "ename": "QiskitBackendNotFoundError",
     "evalue": "'No backend matches the criteria'",
     "output_type": "error",
     "traceback": [
      "\u001b[0;31m---------------------------------------------------------------------------\u001b[0m",
      "\u001b[0;31mQiskitBackendNotFoundError\u001b[0m                Traceback (most recent call last)",
      "Cell \u001b[0;32mIn[9], line 8\u001b[0m\n\u001b[1;32m      3\u001b[0m provider \u001b[38;5;241m=\u001b[39m BraketProvider()\n\u001b[1;32m      5\u001b[0m \u001b[38;5;66;03m# devices\u001b[39;00m\n\u001b[1;32m      6\u001b[0m \u001b[38;5;66;03m# ionq_device = provider.get_backend(\"IonQ Device\")\u001b[39;00m\n\u001b[0;32m----> 8\u001b[0m rigetti_device \u001b[38;5;241m=\u001b[39m \u001b[43mprovider\u001b[49m\u001b[38;5;241;43m.\u001b[39;49m\u001b[43mget_backend\u001b[49m\u001b[43m(\u001b[49m\u001b[38;5;124;43m\"\u001b[39;49m\u001b[38;5;124;43mAspen-M-1\u001b[39;49m\u001b[38;5;124;43m\"\u001b[39;49m\u001b[43m)\u001b[49m\n\u001b[1;32m     10\u001b[0m oqc_device \u001b[38;5;241m=\u001b[39m provider\u001b[38;5;241m.\u001b[39mget_backend(\u001b[38;5;124m\"\u001b[39m\u001b[38;5;124mLucy\u001b[39m\u001b[38;5;124m\"\u001b[39m)\n",
      "File \u001b[0;32m~/.conda/envs/qmg/lib/python3.10/site-packages/qiskit_braket_provider/providers/braket_provider.py:50\u001b[0m, in \u001b[0;36mBraketProvider.get_backend\u001b[0;34m(self, name, **kwargs)\u001b[0m\n\u001b[1;32m     46\u001b[0m     \u001b[38;5;28;01mraise\u001b[39;00m QiskitBackendNotFoundError(\n\u001b[1;32m     47\u001b[0m         \u001b[38;5;124m\"\u001b[39m\u001b[38;5;124mMore than one backend matches the criteria\u001b[39m\u001b[38;5;124m\"\u001b[39m\n\u001b[1;32m     48\u001b[0m     )\n\u001b[1;32m     49\u001b[0m \u001b[38;5;28;01mif\u001b[39;00m \u001b[38;5;129;01mnot\u001b[39;00m backends:\n\u001b[0;32m---> 50\u001b[0m     \u001b[38;5;28;01mraise\u001b[39;00m QiskitBackendNotFoundError(\u001b[38;5;124m\"\u001b[39m\u001b[38;5;124mNo backend matches the criteria\u001b[39m\u001b[38;5;124m\"\u001b[39m)\n\u001b[1;32m     51\u001b[0m \u001b[38;5;28;01mreturn\u001b[39;00m backends[\u001b[38;5;241m0\u001b[39m]\n",
      "\u001b[0;31mQiskitBackendNotFoundError\u001b[0m: 'No backend matches the criteria'"
     ]
    }
   ],
   "source": [
    "from qiskit_braket_provider import BraketProvider\n",
    "\n",
    "provider = BraketProvider()\n",
    "\n",
    "# devices\n",
    "# ionq_device = provider.get_backend(\"IonQ Device\")\n",
    "\n",
    "rigetti_device = provider.get_backend(\"Aspen-M-1\")\n",
    "\n",
    "oqc_device = provider.get_backend(\"Lucy\")\n"
   ]
  },
  {
   "cell_type": "code",
   "execution_count": 26,
   "metadata": {},
   "outputs": [
    {
     "name": "stderr",
     "output_type": "stream",
     "text": [
      "/beegfs/home/lungyi45/.conda/envs/qmg/lib/python3.10/site-packages/braket/aws/aws_device.py:660: UserWarning: AccessDeniedException: Unable to search region 'us-east-1' for devices. Please check your settings or try again later. Continuing without devices in 'us-east-1'.\n",
      "  warnings.warn(\n",
      "/beegfs/home/lungyi45/.conda/envs/qmg/lib/python3.10/site-packages/braket/aws/aws_device.py:660: UserWarning: AccessDeniedException: Unable to search region 'us-west-1' for devices. Please check your settings or try again later. Continuing without devices in 'us-west-1'.\n",
      "  warnings.warn(\n",
      "/beegfs/home/lungyi45/.conda/envs/qmg/lib/python3.10/site-packages/braket/aws/aws_device.py:660: UserWarning: AccessDeniedException: Unable to search region 'us-west-2' for devices. Please check your settings or try again later. Continuing without devices in 'us-west-2'.\n",
      "  warnings.warn(\n",
      "/beegfs/home/lungyi45/.conda/envs/qmg/lib/python3.10/site-packages/braket/aws/aws_device.py:660: UserWarning: AccessDeniedException: Unable to search region 'eu-west-2' for devices. Please check your settings or try again later. Continuing without devices in 'eu-west-2'.\n",
      "  warnings.warn(\n",
      "/beegfs/home/lungyi45/.conda/envs/qmg/lib/python3.10/site-packages/braket/aws/aws_device.py:660: UserWarning: AccessDeniedException: Unable to search region 'eu-north-1' for devices. Please check your settings or try again later. Continuing without devices in 'eu-north-1'.\n",
      "  warnings.warn(\n"
     ]
    },
    {
     "ename": "QiskitBackendNotFoundError",
     "evalue": "'No backend matches the criteria'",
     "output_type": "error",
     "traceback": [
      "\u001b[0;31m---------------------------------------------------------------------------\u001b[0m",
      "\u001b[0;31mQiskitBackendNotFoundError\u001b[0m                Traceback (most recent call last)",
      "Cell \u001b[0;32mIn[26], line 1\u001b[0m\n\u001b[0;32m----> 1\u001b[0m Aria_1 \u001b[38;5;241m=\u001b[39m \u001b[43mprovider\u001b[49m\u001b[38;5;241;43m.\u001b[39;49m\u001b[43mget_backend\u001b[49m\u001b[43m(\u001b[49m\u001b[38;5;124;43m\"\u001b[39;49m\u001b[38;5;124;43mAria 1\u001b[39;49m\u001b[38;5;124;43m\"\u001b[39;49m\u001b[43m)\u001b[49m\n",
      "File \u001b[0;32m~/.conda/envs/qmg/lib/python3.10/site-packages/qiskit_braket_provider/providers/braket_provider.py:50\u001b[0m, in \u001b[0;36mBraketProvider.get_backend\u001b[0;34m(self, name, **kwargs)\u001b[0m\n\u001b[1;32m     46\u001b[0m     \u001b[38;5;28;01mraise\u001b[39;00m QiskitBackendNotFoundError(\n\u001b[1;32m     47\u001b[0m         \u001b[38;5;124m\"\u001b[39m\u001b[38;5;124mMore than one backend matches the criteria\u001b[39m\u001b[38;5;124m\"\u001b[39m\n\u001b[1;32m     48\u001b[0m     )\n\u001b[1;32m     49\u001b[0m \u001b[38;5;28;01mif\u001b[39;00m \u001b[38;5;129;01mnot\u001b[39;00m backends:\n\u001b[0;32m---> 50\u001b[0m     \u001b[38;5;28;01mraise\u001b[39;00m QiskitBackendNotFoundError(\u001b[38;5;124m\"\u001b[39m\u001b[38;5;124mNo backend matches the criteria\u001b[39m\u001b[38;5;124m\"\u001b[39m)\n\u001b[1;32m     51\u001b[0m \u001b[38;5;28;01mreturn\u001b[39;00m backends[\u001b[38;5;241m0\u001b[39m]\n",
      "\u001b[0;31mQiskitBackendNotFoundError\u001b[0m: 'No backend matches the criteria'"
     ]
    }
   ],
   "source": [
    "Aria_1 = provider.get_backend(\"Aria 1\")"
   ]
  },
  {
   "cell_type": "code",
   "execution_count": 31,
   "metadata": {},
   "outputs": [],
   "source": [
    "from qiskit.qasm3 import dumps"
   ]
  },
  {
   "cell_type": "code",
   "execution_count": 30,
   "metadata": {},
   "outputs": [
    {
     "name": "stderr",
     "output_type": "stream",
     "text": [
      "/beegfs/home/lungyi45/.conda/envs/qmg/lib/python3.10/site-packages/braket/aws/aws_device.py:660: UserWarning: AccessDeniedException: Unable to search region 'us-east-1' for devices. Please check your settings or try again later. Continuing without devices in 'us-east-1'.\n",
      "  warnings.warn(\n"
     ]
    },
    {
     "data": {
      "text/plain": [
       "[]"
      ]
     },
     "execution_count": 30,
     "metadata": {},
     "output_type": "execute_result"
    }
   ],
   "source": [
    "online_simulators_backends = provider.backends(statuses=[\"ONLINE\"], types=[\"SIMULATOR\"])\n",
    "online_simulators_backends"
   ]
  },
  {
   "cell_type": "code",
   "execution_count": 29,
   "metadata": {},
   "outputs": [
    {
     "ename": "TranspilerError",
     "evalue": "\"The control-flow construct 'if_else' is not supported by the backend.\"",
     "output_type": "error",
     "traceback": [
      "\u001b[0;31m---------------------------------------------------------------------------\u001b[0m",
      "\u001b[0;31mTranspilerError\u001b[0m                           Traceback (most recent call last)",
      "File \u001b[0;32m~/.conda/envs/qmg/lib/python3.10/site-packages/qiskit/transpiler/passmanager.py:580\u001b[0m, in \u001b[0;36m_replace_error.<locals>.wrapper\u001b[0;34m(*meth_args, **meth_kwargs)\u001b[0m\n\u001b[1;32m    579\u001b[0m \u001b[38;5;28;01mtry\u001b[39;00m:\n\u001b[0;32m--> 580\u001b[0m     \u001b[38;5;28;01mreturn\u001b[39;00m \u001b[43mmeth\u001b[49m\u001b[43m(\u001b[49m\u001b[38;5;241;43m*\u001b[39;49m\u001b[43mmeth_args\u001b[49m\u001b[43m,\u001b[49m\u001b[43m \u001b[49m\u001b[38;5;241;43m*\u001b[39;49m\u001b[38;5;241;43m*\u001b[39;49m\u001b[43mmeth_kwargs\u001b[49m\u001b[43m)\u001b[49m\n\u001b[1;32m    581\u001b[0m \u001b[38;5;28;01mexcept\u001b[39;00m PassManagerError \u001b[38;5;28;01mas\u001b[39;00m ex:\n",
      "File \u001b[0;32m~/.conda/envs/qmg/lib/python3.10/site-packages/qiskit/transpiler/passmanager.py:308\u001b[0m, in \u001b[0;36mPassManager.run\u001b[0;34m(self, circuits, output_name, callback)\u001b[0m\n\u001b[1;32m    307\u001b[0m \u001b[38;5;28;01mtry\u001b[39;00m:\n\u001b[0;32m--> 308\u001b[0m     \u001b[38;5;28;01mreturn\u001b[39;00m \u001b[38;5;28;43msuper\u001b[39;49m\u001b[43m(\u001b[49m\u001b[43m)\u001b[49m\u001b[38;5;241;43m.\u001b[39;49m\u001b[43mrun\u001b[49m\u001b[43m(\u001b[49m\n\u001b[1;32m    309\u001b[0m \u001b[43m        \u001b[49m\u001b[43min_programs\u001b[49m\u001b[38;5;241;43m=\u001b[39;49m\u001b[43mcircuits\u001b[49m\u001b[43m,\u001b[49m\n\u001b[1;32m    310\u001b[0m \u001b[43m        \u001b[49m\u001b[43mcallback\u001b[49m\u001b[38;5;241;43m=\u001b[39;49m\u001b[43mcallback\u001b[49m\u001b[43m,\u001b[49m\n\u001b[1;32m    311\u001b[0m \u001b[43m        \u001b[49m\u001b[43moutput_name\u001b[49m\u001b[38;5;241;43m=\u001b[39;49m\u001b[43moutput_name\u001b[49m\u001b[43m,\u001b[49m\n\u001b[1;32m    312\u001b[0m \u001b[43m    \u001b[49m\u001b[43m)\u001b[49m\n\u001b[1;32m    313\u001b[0m \u001b[38;5;28;01mfinally\u001b[39;00m:\n",
      "File \u001b[0;32m~/.conda/envs/qmg/lib/python3.10/site-packages/qiskit/passmanager/passmanager.py:226\u001b[0m, in \u001b[0;36mBasePassManager.run\u001b[0;34m(self, in_programs, callback, **kwargs)\u001b[0m\n\u001b[1;32m    225\u001b[0m \u001b[38;5;28;01mif\u001b[39;00m \u001b[38;5;28mlen\u001b[39m(in_programs) \u001b[38;5;241m==\u001b[39m \u001b[38;5;241m1\u001b[39m \u001b[38;5;129;01mor\u001b[39;00m \u001b[38;5;129;01mnot\u001b[39;00m should_run_in_parallel():\n\u001b[0;32m--> 226\u001b[0m     out \u001b[38;5;241m=\u001b[39m [\n\u001b[1;32m    227\u001b[0m         _run_workflow(program\u001b[38;5;241m=\u001b[39mprogram, pass_manager\u001b[38;5;241m=\u001b[39m\u001b[38;5;28mself\u001b[39m, callback\u001b[38;5;241m=\u001b[39mcallback, \u001b[38;5;241m*\u001b[39m\u001b[38;5;241m*\u001b[39mkwargs)\n\u001b[1;32m    228\u001b[0m         \u001b[38;5;28;01mfor\u001b[39;00m program \u001b[38;5;129;01min\u001b[39;00m in_programs\n\u001b[1;32m    229\u001b[0m     ]\n\u001b[1;32m    230\u001b[0m     \u001b[38;5;28;01mif\u001b[39;00m \u001b[38;5;28mlen\u001b[39m(in_programs) \u001b[38;5;241m==\u001b[39m \u001b[38;5;241m1\u001b[39m \u001b[38;5;129;01mand\u001b[39;00m \u001b[38;5;129;01mnot\u001b[39;00m is_list:\n",
      "File \u001b[0;32m~/.conda/envs/qmg/lib/python3.10/site-packages/qiskit/passmanager/passmanager.py:227\u001b[0m, in \u001b[0;36m<listcomp>\u001b[0;34m(.0)\u001b[0m\n\u001b[1;32m    225\u001b[0m \u001b[38;5;28;01mif\u001b[39;00m \u001b[38;5;28mlen\u001b[39m(in_programs) \u001b[38;5;241m==\u001b[39m \u001b[38;5;241m1\u001b[39m \u001b[38;5;129;01mor\u001b[39;00m \u001b[38;5;129;01mnot\u001b[39;00m should_run_in_parallel():\n\u001b[1;32m    226\u001b[0m     out \u001b[38;5;241m=\u001b[39m [\n\u001b[0;32m--> 227\u001b[0m         \u001b[43m_run_workflow\u001b[49m\u001b[43m(\u001b[49m\u001b[43mprogram\u001b[49m\u001b[38;5;241;43m=\u001b[39;49m\u001b[43mprogram\u001b[49m\u001b[43m,\u001b[49m\u001b[43m \u001b[49m\u001b[43mpass_manager\u001b[49m\u001b[38;5;241;43m=\u001b[39;49m\u001b[38;5;28;43mself\u001b[39;49m\u001b[43m,\u001b[49m\u001b[43m \u001b[49m\u001b[43mcallback\u001b[49m\u001b[38;5;241;43m=\u001b[39;49m\u001b[43mcallback\u001b[49m\u001b[43m,\u001b[49m\u001b[43m \u001b[49m\u001b[38;5;241;43m*\u001b[39;49m\u001b[38;5;241;43m*\u001b[39;49m\u001b[43mkwargs\u001b[49m\u001b[43m)\u001b[49m\n\u001b[1;32m    228\u001b[0m         \u001b[38;5;28;01mfor\u001b[39;00m program \u001b[38;5;129;01min\u001b[39;00m in_programs\n\u001b[1;32m    229\u001b[0m     ]\n\u001b[1;32m    230\u001b[0m     \u001b[38;5;28;01mif\u001b[39;00m \u001b[38;5;28mlen\u001b[39m(in_programs) \u001b[38;5;241m==\u001b[39m \u001b[38;5;241m1\u001b[39m \u001b[38;5;129;01mand\u001b[39;00m \u001b[38;5;129;01mnot\u001b[39;00m is_list:\n",
      "File \u001b[0;32m~/.conda/envs/qmg/lib/python3.10/site-packages/qiskit/passmanager/passmanager.py:286\u001b[0m, in \u001b[0;36m_run_workflow\u001b[0;34m(program, pass_manager, **kwargs)\u001b[0m\n\u001b[1;32m    282\u001b[0m passmanager_ir \u001b[38;5;241m=\u001b[39m pass_manager\u001b[38;5;241m.\u001b[39m_passmanager_frontend(\n\u001b[1;32m    283\u001b[0m     input_program\u001b[38;5;241m=\u001b[39mprogram,\n\u001b[1;32m    284\u001b[0m     \u001b[38;5;241m*\u001b[39m\u001b[38;5;241m*\u001b[39mkwargs,\n\u001b[1;32m    285\u001b[0m )\n\u001b[0;32m--> 286\u001b[0m passmanager_ir, final_state \u001b[38;5;241m=\u001b[39m \u001b[43mflow_controller\u001b[49m\u001b[38;5;241;43m.\u001b[39;49m\u001b[43mexecute\u001b[49m\u001b[43m(\u001b[49m\n\u001b[1;32m    287\u001b[0m \u001b[43m    \u001b[49m\u001b[43mpassmanager_ir\u001b[49m\u001b[38;5;241;43m=\u001b[39;49m\u001b[43mpassmanager_ir\u001b[49m\u001b[43m,\u001b[49m\n\u001b[1;32m    288\u001b[0m \u001b[43m    \u001b[49m\u001b[43mstate\u001b[49m\u001b[38;5;241;43m=\u001b[39;49m\u001b[43mPassManagerState\u001b[49m\u001b[43m(\u001b[49m\n\u001b[1;32m    289\u001b[0m \u001b[43m        \u001b[49m\u001b[43mworkflow_status\u001b[49m\u001b[38;5;241;43m=\u001b[39;49m\u001b[43minitial_status\u001b[49m\u001b[43m,\u001b[49m\n\u001b[1;32m    290\u001b[0m \u001b[43m        \u001b[49m\u001b[43mproperty_set\u001b[49m\u001b[38;5;241;43m=\u001b[39;49m\u001b[43mPropertySet\u001b[49m\u001b[43m(\u001b[49m\u001b[43m)\u001b[49m\u001b[43m,\u001b[49m\n\u001b[1;32m    291\u001b[0m \u001b[43m    \u001b[49m\u001b[43m)\u001b[49m\u001b[43m,\u001b[49m\n\u001b[1;32m    292\u001b[0m \u001b[43m    \u001b[49m\u001b[43mcallback\u001b[49m\u001b[38;5;241;43m=\u001b[39;49m\u001b[43mkwargs\u001b[49m\u001b[38;5;241;43m.\u001b[39;49m\u001b[43mget\u001b[49m\u001b[43m(\u001b[49m\u001b[38;5;124;43m\"\u001b[39;49m\u001b[38;5;124;43mcallback\u001b[39;49m\u001b[38;5;124;43m\"\u001b[39;49m\u001b[43m,\u001b[49m\u001b[43m \u001b[49m\u001b[38;5;28;43;01mNone\u001b[39;49;00m\u001b[43m)\u001b[49m\u001b[43m,\u001b[49m\n\u001b[1;32m    293\u001b[0m \u001b[43m\u001b[49m\u001b[43m)\u001b[49m\n\u001b[1;32m    294\u001b[0m \u001b[38;5;66;03m# The `property_set` has historically been returned as a mutable attribute on `PassManager`\u001b[39;00m\n\u001b[1;32m    295\u001b[0m \u001b[38;5;66;03m# This makes us non-reentrant (though `PassManager` would be dependent on its internal tasks to\u001b[39;00m\n\u001b[1;32m    296\u001b[0m \u001b[38;5;66;03m# be re-entrant if that was required), but is consistent with previous interfaces.  We're still\u001b[39;00m\n\u001b[1;32m    297\u001b[0m \u001b[38;5;66;03m# safe to be called in a serial loop, again assuming internal tasks are re-runnable.  The\u001b[39;00m\n\u001b[1;32m    298\u001b[0m \u001b[38;5;66;03m# conversion to the backend language is also allowed to use the property set, so it must be set\u001b[39;00m\n\u001b[1;32m    299\u001b[0m \u001b[38;5;66;03m# before calling it.\u001b[39;00m\n",
      "File \u001b[0;32m~/.conda/envs/qmg/lib/python3.10/site-packages/qiskit/passmanager/base_tasks.py:218\u001b[0m, in \u001b[0;36mBaseController.execute\u001b[0;34m(self, passmanager_ir, state, callback)\u001b[0m\n\u001b[1;32m    217\u001b[0m \u001b[38;5;28;01mwhile\u001b[39;00m \u001b[38;5;28;01mTrue\u001b[39;00m:\n\u001b[0;32m--> 218\u001b[0m     passmanager_ir, state \u001b[38;5;241m=\u001b[39m \u001b[43mnext_task\u001b[49m\u001b[38;5;241;43m.\u001b[39;49m\u001b[43mexecute\u001b[49m\u001b[43m(\u001b[49m\n\u001b[1;32m    219\u001b[0m \u001b[43m        \u001b[49m\u001b[43mpassmanager_ir\u001b[49m\u001b[38;5;241;43m=\u001b[39;49m\u001b[43mpassmanager_ir\u001b[49m\u001b[43m,\u001b[49m\n\u001b[1;32m    220\u001b[0m \u001b[43m        \u001b[49m\u001b[43mstate\u001b[49m\u001b[38;5;241;43m=\u001b[39;49m\u001b[43mstate\u001b[49m\u001b[43m,\u001b[49m\n\u001b[1;32m    221\u001b[0m \u001b[43m        \u001b[49m\u001b[43mcallback\u001b[49m\u001b[38;5;241;43m=\u001b[39;49m\u001b[43mcallback\u001b[49m\u001b[43m,\u001b[49m\n\u001b[1;32m    222\u001b[0m \u001b[43m    \u001b[49m\u001b[43m)\u001b[49m\n\u001b[1;32m    223\u001b[0m     \u001b[38;5;28;01mtry\u001b[39;00m:\n\u001b[1;32m    224\u001b[0m         \u001b[38;5;66;03m# Sending the object through the generator implies the custom controllers\u001b[39;00m\n\u001b[1;32m    225\u001b[0m         \u001b[38;5;66;03m# can always rely on the latest data to choose the next task to run.\u001b[39;00m\n",
      "File \u001b[0;32m~/.conda/envs/qmg/lib/python3.10/site-packages/qiskit/passmanager/base_tasks.py:218\u001b[0m, in \u001b[0;36mBaseController.execute\u001b[0;34m(self, passmanager_ir, state, callback)\u001b[0m\n\u001b[1;32m    217\u001b[0m \u001b[38;5;28;01mwhile\u001b[39;00m \u001b[38;5;28;01mTrue\u001b[39;00m:\n\u001b[0;32m--> 218\u001b[0m     passmanager_ir, state \u001b[38;5;241m=\u001b[39m \u001b[43mnext_task\u001b[49m\u001b[38;5;241;43m.\u001b[39;49m\u001b[43mexecute\u001b[49m\u001b[43m(\u001b[49m\n\u001b[1;32m    219\u001b[0m \u001b[43m        \u001b[49m\u001b[43mpassmanager_ir\u001b[49m\u001b[38;5;241;43m=\u001b[39;49m\u001b[43mpassmanager_ir\u001b[49m\u001b[43m,\u001b[49m\n\u001b[1;32m    220\u001b[0m \u001b[43m        \u001b[49m\u001b[43mstate\u001b[49m\u001b[38;5;241;43m=\u001b[39;49m\u001b[43mstate\u001b[49m\u001b[43m,\u001b[49m\n\u001b[1;32m    221\u001b[0m \u001b[43m        \u001b[49m\u001b[43mcallback\u001b[49m\u001b[38;5;241;43m=\u001b[39;49m\u001b[43mcallback\u001b[49m\u001b[43m,\u001b[49m\n\u001b[1;32m    222\u001b[0m \u001b[43m    \u001b[49m\u001b[43m)\u001b[49m\n\u001b[1;32m    223\u001b[0m     \u001b[38;5;28;01mtry\u001b[39;00m:\n\u001b[1;32m    224\u001b[0m         \u001b[38;5;66;03m# Sending the object through the generator implies the custom controllers\u001b[39;00m\n\u001b[1;32m    225\u001b[0m         \u001b[38;5;66;03m# can always rely on the latest data to choose the next task to run.\u001b[39;00m\n",
      "File \u001b[0;32m~/.conda/envs/qmg/lib/python3.10/site-packages/qiskit/passmanager/base_tasks.py:98\u001b[0m, in \u001b[0;36mGenericPass.execute\u001b[0;34m(self, passmanager_ir, state, callback)\u001b[0m\n\u001b[1;32m     97\u001b[0m \u001b[38;5;28;01mif\u001b[39;00m \u001b[38;5;28mself\u001b[39m \u001b[38;5;129;01mnot\u001b[39;00m \u001b[38;5;129;01min\u001b[39;00m state\u001b[38;5;241m.\u001b[39mworkflow_status\u001b[38;5;241m.\u001b[39mcompleted_passes:\n\u001b[0;32m---> 98\u001b[0m     ret \u001b[38;5;241m=\u001b[39m \u001b[38;5;28;43mself\u001b[39;49m\u001b[38;5;241;43m.\u001b[39;49m\u001b[43mrun\u001b[49m\u001b[43m(\u001b[49m\u001b[43mpassmanager_ir\u001b[49m\u001b[43m)\u001b[49m\n\u001b[1;32m     99\u001b[0m     run_state \u001b[38;5;241m=\u001b[39m RunState\u001b[38;5;241m.\u001b[39mSUCCESS\n",
      "File \u001b[0;32m~/.conda/envs/qmg/lib/python3.10/site-packages/qiskit/transpiler/passes/utils/error.py:62\u001b[0m, in \u001b[0;36mError.run\u001b[0;34m(self, _)\u001b[0m\n\u001b[1;32m     61\u001b[0m \u001b[38;5;28;01mif\u001b[39;00m \u001b[38;5;28mself\u001b[39m\u001b[38;5;241m.\u001b[39maction \u001b[38;5;241m==\u001b[39m \u001b[38;5;124m\"\u001b[39m\u001b[38;5;124mraise\u001b[39m\u001b[38;5;124m\"\u001b[39m:\n\u001b[0;32m---> 62\u001b[0m     \u001b[38;5;28;01mraise\u001b[39;00m TranspilerError(msg)\n\u001b[1;32m     63\u001b[0m \u001b[38;5;28;01mif\u001b[39;00m \u001b[38;5;28mself\u001b[39m\u001b[38;5;241m.\u001b[39maction \u001b[38;5;241m==\u001b[39m \u001b[38;5;124m\"\u001b[39m\u001b[38;5;124mwarn\u001b[39m\u001b[38;5;124m\"\u001b[39m:\n",
      "\u001b[0;31mTranspilerError\u001b[0m: \"The control-flow construct 'if_else' is not supported by the backend.\"",
      "\nThe above exception was the direct cause of the following exception:\n",
      "\u001b[0;31mTranspilerError\u001b[0m                           Traceback (most recent call last)",
      "Cell \u001b[0;32mIn[29], line 1\u001b[0m\n\u001b[0;32m----> 1\u001b[0m task \u001b[38;5;241m=\u001b[39m \u001b[43mlocal_simulator\u001b[49m\u001b[38;5;241;43m.\u001b[39;49m\u001b[43mrun\u001b[49m\u001b[43m(\u001b[49m\u001b[43mcircuit\u001b[49m\u001b[43m,\u001b[49m\u001b[43m \u001b[49m\u001b[43mshots\u001b[49m\u001b[38;5;241;43m=\u001b[39;49m\u001b[38;5;241;43m10\u001b[39;49m\u001b[43m)\u001b[49m\n\u001b[1;32m      2\u001b[0m results \u001b[38;5;241m=\u001b[39m task\u001b[38;5;241m.\u001b[39mresult()\n\u001b[1;32m      3\u001b[0m plot_histogram(results\u001b[38;5;241m.\u001b[39mget_counts())\n",
      "File \u001b[0;32m~/.conda/envs/qmg/lib/python3.10/site-packages/qiskit_braket_provider/providers/braket_backend.py:134\u001b[0m, in \u001b[0;36mBraketLocalBackend.run\u001b[0;34m(self, run_input, **options)\u001b[0m\n\u001b[1;32m    132\u001b[0m verbatim \u001b[38;5;241m=\u001b[39m options\u001b[38;5;241m.\u001b[39mpop(\u001b[38;5;124m\"\u001b[39m\u001b[38;5;124mverbatim\u001b[39m\u001b[38;5;124m\"\u001b[39m, \u001b[38;5;28;01mFalse\u001b[39;00m)\n\u001b[1;32m    133\u001b[0m gateset \u001b[38;5;241m=\u001b[39m \u001b[38;5;28mself\u001b[39m\u001b[38;5;241m.\u001b[39m_get_gateset() \u001b[38;5;28;01mif\u001b[39;00m \u001b[38;5;129;01mnot\u001b[39;00m verbatim \u001b[38;5;28;01melse\u001b[39;00m \u001b[38;5;28;01mNone\u001b[39;00m\n\u001b[0;32m--> 134\u001b[0m circuits: \u001b[38;5;28mlist\u001b[39m[Circuit] \u001b[38;5;241m=\u001b[39m [\n\u001b[1;32m    135\u001b[0m     to_braket(circ, gateset, verbatim) \u001b[38;5;28;01mfor\u001b[39;00m circ \u001b[38;5;129;01min\u001b[39;00m convert_input\n\u001b[1;32m    136\u001b[0m ]\n\u001b[1;32m    138\u001b[0m shots \u001b[38;5;241m=\u001b[39m options[\u001b[38;5;124m\"\u001b[39m\u001b[38;5;124mshots\u001b[39m\u001b[38;5;124m\"\u001b[39m] \u001b[38;5;28;01mif\u001b[39;00m \u001b[38;5;124m\"\u001b[39m\u001b[38;5;124mshots\u001b[39m\u001b[38;5;124m\"\u001b[39m \u001b[38;5;129;01min\u001b[39;00m options \u001b[38;5;28;01melse\u001b[39;00m \u001b[38;5;241m1024\u001b[39m\n\u001b[1;32m    139\u001b[0m \u001b[38;5;28;01mif\u001b[39;00m shots \u001b[38;5;241m==\u001b[39m \u001b[38;5;241m0\u001b[39m:\n",
      "File \u001b[0;32m~/.conda/envs/qmg/lib/python3.10/site-packages/qiskit_braket_provider/providers/braket_backend.py:135\u001b[0m, in \u001b[0;36m<listcomp>\u001b[0;34m(.0)\u001b[0m\n\u001b[1;32m    132\u001b[0m verbatim \u001b[38;5;241m=\u001b[39m options\u001b[38;5;241m.\u001b[39mpop(\u001b[38;5;124m\"\u001b[39m\u001b[38;5;124mverbatim\u001b[39m\u001b[38;5;124m\"\u001b[39m, \u001b[38;5;28;01mFalse\u001b[39;00m)\n\u001b[1;32m    133\u001b[0m gateset \u001b[38;5;241m=\u001b[39m \u001b[38;5;28mself\u001b[39m\u001b[38;5;241m.\u001b[39m_get_gateset() \u001b[38;5;28;01mif\u001b[39;00m \u001b[38;5;129;01mnot\u001b[39;00m verbatim \u001b[38;5;28;01melse\u001b[39;00m \u001b[38;5;28;01mNone\u001b[39;00m\n\u001b[1;32m    134\u001b[0m circuits: \u001b[38;5;28mlist\u001b[39m[Circuit] \u001b[38;5;241m=\u001b[39m [\n\u001b[0;32m--> 135\u001b[0m     \u001b[43mto_braket\u001b[49m\u001b[43m(\u001b[49m\u001b[43mcirc\u001b[49m\u001b[43m,\u001b[49m\u001b[43m \u001b[49m\u001b[43mgateset\u001b[49m\u001b[43m,\u001b[49m\u001b[43m \u001b[49m\u001b[43mverbatim\u001b[49m\u001b[43m)\u001b[49m \u001b[38;5;28;01mfor\u001b[39;00m circ \u001b[38;5;129;01min\u001b[39;00m convert_input\n\u001b[1;32m    136\u001b[0m ]\n\u001b[1;32m    138\u001b[0m shots \u001b[38;5;241m=\u001b[39m options[\u001b[38;5;124m\"\u001b[39m\u001b[38;5;124mshots\u001b[39m\u001b[38;5;124m\"\u001b[39m] \u001b[38;5;28;01mif\u001b[39;00m \u001b[38;5;124m\"\u001b[39m\u001b[38;5;124mshots\u001b[39m\u001b[38;5;124m\"\u001b[39m \u001b[38;5;129;01min\u001b[39;00m options \u001b[38;5;28;01melse\u001b[39;00m \u001b[38;5;241m1024\u001b[39m\n\u001b[1;32m    139\u001b[0m \u001b[38;5;28;01mif\u001b[39;00m shots \u001b[38;5;241m==\u001b[39m \u001b[38;5;241m0\u001b[39m:\n",
      "File \u001b[0;32m~/.conda/envs/qmg/lib/python3.10/site-packages/qiskit_braket_provider/providers/adapter.py:435\u001b[0m, in \u001b[0;36mto_braket\u001b[0;34m(circuit, basis_gates, verbatim)\u001b[0m\n\u001b[1;32m    431\u001b[0m braket_circuit \u001b[38;5;241m=\u001b[39m Circuit()\n\u001b[1;32m    432\u001b[0m \u001b[38;5;28;01mif\u001b[39;00m \u001b[38;5;129;01mnot\u001b[39;00m verbatim \u001b[38;5;129;01mand\u001b[39;00m \u001b[38;5;129;01mnot\u001b[39;00m {gate\u001b[38;5;241m.\u001b[39mname \u001b[38;5;28;01mfor\u001b[39;00m gate, _, _ \u001b[38;5;129;01min\u001b[39;00m circuit\u001b[38;5;241m.\u001b[39mdata}\u001b[38;5;241m.\u001b[39missubset(\n\u001b[1;32m    433\u001b[0m     basis_gates\n\u001b[1;32m    434\u001b[0m ):\n\u001b[0;32m--> 435\u001b[0m     circuit \u001b[38;5;241m=\u001b[39m \u001b[43mtranspile\u001b[49m\u001b[43m(\u001b[49m\u001b[43mcircuit\u001b[49m\u001b[43m,\u001b[49m\u001b[43m \u001b[49m\u001b[43mbasis_gates\u001b[49m\u001b[38;5;241;43m=\u001b[39;49m\u001b[43mbasis_gates\u001b[49m\u001b[43m,\u001b[49m\u001b[43m \u001b[49m\u001b[43moptimization_level\u001b[49m\u001b[38;5;241;43m=\u001b[39;49m\u001b[38;5;241;43m0\u001b[39;49m\u001b[43m)\u001b[49m\n\u001b[1;32m    437\u001b[0m \u001b[38;5;66;03m# Verify that ParameterVector would not collide with scalar variables after renaming.\u001b[39;00m\n\u001b[1;32m    438\u001b[0m _validate_name_conflicts(circuit\u001b[38;5;241m.\u001b[39mparameters)\n",
      "File \u001b[0;32m~/.conda/envs/qmg/lib/python3.10/site-packages/qiskit/compiler/transpiler.py:428\u001b[0m, in \u001b[0;36mtranspile\u001b[0;34m(circuits, backend, basis_gates, inst_map, coupling_map, backend_properties, initial_layout, layout_method, routing_method, translation_method, scheduling_method, instruction_durations, dt, approximation_degree, timing_constraints, seed_transpiler, optimization_level, callback, output_name, unitary_synthesis_method, unitary_synthesis_plugin_config, target, hls_config, init_method, optimization_method, ignore_backend_supplied_default_methods)\u001b[0m\n\u001b[1;32m    400\u001b[0m         instruction_durations \u001b[38;5;241m=\u001b[39m _parse_instruction_durations(\n\u001b[1;32m    401\u001b[0m             backend, instruction_durations, dt, circuits[\u001b[38;5;241m0\u001b[39m]\n\u001b[1;32m    402\u001b[0m         )\n\u001b[1;32m    404\u001b[0m pm \u001b[38;5;241m=\u001b[39m generate_preset_pass_manager(\n\u001b[1;32m    405\u001b[0m     optimization_level,\n\u001b[1;32m    406\u001b[0m     backend\u001b[38;5;241m=\u001b[39mbackend,\n\u001b[0;32m   (...)\u001b[0m\n\u001b[1;32m    426\u001b[0m     _skip_target\u001b[38;5;241m=\u001b[39m_skip_target,\n\u001b[1;32m    427\u001b[0m )\n\u001b[0;32m--> 428\u001b[0m out_circuits \u001b[38;5;241m=\u001b[39m \u001b[43mpm\u001b[49m\u001b[38;5;241;43m.\u001b[39;49m\u001b[43mrun\u001b[49m\u001b[43m(\u001b[49m\u001b[43mcircuits\u001b[49m\u001b[43m,\u001b[49m\u001b[43m \u001b[49m\u001b[43mcallback\u001b[49m\u001b[38;5;241;43m=\u001b[39;49m\u001b[43mcallback\u001b[49m\u001b[43m)\u001b[49m\n\u001b[1;32m    429\u001b[0m \u001b[38;5;28;01mfor\u001b[39;00m name, circ \u001b[38;5;129;01min\u001b[39;00m \u001b[38;5;28mzip\u001b[39m(output_name, out_circuits):\n\u001b[1;32m    430\u001b[0m     circ\u001b[38;5;241m.\u001b[39mname \u001b[38;5;241m=\u001b[39m name\n",
      "File \u001b[0;32m~/.conda/envs/qmg/lib/python3.10/site-packages/qiskit/transpiler/passmanager.py:561\u001b[0m, in \u001b[0;36mStagedPassManager.run\u001b[0;34m(self, circuits, output_name, callback)\u001b[0m\n\u001b[1;32m    554\u001b[0m \u001b[38;5;28;01mdef\u001b[39;00m \u001b[38;5;21mrun\u001b[39m(\n\u001b[1;32m    555\u001b[0m     \u001b[38;5;28mself\u001b[39m,\n\u001b[1;32m    556\u001b[0m     circuits: _CircuitsT,\n\u001b[1;32m    557\u001b[0m     output_name: \u001b[38;5;28mstr\u001b[39m \u001b[38;5;241m|\u001b[39m \u001b[38;5;28;01mNone\u001b[39;00m \u001b[38;5;241m=\u001b[39m \u001b[38;5;28;01mNone\u001b[39;00m,\n\u001b[1;32m    558\u001b[0m     callback: Callable \u001b[38;5;241m|\u001b[39m \u001b[38;5;28;01mNone\u001b[39;00m \u001b[38;5;241m=\u001b[39m \u001b[38;5;28;01mNone\u001b[39;00m,\n\u001b[1;32m    559\u001b[0m ) \u001b[38;5;241m-\u001b[39m\u001b[38;5;241m>\u001b[39m _CircuitsT:\n\u001b[1;32m    560\u001b[0m     \u001b[38;5;28mself\u001b[39m\u001b[38;5;241m.\u001b[39m_update_passmanager()\n\u001b[0;32m--> 561\u001b[0m     \u001b[38;5;28;01mreturn\u001b[39;00m \u001b[38;5;28;43msuper\u001b[39;49m\u001b[43m(\u001b[49m\u001b[43m)\u001b[49m\u001b[38;5;241;43m.\u001b[39;49m\u001b[43mrun\u001b[49m\u001b[43m(\u001b[49m\u001b[43mcircuits\u001b[49m\u001b[43m,\u001b[49m\u001b[43m \u001b[49m\u001b[43moutput_name\u001b[49m\u001b[43m,\u001b[49m\u001b[43m \u001b[49m\u001b[43mcallback\u001b[49m\u001b[43m)\u001b[49m\n",
      "File \u001b[0;32m~/.conda/envs/qmg/lib/python3.10/site-packages/qiskit/transpiler/passmanager.py:582\u001b[0m, in \u001b[0;36m_replace_error.<locals>.wrapper\u001b[0;34m(*meth_args, **meth_kwargs)\u001b[0m\n\u001b[1;32m    580\u001b[0m     \u001b[38;5;28;01mreturn\u001b[39;00m meth(\u001b[38;5;241m*\u001b[39mmeth_args, \u001b[38;5;241m*\u001b[39m\u001b[38;5;241m*\u001b[39mmeth_kwargs)\n\u001b[1;32m    581\u001b[0m \u001b[38;5;28;01mexcept\u001b[39;00m PassManagerError \u001b[38;5;28;01mas\u001b[39;00m ex:\n\u001b[0;32m--> 582\u001b[0m     \u001b[38;5;28;01mraise\u001b[39;00m TranspilerError(ex\u001b[38;5;241m.\u001b[39mmessage) \u001b[38;5;28;01mfrom\u001b[39;00m \u001b[38;5;21;01mex\u001b[39;00m\n",
      "\u001b[0;31mTranspilerError\u001b[0m: \"The control-flow construct 'if_else' is not supported by the backend.\""
     ]
    }
   ],
   "source": [
    "task = local_simulator.run(circuit, shots=10)\n",
    "results = task.result()\n",
    "plot_histogram(results.get_counts())"
   ]
  },
  {
   "cell_type": "code",
   "execution_count": 1,
   "metadata": {},
   "outputs": [
    {
     "name": "stderr",
     "output_type": "stream",
     "text": [
      "/beegfs/home/lungyi45/.conda/envs/qmg-gpu/lib/python3.8/site-packages/qiskit/visualization/circuit/matplotlib.py:266: FutureWarning: The default matplotlib drawer scheme will be changed to \"iqp\" in a following release. To silence this warning, specify the current default explicitly as style=\"clifford\", or the new default as style=\"iqp\".\n",
      "  self._style, def_font_ratio = load_style(self._style)\n"
     ]
    },
    {
     "data": {
      "image/png": "[encoded data removed]",
      "text/plain": [
       "<Figure size 1475.88x451.5 with 1 Axes>"
      ]
     },
     "execution_count": 1,
     "metadata": {},
     "output_type": "execute_result"
    }
   ],
   "source": [
    "import qiskit.qasm3\n",
    " \n",
    "program = \"\"\"\n",
    "    OPENQASM 3.0;\n",
    "    include \"stdgates.inc\";\n",
    " \n",
    "    input float[64] a;\n",
    "    qubit[3] q;\n",
    "    bit[2] mid;\n",
    "    bit[3] out;\n",
    " \n",
    "    let aliased = q[0:1];\n",
    " \n",
    "    gate my_gate(a) c, t {\n",
    "      gphase(a / 2);\n",
    "      ry(a) c;\n",
    "      cx c, t;\n",
    "    }\n",
    "    gate my_phase(a) c {\n",
    "      ctrl @ inv @ gphase(a) c;\n",
    "    }\n",
    " \n",
    "    my_gate(a * 2) aliased[0], q[{1, 2}][0];\n",
    "    measure q[0] -> mid[0];\n",
    "    measure q[1] -> mid[1];\n",
    " \n",
    "    while (mid == \"00\") {\n",
    "      reset q[0];\n",
    "      reset q[1];\n",
    "      my_gate(a) q[0], q[1];\n",
    "      my_phase(a - pi/2) q[1];\n",
    "      mid[0] = measure q[0];\n",
    "      mid[1] = measure q[1];\n",
    "    }\n",
    " \n",
    "    if (mid[0]) {\n",
    "      let inner_alias = q[{0, 1}];\n",
    "      reset inner_alias;\n",
    "    }\n",
    " \n",
    "    out = measure q;\n",
    "\"\"\"\n",
    "circuit = qiskit.qasm3.loads(program)\n",
    "circuit.draw(\"mpl\")"
   ]
  },
  {
   "cell_type": "code",
   "execution_count": 6,
   "metadata": {},
   "outputs": [
    {
     "ename": "QASM3ParsingError",
     "evalue": "",
     "output_type": "error",
     "traceback": [
      "\u001b[0;31m---------------------------------------------------------------------------\u001b[0m",
      "\u001b[0;31mParseCancellationException\u001b[0m                Traceback (most recent call last)",
      "File \u001b[0;32m~/.conda/envs/qmg-gpu/lib/python3.8/site-packages/openqasm3/parser.py:87\u001b[0m, in \u001b[0;36mparse\u001b[0;34m(input_, permissive)\u001b[0m\n\u001b[1;32m     86\u001b[0m \u001b[38;5;28;01mtry\u001b[39;00m:\n\u001b[0;32m---> 87\u001b[0m     tree \u001b[38;5;241m=\u001b[39m \u001b[43mparser\u001b[49m\u001b[38;5;241;43m.\u001b[39;49m\u001b[43mprogram\u001b[49m\u001b[43m(\u001b[49m\u001b[43m)\u001b[49m\n\u001b[1;32m     88\u001b[0m \u001b[38;5;28;01mexcept\u001b[39;00m (RecognitionException, ParseCancellationException) \u001b[38;5;28;01mas\u001b[39;00m exc:\n",
      "File \u001b[0;32m~/.conda/envs/qmg-gpu/lib/python3.8/site-packages/openqasm3/_antlr/_4_13/qasm3Parser.py:640\u001b[0m, in \u001b[0;36mqasm3Parser.program\u001b[0;34m(self)\u001b[0m\n\u001b[1;32m    639\u001b[0m \u001b[38;5;28mself\u001b[39m\u001b[38;5;241m.\u001b[39mstate \u001b[38;5;241m=\u001b[39m \u001b[38;5;241m131\u001b[39m\n\u001b[0;32m--> 640\u001b[0m \u001b[38;5;28;43mself\u001b[39;49m\u001b[38;5;241;43m.\u001b[39;49m\u001b[43mstatement\u001b[49m\u001b[43m(\u001b[49m\u001b[43m)\u001b[49m\n\u001b[1;32m    641\u001b[0m \u001b[38;5;28mself\u001b[39m\u001b[38;5;241m.\u001b[39mstate \u001b[38;5;241m=\u001b[39m \u001b[38;5;241m136\u001b[39m\n",
      "File \u001b[0;32m~/.conda/envs/qmg-gpu/lib/python3.8/site-packages/openqasm3/_antlr/_4_13/qasm3Parser.py:999\u001b[0m, in \u001b[0;36mqasm3Parser.statement\u001b[0;34m(self)\u001b[0m\n\u001b[1;32m    998\u001b[0m \u001b[38;5;28mself\u001b[39m\u001b[38;5;241m.\u001b[39mstate \u001b[38;5;241m=\u001b[39m \u001b[38;5;241m171\u001b[39m\n\u001b[0;32m--> 999\u001b[0m \u001b[38;5;28;43mself\u001b[39;49m\u001b[38;5;241;43m.\u001b[39;49m\u001b[43mioDeclarationStatement\u001b[49m\u001b[43m(\u001b[49m\u001b[43m)\u001b[49m\n\u001b[1;32m   1000\u001b[0m \u001b[38;5;28;01mpass\u001b[39;00m\n",
      "File \u001b[0;32m~/.conda/envs/qmg-gpu/lib/python3.8/site-packages/openqasm3/_antlr/_4_13/qasm3Parser.py:2725\u001b[0m, in \u001b[0;36mqasm3Parser.ioDeclarationStatement\u001b[0;34m(self)\u001b[0m\n\u001b[1;32m   2724\u001b[0m     \u001b[38;5;28mself\u001b[39m\u001b[38;5;241m.\u001b[39mstate \u001b[38;5;241m=\u001b[39m \u001b[38;5;241m358\u001b[39m\n\u001b[0;32m-> 2725\u001b[0m     \u001b[38;5;28;43mself\u001b[39;49m\u001b[38;5;241;43m.\u001b[39;49m\u001b[43mmatch\u001b[49m\u001b[43m(\u001b[49m\u001b[43mqasm3Parser\u001b[49m\u001b[38;5;241;43m.\u001b[39;49m\u001b[43mSEMICOLON\u001b[49m\u001b[43m)\u001b[49m\n\u001b[1;32m   2726\u001b[0m \u001b[38;5;28;01mexcept\u001b[39;00m RecognitionException \u001b[38;5;28;01mas\u001b[39;00m re:\n",
      "File \u001b[0;32m~/.conda/envs/qmg-gpu/lib/python3.8/site-packages/antlr4/Parser.py:126\u001b[0m, in \u001b[0;36mParser.match\u001b[0;34m(self, ttype)\u001b[0m\n\u001b[1;32m    125\u001b[0m \u001b[38;5;28;01melse\u001b[39;00m:\n\u001b[0;32m--> 126\u001b[0m     t \u001b[38;5;241m=\u001b[39m \u001b[38;5;28;43mself\u001b[39;49m\u001b[38;5;241;43m.\u001b[39;49m\u001b[43m_errHandler\u001b[49m\u001b[38;5;241;43m.\u001b[39;49m\u001b[43mrecoverInline\u001b[49m\u001b[43m(\u001b[49m\u001b[38;5;28;43mself\u001b[39;49m\u001b[43m)\u001b[49m\n\u001b[1;32m    127\u001b[0m     \u001b[38;5;28;01mif\u001b[39;00m \u001b[38;5;28mself\u001b[39m\u001b[38;5;241m.\u001b[39mbuildParseTrees \u001b[38;5;129;01mand\u001b[39;00m t\u001b[38;5;241m.\u001b[39mtokenIndex\u001b[38;5;241m==\u001b[39m\u001b[38;5;241m-\u001b[39m\u001b[38;5;241m1\u001b[39m:\n\u001b[1;32m    128\u001b[0m         \u001b[38;5;66;03m# we must have conjured up a new token during single token insertion\u001b[39;00m\n\u001b[1;32m    129\u001b[0m         \u001b[38;5;66;03m# if it's not the current symbol\u001b[39;00m\n",
      "File \u001b[0;32m~/.conda/envs/qmg-gpu/lib/python3.8/site-packages/antlr4/error/ErrorStrategy.py:703\u001b[0m, in \u001b[0;36mBailErrorStrategy.recoverInline\u001b[0;34m(self, recognizer)\u001b[0m\n\u001b[1;32m    702\u001b[0m \u001b[38;5;28;01mdef\u001b[39;00m \u001b[38;5;21mrecoverInline\u001b[39m(\u001b[38;5;28mself\u001b[39m, recognizer:Parser):\n\u001b[0;32m--> 703\u001b[0m     \u001b[38;5;28;43mself\u001b[39;49m\u001b[38;5;241;43m.\u001b[39;49m\u001b[43mrecover\u001b[49m\u001b[43m(\u001b[49m\u001b[43mrecognizer\u001b[49m\u001b[43m,\u001b[49m\u001b[43m \u001b[49m\u001b[43mInputMismatchException\u001b[49m\u001b[43m(\u001b[49m\u001b[43mrecognizer\u001b[49m\u001b[43m)\u001b[49m\u001b[43m)\u001b[49m\n",
      "File \u001b[0;32m~/.conda/envs/qmg-gpu/lib/python3.8/site-packages/antlr4/error/ErrorStrategy.py:697\u001b[0m, in \u001b[0;36mBailErrorStrategy.recover\u001b[0;34m(self, recognizer, e)\u001b[0m\n\u001b[1;32m    696\u001b[0m     context \u001b[38;5;241m=\u001b[39m context\u001b[38;5;241m.\u001b[39mparentCtx\n\u001b[0;32m--> 697\u001b[0m \u001b[38;5;28;01mraise\u001b[39;00m ParseCancellationException(e)\n",
      "\u001b[0;31mParseCancellationException\u001b[0m: None",
      "\nThe above exception was the direct cause of the following exception:\n",
      "\u001b[0;31mQASM3ParsingError\u001b[0m                         Traceback (most recent call last)",
      "Cell \u001b[0;32mIn[6], line 18\u001b[0m\n\u001b[1;32m      1\u001b[0m \u001b[38;5;28;01mimport\u001b[39;00m \u001b[38;5;21;01mqiskit\u001b[39;00m\u001b[38;5;21;01m.\u001b[39;00m\u001b[38;5;21;01mqasm3\u001b[39;00m\n\u001b[1;32m      3\u001b[0m ghz_with_advanced_features \u001b[38;5;241m=\u001b[39m \u001b[38;5;124m\"\"\"\u001b[39m\n\u001b[1;32m      4\u001b[0m \u001b[38;5;124m    OPENQASM 3.0;\u001b[39m\n\u001b[1;32m      5\u001b[0m \n\u001b[0;32m   (...)\u001b[0m\n\u001b[1;32m     16\u001b[0m \u001b[38;5;124m    c = measure q;\u001b[39m\n\u001b[1;32m     17\u001b[0m \u001b[38;5;124m\"\"\"\u001b[39m\n\u001b[0;32m---> 18\u001b[0m circuit \u001b[38;5;241m=\u001b[39m \u001b[43mqiskit\u001b[49m\u001b[38;5;241;43m.\u001b[39;49m\u001b[43mqasm3\u001b[49m\u001b[38;5;241;43m.\u001b[39;49m\u001b[43mloads\u001b[49m\u001b[43m(\u001b[49m\u001b[43mghz_with_advanced_features\u001b[49m\u001b[43m)\u001b[49m\n\u001b[1;32m     19\u001b[0m circuit\u001b[38;5;241m.\u001b[39mdraw(\u001b[38;5;124m\"\u001b[39m\u001b[38;5;124mmpl\u001b[39m\u001b[38;5;124m\"\u001b[39m)\n",
      "File \u001b[0;32m~/.conda/envs/qmg-gpu/lib/python3.8/site-packages/qiskit/utils/lazy_tester.py:149\u001b[0m, in \u001b[0;36mLazyDependencyManager.require_in_call.<locals>.decorator.<locals>.out\u001b[0;34m(*args, **kwargs)\u001b[0m\n\u001b[1;32m    146\u001b[0m \u001b[38;5;129m@functools\u001b[39m\u001b[38;5;241m.\u001b[39mwraps(function)\n\u001b[1;32m    147\u001b[0m \u001b[38;5;28;01mdef\u001b[39;00m \u001b[38;5;21mout\u001b[39m(\u001b[38;5;241m*\u001b[39margs, \u001b[38;5;241m*\u001b[39m\u001b[38;5;241m*\u001b[39mkwargs):\n\u001b[1;32m    148\u001b[0m     \u001b[38;5;28mself\u001b[39m\u001b[38;5;241m.\u001b[39mrequire_now(feature)\n\u001b[0;32m--> 149\u001b[0m     \u001b[38;5;28;01mreturn\u001b[39;00m \u001b[43mfunction\u001b[49m\u001b[43m(\u001b[49m\u001b[38;5;241;43m*\u001b[39;49m\u001b[43margs\u001b[49m\u001b[43m,\u001b[49m\u001b[43m \u001b[49m\u001b[38;5;241;43m*\u001b[39;49m\u001b[38;5;241;43m*\u001b[39;49m\u001b[43mkwargs\u001b[49m\u001b[43m)\u001b[49m\n",
      "File \u001b[0;32m~/.conda/envs/qmg-gpu/lib/python3.8/site-packages/qiskit/qasm3/__init__.py:253\u001b[0m, in \u001b[0;36mloads\u001b[0;34m(program)\u001b[0m\n\u001b[1;32m    250\u001b[0m \u001b[38;5;28;01mimport\u001b[39;00m \u001b[38;5;21;01mqiskit_qasm3_import\u001b[39;00m\n\u001b[1;32m    252\u001b[0m \u001b[38;5;28;01mtry\u001b[39;00m:\n\u001b[0;32m--> 253\u001b[0m     \u001b[38;5;28;01mreturn\u001b[39;00m \u001b[43mqiskit_qasm3_import\u001b[49m\u001b[38;5;241;43m.\u001b[39;49m\u001b[43mparse\u001b[49m\u001b[43m(\u001b[49m\u001b[43mprogram\u001b[49m\u001b[43m)\u001b[49m\n\u001b[1;32m    254\u001b[0m \u001b[38;5;28;01mexcept\u001b[39;00m qiskit_qasm3_import\u001b[38;5;241m.\u001b[39mConversionError \u001b[38;5;28;01mas\u001b[39;00m exc:\n\u001b[1;32m    255\u001b[0m     \u001b[38;5;28;01mraise\u001b[39;00m QASM3ImporterError(\u001b[38;5;28mstr\u001b[39m(exc)) \u001b[38;5;28;01mfrom\u001b[39;00m \u001b[38;5;21;01mexc\u001b[39;00m\n",
      "File \u001b[0;32m~/.conda/envs/qmg-gpu/lib/python3.8/site-packages/qiskit_qasm3_import/api.py:27\u001b[0m, in \u001b[0;36mparse\u001b[0;34m(string)\u001b[0m\n\u001b[1;32m     24\u001b[0m \u001b[38;5;28;01mdef\u001b[39;00m \u001b[38;5;21mparse\u001b[39m(string: \u001b[38;5;28mstr\u001b[39m, \u001b[38;5;241m/\u001b[39m) \u001b[38;5;241m-\u001b[39m\u001b[38;5;241m>\u001b[39m QuantumCircuit:\n\u001b[1;32m     25\u001b[0m \u001b[38;5;250m    \u001b[39m\u001b[38;5;124;03m\"\"\"Wrapper around :func:`.convert`, which first parses the OpenQASM 3 program into AST form, and\u001b[39;00m\n\u001b[1;32m     26\u001b[0m \u001b[38;5;124;03m    then converts the output to Qiskit format.\"\"\"\u001b[39;00m\n\u001b[0;32m---> 27\u001b[0m     \u001b[38;5;28;01mreturn\u001b[39;00m convert(\u001b[43mopenqasm3\u001b[49m\u001b[38;5;241;43m.\u001b[39;49m\u001b[43mparse\u001b[49m\u001b[43m(\u001b[49m\u001b[43mstring\u001b[49m\u001b[43m)\u001b[49m)\n",
      "File \u001b[0;32m~/.conda/envs/qmg-gpu/lib/python3.8/site-packages/openqasm3/parser.py:89\u001b[0m, in \u001b[0;36mparse\u001b[0;34m(input_, permissive)\u001b[0m\n\u001b[1;32m     87\u001b[0m     tree \u001b[38;5;241m=\u001b[39m parser\u001b[38;5;241m.\u001b[39mprogram()\n\u001b[1;32m     88\u001b[0m \u001b[38;5;28;01mexcept\u001b[39;00m (RecognitionException, ParseCancellationException) \u001b[38;5;28;01mas\u001b[39;00m exc:\n\u001b[0;32m---> 89\u001b[0m     \u001b[38;5;28;01mraise\u001b[39;00m QASM3ParsingError() \u001b[38;5;28;01mfrom\u001b[39;00m \u001b[38;5;21;01mexc\u001b[39;00m\n\u001b[1;32m     90\u001b[0m \u001b[38;5;28;01mreturn\u001b[39;00m QASMNodeVisitor()\u001b[38;5;241m.\u001b[39mvisitProgram(tree)\n",
      "\u001b[0;31mQASM3ParsingError\u001b[0m: "
     ]
    }
   ],
   "source": [
    "import qiskit.qasm3\n",
    "\n",
    "ghz_with_advanced_features = \"\"\"\n",
    "    OPENQASM 3.0;\n",
    "\n",
    "    input float[32] n = 5;\n",
    "    bit[n + 1] c;\n",
    "    qubit[n + 1] q;\n",
    "\n",
    "    // Manually create the GHZ state instead of using a subroutine\n",
    "    h q[0];\n",
    "    for int i in [0:n - 1] {\n",
    "        cnot q[i], q[i + 1];\n",
    "    }\n",
    "\n",
    "    c = measure q;\n",
    "\"\"\"\n",
    "circuit = qiskit.qasm3.loads(ghz_with_advanced_features)\n",
    "circuit.draw(\"mpl\")"
   ]
  },
  {
   "cell_type": "code",
   "execution_count": 21,
   "metadata": {},
   "outputs": [
    {
     "name": "stdout",
     "output_type": "stream",
     "text": [
      "PrimitiveResult([SamplerPubResult(data=DataBin(meas=BitArray(<shape=(), num_shots=1024, num_bits=2>)), metadata={'shots': 1024, 'circuit_metadata': {}})], metadata={'version': 2})\n"
     ]
    },
    {
     "name": "stderr",
     "output_type": "stream",
     "text": [
      "/beegfs/home/lungyi45/.conda/envs/qmg-n/lib/python3.12/site-packages/qiskit_ibm_runtime/fake_provider/fake_backend.py:468: RuntimeWarning: Aer not found, using qiskit.BasicSimulator and no noise.\n",
      "  warnings.warn(\n"
     ]
    }
   ],
   "source": [
    "from qiskit import QuantumCircuit\n",
    "from qiskit import generate_preset_pass_manager\n",
    "from qiskit_ibm_runtime import QiskitRuntimeService, SamplerV2 as Sampler\n",
    "from qiskit_ibm_runtime.fake_provider import FakeManilaV2\n",
    "\n",
    "# service = QiskitRuntimeService()\n",
    "\n",
    "# 1. A quantum circuit for preparing the quantum state (|00> + |11>)/rt{2}\n",
    "qc = QuantumCircuit(2)\n",
    "qc.h(0)\n",
    "qc.cx(0, 1)\n",
    "qc.measure_all()\n",
    "\n",
    "# Run the sampler job locally using FakeManilaV2\n",
    "backend = FakeManilaV2()\n",
    "pm = generate_preset_pass_manager(backend=backend, optimization_level=1)\n",
    "transpiled_qc = pm.run(qc)\n",
    "\n",
    "# You can use a fixed seed to get fixed results.\n",
    "options = {\"simulator\": {\"seed_simulator\": 42}}\n",
    "sampler = Sampler(mode=backend, options=options)\n",
    " \n",
    "result = sampler.run([transpiled_qc]).result()\n",
    "\n",
    "\n",
    "print(result)\n",
    "# print(f\" > Quasi probability distribution: {result.quasi_dists}\")\n",
    "\n",
    "\n",
    "# # 2: Optimize problem for quantum execution.\n",
    "# backend = service.least_busy(operational=True, simulator=False)\n",
    "# pm = generate_preset_pass_manager(backend=backend, optimization_level=1)\n",
    "# isa_circuit = pm.run(bell)\n",
    "\n",
    "# # 3. Execute using the Sampler primitive\n",
    "# sampler = Sampler(mode=backend)\n",
    "# sampler.options.default_shots = 1024  # Options can be set using auto-complete.\n",
    "# job = sampler.run([isa_circuit])\n",
    "# print(f\"Job ID is {job.job_id()}\")\n",
    "# pub_result = job.result()[0]\n",
    "# print(f\"Counts for the meas output register: {pub_result.data.meas.get_counts()}\")"
   ]
  },
  {
   "cell_type": "code",
   "execution_count": 43,
   "metadata": {},
   "outputs": [
    {
     "name": "stdout",
     "output_type": "stream",
     "text": [
      "PrimitiveResult([SamplerPubResult(data=DataBin(XXX=BitArray(<shape=(), num_shots=1024, num_bits=6>), ZZZ=BitArray(<shape=(), num_shots=1024, num_bits=2>)), metadata={'shots': 1024, 'circuit_metadata': {}})], metadata={'version': 2})\n"
     ]
    }
   ],
   "source": [
    "from qiskit_aer import AerSimulator\n",
    "from qiskit.circuit import QuantumCircuit\n",
    "from qiskit.transpiler.preset_passmanagers import generate_preset_pass_manager\n",
    "from qiskit_ibm_runtime import Session, SamplerV2 as Sampler\n",
    "from qiskit.circuit import QuantumCircuit, QuantumRegister, ClassicalRegister\n",
    "import random\n",
    "import numpy as np\n",
    " \n",
    "def controlled_ry(control:int, target:int, digit:float):\n",
    "    qc.cry(np.pi*digit, control, target)\n",
    "\n",
    "random.seed(1)\n",
    "weight_vector = [random.random() for _ in range(8)]\n",
    "qubits = QuantumRegister(6)\n",
    "clbits = ClassicalRegister(6 ,name=\"XXX\")\n",
    "qc = QuantumCircuit(qubits, clbits)\n",
    "\n",
    "def reset_qubit(qubit, cbit):\n",
    "    with qc.if_test((clbits[cbit], 1)):\n",
    "        qc.x(qubit)\n",
    "\n",
    "qc.ry(np.pi * weight_vector[0], 0)\n",
    "qc.x(1)\n",
    "qc.ry(np.pi * weight_vector[2], 2)\n",
    "qc.ry(np.pi * weight_vector[4], 3)\n",
    "qc.cx(0, 1)\n",
    "controlled_ry(1, 2, weight_vector[3])\n",
    "qc.cx(2, 3)\n",
    "controlled_ry(0, 1, weight_vector[1])\n",
    "qc.cx(1, 2)\n",
    "controlled_ry(2, 3, weight_vector[5])\n",
    "\n",
    "# measure atom 1 state:\n",
    "qc.measure(qubits[0:2], clbits[0:2])\n",
    "# measure atom 2 state and save:\n",
    "qc.measure(qubits[2:4], clbits[2:4])\n",
    "\n",
    "# Add a new atom existence ClassicalRegister:\n",
    "atom_existence_CR = ClassicalRegister(bits=clbits[2:4], name=\"ZZZ\")\n",
    "qc.add_register(atom_existence_CR)\n",
    "with qc.if_test((atom_existence_CR, 0)) as else_:\n",
    "    pass\n",
    "with else_:\n",
    "    qc.ry(np.pi * weight_vector[6], 4)\n",
    "    qc.x(5)\n",
    "    qc.cx(4,5)\n",
    "    controlled_ry(4, 5, weight_vector[7])\n",
    "\n",
    "    # reset atom type qubit:\n",
    "    reset_qubit(2, 2)\n",
    "    reset_qubit(3, 3)\n",
    "\n",
    "qc.measure(qubits[4:6], clbits[4:6])\n",
    "\n",
    "# bond type ClassicalRegister:\n",
    "# bond_type_CR = ClassicalRegister(bits=clbits[4:6]) \n",
    "\n",
    "# reset atom and bond\n",
    "for bond_type_qubit, bond_type_clbit in zip([4,5], [4,5]):\n",
    "    reset_qubit(bond_type_qubit, bond_type_clbit)\n",
    "\n",
    "\n",
    "# Run the sampler job locally using AerSimulator.\n",
    "# Session syntax is supported but ignored because local mode doesn't support sessions.\n",
    "aer_sim = AerSimulator()\n",
    "pm = generate_preset_pass_manager(backend=aer_sim, optimization_level=1)\n",
    "isa_qc = pm.run(qc)\n",
    "with Session(backend=aer_sim) as session:\n",
    "    sampler = Sampler(mode=session)\n",
    "    result = sampler.run([isa_qc]).result()\n",
    "\n",
    "print(result)"
   ]
  },
  {
   "cell_type": "code",
   "execution_count": 46,
   "metadata": {},
   "outputs": [
    {
     "name": "stdout",
     "output_type": "stream",
     "text": [
      "['10', '00', '10', '10', '10', '10', '00', '10', '10', '10', '00', '00', '10', '00', '00', '00', '10', '10', '00', '00', '00', '00', '10', '00', '00', '00', '00', '10', '00', '00', '10', '00', '00', '10', '00', '00', '10', '10', '10', '10', '10', '10', '10', '00', '10', '00', '10', '10', '00', '00', '00', '10', '00', '00', '10', '10', '10', '10', '00', '10', '10', '00', '00', '10', '10', '10', '10', '10', '00', '00', '00', '00', '10', '10', '00', '00', '00', '00', '10', '00', '00', '10', '10', '10', '10', '00', '10', '00', '00', '10', '10', '00', '10', '00', '10', '10', '10', '10', '10', '00', '10', '00', '10', '00', '00', '00', '00', '10', '10', '00', '00', '10', '00', '00', '00', '10', '10', '00', '00', '00', '00', '10', '10', '10', '00', '10', '10', '00', '10', '10', '10', '00', '10', '10', '10', '00', '00', '00', '00', '10', '00', '10', '00', '10', '10', '00', '10', '00', '00', '00', '00', '00', '10', '00', '00', '00', '00', '00', '10', '10', '10', '00', '10', '10', '10', '10', '10', '00', '10', '00', '00', '00', '10', '00', '10', '00', '00', '00', '00', '10', '00', '00', '10', '10', '10', '00', '10', '10', '10', '00', '10', '10', '10', '00', '10', '10', '10', '00', '10', '00', '10', '11', '10', '10', '00', '00', '00', '00', '00', '00', '00', '00', '10', '10', '00', '00', '10', '10', '00', '10', '00', '00', '00', '10', '00', '10', '00', '10', '00', '00', '00', '10', '10', '00', '00', '00', '10', '00', '10', '00', '10', '00', '00', '00', '00', '10', '10', '00', '00', '10', '00', '00', '00', '10', '10', '00', '00', '00', '10', '10', '00', '10', '10', '10', '00', '10', '10', '10', '10', '10', '00', '10', '10', '00', '10', '10', '00', '10', '10', '00', '00', '10', '00', '00', '10', '00', '10', '10', '10', '00', '00', '10', '10', '10', '00', '00', '00', '10', '00', '00', '00', '10', '10', '10', '00', '11', '10', '10', '00', '10', '00', '00', '00', '10', '10', '10', '00', '10', '00', '10', '00', '10', '10', '00', '00', '00', '00', '00', '10', '00', '00', '10', '00', '10', '10', '00', '10', '00', '10', '10', '10', '10', '00', '10', '00', '10', '00', '10', '10', '10', '10', '10', '10', '10', '00', '10', '10', '10', '00', '00', '10', '10', '10', '10', '10', '00', '10', '10', '00', '00', '10', '10', '10', '00', '00', '10', '00', '10', '10', '00', '00', '00', '00', '00', '00', '10', '00', '10', '10', '10', '00', '10', '10', '00', '10', '10', '10', '10', '10', '00', '00', '10', '00', '00', '10', '00', '00', '00', '10', '00', '00', '00', '10', '00', '10', '00', '10', '10', '10', '00', '00', '10', '10', '10', '10', '10', '10', '00', '00', '00', '10', '00', '00', '10', '00', '10', '00', '00', '10', '00', '00', '00', '10', '10', '10', '00', '10', '00', '10', '00', '10', '10', '00', '00', '00', '00', '00', '10', '10', '10', '10', '10', '00', '00', '10', '10', '00', '00', '00', '10', '10', '00', '00', '00', '00', '10', '10', '00', '10', '00', '00', '10', '00', '00', '10', '00', '00', '00', '10', '00', '00', '00', '10', '10', '10', '10', '10', '00', '00', '00', '00', '10', '10', '10', '11', '10', '00', '10', '10', '00', '00', '00', '00', '10', '10', '10', '00', '00', '10', '00', '10', '10', '00', '10', '00', '10', '10', '00', '00', '00', '10', '10', '00', '00', '00', '00', '00', '10', '10', '00', '10', '10', '00', '00', '00', '00', '00', '10', '00', '10', '00', '00', '10', '10', '00', '00', '00', '10', '00', '00', '00', '00', '00', '00', '10', '00', '10', '10', '10', '00', '10', '10', '00', '10', '10', '10', '00', '10', '10', '10', '10', '10', '00', '10', '10', '10', '00', '00', '00', '10', '10', '10', '00', '10', '00', '10', '10', '00', '00', '00', '10', '10', '10', '10', '00', '00', '10', '10', '10', '10', '00', '10', '10', '10', '10', '00', '00', '00', '00', '10', '10', '10', '00', '00', '00', '10', '00', '00', '00', '10', '00', '10', '10', '10', '00', '00', '00', '00', '10', '00', '00', '10', '10', '10', '10', '10', '10', '00', '00', '00', '00', '10', '10', '10', '00', '10', '00', '00', '10', '00', '00', '10', '00', '10', '10', '00', '10', '00', '10', '00', '10', '00', '10', '00', '10', '00', '00', '10', '10', '00', '00', '10', '10', '10', '10', '00', '00', '00', '00', '00', '00', '10', '10', '00', '00', '10', '00', '00', '10', '10', '00', '10', '10', '00', '10', '10', '10', '10', '00', '00', '10', '10', '10', '10', '10', '10', '10', '10', '10', '00', '10', '10', '10', '10', '00', '10', '00', '00', '11', '10', '00', '00', '00', '00', '00', '10', '10', '00', '10', '10', '00', '00', '10', '10', '10', '00', '00', '10', '10', '10', '10', '10', '00', '10', '10', '10', '10', '10', '10', '00', '10', '00', '10', '10', '10', '10', '00', '00', '00', '00', '10', '10', '10', '10', '10', '10', '00', '10', '00', '10', '00', '10', '10', '00', '00', '10', '00', '00', '10', '00', '00', '10', '10', '10', '00', '10', '10', '10', '00', '10', '10', '10', '00', '10', '10', '00', '00', '00', '00', '10', '00', '00', '00', '10', '00', '10', '00', '00', '00', '10', '10', '00', '10', '00', '10', '00', '00', '10', '00', '00', '00', '00', '10', '10', '10', '10', '00', '10', '00', '00', '10', '10', '00', '10', '00', '10', '10', '00', '00', '00', '10', '00', '10', '00', '10', '10', '10', '10', '10', '00', '00', '10', '00', '00', '00', '10', '00', '00', '00', '10', '00', '10', '10', '10', '00', '10', '11', '10', '10', '10', '00', '00', '00', '10', '00', '10', '10', '10', '10', '10', '10', '10', '10', '10', '00', '10', '10', '00', '00', '00', '00', '00', '00', '00', '00', '10', '00', '00', '00', '00', '00', '10', '10', '10', '10', '10', '00', '00', '00', '10', '10', '10', '10', '00', '00', '10', '10', '00', '10', '00', '10', '00', '10', '00', '10', '10', '00', '10', '00', '10', '00', '00', '10', '00', '00', '00', '00', '10', '00', '10', '10', '10', '10', '10', '10', '10', '00', '10', '00', '10', '00', '00', '10', '10', '10', '00', '10', '00', '00', '00', '00', '00', '00', '00', '10', '10', '10', '10', '10', '00', '10', '10', '00', '10', '00', '10', '10', '00', '00', '10', '10', '00', '10', '00', '10', '10', '00', '00', '00', '10', '10', '10', '00', '00', '10', '10', '10', '10', '00', '00', '10', '10', '00', '00', '00', '10', '00', '10', '10', '00', '00', '00', '10', '10']\n"
     ]
    }
   ],
   "source": [
    "x = result[0].data.ZZZ\n",
    "print(x.get_bitstrings())"
   ]
  }
 ],
 "metadata": {
  "kernelspec": {
   "display_name": "qmg",
   "language": "python",
   "name": "python3"
  },
  "language_info": {
   "codemirror_mode": {
    "name": "ipython",
    "version": 3
   },
   "file_extension": ".py",
   "mimetype": "text/x-python",
   "name": "python",
   "nbconvert_exporter": "python",
   "pygments_lexer": "ipython3",
   "version": "3.12.6"
  }
 },
 "nbformat": 4,
 "nbformat_minor": 2
}
