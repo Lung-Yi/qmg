{
 "cells": [
  {
   "cell_type": "code",
   "execution_count": 1,
   "metadata": {},
   "outputs": [
    {
     "name": "stdout",
     "output_type": "stream",
     "text": [
      "node_vector [1. 1. 2. 1. 3. 1. 2. 1. 0.]\n",
      "adjacency_matrix\n",
      "[[0. 1. 0. 0. 0. 0. 0. 0. 0.]\n",
      " [1. 0. 1. 0. 0. 0. 0. 0. 0.]\n",
      " [0. 1. 0. 1. 0. 0. 0. 0. 0.]\n",
      " [0. 0. 1. 0. 2. 0. 0. 0. 0.]\n",
      " [0. 0. 0. 2. 0. 1. 0. 0. 0.]\n",
      " [0. 0. 0. 0. 1. 0. 1. 1. 0.]\n",
      " [0. 0. 0. 0. 0. 1. 0. 0. 0.]\n",
      " [0. 0. 0. 0. 0. 1. 0. 0. 0.]\n",
      " [0. 0. 0. 0. 0. 0. 0. 0. 0.]]\n",
      "CCOC=NC(C)O\n",
      "010110011101100100010000000000000001000000000000010000000000100000000001000000010100000000\n",
      "node_vector [1. 1. 2. 1. 3. 1. 2. 1. 0.]\n",
      "adjacency_matrix\n",
      "[[0. 1. 0. 0. 0. 0. 0. 0. 0.]\n",
      " [1. 0. 1. 0. 0. 0. 0. 0. 0.]\n",
      " [0. 1. 0. 1. 0. 0. 0. 0. 0.]\n",
      " [0. 0. 1. 0. 2. 0. 0. 0. 0.]\n",
      " [0. 0. 0. 2. 0. 1. 0. 0. 0.]\n",
      " [0. 0. 0. 0. 1. 0. 1. 1. 0.]\n",
      " [0. 0. 0. 0. 0. 1. 0. 0. 0.]\n",
      " [0. 0. 0. 0. 0. 1. 0. 0. 0.]\n",
      " [0. 0. 0. 0. 0. 0. 0. 0. 0.]]\n",
      "CCOC=NC(C)O\n"
     ]
    }
   ],
   "source": [
    "from rdkit import Chem\n",
    "import numpy as np\n",
    "import itertools\n",
    "import multiprocessing\n",
    "\n",
    "def subfunction_generate_state(cls, node_vector, adjacency_matrix, new_index):\n",
    "    \"\"\"Wrapper function for the use of multiprocessing. \"\"\"\n",
    "    new_node_vector, new_adjacency_matrix = cls.permutate_connectivity(node_vector, adjacency_matrix, new_index)\n",
    "    new_quantum_state = cls.ConnectivityToQuantumState(new_node_vector, new_adjacency_matrix)\n",
    "    return new_quantum_state\n",
    "\n",
    "class MoleculeQuantumStateGenerator():\n",
    "    def __init__(self, heavy_atom_size=5, ncpus=4):\n",
    "        self.size = heavy_atom_size\n",
    "        self.effective_numbers = list(range(heavy_atom_size))\n",
    "        self.ncpus = ncpus\n",
    "        self.atom_type_to_idx = {\"C\": 1, \"O\":2, \"N\": 3} # only supports C, O, N atoms now.\n",
    "        self.bond_type_to_idx = {Chem.rdchem.BondType.SINGLE: 1, Chem.rdchem.BondType.DOUBLE: 2, Chem.rdchem.BondType.TRIPLE: 3}\n",
    "        self.idx_to_atom_type = {1: \"C\", 2: \"O\", 3: \"N\"}\n",
    "        self.idx_to_bond_type = {1: Chem.rdchem.BondType.SINGLE, 2: Chem.rdchem.BondType.DOUBLE, 3: Chem.rdchem.BondType.TRIPLE}\n",
    "        self.qubits_per_type_atom = int(np.ceil(np.log2(len(self.atom_type_to_idx) + 1))) # How many qubits required for describing the quantum state of atom type\n",
    "        self.qubits_per_type_bond = int(np.ceil(np.log2(len(self.bond_type_to_idx) + 1))) # How many qubits required for describing the quantum state of bond type\n",
    "\n",
    "    def decimal_to_binary(self, x, padding_length=2):\n",
    "        \"\"\"\n",
    "        Parameters:\n",
    "        x (int): The decimal value.\n",
    "\n",
    "        Returns:\n",
    "        str: A binary bit string.\n",
    "        \"\"\"\n",
    "        bit = \"0\"*(padding_length-1) + bin(x)[2:]\n",
    "        return bit[-padding_length:] # -2 means we only take 4 possible states\n",
    "\n",
    "    def SmilesToConnectivity(self, smiles):\n",
    "        \"\"\"\n",
    "        Generate a molecular graph from a SMILES string.\n",
    "\n",
    "        Parameters:\n",
    "        smiles (str): The SMILES string representing the molecule.\n",
    "\n",
    "        Returns:\n",
    "        tuple: A tuple containing the node vector (np.ndarray) and the adjacency matrix (np.ndarray).\n",
    "        \"\"\"\n",
    "        node_vector = np.zeros(self.size)\n",
    "        adjacency_matrix = np.zeros((self.size, self.size))\n",
    "        mol = Chem.MolFromSmiles(smiles)\n",
    "        Chem.Kekulize(mol)\n",
    "        for atom in mol.GetAtoms():\n",
    "            idx = atom.GetIdx()\n",
    "            atom_type = atom.GetSymbol()\n",
    "            node_vector[idx] = self.atom_type_to_idx[atom_type]\n",
    "        for bond in mol.GetBonds():\n",
    "            i = bond.GetBeginAtomIdx()\n",
    "            j = bond.GetEndAtomIdx()\n",
    "            adjacency_matrix[i][j] = self.bond_type_to_idx[bond.GetBondType()]\n",
    "            adjacency_matrix[j][i] = self.bond_type_to_idx[bond.GetBondType()]\n",
    "        return node_vector, adjacency_matrix\n",
    "\n",
    "    def ConnectivityToSmiles(self, node_vector, adjacency_matrix):\n",
    "        \"\"\"\n",
    "        Generate a SMILES string from the molecular graph.\n",
    "\n",
    "        Returns:\n",
    "        str: The SMILES string representing the molecule.\n",
    "        \"\"\"\n",
    "        mol = Chem.RWMol()\n",
    "        mapping_num_2_molIdx = {}\n",
    "        for i, atom_type_idx in enumerate(node_vector):\n",
    "            if atom_type_idx == 0:\n",
    "                continue\n",
    "            a = Chem.Atom(self.idx_to_atom_type[atom_type_idx])\n",
    "            a.SetAtomMapNum(i)\n",
    "            molIdx = mol.AddAtom(a)\n",
    "            mapping_num_2_molIdx.update({i: molIdx})\n",
    "        # add bonds between adjacent atoms, only traverse half the matrix\n",
    "        for ix, row in enumerate(adjacency_matrix):\n",
    "            for iy_, bond_type_idx in enumerate(row[ix+1:]):\n",
    "                iy = ix + iy_ + 1\n",
    "                if bond_type_idx == 0:\n",
    "                    continue\n",
    "                else:\n",
    "                    bond_type = self.idx_to_bond_type[bond_type_idx]\n",
    "                    try:\n",
    "                        mol.AddBond(mapping_num_2_molIdx[ix], mapping_num_2_molIdx[iy], bond_type)\n",
    "                    except:\n",
    "                        return None\n",
    "        mol = mol.GetMol()\n",
    "        try:\n",
    "            Chem.SanitizeMol(mol)\n",
    "        except:\n",
    "            return None\n",
    "        for atom in mol.GetAtoms():\n",
    "            atom.SetAtomMapNum(0)\n",
    "        return Chem.MolToSmiles(mol)\n",
    "\n",
    "    def ConnectivityToQuantumState(self, node_vector, adjacency_matrix):\n",
    "        \"\"\"\n",
    "        Generate the quantum state (bit vector) based on the molecular connectivity.\n",
    "        The preceding bits represent the atom type, and the subsequent bits represent the connectivity.\n",
    "        \n",
    "        Returns:\n",
    "        np.ndarray: computational quantum state.\n",
    "        \"\"\"\n",
    "        quantum_state = \"\"\n",
    "        for atom_idx in node_vector:\n",
    "            quantum_state += self.decimal_to_binary(int(atom_idx), padding_length=self.qubits_per_type_atom)\n",
    "        for ix, row in enumerate(adjacency_matrix):\n",
    "            for bond_type_idx in row[ix+1:]:\n",
    "                quantum_state += self.decimal_to_binary(int(bond_type_idx), padding_length=self.qubits_per_type_bond)\n",
    "        return quantum_state\n",
    "\n",
    "    def QuantumStateToConnectivity(self, quantum_state):\n",
    "        node_state = quantum_state[:2*self.size]\n",
    "        bond_state = quantum_state[2*self.size:]\n",
    "        node_vector = np.zeros(self.size)\n",
    "        adjacency_matrix = np.zeros((self.size, self.size))\n",
    "        for i in range(0, len(node_state), 2):\n",
    "            node_vector[i//2] = int(node_state[i:i+2], 2)\n",
    "        row = 0\n",
    "        for i in range(0, len(bond_state), 2):\n",
    "            idx = i // 2\n",
    "            if idx == (2*(self.size-1) - (row+1) + 1) * (row+1) / 2:\n",
    "                row += 1\n",
    "            column = int(idx - (2*(self.size-1) - row + 1) * row / 2) + row + 1\n",
    "            bond_type_idx = int(bond_state[i:i+2], 2)\n",
    "            adjacency_matrix[row][column] = bond_type_idx\n",
    "            adjacency_matrix[column][row] = bond_type_idx\n",
    "        return node_vector, adjacency_matrix\n",
    "    \n",
    "    def QuantumStateToSmiles(self, quantum_state):\n",
    "        return self.ConnectivityToSmiles(*self.QuantumStateToConnectivity(quantum_state))\n",
    "    \n",
    "    def QuantumStateToStateVector(self, quantum_state):\n",
    "        stat_vector = np.zeros(2**self.size)\n",
    "        decimal = int(quantum_state, 2)\n",
    "        stat_vector[-1-decimal] = 1\n",
    "        return stat_vector\n",
    "    \n",
    "    def QuantumStateToDecimal(self, quantum_state):\n",
    "        decimal = int(quantum_state, 2)\n",
    "        return decimal\n",
    "    \n",
    "    def generate_permutations(self, k):\n",
    "        \"\"\"\n",
    "        Generate all possible permutations of k elements from the given list of elements.\n",
    "\n",
    "        :param k: Number of elements to choose for permutations\n",
    "        :return: List of permutations\n",
    "        \"\"\"\n",
    "        return list(itertools.permutations(self.effective_numbers, k))\n",
    "    \n",
    "    def enumerate_all_quantum_states(self, smiles):\n",
    "        \"\"\"\n",
    "        Generate all possible quantum states representing the given molecule SMILES.\n",
    "\n",
    "        :return: List of quantum states (str)\n",
    "        \"\"\"\n",
    "        node_vector, adjacency_matrix = self.SmilesToConnectivity(smiles)\n",
    "        all_permutation_index = self.generate_permutations(np.count_nonzero(node_vector))\n",
    "        args = [(self, node_vector, adjacency_matrix, new_index) for new_index in all_permutation_index]\n",
    "        with multiprocessing.Pool(processes=self.ncpus) as pool:\n",
    "            all_quantum_states = pool.starmap(subfunction_generate_state, args)\n",
    "\n",
    "        return list(set(all_quantum_states))\n",
    "\n",
    "    def permutate_connectivity(self, node_vector, adjacency_matrix, new_index):\n",
    "        mapping_dict = {old: new for old, new in enumerate(new_index)}\n",
    "        new_node_vector = np.zeros(self.size)\n",
    "        new_adjacency_matrix = np.zeros((self.size, self.size))\n",
    "        # atom\n",
    "        for old, new in mapping_dict.items():\n",
    "            new_node_vector[new] = node_vector[old]\n",
    "        # bond\n",
    "        for ix, row in enumerate(adjacency_matrix):\n",
    "            for iy_, bond_type_idx in enumerate(row[ix+1:]):\n",
    "                if not bond_type_idx:\n",
    "                    continue\n",
    "                iy = ix + iy_ + 1\n",
    "                ix_new = mapping_dict[ix]\n",
    "                iy_new = mapping_dict[iy]\n",
    "                new_adjacency_matrix[ix_new][iy_new] = bond_type_idx\n",
    "                new_adjacency_matrix[iy_new][ix_new] = bond_type_idx\n",
    "        return new_node_vector, new_adjacency_matrix\n",
    "\n",
    "\n",
    "smiles = \"CCOC=NC(O)C\"\n",
    "QG = MoleculeQuantumStateGenerator(9)\n",
    "node_vector, adjacency_matrix = QG.SmilesToConnectivity(smiles)\n",
    "print(\"node_vector\", node_vector)\n",
    "print(\"adjacency_matrix\")\n",
    "print(adjacency_matrix)\n",
    "print(QG.ConnectivityToSmiles(node_vector, adjacency_matrix))\n",
    "quantum_state = QG.ConnectivityToQuantumState(node_vector, adjacency_matrix)\n",
    "print(quantum_state)\n",
    "node_vector, adjacency_matrix = QG.QuantumStateToConnectivity(quantum_state)\n",
    "print(\"node_vector\", node_vector)\n",
    "print(\"adjacency_matrix\")\n",
    "print(adjacency_matrix)\n",
    "print(QG.ConnectivityToSmiles(node_vector, adjacency_matrix))\n",
    "all_quantum_states = QG.enumerate_all_quantum_states(smiles)"
   ]
  },
  {
   "cell_type": "code",
   "execution_count": 7,
   "metadata": {},
   "outputs": [
    {
     "data": {
      "text/plain": [
       "5"
      ]
     },
     "execution_count": 7,
     "metadata": {},
     "output_type": "execute_result"
    }
   ],
   "source": [
    "int(\"0101\", 2)"
   ]
  },
  {
   "cell_type": "code",
   "execution_count": 5,
   "metadata": {},
   "outputs": [
    {
     "name": "stdout",
     "output_type": "stream",
     "text": [
      "362880\n",
      "362880\n",
      "['011100011001011001000000000100000000010000000010000000000000000001010001000001000000000000', '100100010101101101010000000000000000000100000100000000000000000100000000000000010000000110', '100101000110110101010000000000000100000000100000000000000001000000000000000100000100010000', '010001100101011110000001000001010000000000000000000000001001000000000001000001000000000000', '101001010001011101000000000001000000010000000001000000000001000000100000000000010000010000', '010101010110001110000000000100100000000101000000010000000101000000000000000000000000000000', '110110000101100101010000000000100000000100010000000001000100000000000000000000000001000000', '010101101110000101000101000000000000000101000001000000000000000000010000001000000000000000', '011001010111011000000000000001000000000000010000000100000000001000010000000100010000000000', '100001101101010101000000000001000000000000000000011000000000000000000100010000010000000001', '100101011001110001010001000000000000000001000000000000000001000010000000000001000000000100', '100010010111010101000000010000000100000000000000000000000100000000000110000000000100010000', '100101110110010100010000000000000000010100000000000000010000000000100000000000010100000000', '010111100110010100000000010000000000000000010000000000011000010000010000000000010000000000', '100100110101100101000000000100000000000100000000000000000000000100100000010000000001010000', '100101011001000111010000000000000000000000000101010000000000010000000001000000000010000000', '110101100101011000100000010000000000000000000100000001000100010000000000010000000000000000', '010111010110100001001000000100000000010000000000000100000000000100000000010001000000000000', '110101010110100001000001100000000000010000000000000001000001000001000001000000000000000000', '011000011001010111000000000100000000000001000100000000000000000001000000010000000000000110', '010110010010011101010000000000000001000000000000000000010000000100010100000000000000100000', '010100100101111001000000000100000000000000100100000000000000000100000000000101010000000000', '010110100111010001000100000001000001000010000000000000000000010000000001000001000000000000', '010001110110011001000100000100000000000000000000000000000000010000001000010100000001000000', '100100011101100101010000000100000000001000000000000000000000000100000000000100000000010001', '010110010110010011010000000100000100000000000000010000010000010000000000000000000000001000', '010111100101100001000100010001000010010000000000000000000000000100000000000000000001000000', '011101100101000110000000000000010000001000000100000001000000010100000000000000000000000001', '101001010101110001000100000000000100000100000000000000100000000000000101010000000000000000', '001010010111010101000000000000000000000000010001000100000000000000000101000100100000000000', '011011010101011000000000010000010000000001000000100001000000000000010000000000010000000000', '111000011001010101000000001000000100000000000001000000000000000000000101010000000000010000', '001101010110010110000000000000000001000000100000010001000000000000000000000100000000000101', '010001100111011001000000001000010000000000000000000100000000000000000100000100000001000100', '000101011010011101000000000000000000000001000001010100000100000000000000000000010000100000', '101100010101010110000000000100000000001001000000000000000000000000010100000001010000000000', '010001100110110101000001000000010000000000000000010000100000000000000000000001000001000100', '010001011001110110000001000000000000000000000000000000000100010001000000000000100001000001', '010001100101011011000000010000000000000000000000000001000100010000000000000001000000011000', '000101101001011101000000000000000000000000000001010001000100000000000000010001000000100000', '110101100110010001000100000000001000000100000000010000010000000000000001000000000001000000', '011101010110100001000100000000000001100000000000000001000000000001000000010001000000000000', '001001100101011101000000000000000001000000010000000000000001010000000001000100000000100000', '000110010110011101000000000000000001000000000001000100000000000001000000001000010000010000', '111010010101010100000000011000000000000100000000010001000000000000010000010000000000000000', '010001011011010110000000010101000000000000000000000010000001000000010100000000000000000000', '100001010101011110000100000001000000000000000000000000001000010000010100000000010000000000', '100101110101000110010000000000000000010000000100000100000000001000000000000001000001000000', '100101010110110001000100000000000100010000000000000100000000000101000000000000000000001000', '100100010110010111010000000001000000000000000010000000000000000001000000000100000100000001', '010110000101110110000000010000000100000000100001000001000000000000000000000000010100000000', '010101100111010010010000000100000100000000000000010000010000010000000010000000000000000000', '101001010101010011000001000001000000000001000000000000010000000000001001000000000001000000', '100101010110001101000101000000000000000100000000000000000001000000100001000100000000000000', '011001110001011001010001000001000000000000000000100000000100000000000000000000000001000001', '011101010001011010010000000001010000000010000000010000000001000000000000000000000001000000', '001001010111011001000000000000000001000000000000000101000000001000010000000000000000000101', '010101100111000110000000000000010100000100000000000010000001010000000001000000000000000000', '011010010100110101000101000000000000000000000100000100000000000000000000100000000000010001', '101101011000010101000100000000000001000000000010010000000000000000000000010001000000010000', '000111011001011001000000000000000010000100000000000000010000010100000000000000000000010100', '100101010110000111000001010000000000000001000101010000000000000000000000000010000000000000', '110100011001100101100000000100000000000100000000000000000000000100000000000001010000000001', '011000110110010101010010000000000000000000000100000000000000000001000000010000010000000001', '000101100101011110000000000000000000010001000000000100000101000001000000000000000000100000', '010110010100011011000100000000001000000100000000000100000000000001000000000000000000010100', '000101101001010111000000000000000000000000010000000000000100000000010001010000000010000001', '011101010100101001000100000000000000100100000000000000010000000001000000000101000000000000', '010101110001100110010000000000000000000000010000010001000001000000100000000000000000010000', '101001011101010001000001000000000100000000010000000000010000000100000000010010000000000000', '000110110101100101000000000000000000000100000000000000000100001000010000010000010000000001', '010001010110011011000000010000000000000000000000000001000010000101000000000101000000000000', '010100011101011010000001000000000000000000010000000000000000010000010010000000000001000100', '010101110001100110000010000000000100000001000000000000000100000100000000000000010000000001', '011101010110000110100000000100000001000000000000000100000001000100010000000000000000000000', '010101101101010010000100000000000000001000000001010100000000000000000000000000010001000000', '100101100101110001010100000000000000000000100000000000000001000100000001000000010000000000', '010110111000010101000001010000000101000000010000000000000100000000100000000000000000000000', '010011100101010110000000010000000100000000000000000001100000000100000000000000000100000100', '100101011001001101010000000000000001000000000100000000000000010100000000000001000000000010', '011100010110011001100000000000010000000100000000000000000000010000000001000000000000000101', '010111000101011010000000000100000110000000000001000000010000000000000000010000000000010000', '010111001010010101000000000100000101000100010000000000001000000000000000000000000100000000', '011011000110010101000000000100000100000100000000000100001000000000000000010000000100000000', '010111010001101001000101000001000010000000000100000000000000000000000000000000000101000000', '011010010101011100010000010000010000000000000000010001000000000001000000000000001000000000', '011110010001011001000000000000010100000010010000000000010000000001000000000000000100000000', '100101100111000101000100010000000000010001000001000010000000000000000000000100000000000000', '110010010110010101000000000001001000000000000000000000010000010000000001000000000001010000', '010011100101010110001001000000000000000000000000000001000000000001000000010000000101000000', '101100010101100101000000000000000100001000000001000000000000000000010000010000000001010000', '000111010110010110000000000000000000000100000000000100001000000101000000000001000100000000', '000111100101011001000000000000000000000000000001000110000000000100000100010100000000000000', '100100110101011001010000000001000000000100000000000000000000000110000000000000000101000000', '010101101101100001000000100001000000000000000001010101000000000000000000000000000000000100', '010110000111100101000000000000000100000100010000000000000001000000000000000000001001010000', '011001011100010110000001000000000100000000000100000000000100000000000000100100000000000100', '100100101101010101010000000000010000000000010000000000000000000100000001001000000001000000', '010110011100011001000100100000000000010000000000010000000000000000000000010000000000010100', '010101010010101101000000000000000100000000011000010000010000000000000000000000000001000001']\n"
     ]
    }
   ],
   "source": [
    "print(len(all_quantum_states))\n",
    "print(len(set((all_quantum_states))))\n",
    "print(all_quantum_states[:100])"
   ]
  },
  {
   "cell_type": "code",
   "execution_count": 43,
   "metadata": {},
   "outputs": [
    {
     "name": "stdout",
     "output_type": "stream",
     "text": [
      "1\n"
     ]
    }
   ],
   "source": [
    "smiles_list = [QG.QuantumStateToSmiles(q) for q in all_quantum_states]\n",
    "print(len(set(smiles_list)))"
   ]
  },
  {
   "cell_type": "code",
   "execution_count": 45,
   "metadata": {},
   "outputs": [
    {
     "data": {
      "text/plain": [
       "['010000001000010101000000000000010100000000000000000000000000000000000000010000000000010000',\n",
       " '000001100001010001000000000000000000000000000000000000010001000001000000000000000001000000',\n",
       " '000000100100010101000000000000000000000000000000000000000000000000010000010000000000000101',\n",
       " '010101000100000010000100010000000000000100000000000000000001000000000000000000000000000000',\n",
       " '000101010000100001000000000000000000000000000001010000010000000000000100000000000000000000',\n",
       " '000001010010010001000000000000000000000000000000000000010001000001000000000000000001000000',\n",
       " '010001100001000100000100000000000000000000000000000000000100000100000000000000000100000000',\n",
       " '000000010001010110000000000000000000000000000000000000000000000000010000000000010001010000',\n",
       " '010101000000001001010100000000000000000000000001000000000100000000000000000000000000000000',\n",
       " '000001010101000010000000000000000000000000000000000001000001010000000001000000000000000000']"
      ]
     },
     "execution_count": 45,
     "metadata": {},
     "output_type": "execute_result"
    }
   ],
   "source": [
    "all_quantum_states[:10]"
   ]
  },
  {
   "cell_type": "code",
   "execution_count": 44,
   "metadata": {},
   "outputs": [
    {
     "data": {
      "text/plain": [
       "90"
      ]
     },
     "execution_count": 44,
     "metadata": {},
     "output_type": "execute_result"
    }
   ],
   "source": [
    "len(QG.ConnectivityToQuantumState(node_vector, adjacency_matrix))"
   ]
  },
  {
   "cell_type": "code",
   "execution_count": 18,
   "metadata": {},
   "outputs": [
    {
     "name": "stdout",
     "output_type": "stream",
     "text": [
      "[1. 1. 3. 2. 3. 2. 1. 0.]\n",
      "[[0. 1. 0. 0. 0. 0. 0. 0.]\n",
      " [1. 0. 2. 0. 0. 0. 0. 0.]\n",
      " [0. 2. 0. 1. 0. 0. 0. 0.]\n",
      " [0. 0. 1. 0. 1. 0. 0. 0.]\n",
      " [0. 0. 0. 1. 0. 1. 1. 0.]\n",
      " [0. 0. 0. 0. 1. 0. 0. 0.]\n",
      " [0. 0. 0. 0. 1. 0. 0. 0.]\n",
      " [0. 0. 0. 0. 0. 0. 0. 0.]]\n",
      "[0. 1. 1. 3. 3. 1. 2. 2.]\n",
      "[[0. 0. 0. 0. 0. 0. 0. 0.]\n",
      " [0. 0. 0. 0. 0. 1. 0. 0.]\n",
      " [0. 0. 0. 0. 1. 0. 0. 0.]\n",
      " [0. 0. 0. 0. 0. 2. 1. 0.]\n",
      " [0. 0. 1. 0. 0. 0. 1. 1.]\n",
      " [0. 1. 0. 2. 0. 0. 0. 0.]\n",
      " [0. 0. 0. 1. 1. 0. 0. 0.]\n",
      " [0. 0. 0. 0. 1. 0. 0. 0.]]\n",
      "CC=NON(C)O\n",
      "CC=NON(C)O\n",
      "010111101110010001000000000000100000000000010000000001000000010100000000\n",
      "000101111101101000000000000000000000010000000100000000100100000101000000\n"
     ]
    }
   ],
   "source": [
    "print(node_vector)\n",
    "print(adjacency_matrix)\n",
    "new_index = (1, 5, 3, 6, 4, 7, 2)\n",
    "mapping_dict = {old: new for old, new in enumerate(new_index)}\n",
    "\n",
    "new_node_vector = np.zeros(8)\n",
    "new_adjacency_matrix = np.zeros((8,8))\n",
    "# atom\n",
    "for old, new in mapping_dict.items():\n",
    "    new_node_vector[new] = node_vector[old]\n",
    "# bond\n",
    "for ix, row in enumerate(adjacency_matrix):\n",
    "    for iy_, bond_type_idx in enumerate(row[ix+1:]):\n",
    "        if not bond_type_idx:\n",
    "            continue\n",
    "        iy = ix + iy_ + 1\n",
    "        ix_new = mapping_dict[ix]\n",
    "        iy_new = mapping_dict[iy]\n",
    "        new_adjacency_matrix[ix_new][iy_new] = bond_type_idx\n",
    "        new_adjacency_matrix[iy_new][ix_new] = bond_type_idx\n",
    "print(new_node_vector)\n",
    "print(new_adjacency_matrix)\n",
    "\n",
    "print(QG.ConnectivityToSmiles(node_vector, adjacency_matrix))\n",
    "print(QG.ConnectivityToSmiles(new_node_vector, new_adjacency_matrix))\n",
    "print(QG.ConnectivityToQuantumState(node_vector, adjacency_matrix))\n",
    "print(QG.ConnectivityToQuantumState(new_node_vector, new_adjacency_matrix))"
   ]
  },
  {
   "cell_type": "code",
   "execution_count": 12,
   "metadata": {},
   "outputs": [
    {
     "data": {
      "text/plain": [
       "362880"
      ]
     },
     "execution_count": 12,
     "metadata": {},
     "output_type": "execute_result"
    }
   ],
   "source": [
    "node_indices = np.arange(len(node_vector))\n",
    "perms = list(permutations(node_indices))\n",
    "len(perms)"
   ]
  },
  {
   "cell_type": "code",
   "execution_count": 5,
   "metadata": {},
   "outputs": [
    {
     "name": "stdout",
     "output_type": "stream",
     "text": [
      "[(1, 2, 3), (1, 2, 4), (1, 2, 5), (1, 2, 6), (1, 2, 7), (1, 2, 8), (1, 3, 2), (1, 3, 4), (1, 3, 5), (1, 3, 6), (1, 3, 7), (1, 3, 8), (1, 4, 2), (1, 4, 3), (1, 4, 5), (1, 4, 6), (1, 4, 7), (1, 4, 8), (1, 5, 2), (1, 5, 3), (1, 5, 4), (1, 5, 6), (1, 5, 7), (1, 5, 8), (1, 6, 2), (1, 6, 3), (1, 6, 4), (1, 6, 5), (1, 6, 7), (1, 6, 8), (1, 7, 2), (1, 7, 3), (1, 7, 4), (1, 7, 5), (1, 7, 6), (1, 7, 8), (1, 8, 2), (1, 8, 3), (1, 8, 4), (1, 8, 5), (1, 8, 6), (1, 8, 7), (2, 1, 3), (2, 1, 4), (2, 1, 5), (2, 1, 6), (2, 1, 7), (2, 1, 8), (2, 3, 1), (2, 3, 4), (2, 3, 5), (2, 3, 6), (2, 3, 7), (2, 3, 8), (2, 4, 1), (2, 4, 3), (2, 4, 5), (2, 4, 6), (2, 4, 7), (2, 4, 8), (2, 5, 1), (2, 5, 3), (2, 5, 4), (2, 5, 6), (2, 5, 7), (2, 5, 8), (2, 6, 1), (2, 6, 3), (2, 6, 4), (2, 6, 5), (2, 6, 7), (2, 6, 8), (2, 7, 1), (2, 7, 3), (2, 7, 4), (2, 7, 5), (2, 7, 6), (2, 7, 8), (2, 8, 1), (2, 8, 3), (2, 8, 4), (2, 8, 5), (2, 8, 6), (2, 8, 7), (3, 1, 2), (3, 1, 4), (3, 1, 5), (3, 1, 6), (3, 1, 7), (3, 1, 8), (3, 2, 1), (3, 2, 4), (3, 2, 5), (3, 2, 6), (3, 2, 7), (3, 2, 8), (3, 4, 1), (3, 4, 2), (3, 4, 5), (3, 4, 6), (3, 4, 7), (3, 4, 8), (3, 5, 1), (3, 5, 2), (3, 5, 4), (3, 5, 6), (3, 5, 7), (3, 5, 8), (3, 6, 1), (3, 6, 2), (3, 6, 4), (3, 6, 5), (3, 6, 7), (3, 6, 8), (3, 7, 1), (3, 7, 2), (3, 7, 4), (3, 7, 5), (3, 7, 6), (3, 7, 8), (3, 8, 1), (3, 8, 2), (3, 8, 4), (3, 8, 5), (3, 8, 6), (3, 8, 7), (4, 1, 2), (4, 1, 3), (4, 1, 5), (4, 1, 6), (4, 1, 7), (4, 1, 8), (4, 2, 1), (4, 2, 3), (4, 2, 5), (4, 2, 6), (4, 2, 7), (4, 2, 8), (4, 3, 1), (4, 3, 2), (4, 3, 5), (4, 3, 6), (4, 3, 7), (4, 3, 8), (4, 5, 1), (4, 5, 2), (4, 5, 3), (4, 5, 6), (4, 5, 7), (4, 5, 8), (4, 6, 1), (4, 6, 2), (4, 6, 3), (4, 6, 5), (4, 6, 7), (4, 6, 8), (4, 7, 1), (4, 7, 2), (4, 7, 3), (4, 7, 5), (4, 7, 6), (4, 7, 8), (4, 8, 1), (4, 8, 2), (4, 8, 3), (4, 8, 5), (4, 8, 6), (4, 8, 7), (5, 1, 2), (5, 1, 3), (5, 1, 4), (5, 1, 6), (5, 1, 7), (5, 1, 8), (5, 2, 1), (5, 2, 3), (5, 2, 4), (5, 2, 6), (5, 2, 7), (5, 2, 8), (5, 3, 1), (5, 3, 2), (5, 3, 4), (5, 3, 6), (5, 3, 7), (5, 3, 8), (5, 4, 1), (5, 4, 2), (5, 4, 3), (5, 4, 6), (5, 4, 7), (5, 4, 8), (5, 6, 1), (5, 6, 2), (5, 6, 3), (5, 6, 4), (5, 6, 7), (5, 6, 8), (5, 7, 1), (5, 7, 2), (5, 7, 3), (5, 7, 4), (5, 7, 6), (5, 7, 8), (5, 8, 1), (5, 8, 2), (5, 8, 3), (5, 8, 4), (5, 8, 6), (5, 8, 7), (6, 1, 2), (6, 1, 3), (6, 1, 4), (6, 1, 5), (6, 1, 7), (6, 1, 8), (6, 2, 1), (6, 2, 3), (6, 2, 4), (6, 2, 5), (6, 2, 7), (6, 2, 8), (6, 3, 1), (6, 3, 2), (6, 3, 4), (6, 3, 5), (6, 3, 7), (6, 3, 8), (6, 4, 1), (6, 4, 2), (6, 4, 3), (6, 4, 5), (6, 4, 7), (6, 4, 8), (6, 5, 1), (6, 5, 2), (6, 5, 3), (6, 5, 4), (6, 5, 7), (6, 5, 8), (6, 7, 1), (6, 7, 2), (6, 7, 3), (6, 7, 4), (6, 7, 5), (6, 7, 8), (6, 8, 1), (6, 8, 2), (6, 8, 3), (6, 8, 4), (6, 8, 5), (6, 8, 7), (7, 1, 2), (7, 1, 3), (7, 1, 4), (7, 1, 5), (7, 1, 6), (7, 1, 8), (7, 2, 1), (7, 2, 3), (7, 2, 4), (7, 2, 5), (7, 2, 6), (7, 2, 8), (7, 3, 1), (7, 3, 2), (7, 3, 4), (7, 3, 5), (7, 3, 6), (7, 3, 8), (7, 4, 1), (7, 4, 2), (7, 4, 3), (7, 4, 5), (7, 4, 6), (7, 4, 8), (7, 5, 1), (7, 5, 2), (7, 5, 3), (7, 5, 4), (7, 5, 6), (7, 5, 8), (7, 6, 1), (7, 6, 2), (7, 6, 3), (7, 6, 4), (7, 6, 5), (7, 6, 8), (7, 8, 1), (7, 8, 2), (7, 8, 3), (7, 8, 4), (7, 8, 5), (7, 8, 6), (8, 1, 2), (8, 1, 3), (8, 1, 4), (8, 1, 5), (8, 1, 6), (8, 1, 7), (8, 2, 1), (8, 2, 3), (8, 2, 4), (8, 2, 5), (8, 2, 6), (8, 2, 7), (8, 3, 1), (8, 3, 2), (8, 3, 4), (8, 3, 5), (8, 3, 6), (8, 3, 7), (8, 4, 1), (8, 4, 2), (8, 4, 3), (8, 4, 5), (8, 4, 6), (8, 4, 7), (8, 5, 1), (8, 5, 2), (8, 5, 3), (8, 5, 4), (8, 5, 6), (8, 5, 7), (8, 6, 1), (8, 6, 2), (8, 6, 3), (8, 6, 4), (8, 6, 5), (8, 6, 7), (8, 7, 1), (8, 7, 2), (8, 7, 3), (8, 7, 4), (8, 7, 5), (8, 7, 6)]\n"
     ]
    }
   ],
   "source": [
    "\n",
    "\n",
    "# Example usage\n",
    "elements = [1, 2, 3, 4, 5, 6, 7, 8]\n",
    "k = 3\n",
    "permutations = generate_permutations(elements, k)\n",
    "print(permutations)\n"
   ]
  },
  {
   "cell_type": "code",
   "execution_count": 9,
   "metadata": {},
   "outputs": [
    {
     "name": "stdout",
     "output_type": "stream",
     "text": [
      "0 1\n",
      "0 2\n",
      "0 3\n",
      "0 4\n",
      "1 2\n",
      "None\n"
     ]
    }
   ],
   "source": [
    "node_vector = np.array([1, 0, 0, 0, 3.])\n",
    "adjacency_matrix = np.array([[0, 0, 0, 0, 0.],\n",
    "                             [0, 0, 1, 0, 0.],\n",
    "                             [0, 0, 0, 0, 0.],\n",
    "                             [0, 0, 0, 0, 0.],\n",
    "                             [0, 0, 0, 0, 0.]])\n",
    "print(ConnectivityToSmiles(node_vector, adjacency_matrix))"
   ]
  },
  {
   "cell_type": "code",
   "execution_count": 3,
   "metadata": {},
   "outputs": [
    {
     "name": "stdout",
     "output_type": "stream",
     "text": [
      "0\n",
      "1\n",
      "2\n",
      "3\n",
      "4\n",
      "CCNC=O\n"
     ]
    }
   ],
   "source": [
    "smiles = \"CCNC=O\"\n",
    "mol = Chem.MolFromSmiles(smiles)\n",
    "for i, atom in enumerate(mol.GetAtoms()):\n",
    "    print(atom.GetIdx())\n",
    "    # print(atom.GetSymbol())\n",
    "    # atom.SetAtomMapNum(i)\n",
    "    # print(atom.GetAtomMapNum())\n",
    "    # print(atom.Get)\n",
    "    # print(bond.GetBondType())\n",
    "print(Chem.MolToSmiles(mol))\n",
    "for i, atom in enumerate(mol.GetAtoms()):\n",
    "    print(atom.GetIdx())\n"
   ]
  },
  {
   "cell_type": "code",
   "execution_count": 19,
   "metadata": {},
   "outputs": [
    {
     "data": {
      "text/plain": [
       "'11'"
      ]
     },
     "execution_count": 19,
     "metadata": {},
     "output_type": "execute_result"
    }
   ],
   "source": [
    "def decimal_to_binary(x, padd_length=1):\n",
    "    \"\"\"\n",
    "    Parameters:\n",
    "    x (int): The decimal value.\n",
    "\n",
    "    Returns:\n",
    "    str: A binary bit string.\n",
    "    \"\"\"\n",
    "    bit = \"0\"*padd_length + bin(x)[2:]\n",
    "    return bit[-2:]\n",
    "\n",
    "decimal_to_binary(3)"
   ]
  }
 ],
 "metadata": {
  "kernelspec": {
   "display_name": "Python 3",
   "language": "python",
   "name": "python3"
  },
  "language_info": {
   "codemirror_mode": {
    "name": "ipython",
    "version": 3
   },
   "file_extension": ".py",
   "mimetype": "text/x-python",
   "name": "python",
   "nbconvert_exporter": "python",
   "pygments_lexer": "ipython3",
   "version": "3.10.13"
  }
 },
 "nbformat": 4,
 "nbformat_minor": 2
}
