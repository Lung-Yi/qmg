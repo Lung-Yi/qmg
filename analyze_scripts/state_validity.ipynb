{
 "cells": [
  {
   "cell_type": "code",
   "execution_count": 7,
   "metadata": {},
   "outputs": [
    {
     "name": "stdout",
     "output_type": "stream",
     "text": [
      "# of heavy atom: 2\n",
      "valid state without constraint: 43.75%\n",
      "valid state with constraint: 93.33%\n",
      "# of heavy atom: 3\n",
      "valid state without constraint: 10.64%\n",
      "valid state with constraint: 35.02%\n",
      "# of heavy atom: 4\n",
      "valid state without constraint: 1.10%\n",
      "valid state with constraint: 5.00%\n"
     ]
    }
   ],
   "source": [
    "import pandas as pd\n",
    "\n",
    "def no_constraint_state(n: int):\n",
    "    return 2**(n*(n+1))\n",
    "\n",
    "def mathematically_valid_state(n: int):\n",
    "    total = 0\n",
    "    for n_ in range(1, n+1):\n",
    "        substate = 3**n_\n",
    "        if n_ == 1:\n",
    "            total += substate\n",
    "            continue\n",
    "        for b in range(2, n_+1):\n",
    "            substate *= 2**((b-1)*2) - 1\n",
    "        total += substate\n",
    "    return total\n",
    "\n",
    "for num_heavy_atom in [2,3,4]:\n",
    "    data_path = f\"../dataset/chemical_space/effective_{num_heavy_atom}.csv\"\n",
    "    num_valid_state = len(pd.read_csv(data_path))\n",
    "    percent_no_constraint = num_valid_state / no_constraint_state(num_heavy_atom) *100\n",
    "    percent_mathematic = num_valid_state / mathematically_valid_state(num_heavy_atom) *100\n",
    "    print(\"# of heavy atom:\", num_heavy_atom)\n",
    "    print(\"valid state without constraint: {:.2f}%\".format(percent_no_constraint))\n",
    "    print(\"valid state with constraint: {:.2f}%\".format(percent_mathematic))"
   ]
  },
  {
   "cell_type": "code",
   "execution_count": 6,
   "metadata": {},
   "outputs": [
    {
     "data": {
      "text/plain": [
       "230880"
      ]
     },
     "execution_count": 6,
     "metadata": {},
     "output_type": "execute_result"
    }
   ],
   "source": [
    "81*15*3*63 +1245"
   ]
  }
 ],
 "metadata": {
  "kernelspec": {
   "display_name": "qmg",
   "language": "python",
   "name": "python3"
  },
  "language_info": {
   "codemirror_mode": {
    "name": "ipython",
    "version": 3
   },
   "file_extension": ".py",
   "mimetype": "text/x-python",
   "name": "python",
   "nbconvert_exporter": "python",
   "pygments_lexer": "ipython3",
   "version": "3.10.13"
  }
 },
 "nbformat": 4,
 "nbformat_minor": 2
}
